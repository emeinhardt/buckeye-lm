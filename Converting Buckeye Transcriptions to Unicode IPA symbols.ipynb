{
 "cells": [
  {
   "cell_type": "code",
   "execution_count": 1,
   "metadata": {
    "ExecuteTime": {
     "end_time": "2019-05-07T17:18:29.664667Z",
     "start_time": "2019-05-07T17:18:29.660953Z"
    }
   },
   "outputs": [],
   "source": [
    "#Prints **all** console output, not just last item in cell \n",
    "from IPython.core.interactiveshell import InteractiveShell\n",
    "InteractiveShell.ast_node_interactivity = \"all\""
   ]
  },
  {
   "cell_type": "markdown",
   "metadata": {},
   "source": [
    "**Eric Meinhardt / emeinhardt@ucsd.edu**"
   ]
  },
  {
   "cell_type": "markdown",
   "metadata": {
    "toc": true
   },
   "source": [
    "<h1>Table of Contents<span class=\"tocSkip\"></span></h1>\n",
    "<div class=\"toc\"><ul class=\"toc-item\"><li><span><a href=\"#Overview\" data-toc-modified-id=\"Overview-1\"><span class=\"toc-item-num\">1&nbsp;&nbsp;</span>Overview</a></span><ul class=\"toc-item\"><li><span><a href=\"#Dependencies\" data-toc-modified-id=\"Dependencies-1.1\"><span class=\"toc-item-num\">1.1&nbsp;&nbsp;</span>Dependencies</a></span></li><li><span><a href=\"#Results-/-outputs?\" data-toc-modified-id=\"Results-/-outputs?-1.2\"><span class=\"toc-item-num\">1.2&nbsp;&nbsp;</span>Results / outputs?</a></span></li></ul></li><li><span><a href=\"#Imports\" data-toc-modified-id=\"Imports-2\"><span class=\"toc-item-num\">2&nbsp;&nbsp;</span>Imports</a></span><ul class=\"toc-item\"><li><span><a href=\"#Packages-/-some-boilerplate\" data-toc-modified-id=\"Packages-/-some-boilerplate-2.1\"><span class=\"toc-item-num\">2.1&nbsp;&nbsp;</span>Packages / some boilerplate</a></span></li><li><span><a href=\"#Data\" data-toc-modified-id=\"Data-2.2\"><span class=\"toc-item-num\">2.2&nbsp;&nbsp;</span>Data</a></span></li></ul></li><li><span><a href=\"#Define-a-mapping-between-Buckeye-symbols-and-IPA\" data-toc-modified-id=\"Define-a-mapping-between-Buckeye-symbols-and-IPA-3\"><span class=\"toc-item-num\">3&nbsp;&nbsp;</span>Define a mapping between Buckeye symbols and IPA</a></span><ul class=\"toc-item\"><li><span><a href=\"#First-pass---documented-mappings\" data-toc-modified-id=\"First-pass---documented-mappings-3.1\"><span class=\"toc-item-num\">3.1&nbsp;&nbsp;</span>First pass - <em>documented</em> mappings</a></span></li><li><span><a href=\"#Undocumented-narrow-transcription-symbols\" data-toc-modified-id=\"Undocumented-narrow-transcription-symbols-3.2\"><span class=\"toc-item-num\">3.2&nbsp;&nbsp;</span>Undocumented narrow transcription symbols</a></span><ul class=\"toc-item\"><li><span><a href=\"#id\" data-toc-modified-id=\"id-3.2.1\"><span class=\"toc-item-num\">3.2.1&nbsp;&nbsp;</span><code>id</code></a></span></li><li><span><a href=\"#eng\" data-toc-modified-id=\"eng-3.2.2\"><span class=\"toc-item-num\">3.2.2&nbsp;&nbsp;</span><code>eng</code></a></span></li><li><span><a href=\"#x\" data-toc-modified-id=\"x-3.2.3\"><span class=\"toc-item-num\">3.2.3&nbsp;&nbsp;</span><code>x</code></a></span></li><li><span><a href=\"#h\" data-toc-modified-id=\"h-3.2.4\"><span class=\"toc-item-num\">3.2.4&nbsp;&nbsp;</span><code>h</code></a></span></li><li><span><a href=\"#hhn\" data-toc-modified-id=\"hhn-3.2.5\"><span class=\"toc-item-num\">3.2.5&nbsp;&nbsp;</span><code>hhn</code></a></span></li><li><span><a href=\"#iyih\" data-toc-modified-id=\"iyih-3.2.6\"><span class=\"toc-item-num\">3.2.6&nbsp;&nbsp;</span><code>iyih</code></a></span></li><li><span><a href=\"#i\" data-toc-modified-id=\"i-3.2.7\"><span class=\"toc-item-num\">3.2.7&nbsp;&nbsp;</span><code>i</code></a></span></li><li><span><a href=\"#q\" data-toc-modified-id=\"q-3.2.8\"><span class=\"toc-item-num\">3.2.8&nbsp;&nbsp;</span><code>q</code></a></span></li><li><span><a href=\"#a\" data-toc-modified-id=\"a-3.2.9\"><span class=\"toc-item-num\">3.2.9&nbsp;&nbsp;</span><code>a</code></a></span></li><li><span><a href=\"#an\" data-toc-modified-id=\"an-3.2.10\"><span class=\"toc-item-num\">3.2.10&nbsp;&nbsp;</span><code>an</code></a></span></li><li><span><a href=\"#uwix\" data-toc-modified-id=\"uwix-3.2.11\"><span class=\"toc-item-num\">3.2.11&nbsp;&nbsp;</span><code>uwix</code></a></span></li></ul></li><li><span><a href=\"#Altogether\" data-toc-modified-id=\"Altogether-3.3\"><span class=\"toc-item-num\">3.3&nbsp;&nbsp;</span>Altogether</a></span></li></ul></li><li><span><a href=\"#Sanity-check:-orthographic-and-phoneme-token-counts\" data-toc-modified-id=\"Sanity-check:-orthographic-and-phoneme-token-counts-4\"><span class=\"toc-item-num\">4&nbsp;&nbsp;</span>Sanity check: orthographic and phoneme token counts</a></span><ul class=\"toc-item\"><li><span><a href=\"#Orthographic-token-counts\" data-toc-modified-id=\"Orthographic-token-counts-4.1\"><span class=\"toc-item-num\">4.1&nbsp;&nbsp;</span>Orthographic token counts</a></span></li><li><span><a href=\"#Phoneme-token-counts\" data-toc-modified-id=\"Phoneme-token-counts-4.2\"><span class=\"toc-item-num\">4.2&nbsp;&nbsp;</span>Phoneme token counts</a></span><ul class=\"toc-item\"><li><span><a href=\"#What-wordforms-have-&quot;phonemic&quot;-taps/flaps?\" data-toc-modified-id=\"What-wordforms-have-&quot;phonemic&quot;-taps/flaps?-4.2.1\"><span class=\"toc-item-num\">4.2.1&nbsp;&nbsp;</span>What wordforms have \"phonemic\" taps/flaps?</a></span></li><li><span><a href=\"#Phonemic-ɔ\" data-toc-modified-id=\"Phonemic-ɔ-4.2.2\"><span class=\"toc-item-num\">4.2.2&nbsp;&nbsp;</span>Phonemic <code>ɔ</code></a></span></li><li><span><a href=\"#Phonemic-glottal-stops???\" data-toc-modified-id=\"Phonemic-glottal-stops???-4.2.3\"><span class=\"toc-item-num\">4.2.3&nbsp;&nbsp;</span>Phonemic glottal stops???</a></span></li><li><span><a href=\"#Fixes\" data-toc-modified-id=\"Fixes-4.2.4\"><span class=\"toc-item-num\">4.2.4&nbsp;&nbsp;</span>Fixes</a></span></li></ul></li></ul></li><li><span><a href=\"#Phoneme-inventory-vs.-phone-inventory\" data-toc-modified-id=\"Phoneme-inventory-vs.-phone-inventory-5\"><span class=\"toc-item-num\">5&nbsp;&nbsp;</span>Phoneme inventory vs. phone inventory</a></span></li><li><span><a href=\"#Sanity-check:-calculate-orthography-⟷-phonemic-transcription-relation\" data-toc-modified-id=\"Sanity-check:-calculate-orthography-⟷-phonemic-transcription-relation-6\"><span class=\"toc-item-num\">6&nbsp;&nbsp;</span>Sanity check: calculate orthography ⟷ phonemic transcription relation</a></span><ul class=\"toc-item\"><li><span><a href=\"#Fix-phonemic-transcriptions\" data-toc-modified-id=\"Fix-phonemic-transcriptions-6.1\"><span class=\"toc-item-num\">6.1&nbsp;&nbsp;</span>Fix phonemic transcriptions</a></span></li><li><span><a href=\"#Export-relation\" data-toc-modified-id=\"Export-relation-6.2\"><span class=\"toc-item-num\">6.2&nbsp;&nbsp;</span>Export relation</a></span></li></ul></li><li><span><a href=\"#Collected-code\" data-toc-modified-id=\"Collected-code-7\"><span class=\"toc-item-num\">7&nbsp;&nbsp;</span>Collected code</a></span></li><li><span><a href=\"#Todo\" data-toc-modified-id=\"Todo-8\"><span class=\"toc-item-num\">8&nbsp;&nbsp;</span>Todo</a></span></li><li><span><a href=\"#PS-Transcription-convention-check\" data-toc-modified-id=\"PS-Transcription-convention-check-9\"><span class=\"toc-item-num\">9&nbsp;&nbsp;</span>PS Transcription convention check</a></span><ul class=\"toc-item\"><li><span><a href=\"#Broken-off-words\" data-toc-modified-id=\"Broken-off-words-9.1\"><span class=\"toc-item-num\">9.1&nbsp;&nbsp;</span>Broken off words</a></span></li><li><span><a href=\"#Common-collocations\" data-toc-modified-id=\"Common-collocations-9.2\"><span class=\"toc-item-num\">9.2&nbsp;&nbsp;</span>Common collocations</a></span></li><li><span><a href=\"#okay,-TV,-initialisms\" data-toc-modified-id=\"okay,-TV,-initialisms-9.3\"><span class=\"toc-item-num\">9.3&nbsp;&nbsp;</span><code>okay</code>, <code>TV</code>, initialisms</a></span></li><li><span><a href=\"#*alright,-*awhile\" data-toc-modified-id=\"*alright,-*awhile-9.4\"><span class=\"toc-item-num\">9.4&nbsp;&nbsp;</span>*alright, *awhile</a></span></li><li><span><a href=\"#uh,-hmm-etc.\" data-toc-modified-id=\"uh,-hmm-etc.-9.5\"><span class=\"toc-item-num\">9.5&nbsp;&nbsp;</span><code>uh</code>, <code>hmm</code> etc.</a></span></li></ul></li></ul></div>"
   ]
  },
  {
   "cell_type": "markdown",
   "metadata": {},
   "source": [
    "# Overview"
   ]
  },
  {
   "cell_type": "markdown",
   "metadata": {},
   "source": [
    "The goal of this notebook is to develop/document code \n",
    " - to be able to access Buckeye data where all segment symbols have been converted to use IPA representations.\n",
    " - to identify and fix (some) annotation anomalies in the Buckeye data.\n",
    "\n",
    "**Note!** The alignment and 'anomaly' fixes documented here are based on\n",
    " - what limited documentation I have found about the process of corpus generation.\n",
    " - my intended use cases.\n",
    "\n",
    "Additional documentation, more intense scrutiny of the data (e.g. of spectrograms), and different applications could very plausibly motivate different decisions. *The point* of this notebook is to document my exploration of the corpus and my alignment/anomaly patch decisions."
   ]
  },
  {
   "cell_type": "markdown",
   "metadata": {},
   "source": [
    "## Dependencies"
   ]
  },
  {
   "cell_type": "markdown",
   "metadata": {},
   "source": [
    "Critical\n",
    " - Scott Seyfarth's wonderful `buckeye` package (see https://github.com/scjs/buckeye)\n",
    " - your own local copy of the Buckeye corpus\n",
    " \n",
    "Convenient, but non-essential and relatively easy to replace:\n",
    " - `more_itertools`\n",
    " - `funcy`\n",
    " \n",
    "For some analysis/plotting; convenient, but non-essential and relatively easy to replace with your preferred libraries:\n",
    " - `pandas`"
   ]
  },
  {
   "cell_type": "markdown",
   "metadata": {},
   "source": [
    "## Results / outputs?"
   ]
  },
  {
   "cell_type": "markdown",
   "metadata": {},
   "source": [
    "Given the size of the Buckeye data (it's a 2.5GB corpus - not just a lexicon in a single `.csv` file) and the fact that there's already a nice existing Python package for interfacing and interacting with the corpus, I'm not going to make an IPA'd *copy* of the Buckeye data, just some basic functions for converting representations. \n",
    "\n",
    "*Code at the end of the notebook = the main outcome of this notebook.*"
   ]
  },
  {
   "cell_type": "markdown",
   "metadata": {},
   "source": [
    "# Imports"
   ]
  },
  {
   "cell_type": "markdown",
   "metadata": {},
   "source": [
    "## Packages / some boilerplate"
   ]
  },
  {
   "cell_type": "code",
   "execution_count": 160,
   "metadata": {
    "ExecuteTime": {
     "end_time": "2019-05-07T17:48:44.704428Z",
     "start_time": "2019-05-07T17:48:44.698898Z"
    }
   },
   "outputs": [],
   "source": [
    "import os\n",
    "import csv"
   ]
  },
  {
   "cell_type": "code",
   "execution_count": 9,
   "metadata": {
    "ExecuteTime": {
     "end_time": "2019-05-07T17:22:19.672447Z",
     "start_time": "2019-05-07T17:22:19.662561Z"
    }
   },
   "outputs": [],
   "source": [
    "# see https://github.com/scjs/buckeye \n",
    "# and esp. https://nbviewer.jupyter.org/github/scjs/buckeye/blob/master/Quickstart.ipynb\n",
    "import buckeye as b"
   ]
  },
  {
   "cell_type": "code",
   "execution_count": 178,
   "metadata": {
    "ExecuteTime": {
     "end_time": "2019-05-07T17:52:45.525573Z",
     "start_time": "2019-05-07T17:52:45.523144Z"
    }
   },
   "outputs": [],
   "source": [
    "from itertools import product"
   ]
  },
  {
   "cell_type": "code",
   "execution_count": 3,
   "metadata": {
    "ExecuteTime": {
     "end_time": "2019-05-07T17:20:07.395412Z",
     "start_time": "2019-05-07T17:20:07.374733Z"
    }
   },
   "outputs": [],
   "source": [
    "from more_itertools import unique_everseen\n",
    "from funcy import compose"
   ]
  },
  {
   "cell_type": "code",
   "execution_count": 2,
   "metadata": {
    "ExecuteTime": {
     "end_time": "2019-05-07T17:19:59.109561Z",
     "start_time": "2019-05-07T17:19:59.105373Z"
    }
   },
   "outputs": [],
   "source": [
    "from functools import reduce\n",
    "\n",
    "union = lambda Ss: reduce(set.union, Ss)\n",
    "\n",
    "def tupleToDottedString(pair): \n",
    "    return '.'.join(pair)\n",
    "\n",
    "def dottedStringToTuple(s): \n",
    "    return tuple(s.split('.'))\n",
    "\n",
    "t2ds = tupleToDottedString\n",
    "ds2t = dottedStringToTuple"
   ]
  },
  {
   "cell_type": "code",
   "execution_count": 44,
   "metadata": {
    "ExecuteTime": {
     "end_time": "2019-05-07T17:32:21.947588Z",
     "start_time": "2019-05-07T17:32:21.944975Z"
    }
   },
   "outputs": [],
   "source": [
    "from collections import Counter"
   ]
  },
  {
   "cell_type": "code",
   "execution_count": 181,
   "metadata": {
    "ExecuteTime": {
     "end_time": "2019-05-07T17:55:27.440304Z",
     "start_time": "2019-05-07T17:55:13.302363Z"
    }
   },
   "outputs": [],
   "source": [
    "import pandas as pd\n",
    "from plotnine import *"
   ]
  },
  {
   "cell_type": "markdown",
   "metadata": {},
   "source": [
    "## Data"
   ]
  },
  {
   "cell_type": "code",
   "execution_count": 5,
   "metadata": {
    "ExecuteTime": {
     "end_time": "2019-05-07T17:21:58.254830Z",
     "start_time": "2019-05-07T17:21:58.247417Z"
    }
   },
   "outputs": [
    {
     "data": {
      "text/plain": [
       "'/mnt/cube/home/AD/emeinhar/buckeye-lm'"
      ]
     },
     "execution_count": 5,
     "metadata": {},
     "output_type": "execute_result"
    }
   ],
   "source": [
    "repo_dir = '/mnt/cube/home/AD/emeinhar/buckeye-lm'\n",
    "os.getcwd()"
   ]
  },
  {
   "cell_type": "code",
   "execution_count": 6,
   "metadata": {
    "ExecuteTime": {
     "end_time": "2019-05-07T17:22:02.235742Z",
     "start_time": "2019-05-07T17:22:02.232021Z"
    }
   },
   "outputs": [
    {
     "data": {
      "text/plain": [
       "'/mnt/cube/home/AD/emeinhar/buckeye-zips'"
      ]
     },
     "execution_count": 6,
     "metadata": {},
     "output_type": "execute_result"
    }
   ],
   "source": [
    "buckeye_dir = '/mnt/cube/home/AD/emeinhar/buckeye-zips'\n",
    "os.chdir(buckeye_dir)\n",
    "os.getcwd()"
   ]
  },
  {
   "cell_type": "code",
   "execution_count": 7,
   "metadata": {
    "ExecuteTime": {
     "end_time": "2019-05-07T17:22:05.070696Z",
     "start_time": "2019-05-07T17:22:05.067141Z"
    }
   },
   "outputs": [
    {
     "data": {
      "text/plain": [
       "['s05.zip',\n",
       " 's02.zip',\n",
       " 's39.zip',\n",
       " 's37.zip',\n",
       " 's30.zip',\n",
       " 's21.zip',\n",
       " 's26.zip',\n",
       " 's28.zip',\n",
       " 's31.zip',\n",
       " 's36.zip',\n",
       " 's38.zip',\n",
       " 's03.zip',\n",
       " 's04.zip',\n",
       " 's15.zip',\n",
       " 's12.zip',\n",
       " 's29.zip',\n",
       " 's27.zip',\n",
       " 's16.zip',\n",
       " 's18.zip',\n",
       " 's24.zip',\n",
       " 's35.zip',\n",
       " 's40.zip',\n",
       " 's09.zip',\n",
       " 's07.zip',\n",
       " 's19.zip',\n",
       " 's17.zip',\n",
       " 's10.zip',\n",
       " 's01.zip',\n",
       " 's06.zip',\n",
       " 's34.zip']"
      ]
     },
     "execution_count": 7,
     "metadata": {},
     "output_type": "execute_result"
    }
   ],
   "source": [
    "files = os.listdir(); files"
   ]
  },
  {
   "cell_type": "code",
   "execution_count": 10,
   "metadata": {
    "ExecuteTime": {
     "end_time": "2019-05-07T17:22:29.903011Z",
     "start_time": "2019-05-07T17:22:23.108316Z"
    }
   },
   "outputs": [
    {
     "data": {
      "text/plain": [
       "193"
      ]
     },
     "execution_count": 10,
     "metadata": {},
     "output_type": "execute_result"
    }
   ],
   "source": [
    "#27.9s on wittgenstein\n",
    "speakers = [b.Speaker.from_zip(file) for file in files]\n",
    "tracks = list(union([set(s.tracks) for s in speakers]))\n",
    "len(tracks)"
   ]
  },
  {
   "cell_type": "code",
   "execution_count": 11,
   "metadata": {
    "ExecuteTime": {
     "end_time": "2019-05-07T17:22:29.909056Z",
     "start_time": "2019-05-07T17:22:29.904678Z"
    }
   },
   "outputs": [
    {
     "data": {
      "text/plain": [
       "buckeye.buckeye.Track"
      ]
     },
     "execution_count": 11,
     "metadata": {},
     "output_type": "execute_result"
    },
    {
     "data": {
      "text/plain": [
       "Track(\"s0204a\")"
      ]
     },
     "execution_count": 11,
     "metadata": {},
     "output_type": "execute_result"
    }
   ],
   "source": [
    "t = tracks[0]; type(t)\n",
    "t"
   ]
  },
  {
   "cell_type": "code",
   "execution_count": 12,
   "metadata": {
    "ExecuteTime": {
     "end_time": "2019-05-07T17:22:29.914652Z",
     "start_time": "2019-05-07T17:22:29.910150Z"
    }
   },
   "outputs": [
    {
     "data": {
      "text/plain": [
       "[Pause('{B_TRANS}', 0.0, 0.324714),\n",
       " Pause('<SIL>', 0.324714, 0.365),\n",
       " Word('and', 0.365, 0.497, ['ae', 'n', 'd'], ['ae', 'ng'], 'CC'),\n",
       " Word('getting', 0.497, 0.769, ['g', 'eh', 't', 'ih', 'ng'], ['g', 'eh', 'dx', 'ih', 'ng'], 'VBG'),\n",
       " Word('back', 0.769, 0.992, ['b', 'ae', 'k'], ['b', 'ae', 'k'], 'RB'),\n",
       " Word('to', 0.992, 1.092, ['t', 'uw'], ['t', 'ih'], 'TO'),\n",
       " Word('the', 1.092, 1.139, ['dh', 'iy'], ['dh', 'ih'], 'DT'),\n",
       " Word('profanity', 1.139, 1.788, ['p', 'r', 'ah', 'f', 'ae', 'n', 'ah', 't', 'iy'], ['p', 'r', 'ow', 'f', 'ae', 'nx', 'ih', 't', 'iy'], 'NN'),\n",
       " Word('and', 1.788, 1.838, ['ae', 'n', 'd'], ['en'], 'CC'),\n",
       " Word('stuff', 1.838, 2.148, ['s', 't', 'ah', 'f'], ['s', 't', 'ah', 'f'], 'NN')]"
      ]
     },
     "execution_count": 12,
     "metadata": {},
     "output_type": "execute_result"
    },
    {
     "data": {
      "text/plain": [
       "Word('and', 0.365, 0.497, ['ae', 'n', 'd'], ['ae', 'ng'], 'CC')"
      ]
     },
     "execution_count": 12,
     "metadata": {},
     "output_type": "execute_result"
    }
   ],
   "source": [
    "Ws = t.words[:10]\n",
    "Ws\n",
    "w = Ws[2]\n",
    "w"
   ]
  },
  {
   "cell_type": "code",
   "execution_count": 13,
   "metadata": {
    "ExecuteTime": {
     "end_time": "2019-05-07T17:22:35.076513Z",
     "start_time": "2019-05-07T17:22:35.072614Z"
    }
   },
   "outputs": [
    {
     "data": {
      "text/plain": [
       "'and'"
      ]
     },
     "execution_count": 13,
     "metadata": {},
     "output_type": "execute_result"
    }
   ],
   "source": [
    "w.orthography"
   ]
  },
  {
   "cell_type": "code",
   "execution_count": 14,
   "metadata": {
    "ExecuteTime": {
     "end_time": "2019-05-07T17:22:38.298436Z",
     "start_time": "2019-05-07T17:22:38.294712Z"
    }
   },
   "outputs": [],
   "source": [
    "def getOrthography(word):\n",
    "    return word.orthography\n",
    "\n",
    "def getPhonemes(word, asDottedString=False):\n",
    "    phonemes = tuple(word.phonemic)\n",
    "    if asDottedString:\n",
    "        return t2ds(phonemes)\n",
    "    return phonemes\n",
    "\n",
    "def getPhones(word, asDottedString=False):\n",
    "    phones = tuple(word.phonetic)\n",
    "    if asDottedString:\n",
    "        return t2ds(phones)\n",
    "    return phones"
   ]
  },
  {
   "cell_type": "code",
   "execution_count": 15,
   "metadata": {
    "ExecuteTime": {
     "end_time": "2019-05-07T17:23:13.701972Z",
     "start_time": "2019-05-07T17:23:13.698220Z"
    }
   },
   "outputs": [
    {
     "data": {
      "text/plain": [
       "('ae', 'n', 'd')"
      ]
     },
     "execution_count": 15,
     "metadata": {},
     "output_type": "execute_result"
    },
    {
     "data": {
      "text/plain": [
       "'ae.n.d'"
      ]
     },
     "execution_count": 15,
     "metadata": {},
     "output_type": "execute_result"
    }
   ],
   "source": [
    "getPhonemes(w)\n",
    "getPhonemes(w, True)"
   ]
  },
  {
   "cell_type": "code",
   "execution_count": 16,
   "metadata": {
    "ExecuteTime": {
     "end_time": "2019-05-07T17:23:16.678082Z",
     "start_time": "2019-05-07T17:23:16.673308Z"
    }
   },
   "outputs": [],
   "source": [
    "def isWord(container):\n",
    "    return type(container) == b.containers.Word\n",
    "\n",
    "def getWords(track):\n",
    "    return [w for w in track.words if isWord(w)]\n",
    "#     return filter(isWord, track.words)"
   ]
  },
  {
   "cell_type": "code",
   "execution_count": 17,
   "metadata": {
    "ExecuteTime": {
     "end_time": "2019-05-07T17:23:22.023364Z",
     "start_time": "2019-05-07T17:23:20.737607Z"
    }
   },
   "outputs": [
    {
     "data": {
      "text/plain": [
       "216062"
      ]
     },
     "execution_count": 17,
     "metadata": {},
     "output_type": "execute_result"
    }
   ],
   "source": [
    "words = list(union([set(getWords(t)) for t in tracks]))\n",
    "len(words)"
   ]
  },
  {
   "cell_type": "code",
   "execution_count": 18,
   "metadata": {
    "ExecuteTime": {
     "end_time": "2019-05-07T17:23:24.954093Z",
     "start_time": "2019-05-07T17:23:23.565360Z"
    }
   },
   "outputs": [
    {
     "data": {
      "text/plain": [
       "46"
      ]
     },
     "execution_count": 18,
     "metadata": {},
     "output_type": "execute_result"
    },
    {
     "data": {
      "text/plain": [
       "79"
      ]
     },
     "execution_count": 18,
     "metadata": {},
     "output_type": "execute_result"
    }
   ],
   "source": [
    "phonemes = set(union([set(getPhonemes(w)) for w in words]))\n",
    "len(phonemes)\n",
    "phones = set(union([set(getPhones(w)) for w in words]))\n",
    "len(phones)"
   ]
  },
  {
   "cell_type": "code",
   "execution_count": 19,
   "metadata": {
    "ExecuteTime": {
     "end_time": "2019-05-07T17:23:26.684789Z",
     "start_time": "2019-05-07T17:23:26.681186Z"
    }
   },
   "outputs": [
    {
     "data": {
      "text/plain": [
       "{'aa',\n",
       " 'ae',\n",
       " 'ah',\n",
       " 'ao',\n",
       " 'aw',\n",
       " 'ay',\n",
       " 'b',\n",
       " 'ch',\n",
       " 'd',\n",
       " 'dh',\n",
       " 'dx',\n",
       " 'eh',\n",
       " 'el',\n",
       " 'em',\n",
       " 'en',\n",
       " 'er',\n",
       " 'ey',\n",
       " 'f',\n",
       " 'g',\n",
       " 'h',\n",
       " 'hh',\n",
       " 'ih',\n",
       " 'iy',\n",
       " 'jh',\n",
       " 'k',\n",
       " 'l',\n",
       " 'm',\n",
       " 'n',\n",
       " 'ng',\n",
       " 'nx',\n",
       " 'ow',\n",
       " 'oy',\n",
       " 'p',\n",
       " 'r',\n",
       " 's',\n",
       " 'sh',\n",
       " 't',\n",
       " 'th',\n",
       " 'tq',\n",
       " 'uh',\n",
       " 'uw',\n",
       " 'v',\n",
       " 'w',\n",
       " 'y',\n",
       " 'z',\n",
       " 'zh'}"
      ]
     },
     "execution_count": 19,
     "metadata": {},
     "output_type": "execute_result"
    }
   ],
   "source": [
    "phonemes"
   ]
  },
  {
   "cell_type": "code",
   "execution_count": 20,
   "metadata": {
    "ExecuteTime": {
     "end_time": "2019-05-07T17:23:32.833070Z",
     "start_time": "2019-05-07T17:23:32.828039Z"
    }
   },
   "outputs": [
    {
     "data": {
      "text/plain": [
       "{'IVER',\n",
       " 'LAUGH',\n",
       " 'NOISE',\n",
       " 'SIL',\n",
       " 'UNKNOWN',\n",
       " 'VOCNOISE',\n",
       " 'a',\n",
       " 'aa',\n",
       " 'aan',\n",
       " 'ae',\n",
       " 'aen',\n",
       " 'ah',\n",
       " 'ahn',\n",
       " 'an',\n",
       " 'ao',\n",
       " 'aon',\n",
       " 'aw',\n",
       " 'awn',\n",
       " 'ay',\n",
       " 'ayn',\n",
       " 'b',\n",
       " 'ch',\n",
       " 'd',\n",
       " 'dh',\n",
       " 'dx',\n",
       " 'eh',\n",
       " 'ehn',\n",
       " 'el',\n",
       " 'em',\n",
       " 'en',\n",
       " 'eng',\n",
       " 'er',\n",
       " 'ern',\n",
       " 'ey',\n",
       " 'eyn',\n",
       " 'f',\n",
       " 'g',\n",
       " 'h',\n",
       " 'hh',\n",
       " 'hhn',\n",
       " 'i',\n",
       " 'id',\n",
       " 'ih',\n",
       " 'ihn',\n",
       " 'iy',\n",
       " 'iyih',\n",
       " 'iyn',\n",
       " 'jh',\n",
       " 'k',\n",
       " 'l',\n",
       " 'm',\n",
       " 'n',\n",
       " 'ng',\n",
       " 'nx',\n",
       " 'ow',\n",
       " 'own',\n",
       " 'oy',\n",
       " 'oyn',\n",
       " 'p',\n",
       " 'q',\n",
       " 'r',\n",
       " 's',\n",
       " 'sh',\n",
       " 't',\n",
       " 'th',\n",
       " 'tq',\n",
       " 'uh',\n",
       " 'uhn',\n",
       " 'uw',\n",
       " 'uwix',\n",
       " 'uwn',\n",
       " 'v',\n",
       " 'w',\n",
       " 'x',\n",
       " 'y',\n",
       " 'z',\n",
       " 'zh',\n",
       " '{B_TRANS}',\n",
       " '{E_TRANS}'}"
      ]
     },
     "execution_count": 20,
     "metadata": {},
     "output_type": "execute_result"
    }
   ],
   "source": [
    "phones"
   ]
  },
  {
   "cell_type": "code",
   "execution_count": 21,
   "metadata": {
    "ExecuteTime": {
     "end_time": "2019-05-07T17:23:37.965628Z",
     "start_time": "2019-05-07T17:23:37.961553Z"
    }
   },
   "outputs": [
    {
     "data": {
      "text/plain": [
       "{'IVER',\n",
       " 'LAUGH',\n",
       " 'NOISE',\n",
       " 'SIL',\n",
       " 'UNKNOWN',\n",
       " 'VOCNOISE',\n",
       " '{B_TRANS}',\n",
       " '{E_TRANS}'}"
      ]
     },
     "execution_count": 21,
     "metadata": {},
     "output_type": "execute_result"
    }
   ],
   "source": [
    "badPhones = {\n",
    " 'IVER',\n",
    " 'LAUGH',\n",
    " 'NOISE',\n",
    " 'SIL',\n",
    " 'UNKNOWN',\n",
    " 'VOCNOISE',\n",
    " '{B_TRANS}',\n",
    " '{E_TRANS}'}\n",
    "badPhones"
   ]
  },
  {
   "cell_type": "code",
   "execution_count": 22,
   "metadata": {
    "ExecuteTime": {
     "end_time": "2019-05-07T17:23:41.770076Z",
     "start_time": "2019-05-07T17:23:41.766834Z"
    }
   },
   "outputs": [],
   "source": [
    "def hasBadPhones(word):\n",
    "    phones = getPhones(word)\n",
    "    return any([p in phones for p in badPhones])"
   ]
  },
  {
   "cell_type": "code",
   "execution_count": 23,
   "metadata": {
    "ExecuteTime": {
     "end_time": "2019-05-07T17:23:45.085677Z",
     "start_time": "2019-05-07T17:23:44.739043Z"
    }
   },
   "outputs": [
    {
     "data": {
      "text/plain": [
       "109"
      ]
     },
     "execution_count": 23,
     "metadata": {},
     "output_type": "execute_result"
    },
    {
     "data": {
      "text/plain": [
       "216062"
      ]
     },
     "execution_count": 23,
     "metadata": {},
     "output_type": "execute_result"
    },
    {
     "data": {
      "text/plain": [
       "0.0005044848238005757"
      ]
     },
     "execution_count": 23,
     "metadata": {},
     "output_type": "execute_result"
    },
    {
     "data": {
      "text/plain": [
       "[Word('like', 407.7053, 407.998881, ['l', 'ay', 'k'], ['SIL', 'l', 'ay', 'k'], 'IN'),\n",
       " Word('other', 582.264738, 582.497257, ['ah', 'dh', 'er'], ['VOCNOISE', 'ah', 'dh', 'ah'], 'JJ'),\n",
       " Word('yknow', 540.89, 541.264, ['y', 'uw', 'n', 'ow'], ['SIL', 'y', 'ih', 'n', 'ao'], 'PRP_VBP'),\n",
       " Word('thirty', 459.588221, 459.925937, ['th', 'er', 't', 'iy'], ['th', 'SIL', 'r', 't', 'iy'], 'CD'),\n",
       " Word('and', 549.547501, 549.639, ['ae', 'n', 'd'], ['SIL', 'eh', 'nx'], 'CC'),\n",
       " Word(\"it's\", 593.185488, 593.63, ['ih', 't', 's'], ['SIL', 'ih', 't', 's'], 'PRP_VBZ'),\n",
       " Word(\"you're\", 334.524724, 334.628, ['y', 'uw', 'r'], ['SIL', 'y', 'er'], 'PRP_VBP'),\n",
       " Word('um', 491.014562, 491.36334, ['ah', 'm'], ['SIL', 'ah', 'm'], 'UH'),\n",
       " Word('which', 278.236807, 279.417944, ['w', 'ih', 'ch'], ['IVER', 'w', 'ih', 'ch'], 'WDT'),\n",
       " Word('and', 226.204445, 226.265, ['ae', 'n', 'd'], ['SIL', 'ah', 'nx'], 'CC')]"
      ]
     },
     "execution_count": 23,
     "metadata": {},
     "output_type": "execute_result"
    }
   ],
   "source": [
    "badPhonesWords = [w for w in words if hasBadPhones(w)]\n",
    "len(badPhonesWords)\n",
    "len(words)\n",
    "len(badPhonesWords) / len(words)\n",
    "badPhonesWords[:10]"
   ]
  },
  {
   "cell_type": "code",
   "execution_count": 24,
   "metadata": {
    "ExecuteTime": {
     "end_time": "2019-05-07T17:23:49.533432Z",
     "start_time": "2019-05-07T17:23:49.527234Z"
    }
   },
   "outputs": [
    {
     "data": {
      "text/plain": [
       "79"
      ]
     },
     "execution_count": 24,
     "metadata": {},
     "output_type": "execute_result"
    },
    {
     "data": {
      "text/plain": [
       "71"
      ]
     },
     "execution_count": 24,
     "metadata": {},
     "output_type": "execute_result"
    },
    {
     "data": {
      "text/plain": [
       "8"
      ]
     },
     "execution_count": 24,
     "metadata": {},
     "output_type": "execute_result"
    }
   ],
   "source": [
    "goodPhones = phones - badPhones\n",
    "len(phones)\n",
    "len(goodPhones)\n",
    "len(badPhones)"
   ]
  },
  {
   "cell_type": "markdown",
   "metadata": {},
   "source": [
    "# Define a mapping between Buckeye symbols and IPA"
   ]
  },
  {
   "cell_type": "markdown",
   "metadata": {},
   "source": [
    "## First pass - *documented* mappings"
   ]
  },
  {
   "cell_type": "markdown",
   "metadata": {},
   "source": [
    "Tables 3-4 (pp 22-23) https://buckeyecorpus.osu.edu/BuckeyeCorpusmanual.pdf define 64 speech symbols for \"phonetic\" transcription. (If there's any other relevant documentation, I'm not aware of it.)"
   ]
  },
  {
   "cell_type": "code",
   "execution_count": 25,
   "metadata": {
    "ExecuteTime": {
     "end_time": "2019-05-07T17:29:41.213406Z",
     "start_time": "2019-05-07T17:29:41.209660Z"
    }
   },
   "outputs": [
    {
     "data": {
      "text/plain": [
       "46"
      ]
     },
     "execution_count": 25,
     "metadata": {},
     "output_type": "execute_result"
    }
   ],
   "source": [
    "len(phonemes)"
   ]
  },
  {
   "cell_type": "code",
   "execution_count": 26,
   "metadata": {
    "ExecuteTime": {
     "end_time": "2019-05-07T17:29:45.214052Z",
     "start_time": "2019-05-07T17:29:45.210451Z"
    }
   },
   "outputs": [
    {
     "data": {
      "text/plain": [
       "79"
      ]
     },
     "execution_count": 26,
     "metadata": {},
     "output_type": "execute_result"
    },
    {
     "data": {
      "text/plain": [
       "71"
      ]
     },
     "execution_count": 26,
     "metadata": {},
     "output_type": "execute_result"
    }
   ],
   "source": [
    "len(phones)\n",
    "len(goodPhones)"
   ]
  },
  {
   "cell_type": "code",
   "execution_count": 27,
   "metadata": {
    "ExecuteTime": {
     "end_time": "2019-05-07T17:29:48.408898Z",
     "start_time": "2019-05-07T17:29:48.404260Z"
    }
   },
   "outputs": [
    {
     "data": {
      "text/plain": [
       "{'IVER',\n",
       " 'LAUGH',\n",
       " 'NOISE',\n",
       " 'SIL',\n",
       " 'UNKNOWN',\n",
       " 'VOCNOISE',\n",
       " '{B_TRANS}',\n",
       " '{E_TRANS}'}"
      ]
     },
     "execution_count": 27,
     "metadata": {},
     "output_type": "execute_result"
    },
    {
     "name": "stdout",
     "output_type": "stream",
     "text": [
      "{'q', 'aan', 'h', 'ahn', 'uwn', 'l', 'z', 'sh', 'ay', 'w', 'hhn', 'oyn', 'iyih', 'ao', 'eyn', 'p', 'y', 's', 'eh', 'a', 'ern', 'jh', 'ow', 'ihn', 'k', 'd', 'nx', 'en', 'iy', 'hh', 'own', 'aa', 'uhn', 'er', 't', 'x', 'ayn', 'th', 'ah', 'm', 'ih', 'aon', 'tq', 'eng', 'em', 'n', 'dh', 'v', 'uw', 'ae', 'ch', 'ehn', 'awn', 'f', 'zh', 'i', 'id', 'dx', 'g', 'oy', 'aw', 'aen', 'uh', 'el', 'ng', 'iyn', 'b', 'an', 'ey', 'r', 'uwix'}\n"
     ]
    }
   ],
   "source": [
    "badPhones\n",
    "print(goodPhones)"
   ]
  },
  {
   "cell_type": "markdown",
   "metadata": {},
   "source": [
    "As you can see, however, there are more than 64 phones defined."
   ]
  },
  {
   "cell_type": "code",
   "execution_count": 28,
   "metadata": {
    "ExecuteTime": {
     "end_time": "2019-05-07T17:29:59.691242Z",
     "start_time": "2019-05-07T17:29:59.685187Z"
    }
   },
   "outputs": [
    {
     "data": {
      "text/plain": [
       "set()"
      ]
     },
     "execution_count": 28,
     "metadata": {},
     "output_type": "execute_result"
    },
    {
     "data": {
      "text/plain": [
       "{'a',\n",
       " 'aan',\n",
       " 'aen',\n",
       " 'ahn',\n",
       " 'an',\n",
       " 'aon',\n",
       " 'awn',\n",
       " 'ayn',\n",
       " 'ehn',\n",
       " 'eng',\n",
       " 'ern',\n",
       " 'eyn',\n",
       " 'hhn',\n",
       " 'i',\n",
       " 'id',\n",
       " 'ihn',\n",
       " 'iyih',\n",
       " 'iyn',\n",
       " 'own',\n",
       " 'oyn',\n",
       " 'q',\n",
       " 'uhn',\n",
       " 'uwix',\n",
       " 'uwn',\n",
       " 'x'}"
      ]
     },
     "execution_count": 28,
     "metadata": {},
     "output_type": "execute_result"
    }
   ],
   "source": [
    "phonemes - goodPhones\n",
    "goodPhones - phonemes"
   ]
  },
  {
   "cell_type": "code",
   "execution_count": 29,
   "metadata": {
    "ExecuteTime": {
     "end_time": "2019-05-07T17:30:07.462363Z",
     "start_time": "2019-05-07T17:30:07.459364Z"
    }
   },
   "outputs": [
    {
     "data": {
      "text/plain": [
       "'oy'"
      ]
     },
     "execution_count": 29,
     "metadata": {},
     "output_type": "execute_result"
    }
   ],
   "source": [
    "'oyn'[:-1]"
   ]
  },
  {
   "cell_type": "code",
   "execution_count": 30,
   "metadata": {
    "ExecuteTime": {
     "end_time": "2019-05-07T17:30:10.579320Z",
     "start_time": "2019-05-07T17:30:10.574540Z"
    }
   },
   "outputs": [
    {
     "data": {
      "text/plain": [
       "[('aa', 'aan'),\n",
       " ('ah', 'ahn'),\n",
       " ('uw', 'uwn'),\n",
       " ('hh', 'hhn'),\n",
       " ('oy', 'oyn'),\n",
       " ('ey', 'eyn'),\n",
       " ('er', 'ern'),\n",
       " ('ih', 'ihn'),\n",
       " ('ow', 'own'),\n",
       " ('uh', 'uhn'),\n",
       " ('ay', 'ayn'),\n",
       " ('ao', 'aon'),\n",
       " ('eh', 'ehn'),\n",
       " ('aw', 'awn'),\n",
       " ('ae', 'aen'),\n",
       " ('iy', 'iyn'),\n",
       " ('a', 'an')]"
      ]
     },
     "execution_count": 30,
     "metadata": {},
     "output_type": "execute_result"
    },
    {
     "data": {
      "text/plain": [
       "17"
      ]
     },
     "execution_count": 30,
     "metadata": {},
     "output_type": "execute_result"
    }
   ],
   "source": [
    "phonesWithNasalizedVariants = [(each[:-1], each) for each in phones if each[-1] == 'n' and each[:-1] in phones]\n",
    "phonesWithNasalizedVariants\n",
    "len(phonesWithNasalizedVariants)"
   ]
  },
  {
   "cell_type": "code",
   "execution_count": 31,
   "metadata": {
    "ExecuteTime": {
     "end_time": "2019-05-07T17:31:06.366318Z",
     "start_time": "2019-05-07T17:31:06.355926Z"
    }
   },
   "outputs": [
    {
     "name": "stdout",
     "output_type": "stream",
     "text": [
      "{('r', 'ɹ'), ('f', 'f'), ('awn', 'aʊ'), ('ehn', 'ɛ̃'), ('m', 'm'), ('nx', 'ɾ̃'), ('ihn', 'ɪ̃'), ('sh', 'ʃ'), ('zh', 'ʒ'), ('jh', 'dʒ'), ('ng', 'ŋ'), ('aon', 'ɔ̃'), ('iy', 'i'), ('n', 'n'), ('ayn', 'aɪ'), ('aa', 'ɑ'), ('iyn', 'ĩ'), ('ay', 'aɪ'), ('own', 'oʊ'), ('d', 'd'), ('ahn', 'ʌ̃'), ('eh', 'ɛ'), ('uwn', 'ũ'), ('er', 'ɚ'), ('v', 'v'), ('eng', 'ŋ̩'), ('ih', 'ɪ'), ('dx', 'ɾ'), ('y', 'j'), ('eyn', 'ẽɪ̃'), ('uw', 'u'), ('g', 'g'), ('ah', 'ʌ'), ('z', 'z'), ('oyn', 'ɔɪ'), ('en', 'n̩'), ('tq', 'ʔ'), ('aan', 'ɑ̃'), ('hh', 'h'), ('th', 'θ'), ('ern', 'ɚ'), ('oy', 'ɔɪ'), ('ch', 'tʃ'), ('em', 'm̩'), ('dh', 'ð'), ('p', 'p'), ('ow', 'oʊ'), ('t', 't'), ('k', 'k'), ('el', 'l̩'), ('l', 'l'), ('w', 'w'), ('ae', 'æ'), ('aen', 'æ̃'), ('aw', 'aʊ'), ('uh', 'ʊ'), ('b', 'b'), ('uhn', 'ʊ̃'), ('s', 's'), ('ey', 'eɪ'), ('ao', 'ɔ')}\n",
      "61\n",
      "θ\n"
     ]
    }
   ],
   "source": [
    "buckeyeUnicodeIPArelation = set([ \\\n",
    "('ao', 'ɔ'),\n",
    "('aon', 'ɔ̃'), #n\n",
    "## ('ah', 'a'), \n",
    "('aa', 'ɑ'),  #\n",
    "('aan', 'ɑ̃'),  #n\n",
    "('iy', 'i'), #\n",
    "('iyn', 'ĩ'), #n\n",
    "('uw', 'u'), #\n",
    "('uwn', 'ũ'), #n\n",
    "('eh', 'ɛ'), #\n",
    "('ehn', 'ɛ̃'), #n #jupyter doesn't properly display the nasalization diacritic, but there's otherwise nothing wrong\n",
    "('ih', 'ɪ'), #\n",
    "('ihn', 'ɪ̃'), #n\n",
    "('uh', 'ʊ'), #\n",
    "('uhn', 'ʊ̃'), #n\n",
    "('ah', 'ʌ'), #    should this be ʌ or ə ???\n",
    "('ahn', 'ʌ̃'), #n\n",
    "# ('ah', 'ə'), #    should this be ʌ or ə ???\n",
    "# ('ahn', 'ə̃'), #n\n",
    "# ('x', 'ə'),\n",
    "('ae', 'æ'), #\n",
    "('aen', 'æ̃'), #n\n",
    "('ey', 'eɪ'), #\n",
    "('eyn', 'ẽɪ̃'), #n\n",
    "('ay', 'aɪ'), #\n",
    "('ayn', 'aɪ'), #n\n",
    "('ow', 'oʊ'), #\n",
    "('own', 'oʊ'), #n\n",
    "('aw', 'aʊ'), #\n",
    "('awn', 'aʊ'), #n\n",
    "('oy', 'ɔɪ'), #\n",
    "('oyn', 'ɔɪ'), #n\n",
    "('er', 'ɚ'), #     # two symbols mapping to the same sound - unstressed (#10) r-colored schwa # in buckeye, = unstressed (#10) AND stressed (#46) er (but stressed er receives a different numeric code)\n",
    "('ern', 'ɚ'), #n     # two symbols mapping to the same sound - unstressed (#10) r-colored schwa # in buckeye, = unstressed (#10) AND stressed (#46) er (but stressed er receives a different numeric code)\n",
    "('p', 'p'), #\n",
    "('b', 'b'), #\n",
    "('t', 't'), #\n",
    "('d', 'd'), #\n",
    "('k', 'k'), #\n",
    "('g', 'g'), #\n",
    "('ch', 'tʃ'), #\n",
    "('jh', 'dʒ'), #\n",
    "('f', 'f'), #\n",
    "('v', 'v'), #\n",
    "('th', 'θ'), #\n",
    "('dh', 'ð'), #\n",
    "('s', 's'), #\n",
    "('z', 'z'), #\n",
    "('sh', 'ʃ'), #\n",
    "('zh', 'ʒ'), #\n",
    "('hh', 'h'), #\n",
    "('m', 'm'), #\n",
    "('em', 'm̩'), #\n",
    "('n', 'n'), #\n",
    "('en', 'n̩'), #\n",
    "('ng', 'ŋ'), #\n",
    "('eng', 'ŋ̩'), # see p. 17 of the Buckeye Corpus manual\n",
    "('l', 'l'), #\n",
    "('el', 'l̩'), #\n",
    "# ('r', 'r'), #ɹ\n",
    "('r', 'ɹ'), #\n",
    "('dx', 'ɾ'), #\n",
    "('nx', 'ɾ̃'), #\n",
    "('y', 'j'), #\n",
    "('w', 'w'), #\n",
    "('tq', 'ʔ')#, #\n",
    "])\n",
    "print(buckeyeUnicodeIPArelation) \n",
    "print(len(buckeyeUnicodeIPArelation))\n",
    "\n",
    "def buckeyeToUnicodeIPA(buckeyeSymbol):\n",
    "    mapping = dict(buckeyeUnicodeIPArelation)\n",
    "    #print(mapping)\n",
    "    return mapping[buckeyeSymbol]\n",
    "print(buckeyeToUnicodeIPA('th'))\n",
    "\n",
    "# def invertMapping(mydict): \n",
    "#     return dict([[val, key] for key,val in mydict.items()])\n",
    "# def unicodeIPAToBuckeye(unicodeIPAsymbol):\n",
    "#     return invertMapping( dict(buckeyeUnicodeIPArelation) )[unicodeIPAsymbol]\n",
    "# print(unicodeIPAToBuckeye('θ'))"
   ]
  },
  {
   "cell_type": "markdown",
   "metadata": {},
   "source": [
    "Summary of important notes/remaining questions from transcribing Table 2 of the corpus manual:\n",
    " 1. What the *hell* are all the symbols that aren't documented in the corpus manual and where are they documented?\n",
    " 2. Should I map `ah` to schwa or wedge?\n",
    " 3. Syllabic engma isn't in Table 2, but it's mentioned on p. 17 of the corpus manual."
   ]
  },
  {
   "cell_type": "markdown",
   "metadata": {},
   "source": [
    "Let's start addressing #1 by looking for any phone symbols that aren't in the relation defined above, seeing how often they occur, which words they're in, and what a reasonable remapping is."
   ]
  },
  {
   "cell_type": "code",
   "execution_count": 32,
   "metadata": {
    "ExecuteTime": {
     "end_time": "2019-05-07T17:31:23.002579Z",
     "start_time": "2019-05-07T17:31:22.998704Z"
    }
   },
   "outputs": [
    {
     "data": {
      "text/plain": [
       "['q', 'h', 'hhn', 'iyih', 'a', 'x', 'i', 'id', 'an', 'uwix']"
      ]
     },
     "execution_count": 32,
     "metadata": {},
     "output_type": "execute_result"
    }
   ],
   "source": [
    "first = lambda pair: pair[0]\n",
    "\n",
    "[p for p in phones if p not in list(map(first, buckeyeUnicodeIPArelation)) and p not in badPhones]"
   ]
  },
  {
   "cell_type": "code",
   "execution_count": 33,
   "metadata": {
    "ExecuteTime": {
     "end_time": "2019-05-07T17:31:26.068553Z",
     "start_time": "2019-05-07T17:31:26.065211Z"
    }
   },
   "outputs": [],
   "source": [
    "def findWordsWithPhone(phone):\n",
    "    return [w for w in words if phone in getPhones(w)]"
   ]
  },
  {
   "cell_type": "code",
   "execution_count": 34,
   "metadata": {
    "ExecuteTime": {
     "end_time": "2019-05-07T17:31:29.711541Z",
     "start_time": "2019-05-07T17:31:29.708801Z"
    }
   },
   "outputs": [],
   "source": [
    "def findWordsWithPhoneme(phoneme):\n",
    "    return [w for w in words if phoneme in getPhonemes(w)]"
   ]
  },
  {
   "cell_type": "code",
   "execution_count": 35,
   "metadata": {
    "ExecuteTime": {
     "end_time": "2019-05-07T17:31:32.617245Z",
     "start_time": "2019-05-07T17:31:32.613620Z"
    }
   },
   "outputs": [],
   "source": [
    "def findWordTokensOf(orthographic_word):\n",
    "    return [w for w in words if getOrthography(w) == orthographic_word]"
   ]
  },
  {
   "cell_type": "markdown",
   "metadata": {},
   "source": [
    "## Undocumented narrow transcription symbols "
   ]
  },
  {
   "cell_type": "code",
   "execution_count": 36,
   "metadata": {
    "ExecuteTime": {
     "end_time": "2019-05-07T17:31:39.599021Z",
     "start_time": "2019-05-07T17:31:39.592808Z"
    }
   },
   "outputs": [
    {
     "data": {
      "text/plain": [
       "['q', 'h', 'hhn', 'iyih', 'a', 'x', 'i', 'id', 'an', 'uwix']"
      ]
     },
     "execution_count": 36,
     "metadata": {},
     "output_type": "execute_result"
    }
   ],
   "source": [
    "[p for p in phones if p not in list(map(first, buckeyeUnicodeIPArelation)) and p not in badPhones]"
   ]
  },
  {
   "cell_type": "code",
   "execution_count": 37,
   "metadata": {
    "ExecuteTime": {
     "end_time": "2019-05-07T17:31:42.985706Z",
     "start_time": "2019-05-07T17:31:42.983833Z"
    }
   },
   "outputs": [],
   "source": [
    "remappings = set()"
   ]
  },
  {
   "cell_type": "markdown",
   "metadata": {},
   "source": [
    "### `id`"
   ]
  },
  {
   "cell_type": "code",
   "execution_count": 38,
   "metadata": {
    "ExecuteTime": {
     "end_time": "2019-05-07T17:31:50.059291Z",
     "start_time": "2019-05-07T17:31:49.813896Z"
    }
   },
   "outputs": [
    {
     "data": {
      "text/plain": [
       "[Word('rotted', 24.034135, 24.401962, ['r', 'aa', 't', 'ah', 'd'], ['r', 'ah', 'dx', 'id', 'd'], 'VBN')]"
      ]
     },
     "execution_count": 38,
     "metadata": {},
     "output_type": "execute_result"
    },
    {
     "data": {
      "text/plain": [
       "[Word('rotted', 24.034135, 24.401962, ['r', 'aa', 't', 'ah', 'd'], ['r', 'ah', 'dx', 'id', 'd'], 'VBN')]"
      ]
     },
     "execution_count": 38,
     "metadata": {},
     "output_type": "execute_result"
    }
   ],
   "source": [
    "idWords = findWordsWithPhone('id'); idWords\n",
    "findWordTokensOf('rotted')"
   ]
  },
  {
   "cell_type": "code",
   "execution_count": 39,
   "metadata": {
    "ExecuteTime": {
     "end_time": "2019-05-07T17:31:53.140294Z",
     "start_time": "2019-05-07T17:31:52.997394Z"
    }
   },
   "outputs": [
    {
     "data": {
      "text/plain": [
       "3386"
      ]
     },
     "execution_count": 39,
     "metadata": {},
     "output_type": "execute_result"
    },
    {
     "data": {
      "text/plain": [
       "[Word('looked', 495.997583, 496.190114, ['l', 'uh', 'k', 't'], ['l', 'uh', 'k', 't'], 'VBD'),\n",
       " Word('skilled', 296.242188, 296.626027, ['s', 'k', 'ih', 'l', 'd'], ['s', 'k', 'ih', 'l', 'd'], 'JJ'),\n",
       " Word('started', 42.146622, 42.549031, ['s', 't', 'aa', 'r', 't', 'ah', 'd'], ['s', 't', 'aa', 'r', 'dx', 'ih', 'd'], 'VBD'),\n",
       " Word('introduced', 549.761391, 550.431017, ['ih', 'n', 't', 'r', 'ah', 'd', 'uw', 's', 't'], ['ih', 'nx', 'er', 'd', 'uw', 's', 't'], 'VBD'),\n",
       " Word('gifted', 501.047481, 501.38193, ['g', 'ih', 'f', 't', 'ah', 'd'], ['g', 'ih', 'f', 't', 'ih', 't'], 'VBN'),\n",
       " Word('deported', 228.034, 228.842, ['d', 'ih', 'p', 'ow', 'r', 't', 'ah', 'd'], ['d', 'iy', 'p', 'ow', 'r', 'dx', 'ih', 'd'], 'VBN'),\n",
       " Word('wanted', 214.257571, 214.473048, ['w', 'aa', 'n', 't', 'ah', 'd'], ['w', 'ah', 'nx', 'ih', 'd', 'd'], 'VBD'),\n",
       " Word('used', 18.039062, 18.195008, ['y', 'uw', 'z', 'd'], ['y', 'uw', 'z'], 'VBD'),\n",
       " Word('wished', 567.443875, 567.81837, ['w', 'ih', 'sh', 't'], ['w', 'ih', 'sh', 'd'], 'VBD'),\n",
       " Word('affected', 57.619639, 58.015525, ['ah', 'f', 'eh', 'k', 't', 'ah', 'd'], ['ah', 'f', 'eh', 'k', 't', 'ih', 'd'], 'VBN')]"
      ]
     },
     "execution_count": 39,
     "metadata": {},
     "output_type": "execute_result"
    }
   ],
   "source": [
    "ed_words = [w for w in words if len(getOrthography(w)) >= 2 and getOrthography(w)[-2:] == 'ed']\n",
    "len(ed_words)\n",
    "ed_words[:10]"
   ]
  },
  {
   "cell_type": "code",
   "execution_count": 40,
   "metadata": {
    "ExecuteTime": {
     "end_time": "2019-05-07T17:31:58.273420Z",
     "start_time": "2019-05-07T17:31:58.253068Z"
    }
   },
   "outputs": [
    {
     "data": {
      "text/plain": [
       "894"
      ]
     },
     "execution_count": 40,
     "metadata": {},
     "output_type": "execute_result"
    },
    {
     "data": {
      "text/plain": [
       "[Word('started', 42.146622, 42.549031, ['s', 't', 'aa', 'r', 't', 'ah', 'd'], ['s', 't', 'aa', 'r', 'dx', 'ih', 'd'], 'VBD'),\n",
       " Word('gifted', 501.047481, 501.38193, ['g', 'ih', 'f', 't', 'ah', 'd'], ['g', 'ih', 'f', 't', 'ih', 't'], 'VBN'),\n",
       " Word('deported', 228.034, 228.842, ['d', 'ih', 'p', 'ow', 'r', 't', 'ah', 'd'], ['d', 'iy', 'p', 'ow', 'r', 'dx', 'ih', 'd'], 'VBN'),\n",
       " Word('wanted', 214.257571, 214.473048, ['w', 'aa', 'n', 't', 'ah', 'd'], ['w', 'ah', 'nx', 'ih', 'd', 'd'], 'VBD'),\n",
       " Word('affected', 57.619639, 58.015525, ['ah', 'f', 'eh', 'k', 't', 'ah', 'd'], ['ah', 'f', 'eh', 'k', 't', 'ih', 'd'], 'VBN'),\n",
       " Word('stayed', 61.256218, 61.579688, ['s', 't', 'ey', 'd'], ['s', 't', 'ey', 'd'], 'VBN'),\n",
       " Word('wanted', 349.70039, 349.940507, ['w', 'aa', 'n', 't', 'ah', 'd'], ['w', 'aa', 'nx', 'ah', 'd'], 'VBD'),\n",
       " Word('tested', 276.185989, 276.672331, ['t', 'eh', 's', 't', 'ah', 'd'], ['t', 'eh', 's', 'ih', 'd'], 'VBD'),\n",
       " Word('worded', 251.976, 252.415, ['w', 'er', 'd', 'ah', 'd'], ['w', 'er', 'dx', 'ih', 'd'], 'VBN'),\n",
       " Word('arrested', 545.394765, 545.781, ['ah', 'r', 'eh', 's', 't', 'ah', 'd'], ['ah', 'r', 'eh', 's', 't', 'ih', 'd'], 'VBN')]"
      ]
     },
     "execution_count": 40,
     "metadata": {},
     "output_type": "execute_result"
    }
   ],
   "source": [
    "similar_ed_words = [w for w in ed_words \n",
    "                    if len(getPhonemes(w)) >= 3 and \n",
    "                       getPhonemes(w)[-1] == 'd' and \n",
    "                       (getPhonemes(w)[-3] == 'd' or getPhonemes(w)[-3] == 't')]\n",
    "len(similar_ed_words)\n",
    "similar_ed_words[:10]"
   ]
  },
  {
   "cell_type": "code",
   "execution_count": 41,
   "metadata": {
    "ExecuteTime": {
     "end_time": "2019-05-07T17:32:04.070288Z",
     "start_time": "2019-05-07T17:32:04.060978Z"
    }
   },
   "outputs": [
    {
     "data": {
      "text/plain": [
       "{3, 4, 5, 6, 7, 8, 9, 10, 11, 12, 13}"
      ]
     },
     "execution_count": 41,
     "metadata": {},
     "output_type": "execute_result"
    },
    {
     "data": {
      "text/plain": [
       "{2, 3, 4, 5, 6, 7, 8, 9, 10, 11, 12, 13}"
      ]
     },
     "execution_count": 41,
     "metadata": {},
     "output_type": "execute_result"
    }
   ],
   "source": [
    "set([len(getPhonemes(w)) for w in similar_ed_words])\n",
    "set([len(getPhones(w)) for w in similar_ed_words])"
   ]
  },
  {
   "cell_type": "code",
   "execution_count": 42,
   "metadata": {
    "ExecuteTime": {
     "end_time": "2019-05-07T17:32:07.157843Z",
     "start_time": "2019-05-07T17:32:07.147082Z"
    }
   },
   "outputs": [
    {
     "data": {
      "text/plain": [
       "279"
      ]
     },
     "execution_count": 42,
     "metadata": {},
     "output_type": "execute_result"
    },
    {
     "data": {
      "text/plain": [
       "[Word('started', 42.146622, 42.549031, ['s', 't', 'aa', 'r', 't', 'ah', 'd'], ['s', 't', 'aa', 'r', 'dx', 'ih', 'd'], 'VBD'),\n",
       " Word('deported', 228.034, 228.842, ['d', 'ih', 'p', 'ow', 'r', 't', 'ah', 'd'], ['d', 'iy', 'p', 'ow', 'r', 'dx', 'ih', 'd'], 'VBN'),\n",
       " Word('worded', 251.976, 252.415, ['w', 'er', 'd', 'ah', 'd'], ['w', 'er', 'dx', 'ih', 'd'], 'VBN'),\n",
       " Word('started', 54.732946, 55.24575, ['s', 't', 'aa', 'r', 't', 'ah', 'd'], ['s', 't', 'aa', 'r', 'dx', 'ih', 'dx'], 'VBD'),\n",
       " Word('frustrated', 293.763415, 294.44204, ['f', 'r', 'ah', 's', 't', 'r', 'ey', 't', 'ah', 'd'], ['f', 'r', 'ah', 's', 't', 'r', 'ey', 'dx', 'ih', 'd'], 'JJ'),\n",
       " Word('committed', 343.629, 344.073, ['k', 'ah', 'm', 'ih', 't', 'ah', 'd'], ['k', 'ah', 'm', 'ih', 'dx', 'ih', 'd'], 'VBD'),\n",
       " Word('united', 177.923669, 178.179923, ['y', 'uw', 'n', 'ay', 't', 'ah', 'd'], ['y', 'ih', 'nx', 'ay', 'dx', 'ih', 'd'], 'JJ'),\n",
       " Word('accredited', 414.675005, 415.210387, ['ah', 'k', 'r', 'eh', 'd', 'ih', 't', 'ah', 'd'], ['k', 'r', 'eh', 'dx', 'ih', 'd'], 'VBN'),\n",
       " Word('started', 50.625875, 51.035169, ['s', 't', 'aa', 'r', 't', 'ah', 'd'], ['s', 't', 'aa', 'r', 'dx', 'ih', 'd'], 'VBN'),\n",
       " Word('supported', 205.692013, 206.066988, ['s', 'ah', 'p', 'ow', 'r', 't', 'ah', 'd'], ['s', 'ih', 'p', 'ow', 'r', 'dx', 'ih', 'd'], 'VBD')]"
      ]
     },
     "execution_count": 42,
     "metadata": {},
     "output_type": "execute_result"
    }
   ],
   "source": [
    "flapped = [w for w in similar_ed_words\n",
    "           if len(getPhones(w)) >= 3 and\n",
    "              (getPhones(w)[-2] == 'dx' or getPhones(w)[-3] == 'dx')]\n",
    "len(flapped)\n",
    "flapped[:10]"
   ]
  },
  {
   "cell_type": "code",
   "execution_count": 43,
   "metadata": {
    "ExecuteTime": {
     "end_time": "2019-05-07T17:32:11.678559Z",
     "start_time": "2019-05-07T17:32:11.669473Z"
    }
   },
   "outputs": [
    {
     "data": {
      "text/plain": [
       "279"
      ]
     },
     "execution_count": 43,
     "metadata": {},
     "output_type": "execute_result"
    },
    {
     "data": {
      "text/plain": [
       "{'aa', 'ah', 'dx', 'eh', 'el', 'er', 'id', 'ih', 'iy', 'ow', 'uh', 'uw'}"
      ]
     },
     "execution_count": 43,
     "metadata": {},
     "output_type": "execute_result"
    }
   ],
   "source": [
    "getPostFlapVowel = lambda phones: phones[-1] if phones[-2] == 'dx' else phones[-2]\n",
    "postFlapVowels = [getPostFlapVowel(getPhones(w)) for w in flapped]\n",
    "len(postFlapVowels)\n",
    "set(postFlapVowels)"
   ]
  },
  {
   "cell_type": "code",
   "execution_count": 45,
   "metadata": {
    "ExecuteTime": {
     "end_time": "2019-05-07T17:32:28.666348Z",
     "start_time": "2019-05-07T17:32:28.661340Z"
    }
   },
   "outputs": [
    {
     "data": {
      "text/plain": [
       "Counter({'ih': 215,\n",
       "         'er': 12,\n",
       "         'eh': 17,\n",
       "         'aa': 2,\n",
       "         'el': 6,\n",
       "         'iy': 6,\n",
       "         'ah': 14,\n",
       "         'uh': 3,\n",
       "         'ow': 1,\n",
       "         'id': 1,\n",
       "         'dx': 1,\n",
       "         'uw': 1})"
      ]
     },
     "execution_count": 45,
     "metadata": {},
     "output_type": "execute_result"
    }
   ],
   "source": [
    "Counter(postFlapVowels)"
   ]
  },
  {
   "cell_type": "code",
   "execution_count": 46,
   "metadata": {
    "ExecuteTime": {
     "end_time": "2019-05-07T17:32:34.221477Z",
     "start_time": "2019-05-07T17:32:34.217305Z"
    }
   },
   "outputs": [
    {
     "data": {
      "text/plain": [
       "0.7706093189964157"
      ]
     },
     "execution_count": 46,
     "metadata": {},
     "output_type": "execute_result"
    }
   ],
   "source": [
    "Counter(postFlapVowels)['ih'] / sum( Counter(postFlapVowels).values() )"
   ]
  },
  {
   "cell_type": "code",
   "execution_count": 47,
   "metadata": {
    "ExecuteTime": {
     "end_time": "2019-05-07T17:32:37.435982Z",
     "start_time": "2019-05-07T17:32:37.429534Z"
    }
   },
   "outputs": [
    {
     "data": {
      "text/plain": [
       "194"
      ]
     },
     "execution_count": 47,
     "metadata": {},
     "output_type": "execute_result"
    },
    {
     "data": {
      "text/plain": [
       "[Word('started', 42.146622, 42.549031, ['s', 't', 'aa', 'r', 't', 'ah', 'd'], ['s', 't', 'aa', 'r', 'dx', 'ih', 'd'], 'VBD'),\n",
       " Word('deported', 228.034, 228.842, ['d', 'ih', 'p', 'ow', 'r', 't', 'ah', 'd'], ['d', 'iy', 'p', 'ow', 'r', 'dx', 'ih', 'd'], 'VBN'),\n",
       " Word('worded', 251.976, 252.415, ['w', 'er', 'd', 'ah', 'd'], ['w', 'er', 'dx', 'ih', 'd'], 'VBN'),\n",
       " Word('frustrated', 293.763415, 294.44204, ['f', 'r', 'ah', 's', 't', 'r', 'ey', 't', 'ah', 'd'], ['f', 'r', 'ah', 's', 't', 'r', 'ey', 'dx', 'ih', 'd'], 'JJ'),\n",
       " Word('committed', 343.629, 344.073, ['k', 'ah', 'm', 'ih', 't', 'ah', 'd'], ['k', 'ah', 'm', 'ih', 'dx', 'ih', 'd'], 'VBD'),\n",
       " Word('united', 177.923669, 178.179923, ['y', 'uw', 'n', 'ay', 't', 'ah', 'd'], ['y', 'ih', 'nx', 'ay', 'dx', 'ih', 'd'], 'JJ'),\n",
       " Word('accredited', 414.675005, 415.210387, ['ah', 'k', 'r', 'eh', 'd', 'ih', 't', 'ah', 'd'], ['k', 'r', 'eh', 'dx', 'ih', 'd'], 'VBN'),\n",
       " Word('started', 50.625875, 51.035169, ['s', 't', 'aa', 'r', 't', 'ah', 'd'], ['s', 't', 'aa', 'r', 'dx', 'ih', 'd'], 'VBN'),\n",
       " Word('supported', 205.692013, 206.066988, ['s', 'ah', 'p', 'ow', 'r', 't', 'ah', 'd'], ['s', 'ih', 'p', 'ow', 'r', 'dx', 'ih', 'd'], 'VBD'),\n",
       " Word('supported', 206.523259, 206.886774, ['s', 'ah', 'p', 'ow', 'r', 't', 'ah', 'd'], ['s', 'ih', 'p', 'ow', 'r', 'dx', 'ih', 'd'], 'VBD')]"
      ]
     },
     "execution_count": 47,
     "metadata": {},
     "output_type": "execute_result"
    }
   ],
   "source": [
    "flappedAndHasFinalStop = [w for w in flapped if getPhones(w)[-1] == 'd' or getPhones(w)[-1] == 't']\n",
    "len(flappedAndHasFinalStop)\n",
    "flappedAndHasFinalStop[:10]"
   ]
  },
  {
   "cell_type": "code",
   "execution_count": 48,
   "metadata": {
    "ExecuteTime": {
     "end_time": "2019-05-07T17:32:41.219332Z",
     "start_time": "2019-05-07T17:32:41.210051Z"
    }
   },
   "outputs": [
    {
     "data": {
      "text/plain": [
       "194"
      ]
     },
     "execution_count": 48,
     "metadata": {},
     "output_type": "execute_result"
    },
    {
     "data": {
      "text/plain": [
       "{'aa', 'ah', 'eh', 'el', 'er', 'id', 'ih', 'iy', 'uh'}"
      ]
     },
     "execution_count": 48,
     "metadata": {},
     "output_type": "execute_result"
    },
    {
     "data": {
      "text/plain": [
       "Counter({'ih': 157,\n",
       "         'er': 7,\n",
       "         'aa': 2,\n",
       "         'el': 4,\n",
       "         'eh': 13,\n",
       "         'ah': 7,\n",
       "         'uh': 1,\n",
       "         'id': 1,\n",
       "         'iy': 2})"
      ]
     },
     "execution_count": 48,
     "metadata": {},
     "output_type": "execute_result"
    },
    {
     "data": {
      "text/plain": [
       "0.8092783505154639"
      ]
     },
     "execution_count": 48,
     "metadata": {},
     "output_type": "execute_result"
    }
   ],
   "source": [
    "postFlapVowels_HasFinalStop = [getPostFlapVowel(getPhones(w)) for w in flappedAndHasFinalStop]\n",
    "len(postFlapVowels_HasFinalStop)\n",
    "set(postFlapVowels_HasFinalStop)\n",
    "Counter(postFlapVowels_HasFinalStop)\n",
    "Counter(postFlapVowels_HasFinalStop)['ih'] / sum(Counter(postFlapVowels_HasFinalStop).values())"
   ]
  },
  {
   "cell_type": "markdown",
   "metadata": {
    "ExecuteTime": {
     "end_time": "2019-05-07T17:32:46.524315Z",
     "start_time": "2019-05-07T17:32:46.510588Z"
    }
   },
   "source": [
    "`ih` seems like a reasonable remapping even if it's not clear what on earth `id` was supposed to convey in the first place."
   ]
  },
  {
   "cell_type": "code",
   "execution_count": 50,
   "metadata": {
    "ExecuteTime": {
     "end_time": "2019-05-07T17:32:56.951357Z",
     "start_time": "2019-05-07T17:32:56.948441Z"
    }
   },
   "outputs": [
    {
     "data": {
      "text/plain": [
       "'ɪ'"
      ]
     },
     "execution_count": 50,
     "metadata": {},
     "output_type": "execute_result"
    }
   ],
   "source": [
    "buckeyeToUnicodeIPA('ih')"
   ]
  },
  {
   "cell_type": "code",
   "execution_count": 51,
   "metadata": {
    "ExecuteTime": {
     "end_time": "2019-05-07T17:33:01.504707Z",
     "start_time": "2019-05-07T17:33:01.501758Z"
    }
   },
   "outputs": [
    {
     "data": {
      "text/plain": [
       "{('id', 'ɪ')}"
      ]
     },
     "execution_count": 51,
     "metadata": {},
     "output_type": "execute_result"
    }
   ],
   "source": [
    "remappings.add(('id', buckeyeToUnicodeIPA('ih')))\n",
    "remappings"
   ]
  },
  {
   "cell_type": "markdown",
   "metadata": {},
   "source": [
    "### `eng`"
   ]
  },
  {
   "cell_type": "code",
   "execution_count": 52,
   "metadata": {
    "ExecuteTime": {
     "end_time": "2019-05-07T17:33:08.855409Z",
     "start_time": "2019-05-07T17:33:08.675532Z"
    }
   },
   "outputs": [
    {
     "data": {
      "text/plain": [
       "123"
      ]
     },
     "execution_count": 52,
     "metadata": {},
     "output_type": "execute_result"
    }
   ],
   "source": [
    "syllabic_n_words = findWordsWithPhone('eng')\n",
    "len(syllabic_n_words)"
   ]
  },
  {
   "cell_type": "markdown",
   "metadata": {},
   "source": [
    "### `x`"
   ]
  },
  {
   "cell_type": "code",
   "execution_count": 53,
   "metadata": {
    "ExecuteTime": {
     "end_time": "2019-05-07T17:34:17.832319Z",
     "start_time": "2019-05-07T17:34:17.661384Z"
    }
   },
   "outputs": [
    {
     "data": {
      "text/plain": [
       "[Word('ten', 530.572, 530.769, ['t', 'eh', 'n'], ['t', 'eh', 'x', 'n'], 'CD'),\n",
       " Word('yknow', 248.168, 248.477, ['y', 'uw', 'n', 'ow'], ['y', 'ih', 'x', 'n', 'ow'], 'PRP_VBP')]"
      ]
     },
     "execution_count": 53,
     "metadata": {},
     "output_type": "execute_result"
    }
   ],
   "source": [
    "findWordsWithPhone('x')"
   ]
  },
  {
   "cell_type": "code",
   "execution_count": 54,
   "metadata": {
    "ExecuteTime": {
     "end_time": "2019-05-07T17:34:31.070918Z",
     "start_time": "2019-05-07T17:34:30.889225Z"
    }
   },
   "outputs": [
    {
     "data": {
      "text/plain": [
       "2847"
      ]
     },
     "execution_count": 54,
     "metadata": {},
     "output_type": "execute_result"
    },
    {
     "data": {
      "text/plain": [
       "{('SIL', 'y', 'eh'),\n",
       " ('SIL', 'y', 'ih', 'n', 'ao'),\n",
       " ('SIL', 'y', 'nx', 'aw'),\n",
       " ('ah',),\n",
       " ('ah', 'n', 'ah'),\n",
       " ('ah', 'n', 'ow'),\n",
       " ('ah', 'nx', 'ow'),\n",
       " ('ah', 'ow'),\n",
       " ('ah', 'y', 'eh', 'nx', 'ow'),\n",
       " ('ah', 'y', 'ih', 'nx', 'ow'),\n",
       " ('ay', 'ih', 'nx', 'ah'),\n",
       " ('ay', 'y', 'ih', 'nx', 'ow'),\n",
       " ('ay', 'y', 'ow'),\n",
       " ('ch', 'ih', 'n', 'ow'),\n",
       " ('ch', 'y', 'ah', 'nx', 'ow', 'em'),\n",
       " ('d', 'ih', 'nx', 'ow'),\n",
       " ('d', 'y', 'ih', 'nx', 'ah'),\n",
       " ('dh', 'eh', 'n', 'y', 'ow'),\n",
       " ('eh',),\n",
       " ('eh', 'n', 'ah'),\n",
       " ('eh', 'n', 'ao'),\n",
       " ('eh', 'n', 'ow'),\n",
       " ('eh', 'nx', 'ow'),\n",
       " ('ehn', 'ao'),\n",
       " ('en', 'ow'),\n",
       " ('er', 'n', 'hh', 'ah'),\n",
       " ('er', 'nx', 'ow'),\n",
       " ('ey', 'ah'),\n",
       " ('ey', 'ih', 'n', 'ow'),\n",
       " ('ey', 'n', 'ow'),\n",
       " ('g', 'y', 'ih', 'nx', 'ow'),\n",
       " ('hh', 'eh', 'n', 'aw', 'm'),\n",
       " ('hh', 'ih', 'n', 'ah'),\n",
       " ('hh', 'ih', 'n', 'ow'),\n",
       " ('hh', 'ih', 'nx', 'ah'),\n",
       " ('hh', 'ih', 'nx', 'ow'),\n",
       " ('hh', 'iy', 'nx', 'ow'),\n",
       " ('hh', 'y', 'ah', 'n', 'ow'),\n",
       " ('hh', 'y', 'ah', 'nx', 'ow'),\n",
       " ('hh', 'y', 'eh', 'nx', 'ow'),\n",
       " ('hh', 'y', 'ih', 'nx', 'ah'),\n",
       " ('hh', 'y', 'ih', 'nx', 'ow'),\n",
       " ('hh', 'y', 'ow'),\n",
       " ('ih', 'ah'),\n",
       " ('ih', 'ah', 'n', 'ow'),\n",
       " ('ih', 'ao'),\n",
       " ('ih', 'd', 'n', 'ow'),\n",
       " ('ih', 'g', 'ih', 'nx', 'ow'),\n",
       " ('ih', 'g', 'z', 'ae', 'm', 'p', 'el', 'y', 'ih', 'nx', 'ow'),\n",
       " ('ih', 'n', 'ah'),\n",
       " ('ih', 'n', 'ao'),\n",
       " ('ih', 'n', 'eh'),\n",
       " ('ih', 'n', 'ow'),\n",
       " ('ih', 'n', 'y', 'ih'),\n",
       " ('ih', 'nx', 'ah'),\n",
       " ('ih', 'nx', 'ow'),\n",
       " ('ih', 'ow'),\n",
       " ('ih', 'y', 'ow'),\n",
       " ('ihn', 'ah'),\n",
       " ('iy', 'iy', 'nx', 'ow'),\n",
       " ('iy', 'n', 'ah'),\n",
       " ('iy', 'n', 'ow'),\n",
       " ('iy', 'nx', 'ah'),\n",
       " ('iy', 'nx', 'ow'),\n",
       " ('iy', 'y', 'ah'),\n",
       " ('iy', 'y', 'eh', 'nx', 'ah'),\n",
       " ('iyn', 'ow'),\n",
       " ('jh', 'ih', 'n', 'ow'),\n",
       " ('jh', 'ih', 'nx', 'ah'),\n",
       " ('jh', 'ih', 'nx', 'ow'),\n",
       " ('m', 'eh', 'n', 'ow'),\n",
       " ('m', 'iy', 'ah'),\n",
       " ('m', 'iy', 'eh'),\n",
       " ('m', 'iy', 'nx', 'ow'),\n",
       " ('m', 'y', 'ih', 'n', 'ow'),\n",
       " ('m', 'y', 'ih', 'nx', 'ow'),\n",
       " ('n', 'ah'),\n",
       " ('n', 'ah', 'm'),\n",
       " ('n', 'ah', 'nx', 'ah'),\n",
       " ('n', 'ah', 'nx', 'ao'),\n",
       " ('n', 'ao'),\n",
       " ('n', 'aw'),\n",
       " ('n', 'eh', 'nx', 'ah'),\n",
       " ('n', 'eh', 'nx', 'ow'),\n",
       " ('n', 'ih', 'ah'),\n",
       " ('n', 'ih', 'n', 'ah'),\n",
       " ('n', 'ih', 'nx', 'ih'),\n",
       " ('n', 'ih', 'nx', 'ow'),\n",
       " ('n', 'iy', 'ah'),\n",
       " ('n', 'ow'),\n",
       " ('n', 'y', 'ah'),\n",
       " ('n', 'y', 'ah', 'n', 'ah'),\n",
       " ('n', 'y', 'ah', 'nx', 'ow'),\n",
       " ('n', 'y', 'ahn', 'ow'),\n",
       " ('n', 'y', 'ao', 'm'),\n",
       " ('n', 'y', 'eh', 'n', 'ow'),\n",
       " ('n', 'y', 'eh', 'nx', 'ow'),\n",
       " ('n', 'y', 'eh', 'nx', 'ow', 'm'),\n",
       " ('n', 'y', 'eh', 'ow'),\n",
       " ('n', 'y', 'ey'),\n",
       " ('n', 'y', 'hh', 'ah'),\n",
       " ('n', 'y', 'ih', 'ah'),\n",
       " ('n', 'y', 'ih', 'n', 'ah'),\n",
       " ('n', 'y', 'ih', 'n', 'ao'),\n",
       " ('n', 'y', 'ih', 'n', 'ow'),\n",
       " ('n', 'y', 'ih', 'nx', 'ah'),\n",
       " ('n', 'y', 'ih', 'nx', 'ow'),\n",
       " ('n', 'y', 'ihn', 'nx', 'ow'),\n",
       " ('n', 'y', 'ow'),\n",
       " ('ow',),\n",
       " ('sh', 'ah', 'ow'),\n",
       " ('sh', 'ih', 'n', 'ao'),\n",
       " ('sh', 'ih', 'n', 'ow'),\n",
       " ('sh', 'ih', 'nx', 'ow'),\n",
       " ('sh', 'uh', 'n', 'ow'),\n",
       " ('t', 'y', 'ah', 'n'),\n",
       " ('t', 'y', 'ah', 'n', 'ow'),\n",
       " ('tq', 'iy', 'n', 'eh', 'ow', 's'),\n",
       " ('tq', 'y', 'ih', 'n', 'ow'),\n",
       " ('w', 'iy', 'n', 'ow'),\n",
       " ('w', 'y', 'ah', 'nx', 'ah'),\n",
       " ('y',),\n",
       " ('y', 'aa'),\n",
       " ('y', 'ae'),\n",
       " ('y', 'ah'),\n",
       " ('y', 'ah', 'ah'),\n",
       " ('y', 'ah', 'aon'),\n",
       " ('y', 'ah', 'd', 'ow'),\n",
       " ('y', 'ah', 'em'),\n",
       " ('y', 'ah', 'hh', 'ow'),\n",
       " ('y', 'ah', 'ih'),\n",
       " ('y', 'ah', 'n'),\n",
       " ('y', 'ah', 'n', 'ae'),\n",
       " ('y', 'ah', 'n', 'ah'),\n",
       " ('y', 'ah', 'n', 'ah', 'ow'),\n",
       " ('y', 'ah', 'n', 'ow'),\n",
       " ('y', 'ah', 'n', 'ow', 'y', 'eh'),\n",
       " ('y', 'ah', 'nx', 'ah'),\n",
       " ('y', 'ah', 'nx', 'ah', 'ow'),\n",
       " ('y', 'ah', 'nx', 'ao'),\n",
       " ('y', 'ah', 'nx', 'aw'),\n",
       " ('y', 'ah', 'nx', 'en', 'ow'),\n",
       " ('y', 'ah', 'nx', 'ih'),\n",
       " ('y', 'ah', 'nx', 'ow'),\n",
       " ('y', 'ah', 'nx', 'oy'),\n",
       " ('y', 'ah', 'ow'),\n",
       " ('y', 'ah', 'own'),\n",
       " ('y', 'ahn'),\n",
       " ('y', 'ahn', 'ah'),\n",
       " ('y', 'ahn', 'ow'),\n",
       " ('y', 'ao'),\n",
       " ('y', 'aw'),\n",
       " ('y', 'ay'),\n",
       " ('y', 'eh'),\n",
       " ('y', 'eh', 'ah'),\n",
       " ('y', 'eh', 'n', 'aa'),\n",
       " ('y', 'eh', 'n', 'ah'),\n",
       " ('y', 'eh', 'n', 'ah', 'n'),\n",
       " ('y', 'eh', 'n', 'ao'),\n",
       " ('y', 'eh', 'n', 'ow'),\n",
       " ('y', 'eh', 'nx', 'ah'),\n",
       " ('y', 'eh', 'nx', 'ah', 'n'),\n",
       " ('y', 'eh', 'nx', 'ao'),\n",
       " ('y', 'eh', 'nx', 'aw'),\n",
       " ('y', 'eh', 'nx', 'eh'),\n",
       " ('y', 'eh', 'nx', 'ow'),\n",
       " ('y', 'eh', 'ow'),\n",
       " ('y', 'ehn'),\n",
       " ('y', 'ehn', 'ow'),\n",
       " ('y', 'en', 'ah'),\n",
       " ('y', 'ih'),\n",
       " ('y', 'ih', 'ae', 'ow'),\n",
       " ('y', 'ih', 'ah'),\n",
       " ('y', 'ih', 'ahn'),\n",
       " ('y', 'ih', 'dx', 'ah'),\n",
       " ('y', 'ih', 'ihn', 'ah'),\n",
       " ('y', 'ih', 'n', 'aa'),\n",
       " ('y', 'ih', 'n', 'ae'),\n",
       " ('y', 'ih', 'n', 'ah'),\n",
       " ('y', 'ih', 'n', 'ah', 'n'),\n",
       " ('y', 'ih', 'n', 'ao'),\n",
       " ('y', 'ih', 'n', 'aw'),\n",
       " ('y', 'ih', 'n', 'ay'),\n",
       " ('y', 'ih', 'n', 'eh'),\n",
       " ('y', 'ih', 'n', 'ih'),\n",
       " ('y', 'ih', 'n', 'ow'),\n",
       " ('y', 'ih', 'n', 'ow', 'ah'),\n",
       " ('y', 'ih', 'n', 'ow', 'eh'),\n",
       " ('y', 'ih', 'n', 'ow', 'm'),\n",
       " ('y', 'ih', 'n', 'own'),\n",
       " ('y', 'ih', 'n', 'uw'),\n",
       " ('y', 'ih', 'ng', 'ow'),\n",
       " ('y', 'ih', 'nx'),\n",
       " ('y', 'ih', 'nx', 'aa'),\n",
       " ('y', 'ih', 'nx', 'ae'),\n",
       " ('y', 'ih', 'nx', 'ah'),\n",
       " ('y', 'ih', 'nx', 'ah', 'ow'),\n",
       " ('y', 'ih', 'nx', 'ao'),\n",
       " ('y', 'ih', 'nx', 'aw'),\n",
       " ('y', 'ih', 'nx', 'eh'),\n",
       " ('y', 'ih', 'nx', 'ih'),\n",
       " ('y', 'ih', 'nx', 'n', 'ow'),\n",
       " ('y', 'ih', 'nx', 'ow'),\n",
       " ('y', 'ih', 'nx', 'ow', 'ah'),\n",
       " ('y', 'ih', 'nx', 'ow', 'm'),\n",
       " ('y', 'ih', 'nx', 'ow', 'w'),\n",
       " ('y', 'ih', 'nx', 'own'),\n",
       " ('y', 'ih', 'nx', 'uh'),\n",
       " ('y', 'ih', 'nx', 'uw'),\n",
       " ('y', 'ih', 'ow'),\n",
       " ('y', 'ih', 'own'),\n",
       " ('y', 'ih', 'x', 'n', 'ow'),\n",
       " ('y', 'ihn'),\n",
       " ('y', 'ihn', 'ow'),\n",
       " ('y', 'ihn', 'own'),\n",
       " ('y', 'iy', 'ah'),\n",
       " ('y', 'iy', 'n', 'ah'),\n",
       " ('y', 'iy', 'n', 'ih'),\n",
       " ('y', 'iy', 'n', 'ow'),\n",
       " ('y', 'iy', 'nx', 'ah'),\n",
       " ('y', 'iy', 'nx', 'ow'),\n",
       " ('y', 'iy', 'ow'),\n",
       " ('y', 'n', 'ah'),\n",
       " ('y', 'n', 'nx', 'ow'),\n",
       " ('y', 'n', 'ow'),\n",
       " ('y', 'nx', 'aa'),\n",
       " ('y', 'nx', 'ah'),\n",
       " ('y', 'nx', 'ao'),\n",
       " ('y', 'nx', 'eh'),\n",
       " ('y', 'nx', 'n', 'ow'),\n",
       " ('y', 'nx', 'ow'),\n",
       " ('y', 'ow'),\n",
       " ('y', 'ow', 'nx', 'ow'),\n",
       " ('y', 'uh', 'n', 'ow'),\n",
       " ('y', 'uh', 'nx', 'ow'),\n",
       " ('y', 'uw', 'n', 'ah'),\n",
       " ('y', 'uw', 'n', 'ow'),\n",
       " ('y', 'uw', 'nx', 'ow'),\n",
       " ('z', 'ih', 'nx', 'ow'),\n",
       " ('zh', 'ah', 'n', 'ow'),\n",
       " ('zh', 'en', 'ow'),\n",
       " ('zh', 'ih', 'n', 'ow'),\n",
       " ('zh', 'ih', 'nx', 'ow')}"
      ]
     },
     "execution_count": 54,
     "metadata": {},
     "output_type": "execute_result"
    }
   ],
   "source": [
    "len(findWordTokensOf('yknow'))\n",
    "set(map(lambda w: tuple(getPhones(w)),\n",
    "            findWordTokensOf('yknow')))"
   ]
  },
  {
   "cell_type": "code",
   "execution_count": 55,
   "metadata": {
    "ExecuteTime": {
     "end_time": "2019-05-07T17:34:39.642565Z",
     "start_time": "2019-05-07T17:34:39.466813Z"
    }
   },
   "outputs": [
    {
     "data": {
      "text/plain": [
       "104"
      ]
     },
     "execution_count": 55,
     "metadata": {},
     "output_type": "execute_result"
    },
    {
     "data": {
      "text/plain": [
       "{('t', 'eh', 'm'),\n",
       " ('t', 'eh', 'n'),\n",
       " ('t', 'eh', 'n', 'ah'),\n",
       " ('t', 'eh', 'nx'),\n",
       " ('t', 'eh', 'x', 'n'),\n",
       " ('t', 'ey', 'ng'),\n",
       " ('t', 'ih', 'eh', 'n')}"
      ]
     },
     "execution_count": 55,
     "metadata": {},
     "output_type": "execute_result"
    }
   ],
   "source": [
    "len(findWordTokensOf('ten'))\n",
    "set(map(lambda w: tuple(getPhones(w)),\n",
    "            findWordTokensOf('ten')))"
   ]
  },
  {
   "cell_type": "markdown",
   "metadata": {},
   "source": [
    "I have no idea what this is, and since it only occurs in two wordform tokens, I don't see any harm in just deleting both instances of `x`."
   ]
  },
  {
   "cell_type": "markdown",
   "metadata": {},
   "source": [
    "**NB:** This will require either overwriting data (something I already said I don't want to do) or slightly non-trivial rewriting (and consistent use!) of accessor functions (like `getPhones`) specifically to mask/intercept these two word tokens with `x`."
   ]
  },
  {
   "cell_type": "markdown",
   "metadata": {},
   "source": [
    "### `h`"
   ]
  },
  {
   "cell_type": "code",
   "execution_count": 56,
   "metadata": {
    "ExecuteTime": {
     "end_time": "2019-05-07T17:35:03.117730Z",
     "start_time": "2019-05-07T17:35:02.734885Z"
    }
   },
   "outputs": [
    {
     "data": {
      "text/plain": [
       "[Word('he', 399.107312, 399.207312, ['hh', 'iy'], ['h', 'iy'], 'PRP'),\n",
       " Word('career', 452.859125, 453.393743, ['k', 'ah', 'r', 'ih', 'r'], ['k', 'er', 'h', 'r', 'ih', 'r'], 'NN'),\n",
       " Word('um-hum', 308.137, 308.503, ['em', 'hh', 'em'], ['em', 'h', 'em'], 'UH'),\n",
       " Word('why', 516.598598, 516.760655, ['w', 'ay'], ['h', 'w', 'ay'], 'WRB'),\n",
       " Word('um-hum', 524.880878, 525.218274, ['em', 'hh', 'em'], ['em', 'h', 'm'], 'UH'),\n",
       " Word('is', 82.48, 82.58, ['ih', 'z'], ['i', 'h', 'z'], 'VBZ'),\n",
       " Word('have', 118.74, 118.942, ['hh', 'ae', 'v'], ['h', 'ae', 'v'], 'VBP'),\n",
       " Word('he', 1.660725, 1.954066, ['hh', 'iy'], ['h', 'iy'], 'PRP'),\n",
       " Word('oh', 541.451747, 541.73, ['ow'], ['ow', 'h'], 'NN'),\n",
       " Word('ohio', 488.038875, 489.013875, ['ow', 'hh', 'ay', 'ow'], ['ow', 'h', 'ay', 'ow'], 'NNP'),\n",
       " Word('nineties', 479.92, 480.444, ['n', 'ay', 'n', 't', 'iy', 'z'], ['n', 'ay', 'nx', 'iy', 'h'], 'NNS'),\n",
       " Word('that', 194.991, 195.32, ['dh', 'ae', 't'], ['h', 'ae', 't'], 'DT'),\n",
       " Word('of', 542.168, 542.298, ['ah', 'v'], ['eh', 'h'], 'IN'),\n",
       " Word(\"he's\", 221.692091, 221.966073, ['hh', 'iy', 'z'], ['h', 'iy', 'z'], 'PRP_VBZ'),\n",
       " Word('want', 568.488861, 568.701924, ['w', 'aa', 'n', 't'], ['h', 'w', 'ah', 'n'], 'VBP')]"
      ]
     },
     "execution_count": 56,
     "metadata": {},
     "output_type": "execute_result"
    },
    {
     "data": {
      "text/plain": [
       "15"
      ]
     },
     "execution_count": 56,
     "metadata": {},
     "output_type": "execute_result"
    }
   ],
   "source": [
    "findWordsWithPhone('h')\n",
    "len(findWordsWithPhone('h'))"
   ]
  },
  {
   "cell_type": "code",
   "execution_count": 57,
   "metadata": {
    "ExecuteTime": {
     "end_time": "2019-05-07T17:35:09.355965Z",
     "start_time": "2019-05-07T17:35:09.018523Z"
    }
   },
   "outputs": [
    {
     "data": {
      "text/plain": [
       "9183"
      ]
     },
     "execution_count": 57,
     "metadata": {},
     "output_type": "execute_result"
    },
    {
     "data": {
      "text/plain": [
       "[Word('harassing', 465.287188, 466.081179, ['hh', 'ae', 'r', 'ah', 's', 'ih', 'ng'], ['hh', 'ae', 'r', 'ae', 's', 'ih', 'ng'], 'VBG'),\n",
       " Word('hearing', 88.172313, 88.475528, ['hh', 'ih', 'r', 'ih', 'ng'], ['hh', 'iy', 'r', 'en'], 'VBG'),\n",
       " Word('hum', 312.010393, 312.204659, ['hh', 'ah', 'm'], ['hh', 'em'], 'NN'),\n",
       " Word('hyperactive', 29.427, 30.177, ['hh', 'ay', 'p', 'er', 'ae', 'k', 't', 'ih', 'v'], ['hh', 'ay', 'p', 'r', 'ae', 'k', 't', 'ih', 'v'], 'JJ'),\n",
       " Word('when', 356.362, 356.589, ['w', 'eh', 'n'], ['hh', 'w', 'eh', 'n'], 'WRB'),\n",
       " Word('how', 499.353715, 499.527044, ['hh', 'aw'], ['hh', 'aw'], 'WRB'),\n",
       " Word('have', 46.053443, 46.190335, ['hh', 'ae', 'v'], ['hh', 'ae', 'v'], 'VBP'),\n",
       " Word('him', 469.576337, 470.058826, ['hh', 'ih', 'm'], ['hh', 'ih', 'm'], 'PRP'),\n",
       " Word('have', 40.550897, 40.98173, ['hh', 'ae', 'v'], ['hh', 'ae', 'v'], 'VB'),\n",
       " Word('have', 43.178, 43.376, ['hh', 'ae', 'v'], ['hh', 'ae', 'v'], 'VBP'),\n",
       " Word('have', 502.204391, 502.437629, ['hh', 'ae', 'v'], ['hh', 'ae', 'v'], 'VBP'),\n",
       " Word('here', 59.450896, 59.626395, ['hh', 'ih', 'r'], ['hh', 'er'], 'RB'),\n",
       " Word('high', 502.512079, 502.709845, ['hh', 'ay'], ['hh', 'ay'], 'JJ'),\n",
       " Word('hinges', 498.13675, 498.49675, ['hh', 'ih', 'n', 'jh', 'ah', 'z'], ['hh', 'ih', 'n', 'zh', 'ih', 'z'], 'VBZ'),\n",
       " Word('ohio', 59.72825, 59.951942, ['ow', 'hh', 'ay', 'ow'], ['aa', 'hh', 'ay'], 'NNP'),\n",
       " Word('half', 329.95712, 330.416678, ['hh', 'ae', 'f'], ['hh', 'ae', 'f'], 'NN'),\n",
       " Word('had', 227.672, 227.872, ['hh', 'ae', 'd'], ['hh', 'ae', 'd'], 'VBD'),\n",
       " Word('helping', 324.115138, 324.375188, ['hh', 'eh', 'l', 'p', 'ih', 'ng'], ['hh', 'eh', 'l', 'p', 'ah', 'nx'], 'VBG'),\n",
       " Word('had', 230.181, 230.374, ['hh', 'ae', 'd'], ['hh', 'eh', 'd'], 'VBD'),\n",
       " Word('ahead', 562.584813, 562.992078, ['ah', 'hh', 'eh', 'd'], ['ah', 'hh', 'eh', 'd'], 'RB'),\n",
       " Word('hard', 331.787, 332.000875, ['hh', 'aa', 'r', 'd'], ['hh', 'aa', 'r', 'd'], 'JJ'),\n",
       " Word('have', 367.084, 367.3, ['hh', 'ae', 'v'], ['hh', 'ae', 'v'], 'VBP'),\n",
       " Word('have', 582.686523, 582.880627, ['hh', 'ae', 'v'], ['hh', 'ae'], 'VB'),\n",
       " Word('have', 214.50573, 214.676339, ['hh', 'ae', 'v'], ['hh', 'ae', 'v'], 'VB'),\n",
       " Word('he', 326.982843, 327.120345, ['hh', 'iy'], ['hh', 'iy'], 'PRP'),\n",
       " Word(\"hadn't\", 77.421088, 77.741986, ['hh', 'ae', 'd', 'en', 't'], ['hh', 'ae', 'dx', 'en'], 'VBP'),\n",
       " Word('have', 336.391, 336.667, ['hh', 'ae', 'v'], ['hh', 'ae', 'f'], 'VBP'),\n",
       " Word('hear', 347.164062, 347.274062, ['hh', 'ih', 'r'], ['hh', 'iy', 'r'], 'VBP'),\n",
       " Word('him', 249.855104, 250.157778, ['hh', 'ih', 'm'], ['hh', 'eh', 'm'], 'PRP'),\n",
       " Word(\"hasn't\", 56.026551, 56.40375, ['hh', 'ae', 'z', 'ah', 'n', 't'], ['hh', 'ae', 'z', 'ah', 'tq'], 'VBZ_RB'),\n",
       " Word('here', 369.274, 369.422, ['hh', 'ih', 'r'], ['hh', 'ih', 'r'], 'RB'),\n",
       " Word('who', 340.596, 340.892, ['hh', 'uw'], ['hh', 'uw'], 'WP'),\n",
       " Word('he', 270.4742, 270.578629, ['hh', 'iy'], ['hh', 'iy'], 'PRP'),\n",
       " Word('happen', 341.456, 341.812103, ['hh', 'ae', 'p', 'ah', 'n'], ['hh', 'ae', 'p', 'ah', 'n'], 'VB'),\n",
       " Word('help', 369.745, 370.075, ['hh', 'eh', 'l', 'p'], ['hh', 'eh', 'l', 'p'], 'NN'),\n",
       " Word('high', 588.071353, 588.287083, ['hh', 'ay'], ['hh', 'ay'], 'JJ'),\n",
       " Word('here', 370.495, 370.705, ['hh', 'ih', 'r'], ['hh', 'iy', 'r'], 'RB'),\n",
       " Word('house', 80.097563, 80.33038, ['hh', 'aw', 's'], ['hh', 'aw', 's'], 'NN'),\n",
       " Word('harder', 225.70825, 226.123081, ['hh', 'aa', 'r', 'd', 'er'], ['hh', 'aa', 'r', 'dx', 'er'], 'JJR'),\n",
       " Word('helping', 535.046184, 535.377375, ['hh', 'eh', 'l', 'p', 'ih', 'ng'], ['hh', 'eh', 'l', 'p', 'em'], 'VBG'),\n",
       " Word('um-hum', 507.112928, 507.416365, ['em', 'hh', 'em'], ['em', 'hh', 'em'], 'UH'),\n",
       " Word('hope', 228.665228, 228.877643, ['hh', 'ow', 'p'], ['hh', 'ow', 'p'], 'VB'),\n",
       " Word('um-hum', 515.384685, 515.843352, ['em', 'hh', 'em'], ['em', 'hh', 'em'], 'UH'),\n",
       " Word('here', 347.845446, 348.004062, ['hh', 'ih', 'r'], ['hh', 'iy', 'r'], 'RB'),\n",
       " Word('help', 335.349516, 335.526875, ['hh', 'eh', 'l', 'p'], ['hh', 'eh', 'l', 'p'], 'NN'),\n",
       " Word('hope', 230.818328, 231.062609, ['hh', 'ow', 'p'], ['hh', 'ow', 'p'], 'NN'),\n",
       " Word('huh', 520.604517, 520.97586, ['hh', 'ah'], ['hh', 'ah'], 'NN'),\n",
       " Word('had', 536.416624, 536.805269, ['hh', 'ae', 'd'], ['hh', 'ae', 'dx'], 'VBD'),\n",
       " Word('he', 352.504062, 352.762937, ['hh', 'iy'], ['hh', 'iy'], 'PRP'),\n",
       " Word('he', 352.762937, 352.934062, ['hh', 'iy'], ['hh', 'iy'], 'PRP'),\n",
       " Word('um-hum', 530.218187, 530.621757, ['em', 'hh', 'em'], ['em', 'hh', 'em'], 'UH'),\n",
       " Word('kind', 63.869688, 64.013944, ['k', 'ay', 'n', 'd'], ['hh', 'ay', 'nx'], 'NN'),\n",
       " Word('how', 487.794, 488.087, ['hh', 'aw'], ['hh', 'aw'], 'WRB'),\n",
       " Word('he', 244.013, 244.138, ['hh', 'iy'], ['hh', 'iy'], 'PRP'),\n",
       " Word('high', 537.175032, 537.387687, ['hh', 'ay'], ['hh', 'ay'], 'JJ'),\n",
       " Word('husband', 595.962599, 596.385937, ['hh', 'ah', 'z', 'b', 'ah', 'n', 'd'], ['hh', 'ae', 'z', 'b', 'ah', 'n', 'd'], 'NN'),\n",
       " Word(\"haven't\", 67.134921, 67.415301, ['hh', 'ae', 'v', 'ah', 'n', 't'], ['hh', 'ae', 'v', 'ih', 'n'], 'VBP_RB'),\n",
       " Word('hum', 349.89951, 350.099833, ['hh', 'ah', 'm'], ['hh', 'em'], 'NN'),\n",
       " Word('home', 268.181352, 268.6713, ['hh', 'ow', 'm'], ['hh', 'ow', 'm'], 'NN'),\n",
       " Word('home', 541.821978, 542.04125, ['hh', 'ow', 'm'], ['hh', 'ow', 'm'], 'NN'),\n",
       " Word(\"hadn't\", 278.107974, 278.417492, ['hh', 'ae', 'd', 'en', 't'], ['hh', 'ae', 'en'], 'VBZ'),\n",
       " Word('he', 278.846063, 278.989966, ['hh', 'iy'], ['hh', 'iy'], 'PRP'),\n",
       " Word('he', 355.93675, 356.08675, ['hh', 'iy'], ['hh', 'iy'], 'PRP'),\n",
       " Word('he', 280.934065, 281.059, ['hh', 'iy'], ['hh', 'iy'], 'PRP'),\n",
       " Word('her', 281.459, 281.609, ['hh', 'er'], ['hh', 'er'], 'PRP$'),\n",
       " Word(\"he's\", 66.269999, 66.449999, ['hh', 'iy', 'z'], ['hh', 'iy', 'z'], 'PRP_VBZ'),\n",
       " Word('what', 379.326, 379.456, ['w', 'ah', 't'], ['hh', 'w', 'ah', 'dx'], 'WP'),\n",
       " Word('ohio', 25.275362, 25.775137, ['ow', 'hh', 'ay', 'ow'], ['ow', 'hh', 'ay', 'ow'], 'NNP'),\n",
       " Word(\"haven't\", 357.456, 357.74, ['hh', 'ae', 'v', 'ah', 'n', 't'], ['hh', 'ae', 'v', 'ah', 'n'], 'VBP_RB'),\n",
       " Word('he', 62.622334, 62.816956, ['hh', 'iy'], ['hh', 'iy'], 'PRP'),\n",
       " Word('he', 63.029502, 63.219999, ['hh', 'iy'], ['hh', 'iy'], 'PRP'),\n",
       " Word(\"hasn't\", 63.219999, 63.441384, ['hh', 'ae', 'z', 'ah', 'n', 't'], ['hh', 'ae', 'z', 'en', 't'], 'VBZ_RB'),\n",
       " Word('hum', 0.824305, 1.008, ['hh', 'ah', 'm'], ['hh', 'ah', 'm'], 'NN'),\n",
       " Word('horrible', 540.894995, 541.557361, ['hh', 'aa', 'r', 'ah', 'b', 'el'], ['hh', 'ow', 'r', 'ih', 'b', 'ah', 'l'], 'JJ'),\n",
       " Word('helped', 583.918938, 584.258938, ['hh', 'eh', 'l', 'p', 't'], ['hh', 'eh', 'l', 'p', 't'], 'VBN'),\n",
       " Word('highway', 496.212, 496.558, ['hh', 'ay', 'w', 'ey'], ['hh', 'ay', 'w', 'ey'], 'NN'),\n",
       " Word('he', 547.187285, 547.57646, ['hh', 'iy'], ['hh', 'iy'], 'PRP'),\n",
       " Word('than', 25.022747, 25.211993, ['dh', 'ae', 'n'], ['hh', 'uh', 'nx'], 'IN'),\n",
       " Word('he', 443.299, 443.408, ['hh', 'iy'], ['hh', 'iy'], 'PRP'),\n",
       " Word('he', 285.622092, 285.746033, ['hh', 'iy'], ['hh', 'iy'], 'PRP'),\n",
       " Word('than', 25.618282, 25.793051, ['dh', 'ae', 'n'], ['hh', 'uh', 'nx'], 'IN'),\n",
       " Word('her', 95.135451, 95.760434, ['hh', 'er'], ['hh', 'er'], 'PRP'),\n",
       " Word('however', 254.480704, 255.133695, ['hh', 'aw', 'eh', 'v', 'er'], ['hh', 'aw', 'eh', 'v', 'er'], 'RB'),\n",
       " Word('have', 97.347937, 97.647191, ['hh', 'ae', 'v'], ['hh', 'ae', 'v'], 'VB'),\n",
       " Word('hey', 557.471268, 557.681365, ['hh', 'ey'], ['hh', 'ey'], 'JJ'),\n",
       " Word('have', 385.485, 385.894624, ['hh', 'ae', 'v'], ['hh', 'ae', 'v'], 'VB'),\n",
       " Word('have', 364.01675, 364.21675, ['hh', 'ae', 'v'], ['hh', 'ae', 'v'], 'VBP'),\n",
       " Word(\"what's\", 327.883405, 328.158035, ['w', 'ah', 't', 's'], ['hh', 'w', 'ah', 't', 's'], 'NNS'),\n",
       " Word('he', 445.916, 446.032, ['hh', 'iy'], ['hh', 'ih'], 'PRP'),\n",
       " Word('him', 552.858069, 553.069382, ['hh', 'ih', 'm'], ['hh', 'ih', 'm'], 'PRP'),\n",
       " Word('how', 500.445, 500.637, ['hh', 'aw'], ['hh', 'aw'], 'WRB'),\n",
       " Word('um-hum', 12.319336, 12.619463, ['em', 'hh', 'em'], ['em', 'hh', 'em'], 'UH'),\n",
       " Word('he', 287.524, 287.63467, ['hh', 'iy'], ['hh', 'iy'], 'PRP'),\n",
       " Word('um-hum', 13.066515, 13.309602, ['em', 'hh', 'em'], ['em', 'hh', 'em'], 'UH'),\n",
       " Word('here', 17.850772, 18.31541, ['hh', 'ih', 'r'], ['hh', 'ih', 'r'], 'RB'),\n",
       " Word('have', 594.702875, 594.92214, ['hh', 'ae', 'v'], ['hh', 'ae', 'v'], 'VBP'),\n",
       " Word('high', 289.355476, 289.543103, ['hh', 'ay'], ['hh', 'ay'], 'JJ'),\n",
       " Word('have', 330.519, 330.69, ['hh', 'ae', 'v'], ['hh', 'ae', 'v'], 'VBP'),\n",
       " Word('um-hum', 118.663698, 118.95394, ['em', 'hh', 'em'], ['em', 'hh', 'em'], 'UH'),\n",
       " Word('have', 391.537, 391.678, ['hh', 'ae', 'v'], ['hh', 'ae'], 'VB'),\n",
       " Word('help', 6.605554, 6.964012, ['hh', 'eh', 'l', 'p'], ['hh', 'eh', 'l', 'p'], 'NN'),\n",
       " Word('had', 301.227505, 301.460634, ['hh', 'ae', 'd'], ['hh', 'ae', 'd'], 'VBD'),\n",
       " Word('has', 403.232938, 403.529844, ['hh', 'ae', 'z'], ['hh', 'eh', 'z'], 'VBZ'),\n",
       " Word('help', 8.077938, 8.358773, ['hh', 'eh', 'l', 'p'], ['hh', 'eh', 'l', 'p'], 'NN'),\n",
       " Word('how', 108.509176, 108.731585, ['hh', 'aw'], ['hh', 'aw'], 'WRB'),\n",
       " Word('doing', 507.404, 507.698, ['d', 'uw', 'ih', 'ng'], ['d', 'hh', 'w', 'ih', 'ng'], 'VBG'),\n",
       " Word('why', 392.741, 392.981, ['w', 'ay'], ['hh', 'w', 'ay'], 'WRB'),\n",
       " Word('here', 369.308955, 369.539063, ['hh', 'ih', 'r'], ['hh', 'iy', 'r'], 'RB'),\n",
       " Word('frustrating', 294.750562, 295.412167, ['f', 'r', 'ah', 's', 't', 'r', 'ey', 't', 'ih', 'ng'], ['hh', 'ih', 's', 't', 'r', 'ey', 'tq', 'ih', 'ng'], 'JJ'),\n",
       " Word('has', 599.154416, 599.412875, ['hh', 'ae', 'z'], ['hh', 'eh', 'z'], 'VBZ'),\n",
       " Word('hey', 566.961904, 567.35253, ['hh', 'ey'], ['hh', 'ey'], 'NN'),\n",
       " Word('who', 567.35253, 567.486953, ['hh', 'uw'], ['hh', 'uw'], 'WP'),\n",
       " Word('have', 554.500307, 554.741849, ['hh', 'ae', 'v'], ['hh', 'ae', 'b'], 'VB'),\n",
       " Word('huh', 115.815414, 116.046206, ['hh', 'ah'], ['hh', 'ah'], 'NN'),\n",
       " Word('here', 276.871354, 277.086214, ['hh', 'ih', 'r'], ['hh', 'iy', 'r'], 'RB'),\n",
       " Word('his', 308.336956, 308.568687, ['hh', 'ih', 'z'], ['hh', 'ih', 's'], 'PRP$'),\n",
       " Word('had', 62.328707, 62.575192, ['hh', 'ae', 'd'], ['hh', 'ae', 'd'], 'VBD'),\n",
       " Word('he', 310.28517, 310.407064, ['hh', 'iy'], ['hh', 'iy'], 'PRP'),\n",
       " Word('hunter', 456.724899, 456.944, ['hh', 'ah', 'n', 't', 'er'], ['hh', 'ah', 'nx', 'er'], 'NNP'),\n",
       " Word(\"who's\", 456.944, 457.177, ['hh', 'uw', 'z'], ['hh', 'uw', 'z'], 'WP_VBZ'),\n",
       " Word('hey', 571.177772, 571.362748, ['hh', 'ey'], ['hh', 'ey'], 'NN'),\n",
       " Word('ahead', 118.231553, 118.55023, ['ah', 'hh', 'eh', 'd'], ['ah', 'hh', 'eh', 'd'], 'RB'),\n",
       " Word('help', 399.47, 399.722, ['hh', 'eh', 'l', 'p'], ['hh', 'eh', 'l', 'p'], 'VBP'),\n",
       " Word('here', 65.156222, 65.531903, ['hh', 'ih', 'r'], ['hh', 'ih', 'r'], 'RB'),\n",
       " Word('her', 312.304595, 312.508657, ['hh', 'er'], ['hh', 'er'], 'PRP'),\n",
       " Word('happen', 463.969, 464.229, ['hh', 'ae', 'p', 'ah', 'n'], ['hh', 'ae', 'p', 'em'], 'VB'),\n",
       " Word('him', 464.275, 464.596, ['hh', 'ih', 'm'], ['hh', 'ih', 'm'], 'PRP'),\n",
       " Word('here', 340.256, 340.356, ['hh', 'ih', 'r'], ['hh', 'iy', 'r'], 'RB'),\n",
       " Word('have', 124.091797, 124.339894, ['hh', 'ae', 'v'], ['hh', 'ae', 'v'], 'VBP'),\n",
       " Word('hear', 378.539274, 378.727691, ['hh', 'ih', 'r'], ['hh', 'iy', 'r'], 'VB'),\n",
       " Word('how', 68.461411, 68.625171, ['hh', 'aw'], ['hh', 'aw'], 'WRB'),\n",
       " Word('help', 404.223094, 404.503282, ['hh', 'eh', 'l', 'p'], ['hh', 'eh', 'l', 'p'], 'VB'),\n",
       " Word('what', 406.929, 407.157, ['w', 'ah', 't'], ['hh', 'w', 'ah', 't'], 'WP'),\n",
       " Word('ahead', 125.547483, 125.759897, ['ah', 'hh', 'eh', 'd'], ['ah', 'hh', 'eh'], 'RB'),\n",
       " Word('inherited', 408.615, 409.195, ['ih', 'n', 'hh', 'eh', 'r', 'ih', 't', 'ah', 'd'], ['ih', 'n', 'hh', 'eh', 'r', 'ih', 't', 'ih', 'd'], 'VBN'),\n",
       " Word('huge', 418.458737, 419.008046, ['hh', 'y', 'uw', 'jh'], ['hh', 'y', 'uw', 'jh'], 'JJ'),\n",
       " Word('he', 464.72, 464.909, ['hh', 'iy'], ['hh', 'iy'], 'PRP'),\n",
       " Word('have', 420.739563, 420.872727, ['hh', 'ae', 'v'], ['hh', 'ae', 'v'], 'VB'),\n",
       " Word('healthcare', 421.019563, 421.508053, ['hh', 'eh', 'l', 'th', 'k', 'ey', 'r'], ['hh', 'eh', 'l', 'th', 'k', 'eh', 'r'], 'NN'),\n",
       " Word('had', 345.847, 345.977, ['hh', 'ae', 'd'], ['hh', 'ae', 'd'], 'VBN'),\n",
       " Word('hear', 394.218272, 394.577873, ['hh', 'ih', 'r'], ['hh', 'iy', 'r'], 'VBP'),\n",
       " Word(\"haven't\", 582.106187, 582.369759, ['hh', 'ae', 'v', 'ah', 'n', 't'], ['hh', 'ae', 'v', 'ah', 'n'], 'VBP_RB'),\n",
       " Word('horrendous', 318.968313, 319.525357, ['hh', 'aa', 'r', 'eh', 'n', 'd', 'ah', 's'], ['hh', 'er', 'eh', 'n', 'd', 'eh', 's'], 'NNS'),\n",
       " Word('have', 523.253, 523.463, ['hh', 'ae', 'v'], ['hh', 'ae', 'v'], 'VBP'),\n",
       " Word('how', 300.97575, 301.09575, ['hh', 'aw'], ['hh', 'aw'], 'WRB'),\n",
       " Word('ohio', 403.989637, 404.214824, ['ow', 'hh', 'ay', 'ow'], ['ow', 'hh', 'ah', 'ow'], 'NNP'),\n",
       " Word('had', 323.554864, 323.68008, ['hh', 'ae', 'd'], ['hh', 'ae', 'dx'], 'VBD'),\n",
       " Word('whole', 395.84825, 396.03825, ['hh', 'ow', 'l'], ['hh', 'el'], 'JJ'),\n",
       " Word('whole', 324.854521, 325.009974, ['hh', 'ow', 'l'], ['hh', 'ow', 'l'], 'NN'),\n",
       " Word('where', 351.462, 351.624, ['w', 'eh', 'r'], ['hh', 'w', 'eh'], 'WRB'),\n",
       " Word('whole', 587.883625, 588.057945, ['hh', 'ow', 'l'], ['hh', 'ow', 'l'], 'JJ'),\n",
       " Word('house', 588.057945, 588.503625, ['hh', 'aw', 's'], ['hh', 'aw', 's'], 'NN'),\n",
       " Word('he', 397.402649, 397.552239, ['hh', 'iy'], ['hh', 'iy'], 'PRP'),\n",
       " Word('heard', 399.207312, 399.406273, ['hh', 'er', 'd'], ['hh', 'er', 'd'], 'VBD'),\n",
       " Word('heck', 482.183, 482.402, ['hh', 'eh', 'k'], ['hh', 'eh', 'k'], 'NN'),\n",
       " Word('whole', 342.83631, 343.076625, ['hh', 'ow', 'l'], ['hh', 'ow', 'l'], 'JJ'),\n",
       " Word('her', 327.799, 328.047838, ['hh', 'er'], ['hh', 'er'], 'PRP$'),\n",
       " Word('hand', 140.484499, 140.905327, ['hh', 'ae', 'n', 'd'], ['hh', 'ae', 'n', 'd'], 'NN'),\n",
       " Word('hafta', 530.024, 530.357, ['hh', 'ae', 'v', 't', 'uw'], ['hh', 'ae', 'f', 't', 'eh'], 'NN'),\n",
       " Word('have', 356.094527, 356.275, ['hh', 'ae', 'v'], ['hh', 'ae', 'f'], 'VBP'),\n",
       " Word('have', 334.799, 334.934471, ['hh', 'ae', 'v'], ['hh', 'ae', 'v'], 'VB'),\n",
       " Word('have', 351.260811, 351.436687, ['hh', 'ae', 'v'], ['hh', 'ae', 'v'], 'VBP'),\n",
       " Word('high', 61.165312, 61.382744, ['hh', 'ay'], ['hh', 'ay'], 'JJ'),\n",
       " Word('highschool', 335.983174, 336.492498, ['hh', 'ay', 's', 'k', 'uw', 'l'], ['hh', 'ay', 's', 'k', 'ah', 'l'], 'NN'),\n",
       " Word('happens', 421.454063, 421.812, ['hh', 'ae', 'p', 'ah', 'n', 'z'], ['hh', 'ae', 'p', 'ah', 'n', 'z'], 'VBZ'),\n",
       " Word('how', 537.399017, 537.579965, ['hh', 'aw'], ['hh', 'aw'], 'WRB'),\n",
       " Word('hospital', 335.276098, 335.709, ['hh', 'aa', 's', 'p', 'ih', 't', 'el'], ['hh', 'aa', 's', 'p', 'ih', 'el'], 'NN'),\n",
       " Word('have', 190.151751, 190.436129, ['hh', 'ae', 'v'], ['hh', 'ae', 'v'], 'VB'),\n",
       " Word('help', 490.439, 490.7, ['hh', 'eh', 'l', 'p'], ['hh', 'eh', 'l', 'p'], 'VB'),\n",
       " Word('houses', 594.28325, 594.828974, ['hh', 'aw', 'z', 'ah', 'z'], ['hh', 'aw', 'z', 'ih', 'z'], 'NNS'),\n",
       " Word('having', 422.563967, 423.046032, ['hh', 'ae', 'v', 'ih', 'ng'], ['hh', 'ae', 'v', 'ih', 'ng'], 'VBG'),\n",
       " Word('had', 191.359039, 191.684043, ['hh', 'ae', 'd'], ['hh', 'ae', 'd'], 'VBD'),\n",
       " Word('him', 408.267312, 408.833342, ['hh', 'ih', 'm'], ['hh', 'ih', 'm'], 'PRP'),\n",
       " Word('have', 535.388, 535.517, ['hh', 'ae', 'v'], ['hh', 'ae', 'v'], 'VBP'),\n",
       " Word('houses', 595.285083, 595.61325, ['hh', 'aw', 'z', 'ah', 'z'], ['hh', 'aw', 'z', 'ih', 'z'], 'NNS'),\n",
       " Word('here', 354.10522, 354.201206, ['hh', 'ih', 'r'], ['hh', 'ih', 'r'], 'RB'),\n",
       " Word('humans', 46.679285, 47.083938, ['hh', 'y', 'uw', 'm', 'ah', 'n', 'z'], ['hh', 'y', 'uw', 'm', 'ih', 'n', 'z'], 'NNS'),\n",
       " Word('had', 34.390493, 34.732715, ['hh', 'ae', 'd'], ['hh', 'ae', 'd'], 'VBD'),\n",
       " Word('we', 361.595, 361.741, ['w', 'iy'], ['hh', 'w', 'iy'], 'PRP'),\n",
       " Word('had', 37.7503, 37.89815, ['hh', 'ae', 'd'], ['hh', 'eh', 'd'], 'VBD'),\n",
       " Word('i', 544.535348, 544.663952, ['ay'], ['hh', 'ah'], 'PRP'),\n",
       " Word('had', 357.998892, 358.124625, ['hh', 'ae', 'd'], ['hh', 'eh', 'd'], 'VBD'),\n",
       " Word('him', 67.263302, 67.487063, ['hh', 'ih', 'm'], ['hh', 'ih', 'm'], 'PRP'),\n",
       " Word('what', 424.096, 424.313, ['w', 'ah', 't'], ['hh', 'w', 'aa', 't'], 'WP'),\n",
       " Word('inherit', 424.662, 425.013, ['ih', 'n', 'hh', 'eh', 'r', 'ih', 't'], ['ih', 'n', 'hh', 'eh', 'r', 'er', 'dx'], 'VB'),\n",
       " Word('here', 425.223, 425.462, ['hh', 'ih', 'r'], ['hh', 'iy', 'r'], 'RB'),\n",
       " Word('he', 69.158133, 69.281659, ['hh', 'iy'], ['hh', 'iy'], 'PRP'),\n",
       " Word('um-hum', 414.72863, 415.081075, ['em', 'hh', 'em'], ['em', 'hh', 'em'], 'UH'),\n",
       " Word('behind', 348.719625, 349.024038, ['b', 'ih', 'hh', 'ay', 'n', 'd'], ['b', 'ih', 'hh', 'ay', 'n'], 'IN'),\n",
       " Word('hang', 562.719938, 563.003702, ['hh', 'ae', 'ng'], ['hh', 'ae', 'ng'], 'VB'),\n",
       " Word('here', 563.291558, 563.547676, ['hh', 'ih', 'r'], ['hh', 'iy', 'r'], 'RB'),\n",
       " Word('um-hum', 181.763846, 182.034594, ['em', 'hh', 'em'], ['em', 'hh', 'em'], 'UH'),\n",
       " Word('um-hum', 185.493384, 185.727357, ['em', 'hh', 'em'], ['em', 'hh', 'em'], 'UH'),\n",
       " Word('um-hum', 498.207, 498.46, ['em', 'hh', 'em'], ['em', 'hh', 'em'], 'UH'),\n",
       " Word('um', 546.547447, 546.941823, ['ah', 'm'], ['hh', 'ah', 'm'], 'UH'),\n",
       " Word('um-hum', 506.62, 507.003, ['em', 'hh', 'em'], ['em', 'hh', 'em'], 'UH'),\n",
       " Word('he', 71.15, 71.294, ['hh', 'iy'], ['hh', 'iy'], 'PRP'),\n",
       " Word('had', 509.398, 509.637, ['hh', 'ae', 'd'], ['hh', 'eh', 'dx'], 'VBD'),\n",
       " Word('house', 430.907635, 431.328076, ['hh', 'aw', 's'], ['hh', 'aw', 's'], 'NN'),\n",
       " Word('um-hum', 371.21994, 371.540092, ['em', 'hh', 'em'], ['em', 'hh', 'ah'], 'UH'),\n",
       " Word('hard', 189.896056, 190.215435, ['hh', 'aa', 'r', 'd'], ['hh', 'aa', 'r', 'd'], 'RB'),\n",
       " Word(\"he's\", 550.692976, 550.891302, ['hh', 'iy', 'z'], ['hh', 'iy', 'z'], 'PRP_VBZ'),\n",
       " Word('has', 74.656, 74.966, ['hh', 'ae', 'z'], ['hh', 'ae', 'z'], 'VBZ'),\n",
       " Word('here', 192.779829, 193.230083, ['hh', 'ih', 'r'], ['hh', 'iy', 'r'], 'RB'),\n",
       " Word('her', 539.963, 540.17, ['hh', 'er'], ['hh', 'er'], 'PRP$'),\n",
       " Word('hear', 83.493886, 83.888, ['hh', 'ih', 'r'], ['hh', 'iy', 'r'], 'VB'),\n",
       " Word('heard', 510.739, 510.982, ['hh', 'er', 'd'], ['m', 'hh', 'er', 'dx'], 'VBN'),\n",
       " Word('hum', 367.229685, 367.408844, ['hh', 'ah', 'm'], ['hh', 'em'], 'NN'),\n",
       " Word('husband', 74.259937, 74.600106, ['hh', 'ah', 'z', 'b', 'ah', 'n', 'd'], ['hh', 'ah', 'z', 'b', 'en'], 'NN'),\n",
       " Word(\"he's\", 72.579999, 72.789999, ['hh', 'iy', 'z'], ['hh', 'iy', 'z'], 'PRP_VBZ'),\n",
       " Word('high', 378.974625, 379.164625, ['hh', 'ay'], ['hh', 'ay'], 'JJ'),\n",
       " Word('home', 74.588062, 74.771233, ['hh', 'ow', 'm'], ['hh', 'ow', 'm'], 'NN'),\n",
       " Word(\"they're\", 564.576314, 564.714572, ['dh', 'ey', 'er'], ['hh', 'eh'], 'PRP_VBP'),\n",
       " Word('he', 386.254588, 386.424625, ['hh', 'iy'], ['hh', 'iy'], 'PRP'),\n",
       " Word('has', 351.68475, 351.99509, ['hh', 'ae', 'z'], ['hh', 'ae', 'z'], 'VBZ'),\n",
       " Word('he', 76.562115, 76.759303, ['hh', 'iy'], ['hh', 'iy'], 'PRP'),\n",
       " Word('he', 77.492063, 77.732063, ['hh', 'iy'], ['hh', 'iy'], 'PRP'),\n",
       " Word('house', 459.005937, 459.335937, ['hh', 'aw', 's'], ['hh', 'aw', 's'], 'NN'),\n",
       " Word('him', 76.904, 77.246, ['hh', 'ih', 'm'], ['hh', 'ih', 'm'], 'PRP'),\n",
       " Word('he', 79.207178, 79.360125, ['hh', 'iy'], ['hh', 'iy'], 'PRP'),\n",
       " Word('have', 546.078, 546.397, ['hh', 'ae', 'v'], ['hh', 'ae', 'v'], 'VBP'),\n",
       " Word('husband', 367.951625, 368.612417, ['hh', 'ah', 'z', 'b', 'ah', 'n', 'd'], ['hh', 'ah', 'z', 'b', 'ah', 'n'], 'NN'),\n",
       " Word('has', 15.626025, 15.868637, ['hh', 'ae', 'z'], ['hh', 'ae', 'z'], 'VBZ'),\n",
       " Word('he', 368.612417, 368.833433, ['hh', 'iy'], ['hh', 'iy'], 'PRP'),\n",
       " Word('has', 355.287484, 355.883591, ['hh', 'ae', 'z'], ['hh', 'ae', 'z'], 'VBZ'),\n",
       " Word('have', 546.646, 546.778, ['hh', 'ae', 'v'], ['hh', 'ae', 'v'], 'VBP'),\n",
       " Word('what', 86.021312, 86.201, ['w', 'ah', 't'], ['hh', 'w', 'ah', 'tq'], 'WP'),\n",
       " Word('how', 395.230782, 395.32796, ['hh', 'aw'], ['hh', 'aw'], 'WRB'),\n",
       " Word('he', 79.533186, 79.726312, ['hh', 'iy'], ['hh', 'iy'], 'PRP'),\n",
       " Word('he', 395.865721, 395.959918, ['hh', 'iy'], ['hh', 'iy'], 'PRP'),\n",
       " Word('hundred', 548.679, 549.026, ['hh', 'ah', 'n', 'd', 'r', 'ah', 'd'], ['hh', 'ah', 'n', 'd', 'er', 'd'], 'CD'),\n",
       " Word('had', 395.959918, 396.151295, ['hh', 'ae', 'd'], ['hh', 'ae', 'd'], 'VBD'),\n",
       " Word('have', 373.521479, 373.995342, ['hh', 'ae', 'v'], ['hh', 'ae', 'f'], 'VB'),\n",
       " Word('home', 464.509924, 464.752187, ['hh', 'ow', 'm'], ['hh', 'ow', 'm'], 'NN'),\n",
       " Word('oh', 202.038935, 202.220606, ['ow'], ['hh', 'ow'], 'NN'),\n",
       " Word('all', 362.543831, 362.966549, ['aa', 'l'], ['hh', 'ao'], 'DT'),\n",
       " Word('when', 123.226, 123.36, ['w', 'eh', 'n'], ['hh', 'w', 'eh', 'nx'], 'WRB'),\n",
       " Word('he', 123.36, 123.49, ['hh', 'iy'], ['hh', 'iy'], 'PRP'),\n",
       " Word(\"he's\", 82.837059, 83.136312, ['hh', 'iy', 'z'], ['hh', 'iy', 'z'], 'PRP_VBZ'),\n",
       " Word('um-hum', 541.276, 541.653, ['em', 'hh', 'em'], ['em', 'hh', 'em'], 'UH'),\n",
       " Word('um-hum', 542.628, 543.002, ['em', 'hh', 'em'], ['em', 'hh', 'em'], 'UH'),\n",
       " Word('um-hum', 550.359, 550.712, ['em', 'hh', 'em'], ['em', 'hh', 'em'], 'UH'),\n",
       " Word('he', 125.576, 125.686, ['hh', 'iy'], ['hh', 'iy'], 'PRP'),\n",
       " Word('has', 196.234, 196.467, ['hh', 'ae', 'z'], ['hh', 'ae', 's'], 'VBZ'),\n",
       " Word('who', 385.333, 385.55, ['hh', 'uw'], ['hh', 'uw'], 'WP'),\n",
       " Word(\"who's\", 304.793, 305.052, ['hh', 'uw', 'z'], ['hh', 'ih', 'z'], 'WP_VBZ'),\n",
       " Word('he', 127.401, 127.538, ['hh', 'iy'], ['hh', 'iy'], 'PRP'),\n",
       " Word('he', 343.44266, 343.58982, ['hh', 'iy'], ['hh', 'iy'], 'PRP'),\n",
       " Word('had', 127.538, 127.741, ['hh', 'ae', 'd'], ['hh', 'ae', 'dx'], 'VBD'),\n",
       " Word(\"he's\", 344.265865, 344.412625, ['hh', 'iy', 'z'], ['hh', 'iy', 'z'], 'PRP_VBZ'),\n",
       " Word('his', 159.774665, 159.967232, ['hh', 'ih', 'z'], ['hh', 'ih', 's'], 'PRP$'),\n",
       " Word(\"who's\", 305.934, 306.128, ['hh', 'uw', 'z'], ['hh', 'uw', 'z'], 'WP_VBZ'),\n",
       " Word('here', 230.574, 230.87, ['hh', 'ih', 'r'], ['hh', 'ih', 'r'], 'RB'),\n",
       " Word('he', 78.297987, 78.658517, ['hh', 'iy'], ['hh', 'iy'], 'PRP'),\n",
       " Word('yeah', 406.032315, 406.115649, ['y', 'ae'], ['hh', 'eh'], 'UH'),\n",
       " Word('had', 500.787, 500.903, ['hh', 'ae', 'd'], ['hh', 'eh', 'd'], 'VBD'),\n",
       " Word('hold', 454.063508, 454.74914, ['hh', 'ow', 'l', 'd'], ['hh', 'ow', 'l', 'd'], 'NN'),\n",
       " Word('horrible', 406.754198, 407.181276, ['hh', 'aa', 'r', 'ah', 'b', 'el'], ['hh', 'ao', 'r', 'ah', 'b', 'el'], 'JJ'),\n",
       " Word(\"whoever's\", 365.769491, 366.248145, ['hh', 'uw', 'eh', 'v', 'er', 'z'], ['hh', 'uw', 'eh', 'v', 'er', 'z'], 'NNS'),\n",
       " Word('he', 621.678, 621.82, ['hh', 'iy'], ['hh', 'ih'], 'PRP'),\n",
       " Word(\"who's\", 306.675, 306.895, ['hh', 'uw', 'z'], ['hh', 'uw', 'z'], 'WP_VBZ'),\n",
       " Word('home', 494.271812, 494.52324, ['hh', 'ow', 'm'], ['hh', 'ow', 'm'], 'NN'),\n",
       " Word('omaha', 381.136415, 381.682322, ['ow', 'm', 'ah', 'hh', 'aa'], ['ow', 'm', 'ah', 'hh', 'ao'], 'NNP'),\n",
       " Word('how', 204.815, 204.995, ['hh', 'aw'], ['hh', 'aa'], 'WRB'),\n",
       " Word('he', 405.268128, 405.381014, ['hh', 'iy'], ['hh', 'iy'], 'PRP'),\n",
       " Word('he', 406.207775, 406.409894, ['hh', 'iy'], ['hh', 'iy'], 'PRP'),\n",
       " Word('coaches', 406.409894, 406.83875, ['k', 'ow', 'ch', 'ah', 'z'], ['hh', 'ow', 'ch', 'ih', 'z'], 'NNS'),\n",
       " Word('basketball', 408.145136, 408.894187, ['b', 'ae', 's', 'k', 'ih', 't', 'b', 'aa', 'l'], ['b', 'ah', 'hh', 'ae', 's', 'k', 'ih', 't', 'b', 'ao', 'l'], 'NN'),\n",
       " Word(\"who's\", 83.204088, 83.462627, ['hh', 'uw', 'z'], ['hh', 'uw', 'z'], 'WP_VBZ'),\n",
       " Word('um-hum', 212.774, 213.141, ['em', 'hh', 'em'], ['em', 'hh', 'em'], 'UH'),\n",
       " Word('his', 352.37384, 352.575756, ['hh', 'ih', 'z'], ['hh', 'ih', 's'], 'PRP$'),\n",
       " Word('he', 131.619, 131.912, ['hh', 'iy'], ['hh', 'iy'], 'PRP'),\n",
       " Word('have', 468.523769, 468.753399, ['hh', 'ae', 'v'], ['hh', 'ae', 'v'], 'VB'),\n",
       " Word('omaha', 386.980126, 387.500697, ['ow', 'm', 'ah', 'hh', 'aa'], ['ow', 'm', 'ah', 'hh', 'ao'], 'NNP'),\n",
       " Word('home', 239.667, 239.899, ['hh', 'ow', 'm'], ['hh', 'ah', 'm'], 'NN'),\n",
       " Word('helps', 474.306, 474.616, ['hh', 'eh', 'l', 'p', 's'], ['hh', 'eh', 'l', 'p', 's'], 'VBZ'),\n",
       " Word('um-hum', 487.234161, 487.600305, ['em', 'hh', 'em'], ['em', 'hh', 'em'], 'UH'),\n",
       " Word('how', 85.567262, 85.729312, ['hh', 'aw'], ['hh', 'aw'], 'WRB'),\n",
       " Word('half', 412.401071, 412.554198, ['hh', 'ae', 'f'], ['hh', 'ae', 'f'], 'NN'),\n",
       " Word('happens', 72.533581, 72.841218, ['hh', 'ae', 'p', 'ah', 'n', 'z'], ['hh', 'ae', 'p', 'ih', 'n', 'z'], 'VBZ'),\n",
       " Word('homosexuals', 557.989, 558.827, ['hh', 'aa', 'm', 'ow', 's', 'eh', 'k', 'sh', 'uw', 'el', 'z'], ['hh', 'ah', 'm', 'ah', 's', 'eh', 'k', 'sh', 'uw', 'ah', 'l', 's'], 'NNS'),\n",
       " Word('neighborhood', 30.902211, 31.462962, ['n', 'ey', 'b', 'er', 'hh', 'uh', 'd'], ['n', 'ey', 'b', 'er', 'hh', 'ah', 'd'], 'NN'),\n",
       " Word('home', 475.512418, 475.866, ['hh', 'ow', 'm'], ['hh', 'ow', 'm'], 'NN'),\n",
       " Word(\"he's\", 171.275611, 171.475034, ['hh', 'iy', 'z'], ['hh', 'iy', 's'], 'PRP_VBZ'),\n",
       " Word('he', 176.649365, 176.721656, ['hh', 'iy'], ['hh', 'iy'], 'PRP'),\n",
       " Word('have', 559.872, 560.177, ['hh', 'ae', 'v'], ['hh', 'eh', 'v'], 'VBP'),\n",
       " Word('wanna', 412.940143, 413.345875, ['w', 'aa', 'n', 'ah'], ['w', 'aa', 'hh', 'ah', 'n', 'ah'], 'VBP_TO'),\n",
       " Word('have', 441.113554, 441.436918, ['hh', 'ae', 'v'], ['hh', 'ae', 'v'], 'VBP'),\n",
       " Word('he', 185.545377, 185.643842, ['hh', 'iy'], ['hh', 'iy'], 'PRP'),\n",
       " Word('homosexuals', 562.902, 563.723, ['hh', 'aa', 'm', 'ow', 's', 'eh', 'k', 'sh', 'uw', 'el', 'z'], ['hh', 'ow', 'm', 'ah', 's', 'eh', 'k', 'sh', 'w', 'ah', 'l', 'z'], 'NNS'),\n",
       " Word('him', 356.231994, 356.66025, ['hh', 'ih', 'm'], ['hh', 'ih', 'm'], 'PRP'),\n",
       " Word('heads', 320.291, 320.663, ['hh', 'eh', 'd', 'z'], ['hh', 'eh', 'd', 'sh'], 'NNS'),\n",
       " Word(\"don't\", 221.270535, 221.400312, ['d', 'ow', 'n', 't'], ['hh', 'ow', 'n'], 'VBP_RB'),\n",
       " Word('height', 505.695959, 506.047196, ['hh', 'ay', 't'], ['hh', 'ay', 't'], 'NN'),\n",
       " Word('how', 478.126, 478.226, ['hh', 'aw'], ['hh', 'aw'], 'WRB'),\n",
       " Word('highschool', 35.497573, 35.8585, ['hh', 'ay', 's', 'k', 'uw', 'l'], ['hh', 'ay', 's', 'k', 'uw', 'l'], 'VB'),\n",
       " Word('what', 105.205125, 105.41, ['w', 'ah', 't'], ['hh', 'w', 'ah', 't'], 'WP'),\n",
       " Word('had', 106.559, 106.7, ['hh', 'ae', 'd'], ['hh', 'eh', 'd'], 'VBD'),\n",
       " Word('have', 483.642936, 483.919, ['hh', 'ae', 'v'], ['hh', 'ae', 'v'], 'VBP'),\n",
       " Word('had', 107.729, 107.855, ['hh', 'ae', 'd'], ['hh', 'eh', 'd'], 'VBD'),\n",
       " Word('have', 377.864858, 378.054504, ['hh', 'ae', 'v'], ['hh', 'ae', 'v'], 'VBP'),\n",
       " Word('how', 89.222056, 89.535723, ['hh', 'aw'], ['hh', 'aw'], 'WRB'),\n",
       " Word('have', 76.694062, 76.828759, ['hh', 'ae', 'v'], ['hh', 'eh', 'v'], 'VBP'),\n",
       " Word('holidays', 636.952, 637.565324, ['hh', 'aa', 'l', 'ah', 'd', 'ey', 'z'], ['hh', 'aa', 'l', 'ah', 'd', 'ey', 's'], 'NNS'),\n",
       " Word('heard', 513.232311, 513.436599, ['hh', 'er', 'd'], ['hh', 'er', 't'], 'VBN'),\n",
       " Word('here', 639.072, 639.232, ['hh', 'ih', 'r'], ['hh', 'ih', 'r'], 'RB'),\n",
       " Word('he', 190.001175, 190.166945, ['hh', 'iy'], ['hh', 'iy'], 'PRP'),\n",
       " Word('house', 397.248867, 397.6267, ['hh', 'aw', 's'], ['hh', 'aw', 's'], 'NN'),\n",
       " Word('huge', 397.6267, 398.121449, ['hh', 'y', 'uw', 'jh'], ['hh', 'y', 'uw', 'jh'], 'JJ'),\n",
       " Word('his', 191.344146, 191.476263, ['hh', 'ih', 'z'], ['hh', 'ih', 'z'], 'PRP$'),\n",
       " Word('home', 569.853, 570.073, ['hh', 'ow', 'm'], ['hh', 'ow', 'm'], 'NN'),\n",
       " Word('has', 2.845407, 3.739261, ['hh', 'ae', 'z'], ['hh', 'ae', 'z'], 'VBZ'),\n",
       " Word('her', 140.48, 140.776, ['hh', 'er'], ['hh', 'er'], 'PRP'),\n",
       " Word('hafta', 524.729, 524.937, ['hh', 'ae', 'v', 't', 'uw'], ['hh', 'eh', 'f', 't', 'ih'], 'NN'),\n",
       " Word('um-hum', 328.566, 328.91, ['em', 'hh', 'em'], ['em', 'hh', 'em'], 'UH'),\n",
       " Word('he', 367.708361, 368.08901, ['hh', 'iy'], ['hh', 'iy'], 'PRP'),\n",
       " Word('um-hum', 332.127, 332.509, ['em', 'hh', 'em'], ['em', 'hh', 'em'], 'UH'),\n",
       " Word('he', 369.865123, 370.290813, ['hh', 'iy'], ['hh', 'iy'], 'PRP'),\n",
       " Word('high', 104.437261, 104.638813, ['hh', 'ay'], ['hh', 'ay'], 'JJ'),\n",
       " Word('he', 192.940754, 193.090322, ['hh', 'iy'], ['hh', 'iy'], 'PRP'),\n",
       " Word('here', 250.198, 250.395, ['hh', 'ih', 'r'], ['hh', 'ih', 'r'], 'RB'),\n",
       " Word('hundred', 643.196, 643.438, ['hh', 'ah', 'n', 'd', 'r', 'ah', 'd'], ['hh', 'ah', 'n', 'er', 'd'], 'CD'),\n",
       " Word('neighborhood', 39.540528, 39.967812, ['n', 'ey', 'b', 'er', 'hh', 'uh', 'd'], ['n', 'ey', 'b', 'er', 'hh', 'uh', 'd'], 'NN'),\n",
       " Word('had', 194.007032, 194.1815, ['hh', 'ae', 'd'], ['hh', 'ae', 'd'], 'VBD'),\n",
       " Word('hair', 406.342, 406.542, ['hh', 'eh', 'r'], ['hh', 'eh', 'r'], 'NN'),\n",
       " Word('had', 115.953, 116.116795, ['hh', 'ae', 'd'], ['hh', 'ae', 'dx'], 'VBD'),\n",
       " Word('home', 490.39525, 490.721581, ['hh', 'ow', 'm'], ['hh', 'ow', 'm'], 'NN'),\n",
       " Word(\"how's\", 401.659867, 401.876464, ['hh', 'aw', 'z'], ['hh', 'aw', 'z'], 'VBZ'),\n",
       " Word('has', 491.034874, 491.26525, ['hh', 'ae', 'z'], ['hh', 'eh', 'z'], 'VBZ'),\n",
       " Word('yknow', 408.786, 409.168, ['y', 'uw', 'n', 'ow'], ['hh', 'y', 'eh', 'nx', 'ow'], 'PRP_VBP'),\n",
       " Word('hear', 518.366274, 518.515158, ['hh', 'ih', 'r'], ['hh', 'iy', 'r'], 'VB'),\n",
       " Word('whole', 488.410382, 488.620628, ['hh', 'ow', 'l'], ['hh', 'ow', 'l'], 'JJ'),\n",
       " Word('has', 14.246973, 14.514424, ['hh', 'ae', 'z'], ['hh', 'ae', 'z'], 'VBZ'),\n",
       " Word('neighborhood', 42.492571, 42.91522, ['n', 'ey', 'b', 'er', 'hh', 'uh', 'd'], ['n', 'ey', 'b', 'er', 'hh', 'ah', 'd'], 'NN'),\n",
       " Word('happen', 492.897935, 493.29724, ['hh', 'ae', 'p', 'ah', 'n'], ['hh', 'ae', 'p', 'en'], 'VB'),\n",
       " Word('had', 340.053, 340.299, ['hh', 'ae', 'd'], ['hh', 'eh', 'd'], 'VBD'),\n",
       " Word('what', 574.879, 575.014, ['w', 'ah', 't'], ['hh', 'ah', 't'], 'WP'),\n",
       " Word('having', 117.34, 117.644, ['hh', 'ae', 'v', 'ih', 'ng'], ['hh', 'ae', 'v', 'ih', 'ng'], 'VBG'),\n",
       " Word(\"he's\", 108.848638, 109.339748, ['hh', 'iy', 'z'], ['hh', 'iy', 's'], 'PRP_VBZ'),\n",
       " Word(\"he'd\", 109.339748, 109.549399, ['hh', 'iy', 'd'], ['hh', 'iy', 'd'], 'PRP_MD'),\n",
       " Word('he', 146.05, 146.19, ['hh', 'iy'], ['hh', 'iy'], 'PRP'),\n",
       " Word('handle', 533.206, 533.523, ['hh', 'ae', 'n', 'd', 'el'], ['hh', 'ae', 'n', 'd', 'ah', 'l'], 'VB'),\n",
       " Word('home', 387.921978, 388.159559, ['hh', 'ow', 'm'], ['hh', 'ow', 'm'], 'NN'),\n",
       " Word('helping', 491.460214, 491.746911, ['hh', 'eh', 'l', 'p', 'ih', 'ng'], ['hh', 'el', 'l', 'p', 'ahn'], 'VBG'),\n",
       " Word('hundred', 414.323639, 414.589172, ['hh', 'ah', 'n', 'd', 'r', 'ah', 'd'], ['hh', 'ah', 'n', 'd', 'er'], 'CD'),\n",
       " Word('her', 112.078813, 112.398813, ['hh', 'er'], ['hh', 'er'], 'PRP'),\n",
       " Word('when', 119.533665, 119.655, ['w', 'eh', 'n'], ['hh', 'w', 'ah', 'nx'], 'WRB'),\n",
       " Word('honking', 242.533324, 243.084361, ['hh', 'aa', 'ng', 'k', 'ih', 'ng'], ['hh', 'aa', 'ng', 'k', 'ih', 'ng'], 'NN'),\n",
       " Word('had', 342.458, 342.616, ['hh', 'ae', 'd'], ['hh', 'eh', 'd'], 'VBD'),\n",
       " Word('heard', 519.703123, 519.889228, ['hh', 'er', 'd'], ['hh', 'er', 'd'], 'VBD'),\n",
       " Word('he', 201.589988, 201.727087, ['hh', 'iy'], ['hh', 'iy'], 'PRP'),\n",
       " Word('have', 445.146463, 445.256954, ['hh', 'ae', 'v'], ['hh', 'ae', 'v'], 'VBP'),\n",
       " Word('his', 147.388, 147.576, ['hh', 'ih', 'z'], ['hh', 'ih', 'z'], 'PRP$'),\n",
       " Word('him', 148.103, 148.263, ['hh', 'ih', 'm'], ['hh', 'ih', 'm'], 'PRP'),\n",
       " Word('his', 148.522, 148.72569, ['hh', 'ih', 'z'], ['hh', 'ih', 'z'], 'PRP$'),\n",
       " Word('home', 389.044116, 389.353721, ['hh', 'ow', 'm'], ['hh', 'ow', 'm'], 'NN'),\n",
       " Word('who', 579.306, 579.466, ['hh', 'uw'], ['hh', 'uw'], 'WP'),\n",
       " Word('had', 415.561, 415.728, ['hh', 'ae', 'd'], ['hh', 'ae', 'dx'], 'VBD'),\n",
       " Word('who', 579.599, 579.74, ['hh', 'uw'], ['hh', 'ah'], 'WP'),\n",
       " Word('homosexuals', 579.816, 580.427, ['hh', 'aa', 'm', 'ow', 's', 'eh', 'k', 'sh', 'uw', 'el', 'z'], ['hh', 'ah', 'm', 'ah', 's', 'eh', 'k', 'sh', 'uw', 'el', 'z'], 'NNS'),\n",
       " Word('house', 416.305, 416.872, ['hh', 'aw', 's'], ['hh', 'aw', 's'], 'NN'),\n",
       " Word('had', 344.125, 344.343, ['hh', 'ae', 'd'], ['hh', 'eh', 'd'], 'VBD'),\n",
       " Word(\"he's\", 121.8635, 122.226729, ['hh', 'iy', 'z'], ['hh', 'iy', 'z'], 'PRP_VBZ'),\n",
       " Word('here', 415.29971, 415.544252, ['hh', 'ih', 'r'], ['hh', 'ih', 'r'], 'RB'),\n",
       " Word('had', 121.574, 121.662, ['hh', 'ae', 'd'], ['hh', 'ae'], 'VBD'),\n",
       " Word('what', 150.753992, 150.909153, ['w', 'ah', 't'], ['hh', 'w', 'ah', 't'], 'WP'),\n",
       " Word('how', 540.099, 540.306, ['hh', 'aw'], ['hh', 'aa'], 'WRB'),\n",
       " Word('homemaker', 493.078478, 493.960165, ['hh', 'ow', 'm', 'm', 'ae', 'k', 'er'], ['hh', 'ow', 'm', 'm', 'ey', 'k', 'er'], 'NN'),\n",
       " Word('have', 123.675, 123.81, ['hh', 'ae', 'v'], ['hh', 'ae'], 'VB'),\n",
       " Word('ohio', 436.590879, 436.793062, ['ow', 'hh', 'ay', 'ow'], ['hh', 'ay', 'ow'], 'NNP'),\n",
       " Word('high', 270.068562, 270.230375, ['hh', 'ay'], ['hh', 'ay'], 'JJ'),\n",
       " Word(\"he's\", 206.744313, 206.904313, ['hh', 'iy', 'z'], ['hh', 'iy', 's'], 'PRP_VBZ'),\n",
       " Word('ohio', 421.570392, 421.906244, ['ow', 'hh', 'ay', 'ow'], ['ow', 'hh', 'ay', 'ah'], 'NNP'),\n",
       " Word('half', 543.041054, 543.268672, ['hh', 'ae', 'f'], ['hh', 'ae', 'f'], 'PDT'),\n",
       " Word('here', 508.775656, 508.979437, ['hh', 'ih', 'r'], ['hh', 'iy', 'r'], 'RB'),\n",
       " Word('had', 474.649488, 474.910062, ['hh', 'ae', 'd'], ['hh', 'ae', 'd'], 'VBD'),\n",
       " Word('have', 432.570746, 432.77925, ['hh', 'ae', 'v'], ['hh', 'ae', 'v'], 'VB'),\n",
       " Word(\"husband's\", 497.976748, 498.587852, ['hh', 'ah', 'z', 'b', 'ah', 'n', 'd', 'z'], ['hh', 'ah', 'z', 'v', 'ih', 'n', 'z'], 'NNS'),\n",
       " Word('her', 497.865685, 497.976748, ['hh', 'er'], ['hh', 'er'], 'PRP$'),\n",
       " Word('um-hum', 279.922, 280.378, ['em', 'hh', 'em'], ['em', 'hh', 'em'], 'UH'),\n",
       " Word('had', 464.153688, 464.416267, ['hh', 'ae', 'd'], ['hh', 'ae', 'd'], 'VBD'),\n",
       " Word('have', 528.168798, 528.302173, ['hh', 'ae', 'v'], ['hh', 'ae', 'v'], 'VB'),\n",
       " Word(\"he's\", 501.291063, 501.503891, ['hh', 'iy', 'z'], ['hh', 'iy', 'zh'], 'PRP_VBZ'),\n",
       " Word('here', 153.807, 153.957, ['hh', 'ih', 'r'], ['hh', 'iy', 'r'], 'RB'),\n",
       " Word(\"who's\", 263.964, 264.293, ['hh', 'uw', 'z'], ['hh', 'uw', 'z'], 'WP_VBZ'),\n",
       " Word('have', 403.676416, 403.950797, ['hh', 'ae', 'v'], ['hh', 'ae', 'f'], 'VB'),\n",
       " Word('high', 271.566727, 271.720375, ['hh', 'ay'], ['hh', 'ay'], 'JJ'),\n",
       " Word('had', 475.66109, 475.808847, ['hh', 'ae', 'd'], ['hh', 'eh', 'dx'], 'VBD'),\n",
       " Word('house', 125.36, 125.58, ['hh', 'aw', 's'], ['hh', 'aw', 's'], 'NN'),\n",
       " Word('have', 404.033941, 404.37206, ['hh', 'ae', 'v'], ['hh', 'ae', 'v'], 'VBP'),\n",
       " Word('home', 585.702, 585.976, ['hh', 'ow', 'm'], ['hh', 'ow', 'm'], 'NN'),\n",
       " Word('had', 476.05275, 476.203368, ['hh', 'ae', 'd'], ['hh', 'eh', 'dx'], 'VBD'),\n",
       " Word('had', 126.73, 126.863, ['hh', 'ae', 'd'], ['hh', 'eh', 'd'], 'VBD'),\n",
       " Word('he', 214.231987, 214.351625, ['hh', 'iy'], ['hh', 'iy'], 'PRP'),\n",
       " Word(\"haven't\", 282.707, 282.993, ['hh', 'ae', 'v', 'ah', 'n', 't'], ['hh', 'ae', 'v', 'ah', 'n'], 'VBP_RB'),\n",
       " Word('here', 215.58181, 215.812393, ['hh', 'ih', 'r'], ['hh', 'ih', 'r'], 'RB'),\n",
       " Word('he', 215.812393, 215.97941, ['hh', 'iy'], ['hh', 'iy'], 'PRP'),\n",
       " Word('i', 545.713, 545.78, ['ay'], ['hh', 'ay'], 'PRP'),\n",
       " Word('having', 545.757903, 546.000062, ['hh', 'ae', 'v', 'ih', 'ng'], ['hh', 'ae', 'v', 'ih', 'n'], 'VBG'),\n",
       " Word('have', 286.631, 286.819, ['hh', 'ae', 'v'], ['hh', 'ae', 'v'], 'VBP'),\n",
       " Word('what', 429.049, 429.318, ['w', 'ah', 't'], ['hh', 'w', 'ah', 't'], 'WP'),\n",
       " Word('housing', 275.97964, 276.434599, ['hh', 'aw', 'z', 'ih', 'ng'], ['hh', 'aw', 'z', 'ih', 'ng'], 'NN'),\n",
       " Word('potheads', 354.608, 355.283, ['p', 'aa', 't', 'hh', 'eh', 'd', 'z'], ['p', 'aa', 'dx', 'hh', 'eh', 'd', 'z'], 'JJ'),\n",
       " Word('everything', 355.648, 356.064, ['eh', 'v', 'r', 'iy', 'th', 'ih', 'ng'], ['eh', 'v', 'r', 'eh', 'hh', 'dh', 'eh', 'ng'], 'NN'),\n",
       " Word('um-hum', 282.583499, 282.901743, ['em', 'hh', 'em'], ['ah', 'hh', 'ah', 'm'], 'UH'),\n",
       " Word('high', 592.346, 592.665, ['hh', 'ay'], ['hh', 'ay'], 'JJ'),\n",
       " Word('home', 511.859437, 512.073552, ['hh', 'ow', 'm'], ['hh', 'ow', 'm'], 'NN'),\n",
       " Word('him', 509.264193, 509.629902, ['hh', 'ih', 'm'], ['hh', 'ih', 'em'], 'PRP'),\n",
       " Word('he', 470.465768, 470.638165, ['hh', 'iy'], ['hh', 'iy'], 'PRP'),\n",
       " Word('have', 513.813583, 514.013774, ['hh', 'ae', 'v'], ['hh', 'ae', 'f'], 'VBP'),\n",
       " Word('have', 514.08683, 514.405125, ['hh', 'ae', 'v'], ['ah', 'hh', 'ae', 'v'], 'VB'),\n",
       " Word('her', 511.848491, 512.01838, ['hh', 'er'], ['hh', 'er'], 'PRP$'),\n",
       " Word('have', 133.388, 133.851, ['hh', 'ae', 'v'], ['hh', 'ae', 'v'], 'VBP'),\n",
       " Word('have', 134.724, 134.95, ['hh', 'ae', 'v'], ['hh', 'ae', 'v'], 'VBP'),\n",
       " Word('have', 159.792, 160.114, ['hh', 'ae', 'v'], ['hh', 'ae', 'v'], 'VBP'),\n",
       " Word('had', 135.324, 135.564, ['hh', 'ae', 'd'], ['hh', 'ae', 'd'], 'VBD'),\n",
       " Word('have', 549.669, 549.828, ['hh', 'ae', 'v'], ['hh', 'eh', 'v'], 'VBP'),\n",
       " Word('had', 549.855097, 549.95678, ['hh', 'ae', 'd'], ['hh', 'ah', 'd'], 'VBD'),\n",
       " Word('huh', 299.948, 300.218, ['hh', 'ah'], ['hh', 'ah'], 'NN'),\n",
       " Word('i', 552.354, 552.417, ['ay'], ['hh', 'ah'], 'PRP'),\n",
       " Word('home', 312.568, 312.876, ['hh', 'ow', 'm'], ['hh', 'ow', 'm'], 'NN'),\n",
       " Word('have', 439.448, 439.58, ['hh', 'ae', 'v'], ['hh', 'eh', 'v'], 'VB'),\n",
       " Word('happen', 274.515, 274.918, ['hh', 'ae', 'p', 'ah', 'n'], ['hh', 'ae', 'p', 'ah', 'n'], 'VB'),\n",
       " Word('him', 223.068732, 223.220514, ['hh', 'ih', 'm'], ['hh', 'ih', 'm'], 'PRP'),\n",
       " Word('whole', 445.461537, 445.754758, ['hh', 'ow', 'l'], ['hh', 'ow', 'l'], 'NN'),\n",
       " Word('how', 506.946516, 507.142437, ['hh', 'aw'], ['hh', 'aw'], 'WRB'),\n",
       " Word(\"he's\", 520.404256, 520.664114, ['hh', 'iy', 'z'], ['hh', 'iy', 'z'], 'PRP_VBZ'),\n",
       " Word('um-hum', 487.710321, 488.076292, ['em', 'hh', 'em'], ['ah', 'm', 'hh', 'em'], 'UH'),\n",
       " Word('huh', 490.362103, 490.53125, ['hh', 'ah'], ['hh', 'ae'], 'NN'),\n",
       " Word('huh', 502.625249, 502.841687, ['hh', 'ah'], ['hh', 'ah'], 'NN'),\n",
       " Word(\"he's\", 527.431021, 527.654212, ['hh', 'iy', 'z'], ['hh', 'iy', 'z'], 'PRP_VBZ'),\n",
       " Word('have', 162.346325, 162.841063, ['hh', 'ae', 'v'], ['hh', 'ae', 'v'], 'VBP'),\n",
       " Word('um-hum', 316.372, 316.66, ['em', 'hh', 'em'], ['em', 'hh', 'em'], 'UH'),\n",
       " Word('help', 153.947562, 154.14587, ['hh', 'eh', 'l', 'p'], ['hh', 'eh', 'l', 'p'], 'NN'),\n",
       " Word('had', 524.570125, 524.713922, ['hh', 'ae', 'd'], ['hh', 'eh', 'd'], 'VBD'),\n",
       " Word('homosexual', 17.749024, 18.414257, ['hh', 'aa', 'm', 'ow', 's', 'eh', 'k', 'sh', 'uw', 'el'], ['hh', 'ah', 'm', 'ah', 's', 'eh', 'k', 'sh', 'uh', 'ao'], 'JJ'),\n",
       " Word('housing', 530.495238, 530.834528, ['hh', 'aw', 'z', 'ih', 'ng'], ['hh', 'aw', 'z', 'ih', 'ng'], 'NN'),\n",
       " Word('has', 560.707313, 560.982746, ['hh', 'ae', 'z'], ['hh', 'ae', 's'], 'VBZ'),\n",
       " Word('hung', 278.947747, 279.216, ['hh', 'ah', 'ng'], ['hh', 'ah', 'ng'], 'VBN'),\n",
       " Word('hi', 450.811267, 451.097378, ['hh', 'ay'], ['hh', 'ay'], 'VBP'),\n",
       " Word('um-hum', 533.941041, 534.288953, ['em', 'hh', 'em'], ['em', 'hh', 'em'], 'UH'),\n",
       " Word('um-hum', 537.706904, 538.331337, ['em', 'hh', 'em'], ['em', 'hh', 'em'], 'UH'),\n",
       " Word('whole', 526.052631, 526.321135, ['hh', 'ow', 'l'], ['hh', 'ow', 'l'], 'NN'),\n",
       " Word(\"haven't\", 281.914, 282.307, ['hh', 'ae', 'v', 'ah', 'n', 't'], ['hh', 'ae', 'v', 'ih', 'n'], 'VBP_RB'),\n",
       " Word('here', 534.300061, 534.607544, ['hh', 'ih', 'r'], ['hh', 'iy', 'r'], 'RB'),\n",
       " Word('house', 423.371294, 423.764886, ['hh', 'aw', 's'], ['hh', 'aw', 'z'], 'NN'),\n",
       " Word('have', 537.563081, 537.78627, ['hh', 'ae', 'v'], ['hh', 'ae', 'v'], 'VB'),\n",
       " Word('he', 374.679048, 374.909728, ['hh', 'iy'], ['hh', 'iy'], 'PRP'),\n",
       " Word(\"he's\", 446.56, 446.733, ['hh', 'iy', 'z'], ['hh', 'iy', 'z'], 'PRP_VBZ'),\n",
       " Word('who', 563.987655, 564.087945, ['hh', 'uw'], ['hh', 'eh'], 'WP'),\n",
       " Word('had', 564.087945, 564.191336, ['hh', 'ae', 'd'], ['hh', 'ae', 'dx'], 'VBD'),\n",
       " Word('hundred', 303.348664, 303.862222, ['hh', 'ah', 'n', 'd', 'r', 'ah', 'd'], ['hh', 'ah', 'nx', 'er', 'ih', 'd'], 'CD'),\n",
       " Word('house', 561.996, 562.388, ['hh', 'aw', 's'], ['hh', 'aw', 's'], 'NN'),\n",
       " Word('behind', 447.895, 448.262, ['b', 'ih', 'hh', 'ay', 'n', 'd'], ['b', 'ah', 'hh', 'ay', 'n', 'd'], 'IN'),\n",
       " Word('him', 448.262, 448.452, ['hh', 'ih', 'm'], ['hh', 'ih', 'm'], 'PRP'),\n",
       " Word(\"husband's\", 273.263764, 273.944772, ['hh', 'ah', 'z', 'b', 'ah', 'n', 'd', 'z'], ['hh', 'ah', 's', 'b', 'ah', 'n', 'd', 's'], 'NNS'),\n",
       " Word('hundred', 304.443567, 304.597518, ['hh', 'ah', 'n', 'd', 'r', 'ah', 'd'], ['hh', 'ah', 'nx', 'er'], 'CD'),\n",
       " Word('her', 158.673072, 158.80525, ['hh', 'er'], ['hh', 'er'], 'PRP'),\n",
       " Word('had', 207.689369, 207.906721, ['hh', 'ae', 'd'], ['hh', 'ae', 'd'], 'VBD'),\n",
       " Word('hand', 36.474951, 36.759558, ['hh', 'ae', 'n', 'd'], ['hh', 'ae', 'nx'], 'NN'),\n",
       " Word('he', 234.984976, 235.109563, ['hh', 'iy'], ['hh', 'iy'], 'PRP'),\n",
       " Word('had', 39.302501, 39.453225, ['hh', 'ae', 'd'], ['hh', 'ae'], 'VBD'),\n",
       " Word(\"he's\", 449.635, 449.864, ['hh', 'iy', 'z'], ['hh', 'iy', 'z'], 'PRP_VBZ'),\n",
       " Word('have', 546.564472, 546.799058, ['hh', 'ae', 'v'], ['hh', 'ae', 'v'], 'VBP'),\n",
       " Word('here', 538.20031, 538.439935, ['hh', 'ih', 'r'], ['hh', 'iy', 'r'], 'RB'),\n",
       " Word('he', 541.622372, 541.746956, ['hh', 'iy'], ['hh', 'iy'], 'PRP'),\n",
       " Word('who', 42.452993, 42.888691, ['hh', 'uw'], ['hh', 'uw'], 'WP'),\n",
       " Word('hopefully', 22.523502, 23.154735, ['hh', 'ow', 'p', 'f', 'uh', 'l', 'iy'], ['hh', 'ow', 'f', 'ah', 'l', 'iy'], 'RB'),\n",
       " Word('home', 155.851, 156.202151, ['hh', 'ow', 'm'], ['hh', 'ow', 'm'], 'NN'),\n",
       " Word('have', 568.263403, 568.464563, ['hh', 'ae', 'v'], ['hh', 'ae', 'v'], 'VBP'),\n",
       " Word('have', 541.928794, 542.050727, ['hh', 'ae', 'v'], ['hh', 'ae'], 'VB'),\n",
       " Word('tallahassee', 440.76546, 441.405762, ['t', 'ae', 'l', 'ah', 'hh', 'ae', 's', 'iy'], ['t', 'ae', 'l', 'ah', 'hh', 'ae', 's', 'iy'], 'NNP'),\n",
       " Word('have', 571.672528, 571.800649, ['hh', 'ae', 'v'], ['hh', 'ae', 'v'], 'VBP'),\n",
       " Word('he', 378.94637, 379.07975, ['hh', 'iy'], ['hh', 'iy'], 'PRP'),\n",
       " Word('had', 552.329437, 552.529266, ['hh', 'ae', 'd'], ['hh', 'ae', 'd'], 'VBD'),\n",
       " Word('who', 30.935438, 31.25306, ['hh', 'uw'], ['hh', 'uw'], 'WP'),\n",
       " Word('hit', 495.58875, 495.739812, ['hh', 'ih', 't'], ['hh', 'ih', 'tq'], 'VB'),\n",
       " Word('home', 495.739812, 495.911065, ['hh', 'ow', 'm'], ['hh', 'ow', 'm'], 'NN'),\n",
       " Word('had', 31.767938, 31.923957, ['hh', 'ae', 'd'], ['hh', 'eh', 'd'], 'VBD'),\n",
       " Word('he', 210.506, 210.606, ['hh', 'iy'], ['hh', 'iy'], 'PRP'),\n",
       " Word('hate', 453.511, 453.752, ['hh', 'ey', 't'], ['hh', 'ey', 't'], 'VBP'),\n",
       " Word('house', 47.910797, 48.258754, ['hh', 'aw', 's'], ['hh', 'aw', 's'], 'NN'),\n",
       " Word('house', 48.756, 49.214856, ['hh', 'aw', 's'], ['hh', 'aw', 'z'], 'NN'),\n",
       " Word('him', 198.712595, 198.979563, ['hh', 'ih', 'm'], ['hh', 'eh', 'm'], 'PRP'),\n",
       " Word('here', 504.054934, 504.328371, ['hh', 'ih', 'r'], ['hh', 'iy', 'r'], 'RB'),\n",
       " Word(\"husband's\", 201.942302, 202.37758, ['hh', 'ah', 'z', 'b', 'ah', 'n', 'd', 'z'], ['hh', 'ah', 'z', 'b', 'ah', 'n', 's'], 'NNS'),\n",
       " Word('him', 238.583769, 238.740935, ['hh', 'ih', 'm'], ['hh', 'ih', 'm'], 'PRP'),\n",
       " Word('her', 174.9435, 175.1835, ['hh', 'er'], ['hh', 'er'], 'PRP$'),\n",
       " Word('have', 165.979, 166.169, ['hh', 'ae', 'v'], ['hh', 'ae', 'v'], 'VBP'),\n",
       " Word('her', 183.632067, 183.835782, ['hh', 'er'], ['hh', 'er'], 'PRP$'),\n",
       " Word('half', 317.931619, 318.32224, ['hh', 'ae', 'f'], ['hh', 'ae', 'f'], 'DT'),\n",
       " Word('have', 554.211945, 554.409187, ['hh', 'ae', 'v'], ['hh', 'ae', 'v'], 'VB'),\n",
       " Word('have', 507.561101, 507.72925, ['hh', 'ae', 'v'], ['hh', 'eh', 'v'], 'VBP'),\n",
       " Word('how', 290.873835, 291.191148, ['hh', 'aw'], ['hh', 'aw'], 'WRB'),\n",
       " Word('how', 94.58117, 94.77909, ['hh', 'aw'], ['hh', 'aa'], 'WRB'),\n",
       " Word('of', 215.084, 215.328, ['ah', 'v'], ['hh', 'ah', 'v'], 'IN'),\n",
       " Word('he', 209.076187, 209.370707, ['hh', 'iy'], ['hh', 'iy'], 'PRP'),\n",
       " Word('he', 209.462941, 209.57705, ['hh', 'iy'], ['hh', 'iy'], 'PRP'),\n",
       " Word(\"he's\", 392.300724, 392.609209, ['hh', 'iy', 'z'], ['hh', 'ih', 'z'], 'PRP_VBZ'),\n",
       " Word(\"he's\", 392.712421, 392.99912, ['hh', 'iy', 'z'], ['hh', 'iy', 's'], 'PRP_VBZ'),\n",
       " Word('household', 56.831838, 57.500279, ['hh', 'aw', 's', 'hh', 'ow', 'l', 'd'], ['hh', 'aw', 's', 'hh', 'ow', 'l', 'dx'], 'NN'),\n",
       " Word('um-hum', 485.734813, 486.055328, ['em', 'hh', 'em'], ['em', 'hh', 'em'], 'UH'),\n",
       " Word('had', 245.16117, 245.357797, ['hh', 'ae', 'd'], ['hh', 'ae', 'd'], 'VBD'),\n",
       " Word('has', 461.887, 462.09, ['hh', 'ae', 'z'], ['hh', 'ae', 'z'], 'VBZ'),\n",
       " Word('have', 456.020444, 456.2455, ['hh', 'ae', 'v'], ['hh', 'ae', 'v'], 'VB'),\n",
       " Word('how', 564.47901, 564.601612, ['hh', 'aw'], ['hh', 'aw'], 'WRB'),\n",
       " Word('who', 246.658546, 246.748251, ['hh', 'uw'], ['hh', 'uw'], 'WP'),\n",
       " Word(\"haven't\", 316.097, 316.559, ['hh', 'ae', 'v', 'ah', 'n', 't'], ['hh', 'ae', 'v', 'ah', 'n', 't'], 'VBP_RB'),\n",
       " Word('um-hum', 307.452961, 307.81309, ['em', 'hh', 'em'], ['em', 'hh', 'em'], 'UH'),\n",
       " Word('hope', 512.710188, 512.848259, ['hh', 'ow', 'p'], ['hh', 'ow', 'b'], 'VBP'),\n",
       " Word('happened', 399.071, 399.384, ['hh', 'ae', 'p', 'ah', 'n', 'd'], ['hh', 'ae', 'p', 'em'], 'VBD'),\n",
       " Word(\"he's\", 399.93777, 400.186042, ['hh', 'iy', 'z'], ['hh', 'iy', 'z'], 'PRP_VBZ'),\n",
       " Word('he', 251.544642, 251.668, ['hh', 'iy'], ['hh', 'iy'], 'PRP'),\n",
       " Word('home', 569.613, 569.844, ['hh', 'ow', 'm'], ['hh', 'ow', 'm'], 'NN'),\n",
       " Word('here', 273.722392, 274.030956, ['hh', 'ih', 'r'], ['hh', 'iy', 'r'], 'RB'),\n",
       " Word('had', 327.595, 327.783609, ['hh', 'ae', 'd'], ['hh', 'eh', 'd'], 'VBD'),\n",
       " Word('had', 275.07, 275.164458, ['hh', 'ae', 'd'], ['hh', 'ae', 'dx'], 'VBD'),\n",
       " Word('had', 204.373375, 204.702487, ['hh', 'ae', 'd'], ['hh', 'ae', 'd'], 'VBD'),\n",
       " Word('where', 11.971, 12.15167, ['w', 'eh', 'r'], ['hh', 'w', 'er'], 'WRB'),\n",
       " Word('him', 256.224073, 256.44225, ['hh', 'ih', 'm'], ['hh', 'ih', 'm'], 'PRP'),\n",
       " Word('has', 470.661, 470.981, ['hh', 'ae', 'z'], ['hh', 'ae', 'z'], 'VBZ'),\n",
       " Word('had', 353.808387, 353.946846, ['hh', 'ae', 'd'], ['hh', 'eh', 'tq'], 'VBD'),\n",
       " Word('have', 222.134667, 222.486416, ['hh', 'ae', 'v'], ['hh', 'ae', 'v'], 'VBP'),\n",
       " Word('here', 355.145, 355.347906, ['hh', 'ih', 'r'], ['hh', 'iy', 'r'], 'RB'),\n",
       " Word('um-hum', 406.554167, 406.878559, ['em', 'hh', 'em'], ['em', 'hh', 'em'], 'UH'),\n",
       " Word('having', 520.604331, 520.828375, ['hh', 'ae', 'v', 'ih', 'ng'], ['hh', 'ae', 'v', 'en'], 'VBG'),\n",
       " Word('highschool', 476.734, 477.152, ['hh', 'ay', 's', 'k', 'uw', 'l'], ['hh', 'ay', 's', 'k', 'uw', 'l'], 'JJ'),\n",
       " Word('he', 258.276855, 258.463834, ['hh', 'iy'], ['hh', 'iy'], 'PRP'),\n",
       " Word('um-hum', 234.862067, 235.192522, ['em', 'hh', 'em'], ['em', 'hh', 'em'], 'UH'),\n",
       " Word('hoed', 72.604775, 73.153361, ['hh', 'ow', 'd'], ['hh', 'ow', 'd'], 'VBD'),\n",
       " Word('had', 529.045251, 529.511711, ['hh', 'ae', 'd'], ['hh', 'ae', 'd'], 'VBD'),\n",
       " Word(\"he's\", 8.070044, 8.583901, ['hh', 'iy', 'z'], ['hh', 'iy', 's'], 'PRP_VBZ'),\n",
       " Word('have', 326.176048, 326.531877, ['hh', 'ae', 'v'], ['hh', 'ae', 'v'], 'VBP'),\n",
       " Word('high', 446.233687, 446.443687, ['hh', 'ay'], ['hh', 'ay'], 'JJ'),\n",
       " Word('have', 15.802, 16.025, ['hh', 'ae', 'v'], ['hh', 'ae', 'v'], 'VBP'),\n",
       " Word('hope', 420.336272, 420.550724, ['hh', 'ow', 'p'], ['hh', 'ow', 'p'], 'VBP'),\n",
       " Word('had', 486.701, 486.842, ['hh', 'ae', 'd'], ['hh', 'ae', 'dx'], 'VBD'),\n",
       " Word('have', 415.708, 415.926, ['hh', 'ae', 'v'], ['hh', 'ae'], 'VBP'),\n",
       " Word('how', 100.831, 101.05, ['hh', 'aw'], ['hh', 'ae'], 'WRB'),\n",
       " Word('here', 126.610402, 126.941645, ['hh', 'ih', 'r'], ['hh', 'iy', 'r'], 'RB'),\n",
       " Word('somehow', 422.039256, 422.665402, ['s', 'ah', 'm', 'hh', 'aw'], ['s', 'ah', 'm', 'hh', 'aw'], 'RB'),\n",
       " Word('having', 345.790297, 346.009487, ['hh', 'ae', 'v', 'ih', 'ng'], ['hh', 'ae', 'v', 'ih', 'ng'], 'VBG'),\n",
       " Word('he', 16.322735, 16.496875, ['hh', 'iy'], ['hh', 'iy'], 'PRP'),\n",
       " Word('heard', 307.957982, 308.124937, ['hh', 'er', 'd'], ['hh', 'er'], 'VBN'),\n",
       " Word('happens', 131.588529, 131.891646, ['hh', 'ae', 'p', 'ah', 'n', 'z'], ['hh', 'ae', 'p', 'en', 'z'], 'VBZ'),\n",
       " Word('here', 16.759591, 16.981299, ['hh', 'ih', 'r'], ['hh', 'iy', 'r'], 'RB'),\n",
       " Word('have', 290.702163, 290.920125, ['hh', 'ae', 'v'], ['hh', 'ae', 'v'], 'VB'),\n",
       " Word('he', 50.753487, 50.859322, ['hh', 'iy'], ['hh', 'iy'], 'PRP'),\n",
       " Word('who', 294.351712, 294.733524, ['hh', 'uw'], ['hh', 'uw'], 'WP'),\n",
       " Word('hopefully', 538.299, 538.984, ['hh', 'ow', 'p', 'f', 'uh', 'l', 'iy'], ['hh', 'ow', 'f', 'el', 'iy'], 'RB'),\n",
       " Word('him', 427.512513, 427.765955, ['hh', 'ih', 'm'], ['hh', 'ah', 'm'], 'PRP'),\n",
       " Word('having', 295.080608, 295.471125, ['hh', 'ae', 'v', 'ih', 'ng'], ['hh', 'ae', 'v', 'ih', 'ng'], 'VBG'),\n",
       " Word('have', 284.187282, 284.401228, ['hh', 'ae', 'v'], ['hh', 'ae'], 'VBP'),\n",
       " Word(\"that's\", 284.681604, 284.854931, ['dh', 'ae', 't', 's'], ['hh', 'ae', 't', 's'], 'DT_VBZ'),\n",
       " Word('has', 90.615, 90.965, ['hh', 'ae', 'z'], ['hh', 'ae', 's'], 'VBZ'),\n",
       " Word('have', 334.905506, 335.291126, ['hh', 'ae', 'v'], ['hh', 'ae', 'v'], 'VBP'),\n",
       " Word('have', 93.121, 93.311, ['hh', 'ae', 'v'], ['hh', 'ae', 'v'], 'VBP'),\n",
       " Word('have', 338.546842, 338.739, ['hh', 'ae', 'v'], ['hh', 'eh', 'v'], 'VBP'),\n",
       " Word('anything', 184.232, 184.548, ['eh', 'n', 'iy', 'th', 'ih', 'ng'], ['ey', 'hh', 'eyn'], 'NN'),\n",
       " Word('hear', 21.257, 21.447, ['hh', 'ih', 'r'], ['hh', 'iy', 'r'], 'VBP'),\n",
       " Word('had', 489.095969, 489.243, ['hh', 'ae', 'd'], ['hh', 'eh', 'd'], 'VBD'),\n",
       " Word('half', 284.422521, 284.705311, ['hh', 'ae', 'f'], ['hh', 'ae', 'f'], 'NN'),\n",
       " Word('house', 317.493, 317.83, ['hh', 'aw', 's'], ['hh', 'aw', 's'], 'NN'),\n",
       " Word('have', 370.60166, 370.712987, ['hh', 'ae', 'v'], ['hh', 'ae', 'f'], 'VB'),\n",
       " Word('home', 351.36205, 351.620529, ['hh', 'ow', 'm'], ['hh', 'ow', 'm'], 'NN'),\n",
       " Word('how', 310.513323, 310.629265, ['hh', 'aw'], ['hh', 'ao'], 'WRB'),\n",
       " Word(\"haven't\", 329.433936, 329.704238, ['hh', 'ae', 'v', 'ah', 'n', 't'], ['hh', 'ae', 'v', 'ah', 'n'], 'VBP_RB'),\n",
       " Word('how', 498.297345, 498.507871, ['hh', 'aw'], ['hh', 'aw'], 'WRB'),\n",
       " Word('have', 378.502438, 378.772438, ['hh', 'ae', 'v'], ['hh', 'eh', 'v'], 'VBP'),\n",
       " Word('here', 330.636031, 330.923125, ['hh', 'ih', 'r'], ['hh', 'iy', 'r'], 'RB'),\n",
       " Word('how', 498.625205, 498.790662, ['hh', 'aw'], ['hh', 'aw'], 'WRB'),\n",
       " Word('here', 378.772438, 379.13531, ['hh', 'ih', 'r'], ['hh', 'iy', 'r'], 'RB'),\n",
       " Word('high', 95.051, 95.231, ['hh', 'ay'], ['hh', 'ay'], 'JJ'),\n",
       " Word('have', 435.147837, 435.371323, ['hh', 'ae', 'v'], ['hh', 'ae', 'v'], 'VB'),\n",
       " Word('have', 340.941059, 341.24421, ['hh', 'ae', 'v'], ['hh', 'ae', 'v'], 'VB'),\n",
       " Word('behind', 456.006, 456.447, ['b', 'ih', 'hh', 'ay', 'n', 'd'], ['b', 'iy', 'hh', 'ay', 'n'], 'IN'),\n",
       " Word('how', 291.312188, 291.431412, ['hh', 'aw'], ['hh', 'aw'], 'WRB'),\n",
       " Word('having', 235.316563, 235.566563, ['hh', 'ae', 'v', 'ih', 'ng'], ['hh', 'ae', 'v', 'ih', 'ng'], 'VBG'),\n",
       " Word('who', 313.333527, 313.497388, ['hh', 'uw'], ['hh', 'uw'], 'WP'),\n",
       " Word('have', 495.949, 496.144, ['hh', 'ae', 'v'], ['hh', 'ae', 'v'], 'VBP'),\n",
       " Word('had', 112.65, 112.895, ['hh', 'ae', 'd'], ['hh', 'ae', 'd'], 'VBD'),\n",
       " Word('he', 439.575208, 439.715531, ['hh', 'iy'], ['hh', 'iy'], 'PRP'),\n",
       " Word('whole', 26.348378, 26.580714, ['hh', 'ow', 'l'], ['hh', 'ow', 'l'], 'JJ'),\n",
       " Word('why', 26.631, 26.765, ['w', 'ay'], ['hh', 'w', 'ay'], 'WRB'),\n",
       " Word('he', 441.181902, 441.305739, ['hh', 'iy'], ['hh', 'ih'], 'PRP'),\n",
       " Word('whole', 473.27225, 473.60225, ['hh', 'ow', 'l'], ['hh', 'ow', 'l'], 'JJ'),\n",
       " Word('high', 14.886131, 15.04525, ['hh', 'ay'], ['hh', 'ay'], 'JJ'),\n",
       " Word('how', 503.199744, 503.502347, ['hh', 'aw'], ['hh', 'aw'], 'WRB'),\n",
       " Word('her', 316.47682, 316.599457, ['hh', 'er'], ['hh', 'er'], 'PRP'),\n",
       " Word('human', 338.941229, 339.32907, ['hh', 'y', 'uw', 'm', 'ah', 'n'], ['hh', 'y', 'uw', 'm', 'uh', 'n'], 'JJ'),\n",
       " Word('had', 31.939365, 32.132599, ['hh', 'ae', 'd'], ['hh', 'ae', 'd'], 'VBD'),\n",
       " Word('how', 504.362502, 504.492828, ['hh', 'aw'], ['hh', 'aw'], 'WRB'),\n",
       " Word('hire', 98.757, 99.046, ['hh', 'ay', 'er'], ['hh', 'aa', 'r'], 'NN'),\n",
       " Word('he', 442.588549, 442.858126, ['hh', 'iy'], ['hh', 'iy'], 'PRP'),\n",
       " Word('behind', 243.23451, 243.565938, ['b', 'ih', 'hh', 'ay', 'n', 'd'], ['b', 'ah', 'hh', 'ay', 'n', 'd'], 'IN'),\n",
       " Word('who', 323.069, 323.216, ['hh', 'uw'], ['hh', 'uw'], 'WP'),\n",
       " Word('have', 119.045, 119.315, ['hh', 'ae', 'v'], ['hh', 'ae', 'v'], 'VBP'),\n",
       " Word('him', 72.961779, 73.095813, ['hh', 'ih', 'm'], ['hh', 'ih', 'm'], 'PRP'),\n",
       " Word('how', 508.03125, 508.166893, ['hh', 'aw'], ['hh', 'aw'], 'WRB'),\n",
       " Word('have', 103.350484, 103.595, ['hh', 'ae', 'v'], ['hh', 'ae', 'v'], 'VBP'),\n",
       " Word('have', 37.816044, 38.058063, ['hh', 'ae', 'v'], ['hh', 'ae', 'v'], 'VB'),\n",
       " Word('how', 400.619375, 400.729104, ['hh', 'aw'], ['hh', 'aa'], 'WRB'),\n",
       " Word('having', 503.937, 504.205, ['hh', 'ae', 'v', 'ih', 'ng'], ['hh', 'ae', 'v', 'ah', 'n'], 'VBG'),\n",
       " Word('hear', 371.657318, 371.84032, ['hh', 'ih', 'r'], ['hh', 'iy', 'r'], 'VBP'),\n",
       " Word('him', 38.058063, 38.340062, ['hh', 'ih', 'm'], ['hh', 'ih', 'm'], 'PRP'),\n",
       " Word('hospital', 295.072441, 295.568827, ['hh', 'aa', 's', 'p', 'ih', 't', 'el'], ['hh', 'aa', 's', 'p', 'ah', 'dx', 'el'], 'NN'),\n",
       " Word('have', 324.986, 325.173, ['hh', 'ae', 'v'], ['hh', 'ae', 'v'], 'VB'),\n",
       " Word('how', 401.904549, 401.986367, ['hh', 'aw'], ['hh', 'aw'], 'WRB'),\n",
       " Word('home', 353.810506, 354.378842, ['hh', 'ow', 'm'], ['hh', 'ow', 'm'], 'NN'),\n",
       " Word('huge', 429.264, 429.786, ['hh', 'y', 'uw', 'jh'], ['hh', 'y', 'uw', 'jh'], 'JJ'),\n",
       " Word('um-hum', 314.867932, 315.25017, ['em', 'hh', 'em'], ['em', 'hh', 'em'], 'UH'),\n",
       " Word('here', 429.952, 430.101, ['hh', 'ih', 'r'], ['hh', 'ih', 'r'], 'RB'),\n",
       " Word('um-hum', 316.595012, 316.898727, ['em', 'hh', 'em'], ['em', 'hh', 'em'], 'UH'),\n",
       " Word('um-hum', 450.719365, 451.148278, ['em', 'hh', 'em'], ['em', 'hh', 'em'], 'UH'),\n",
       " Word('um-hum', 320.582693, 321.125428, ['em', 'hh', 'em'], ['em', 'hh', 'em'], 'UH'),\n",
       " Word('he', 451.904531, 452.057217, ['hh', 'iy'], ['hh', 'iy'], 'PRP'),\n",
       " Word('um-hum', 321.921824, 322.414282, ['em', 'hh', 'em'], ['em', 'hh', 'em'], 'UH'),\n",
       " Word('he', 452.440371, 452.658585, ['hh', 'iy'], ['hh', 'iy'], 'PRP'),\n",
       " Word('yeah', 328.206163, 328.572324, ['y', 'ae'], ['hh', 'y', 'ae'], 'UH'),\n",
       " Word('ohio', 122.07423, 122.475198, ['ow', 'hh', 'ay', 'ow'], ['ow', 'hh', 'ay', 'ow'], 'NNP'),\n",
       " Word('hair', 325.606, 326.056, ['hh', 'eh', 'r'], ['hh', 'eh', 'r'], 'NN'),\n",
       " Word('who', 576.449, 576.634, ['hh', 'uw'], ['hh', 'uw'], 'WP'),\n",
       " Word('homeless', 337.497041, 338.054832, ['hh', 'ow', 'm', 'l', 'ah', 's'], ['hh', 'ow', 'm', 'l', 'ih', 's'], 'NN'),\n",
       " Word('um-hum', 0.825616, 1.300458, ['em', 'hh', 'em'], ['em', 'hh', 'em'], 'UH'),\n",
       " Word('have', 354.422125, 354.697125, ['hh', 'ae', 'v'], ['hh', 'ae', 'v'], 'VB'),\n",
       " Word('hats', 317.844978, 318.199721, ['hh', 'ae', 't', 's'], ['hh', 'ae', 't', 's'], 'NNS'),\n",
       " Word(\"who's\", 144.723943, 144.961446, ['hh', 'uw', 'z'], ['hh', 'uw', 'z'], 'WP_VBZ'),\n",
       " Word('he', 459.668015, 459.832405, ['hh', 'iy'], ['hh', 'ih'], 'PRP'),\n",
       " Word('have', 128.624204, 128.888, ['hh', 'ae', 'v'], ['hh', 'ae', 'v'], 'VBP'),\n",
       " Word('he', 142.149, 142.249, ['hh', 'iy'], ['hh', 'iy'], 'PRP'),\n",
       " Word('ohio', 319.70476, 320.046911, ['ow', 'hh', 'ay', 'ow'], ['ow', 'hh', 'ae', 'ow'], 'NNP'),\n",
       " Word('herself', 406.113814, 406.470463, ['hh', 'er', 's', 'eh', 'l', 'f'], ['hh', 'er', 's', 't', 'eh', 'l', 'f'], 'PRP'),\n",
       " Word('had', 108.979, 109.214, ['hh', 'ae', 'd'], ['hh', 'ae', 'd'], 'VBD'),\n",
       " Word('have', 307.508712, 307.750296, ['hh', 'ae', 'v'], ['hh', 'ae', 'v'], 'VBP'),\n",
       " Word('how', 514.682438, 514.790877, ['hh', 'aw'], ['hh', 'aw'], 'WRB'),\n",
       " Word('had', 110.924, 111.115, ['hh', 'ae', 'd'], ['hh', 'eh', 'd'], 'VBD'),\n",
       " Word('he', 148.497863, 148.62225, ['hh', 'iy'], ['hh', 'iy'], 'PRP'),\n",
       " Word('have', 440.828, 440.94, ['hh', 'ae', 'v'], ['hh', 'ae', 'v'], 'VBP'),\n",
       " Word('he', 149.573909, 149.683286, ['hh', 'iy'], ['hh', 'iy'], 'PRP'),\n",
       " Word('he', 149.87183, 150.002938, ['hh', 'iy'], ['hh', 'iy'], 'PRP'),\n",
       " Word('had', 563.94, 564.25, ['hh', 'ae', 'd'], ['hh', 'ae', 'd'], 'VBD'),\n",
       " Word('heck', 206.945, 207.105, ['hh', 'eh', 'k'], ['hh', 'eh', 'k'], 'NN'),\n",
       " Word('here', 344.19539, 344.496069, ['hh', 'ih', 'r'], ['hh', 'iy', 'r'], 'RB'),\n",
       " Word('christmas', 565.051, 565.508, ['k', 'r', 'ih', 's', 'm', 'ah', 's'], ['k', 'r', 'ih', 's', 'm', 'ah', 'hh'], 'NNP'),\n",
       " Word('he', 365.890238, 366.028496, ['hh', 'iy'], ['hh', 'iy'], 'PRP'),\n",
       " Word('hair', 333.554, 333.745, ['hh', 'eh', 'r'], ['hh', 'eh', 'r'], 'NN'),\n",
       " Word('heard', 366.028496, 366.274984, ['hh', 'er', 'd'], ['hh', 'er', 'd'], 'VBD'),\n",
       " Word('um-hum', 518.051, 518.415, ['em', 'hh', 'em'], ['em', 'hh', 'em'], 'UH'),\n",
       " Word('have', 265.018914, 265.224488, ['hh', 'ae', 'v'], ['hh', 'eh', 'v'], 'VB'),\n",
       " Word('uh-huh', 469.166653, 469.582619, ['ah', 'hh', 'ah'], ['ah', 'hh', 'ah'], 'JJ'),\n",
       " Word('has', 145.839, 146.032, ['hh', 'ae', 'z'], ['hh', 'ae', 'z'], 'VBZ'),\n",
       " Word('hardware', 143.434, 144.211, ['hh', 'aa', 'r', 'd', 'w', 'eh', 'r'], ['hh', 'aa', 'r', 'd', 'w', 'eh', 'r'], 'NN'),\n",
       " Word('house', 373.724251, 374.235545, ['hh', 'aw', 's'], ['hh', 'aw', 's'], 'NN'),\n",
       " Word('he', 152.921589, 153.196063, ['hh', 'iy'], ['ih', 'hh', 'iy'], 'PRP'),\n",
       " Word('hey', 374.489063, 374.700793, ['hh', 'ey'], ['hh', 'ey'], 'NN'),\n",
       " Word('um-hum', 213.031, 213.391, ['em', 'hh', 'em'], ['em', 'hh', 'em'], 'UH'),\n",
       " Word('high', 490.2925, 490.4725, ['hh', 'ay'], ['hh', 'ay'], 'JJ'),\n",
       " Word('lot', 114.586183, 114.835, ['l', 'aa', 't'], ['l', 'aa', 'hh'], 'NN'),\n",
       " Word('um-hum', 231.249, 231.594, ['em', 'hh', 'em'], ['em', 'hh', 'em'], 'UH'),\n",
       " Word('harder', 114.835, 115.169, ['hh', 'aa', 'r', 'd', 'er'], ['hh', 'aa', 'r', 'd', 'er'], 'JJR'),\n",
       " Word(\"he's\", 153.284094, 153.518462, ['hh', 'iy', 'z'], ['hh', 'iy', 'z'], 'PRP_VBZ'),\n",
       " Word('had', 144.396, 144.647, ['hh', 'ae', 'd'], ['hh', 'ae', 'd'], 'VBD'),\n",
       " Word('harding', 566.544, 566.864, ['hh', 'aa', 'r', 'd', 'ih', 'ng'], ['hh', 'aa', 'r', 'd', 'ih', 'ng'], 'JJ'),\n",
       " Word(\"he's\", 153.649714, 153.891384, ['hh', 'iy', 'z'], ['iy', 'hh', 'iy', 'z'], 'PRP_VBZ'),\n",
       " Word('hospital', 566.864, 567.454, ['hh', 'aa', 's', 'p', 'ih', 't', 'el'], ['hh', 'aa', 's', 'p', 'ih', 'dx', 'el'], 'NN'),\n",
       " Word('have', 586.447, 586.958, ['hh', 'ae', 'v'], ['hh', 'ae', 'v'], 'VBP'),\n",
       " Word('hard', 90.906625, 91.096625, ['hh', 'aa', 'r', 'd'], ['hh', 'aa', 'r', 'd'], 'JJ'),\n",
       " Word('had', 146.618, 146.801, ['hh', 'ae', 'd'], ['hh', 'ae', 'dx'], 'VBD'),\n",
       " Word('half', 374.810845, 375.24325, ['hh', 'ae', 'f'], ['hh', 'ae', 'f'], 'NN'),\n",
       " Word('have', 528.533, 528.682237, ['hh', 'ae', 'v'], ['hh', 'ae', 'f'], 'VBP'),\n",
       " Word('having', 529.7, 530.098, ['hh', 'ae', 'v', 'ih', 'ng'], ['hh', 'ae', 'v', 'eng'], 'VBG'),\n",
       " Word('home', 479.969, 480.381, ['hh', 'ow', 'm'], ['hh', 'ow', 'm'], 'NN'),\n",
       " Word('her', 311.752953, 311.99282, ['hh', 'er'], ['hh', 'er'], 'PRP$'),\n",
       " Word('having', 416.18067, 416.449937, ['hh', 'ae', 'v', 'ih', 'ng'], ['hh', 'ae', 'v', 'ih', 'ng'], 'VBG'),\n",
       " Word('he', 355.82863, 356.012761, ['hh', 'iy'], ['hh', 'iy'], 'PRP'),\n",
       " Word('have', 590.627, 590.904, ['hh', 'ae', 'v'], ['hh', 'ae', 'v'], 'VBP'),\n",
       " Word('hilly', 526.833034, 527.292125, ['hh', 'ih', 'l', 'iy'], ['ih', 'hh', 'l', 'iy'], 'RB'),\n",
       " Word('everything', 240.186, 240.613, ['eh', 'v', 'r', 'iy', 'th', 'ih', 'ng'], ['eh', 'r', 'ih', 'hh', 'dh', 'ey', 'ng'], 'NN'),\n",
       " Word('whose', 591.428, 591.708, ['hh', 'uw', 'z'], ['hh', 'uw', 'z'], 'WP$'),\n",
       " Word('have', 485.154, 485.26, ['hh', 'ae', 'v'], ['hh', 'eh'], 'VBP'),\n",
       " Word('he', 488.1728, 488.359875, ['hh', 'iy'], ['hh', 'iy'], 'PRP'),\n",
       " Word('home', 60.566462, 60.872937, ['hh', 'ow', 'm'], ['hh', 'ow', 'm'], 'NN'),\n",
       " Word('had', 453.202, 453.364, ['hh', 'ae', 'd'], ['hh', 'ae', 'dx'], 'VBD'),\n",
       " Word('he', 488.620511, 488.847017, ['hh', 'iy'], ['hh', 'ih'], 'PRP'),\n",
       " Word('um-hum', 497.397961, 504.048813, ['em', 'hh', 'em'], ['ah', 'm', 'hh', 'ah', 'm'], 'UH'),\n",
       " Word('heard', 317.601609, 317.750586, ['hh', 'er', 'd'], ['hh', 'er', 'd'], 'VBD'),\n",
       " Word('um-hum', 504.098813, 519.379375, ['em', 'hh', 'em'], ['ah', 'm', 'hh', 'ah', 'm'], 'UH'),\n",
       " Word('had', 379.561972, 379.728529, ['hh', 'ae', 'd'], ['hh', 'eh', 'd'], 'VBD'),\n",
       " Word('have', 129.27, 129.639, ['hh', 'ae', 'v'], ['hh', 'ae', 'v'], 'VBP'),\n",
       " Word('home', 64.169165, 64.633625, ['hh', 'ow', 'm'], ['hh', 'ow', 'm'], 'NN'),\n",
       " Word('have', 130.122, 130.354759, ['hh', 'ae', 'v'], ['hh', 'ae', 'v'], 'VBP'),\n",
       " Word('helping', 380.583812, 380.85097, ['hh', 'eh', 'l', 'p', 'ih', 'ng'], ['hh', 'eh', 'l', 'p', 'en'], 'VBG'),\n",
       " Word('i', 458.042, 458.132, ['ay'], ['hh'], 'PRP'),\n",
       " Word('he', 160.785875, 160.905875, ['hh', 'iy'], ['hh', 'iy'], 'PRP'),\n",
       " Word('hell', 354.813774, 355.036735, ['hh', 'eh', 'l'], ['hh', 'el'], 'NN'),\n",
       " Word('hard', 157.186, 157.536, ['hh', 'aa', 'r', 'd'], ['hh', 'aa', 'r', 'd'], 'RB'),\n",
       " Word('who', 355.406053, 355.593088, ['hh', 'uw'], ['hh', 'uw'], 'WP'),\n",
       " Word('him', 492.032873, 492.260437, ['hh', 'ih', 'm'], ['hh', 'ih', 'm'], 'PRP'),\n",
       " Word('has', 528.189125, 528.359125, ['hh', 'ae', 'z'], ['hh', 'ae', 'z'], 'VBZ'),\n",
       " Word('holding', 411.718523, 411.977002, ['hh', 'ow', 'l', 'd', 'ih', 'ng'], ['hh', 'ow', 'l', 'dx', 'ihn'], 'VBG'),\n",
       " Word('he', 357.973916, 358.081576, ['hh', 'iy'], ['hh', 'iy'], 'PRP'),\n",
       " Word('he', 593.919, 594.081, ['hh', 'iy'], ['hh', 'iy'], 'PRP'),\n",
       " Word('harding', 575.033, 575.403, ['hh', 'aa', 'r', 'd', 'ih', 'ng'], ['hh', 'ah', 'r', 'd', 'ih', 'ng'], 'VBG'),\n",
       " Word('hospital', 575.403, 575.943, ['hh', 'aa', 's', 'p', 'ih', 't', 'el'], ['hh', 'aa', 's', 'p', 'ih', 'dx', 'el'], 'NN'),\n",
       " Word('homer', 499.404562, 499.674562, ['hh', 'ow', 'm', 'er'], ['hh', 'ow', 'm', 'er'], 'NNP'),\n",
       " Word('yknow', 245.552, 245.994, ['y', 'uw', 'n', 'ow'], ['hh', 'ih', 'n', 'ow'], 'PRP_VBP'),\n",
       " Word('home', 386.195468, 386.631446, ['hh', 'ow', 'm'], ['hh', 'ao', 'm'], 'NN'),\n",
       " Word('how', 463.175, 463.451, ['hh', 'aw'], ['hh', 'aw'], 'WRB'),\n",
       " Word('how', 147.45, 147.649, ['hh', 'aw'], ['hh', 'aw'], 'WRB'),\n",
       " Word('hear', 414.318813, 414.466663, ['hh', 'ih', 'r'], ['hh', 'iy', 'r'], 'VBP'),\n",
       " Word('hell', 345.954, 346.097, ['hh', 'eh', 'l'], ['hh', 'eh', 'l'], 'NN'),\n",
       " Word('here', 149.079, 149.33, ['hh', 'ih', 'r'], ['hh', 'iy', 'r'], 'RB'),\n",
       " Word('he', 104.340875, 104.505922, ['hh', 'iy'], ['hh', 'iy'], 'PRP'),\n",
       " Word('how', 149.8, 149.992, ['hh', 'aw'], ['hh', 'aw'], 'WRB'),\n",
       " Word('yknow', 346.346, 346.576, ['y', 'uw', 'n', 'ow'], ['hh', 'y', 'ow'], 'PRP_VBP'),\n",
       " Word('happened', 508.984915, 509.362082, ['hh', 'ae', 'p', 'ah', 'n', 'd'], ['hh', 'ae', 'p', 'eh', 'n'], 'VBD'),\n",
       " Word('helps', 68.453, 68.734, ['hh', 'eh', 'l', 'p', 's'], ['hh', 'ae', 'l', 'p', 's'], 'VBZ'),\n",
       " Word('he', 362.678697, 362.975063, ['hh', 'iy'], ['hh', 'iy'], 'PRP'),\n",
       " Word('his', 106.697304, 106.843458, ['hh', 'ih', 'z'], ['hh', 'ih', 's'], 'PRP$'),\n",
       " Word('he', 362.975063, 363.155063, ['hh', 'iy'], ['hh', 'iy'], 'PRP'),\n",
       " Word('in', 252.795, 252.921, ['ih', 'n'], ['hh', 'ih', 'm'], 'IN'),\n",
       " Word('help', 31.029, 31.275, ['hh', 'eh', 'l', 'p'], ['hh', 'eh', 'l', 'p'], 'VB'),\n",
       " Word('heads', 531.724125, 532.054125, ['hh', 'eh', 'd', 'z'], ['hh', 'eh', 'd', 'z'], 'NNS'),\n",
       " Word('how', 534.772385, 534.996069, ['hh', 'aw'], ['hh', 'aw'], 'WRB'),\n",
       " Word('having', 31.869, 32.13, ['hh', 'ae', 'v', 'ih', 'ng'], ['hh', 'ae', 'v', 'ih', 'ng'], 'VBG'),\n",
       " Word('how', 255.657, 255.813, ['hh', 'aw'], ['hh', 'aw'], 'WRB'),\n",
       " Word('hard', 391.54837, 391.888092, ['hh', 'aa', 'r', 'd'], ['hh', 'aa', 'r', 'd'], 'JJ'),\n",
       " Word('have', 74.558827, 74.80819, ['hh', 'ae', 'v'], ['hh', 'ae', 'v'], 'VBP'),\n",
       " Word('hurts', 371.306787, 371.616946, ['hh', 'er', 't', 's'], ['hh', 'er', 't', 's'], 'VBZ'),\n",
       " Word('house', 388.68007, 389.227687, ['hh', 'aw', 's'], ['hh', 'aw', 'z'], 'NN'),\n",
       " Word('hawaii', 318.557108, 319.209505, ['hh', 'ah', 'w', 'ay', 'iy'], ['hh', 'ah', 'w', 'ay'], 'NNP'),\n",
       " Word('whole', 542.508, 542.707, ['hh', 'ow', 'l'], ['hh', 'ow', 'l'], 'JJ'),\n",
       " Word(\"who's\", 33.614, 33.754, ['hh', 'uw', 'z'], ['hh', 'uw', 'z'], 'WP_VBZ'),\n",
       " Word('um-hum', 548.128116, 548.430137, ['em', 'hh', 'em'], ['em', 'hh', 'em'], 'UH'),\n",
       " Word('hey', 393.135875, 393.421606, ['hh', 'ey'], ['hh', 'ey'], 'NN'),\n",
       " Word('hafta', 493.738, 493.987, ['hh', 'ae', 'v', 't', 'uw'], ['hh', 'ae', 't', 'ah'], 'NNS'),\n",
       " Word('home', 77.718375, 77.955937, ['hh', 'ow', 'm'], ['hh', 'ow', 'm'], 'NN'),\n",
       " Word('have', 518.612622, 518.764452, ['hh', 'ae', 'v'], ['hh', 'eh', 'v'], 'VB'),\n",
       " Word('have', 494.1, 494.25, ['hh', 'ae', 'v'], ['hh', 'eh', 'v'], 'VBP'),\n",
       " Word('he', 113.308433, 113.465414, ['hh', 'iy'], ['hh', 'iy'], 'PRP'),\n",
       " Word('how', 537.696965, 537.778812, ['hh', 'aw'], ['hh', 'aw'], 'WRB'),\n",
       " Word('here', 394.583644, 394.846604, ['hh', 'ih', 'r'], ['hh', 'iy', 'r'], 'RB'),\n",
       " Word('how', 538.871073, 539.022389, ['hh', 'aw'], ['hh', 'aw'], 'WRB'),\n",
       " Word('has', 154.707, 154.847, ['hh', 'ae', 'z'], ['hh', 'eh', 'z'], 'VBZ'),\n",
       " Word('hide', 427.297515, 427.485687, ['hh', 'ay', 'd'], ['hh', 'ay', 'd'], 'VB'),\n",
       " Word('had', 581.881, 581.971, ['hh', 'ae', 'd'], ['hh', 'eh', 'dx'], 'VBD'),\n",
       " Word('he', 115.438469, 115.598155, ['hh', 'iy'], ['hh', 'iy'], 'PRP'),\n",
       " Word('here', 499.604, 499.861, ['hh', 'ih', 'r'], ['hh', 'ih', 'r'], 'RB'),\n",
       " Word('who', 394.704502, 394.89333, ['hh', 'uw'], ['hh', 'uw'], 'WP'),\n",
       " Word('um-hum', 504.006, 504.239, ['em', 'hh', 'em'], ['em', 'hh', 'em'], 'UH'),\n",
       " Word('hat', 344.213799, 344.49736, ['hh', 'ae', 't'], ['hh', 'ae', 'tq'], 'NN'),\n",
       " Word('he', 115.779489, 115.894067, ['hh', 'iy'], ['hh', 'iy'], 'PRP'),\n",
       " Word('have', 331.621868, 331.759608, ['hh', 'ae', 'v'], ['hh', 'ae', 'v'], 'VBP'),\n",
       " Word('have', 395.14454, 395.5458, ['hh', 'ae', 'v'], ['hh', 'ae', 'v'], 'VBP'),\n",
       " Word(\"husband's\", 369.042625, 369.522625, ['hh', 'ah', 'z', 'b', 'ah', 'n', 'd', 'z'], ['hh', 'ah', 'z', 'b', 'ah', 'n', 'd', 'z'], 'NNS'),\n",
       " Word('his', 370.212625, 370.402072, ['hh', 'ih', 'z'], ['hh', 'ih', 'z'], 'PRP$'),\n",
       " Word('how', 147.562, 147.811335, ['hh', 'aw'], ['hh', 'aw'], 'WRB'),\n",
       " Word('have', 526.248687, 526.559836, ['hh', 'ae', 'v'], ['hh', 'ae', 'v'], 'VBP'),\n",
       " Word('his', 371.270125, 371.490125, ['hh', 'ih', 'z'], ['hh', 'ih', 's'], 'PRP$'),\n",
       " Word('he', 158.194983, 158.328254, ['hh', 'iy'], ['hh', 'iy'], 'PRP'),\n",
       " Word('home', 585.945, 586.185, ['hh', 'ow', 'm'], ['hh', 'ow', 'm'], 'NN'),\n",
       " Word('had', 586.297, 586.505, ['hh', 'ae', 'd'], ['hh', 'ae', 'dx'], 'VBD'),\n",
       " Word('birth', 553.811, 554.028, ['b', 'er', 'th'], ['b', 'er', 'hh'], 'NN'),\n",
       " Word('happy', 116.816989, 117.16252, ['hh', 'ae', 'p', 'iy'], ['hh', 'ae', 'p', 'iy'], 'JJ'),\n",
       " Word('had', 82.511457, 82.685813, ['hh', 'ae', 'd'], ['hh', 'ae', 'd'], 'VBD'),\n",
       " Word('who', 82.409985, 82.511457, ['hh', 'uw'], ['hh', 'uw'], 'WP'),\n",
       " Word('who', 83.33861, 83.486241, ['hh', 'uw'], ['hh', 'uw'], 'WP'),\n",
       " Word('have', 301.0195, 301.306343, ['hh', 'ae', 'v'], ['hh', 'ae', 'v'], 'VBP'),\n",
       " Word('had', 160.329, 160.448578, ['hh', 'ae', 'd'], ['hh', 'ae', 'dx'], 'VBD'),\n",
       " Word('hit', 303.650222, 303.780379, ['hh', 'ih', 't'], ['hh', 'ih', 't'], 'NN'),\n",
       " Word('he', 373.164874, 373.332625, ['hh', 'iy'], ['hh', 'iy'], 'PRP'),\n",
       " Word('huge', 336.598937, 336.8325, ['hh', 'y', 'uw', 'jh'], ['hh', 'y', 'uw', 'jh'], 'JJ'),\n",
       " Word('how', 181.84, 182.061, ['hh', 'aw'], ['hh', 'aw'], 'WRB'),\n",
       " Word('have', 58.737, 58.915, ['hh', 'ae', 'v'], ['hh', 'ae', 'v'], 'VB'),\n",
       " Word('he', 119.108511, 119.25675, ['hh', 'iy'], ['hh', 'iy'], 'PRP'),\n",
       " Word('had', 531.088687, 531.328687, ['hh', 'ae', 'd'], ['hh', 'ae', 'd'], 'VBD'),\n",
       " Word('having', 157.624315, 157.925, ['hh', 'ae', 'v', 'ih', 'ng'], ['hh', 'ae', 'v', 'ih', 'n'], 'VBG'),\n",
       " Word('house', 477.415, 477.781, ['hh', 'aw', 's'], ['hh', 'aw', 's'], 'NN'),\n",
       " Word('had', 183.453, 183.606, ['hh', 'ae', 'd'], ['hh', 'ah'], 'VBD'),\n",
       " Word('have', 227.297547, 227.475296, ['hh', 'ae', 'v'], ['hh', 'ae', 'v'], 'VB'),\n",
       " Word('here', 518.683, 518.773, ['hh', 'ih', 'r'], ['hh', 'ih', 'r'], 'RB'),\n",
       " Word('had', 306.277133, 306.420669, ['hh', 'ae', 'd'], ['hh', 'ae', 'dx'], 'VBD'),\n",
       " Word('herself', 411.954125, 412.726657, ['hh', 'er', 's', 'eh', 'l', 'f'], ['hh', 'ah', 'r', 's', 'ah', 'l', 'f'], 'PRP'),\n",
       " Word('huge', 343.716925, 344.277618, ['hh', 'y', 'uw', 'jh'], ['hh', 'y', 'uw', 'jh'], 'JJ'),\n",
       " Word('have', 174.905312, 175.091806, ['hh', 'ae', 'v'], ['hh', 'ae', 'v'], 'VBP'),\n",
       " Word('house', 344.277618, 344.930186, ['hh', 'aw', 's'], ['hh', 'aw', 's'], 'NN'),\n",
       " Word('has', 433.89249, 434.331813, ['hh', 'ae', 'z'], ['hh', 'ae', 'z'], 'VBZ'),\n",
       " Word('horrible', 354.579873, 355.119916, ['hh', 'aa', 'r', 'ah', 'b', 'el'], ['hh', 'ow', 'r', 'ah', 'b', 'ah', 'l'], 'JJ'),\n",
       " Word('he', 479.2, 479.323, ['hh', 'iy'], ['hh', 'iy'], 'PRP'),\n",
       " Word('how', 358.464, 358.661, ['hh', 'aw'], ['hh', 'aw'], 'WRB'),\n",
       " Word('cool', 520.366, 520.685, ['k', 'uw', 'l'], ['hh', 'uw', 'l'], 'JJ'),\n",
       " Word(\"he'll\", 128.596677, 128.768083, ['hh', 'iy', 'l'], ['hh', 'ih', 'l'], 'PRP_MD'),\n",
       " Word('have', 578.46, 578.674, ['hh', 'ae', 'v'], ['hh', 'ae', 'v'], 'VB'),\n",
       " Word('he', 480.634, 480.741, ['hh', 'iy'], ['hh', 'iy'], 'PRP'),\n",
       " Word('here', 401.051875, 401.211063, ['hh', 'ih', 'r'], ['hh', 'iy', 'r'], 'RB'),\n",
       " Word('he', 377.390969, 377.586375, ['hh', 'iy'], ['hh', 'iy'], 'PRP'),\n",
       " Word('he', 377.916375, 378.176375, ['hh', 'iy'], ['hh', 'iy'], 'PRP'),\n",
       " Word('happened', 465.385125, 465.638085, ['hh', 'ae', 'p', 'ah', 'n', 'd'], ['hh', 'ae', 'p', 'ah', 'n'], 'VBD'),\n",
       " Word('whole', 428.363224, 428.531542, ['hh', 'ow', 'l'], ['hh', 'ow', 'l'], 'JJ'),\n",
       " Word('heat', 336.901677, 337.201625, ['hh', 'iy', 't'], ['hh', 'iy', 't'], 'NN'),\n",
       " Word('happy', 357.570626, 357.805355, ['hh', 'ae', 'p', 'iy'], ['hh', 'ae', 'p', 'iy'], 'JJ'),\n",
       " Word('his', 351.314346, 351.561687, ['hh', 'ih', 'z'], ['hh', 'ih', 'z'], 'PRP$'),\n",
       " Word('hanging', 429.366168, 429.857722, ['hh', 'ae', 'ng', 'ih', 'ng'], ['hh', 'ae', 'ng', 'en'], 'NN'),\n",
       " Word('have', 194.492, 194.689, ['hh', 'ae', 'v'], ['hh', 'ae', 'v'], 'VBP'),\n",
       " Word('have', 579.746, 579.945, ['hh', 'ae', 'v'], ['hh', 'ae', 'v'], 'VB'),\n",
       " Word('has', 316.85322, 317.173294, ['hh', 'ae', 'z'], ['hh', 'ae', 'z'], 'VBZ'),\n",
       " Word('um-hum', 199.585, 200.287, ['em', 'hh', 'em'], ['em', 'hh', 'em'], 'UH'),\n",
       " Word('um-hum', 200.62, 201.081, ['em', 'hh', 'em'], ['em', 'hh', 'em'], 'UH'),\n",
       " Word('birth', 582.702, 582.927, ['b', 'er', 'th'], ['b', 'er', 'hh'], 'NN'),\n",
       " Word('have', 242.505115, 242.672547, ['hh', 'ae', 'v'], ['hh', 'ae', 'v'], 'VBP'),\n",
       " Word('her', 455.363959, 455.64358, ['hh', 'er'], ['hh', 'er'], 'PRP$'),\n",
       " Word('her', 455.005637, 455.363959, ['hh', 'er'], ['hh', 'er'], 'PRP$'),\n",
       " Word('he', 133.8789, 134.139631, ['hh', 'iy'], ['hh', 'iy'], 'PRP'),\n",
       " Word('i', 434.39809, 434.522009, ['ay'], ['hh'], 'PRP'),\n",
       " Word('high', 215.623135, 215.954051, ['hh', 'ay'], ['hh', 'ay'], 'JJ'),\n",
       " Word('whole', 432.121982, 432.450043, ['hh', 'ow', 'l'], ['hh', 'ow', 'l'], 'NN'),\n",
       " Word('he', 134.139631, 134.29175, ['hh', 'iy'], ['hh', 'iy'], 'PRP'),\n",
       " Word(\"he's\", 134.460801, 134.717924, ['hh', 'iy', 'z'], ['hh', 'iy', 'z'], 'PRP_VBZ'),\n",
       " Word('him', 41.136015, 41.712939, ['hh', 'ih', 'm'], ['hh', 'ih', 'm'], 'PRP'),\n",
       " Word('happened', 468.858722, 469.133744, ['hh', 'ae', 'p', 'ah', 'n', 'd'], ['hh', 'ae', 'p', 'en', 'd'], 'VBD'),\n",
       " Word('he', 43.100449, 43.310333, ['hh', 'iy'], ['hh', 'iy'], 'PRP'),\n",
       " Word('he', 280.811, 280.892, ['hh', 'iy'], ['hh', 'iy'], 'PRP'),\n",
       " Word('half', 539.762892, 539.961906, ['hh', 'ae', 'f'], ['hh', 'ae', 'f'], 'PDT'),\n",
       " Word('he', 380.865438, 381.025438, ['hh', 'iy'], ['hh', 'ih'], 'PRP'),\n",
       " Word('have', 247.029197, 247.273459, ['hh', 'ae', 'v'], ['hh', 'ae', 'f'], 'VBP'),\n",
       " Word('hotel', 350.528404, 350.939269, ['hh', 'ow', 't', 'eh', 'l'], ['hh', 'ow', 't', 'eh', 'l'], 'NN'),\n",
       " Word('how', 247.273459, 247.510846, ['hh', 'aw'], ['hh', 'aw'], 'WRB'),\n",
       " Word('who', 68.332, 68.444, ['hh', 'uw'], ['hh', 'uw'], 'WP'),\n",
       " Word('heard', 219.114181, 219.293806, ['hh', 'er', 'd'], ['hh', 'er', 'd'], 'VBD'),\n",
       " Word('how', 383.58709, 383.755188, ['hh', 'aw'], ['hh', 'aw'], 'WRB'),\n",
       " Word('whole', 472.696169, 472.913274, ['hh', 'ow', 'l'], ['hh', 'ow', 'l'], 'NN'),\n",
       " Word('whole', 187.251, 187.526, ['hh', 'ow', 'l'], ['hh', 'ow', 'l'], 'JJ'),\n",
       " Word(\"he's\", 135.699489, 135.941274, ['hh', 'iy', 'z'], ['hh', 'iy', 'z'], 'PRP_VBZ'),\n",
       " Word('have', 440.002248, 440.164359, ['hh', 'ae', 'v'], ['hh', 'ae'], 'VBP'),\n",
       " Word('has', 206.473, 206.794, ['hh', 'ae', 'z'], ['hh', 'ae', 'z'], 'VBZ'),\n",
       " Word(\"he's\", 48.622575, 48.84595, ['hh', 'iy', 'z'], ['hh', 'iy', 'z'], 'PRP_VBZ'),\n",
       " Word('he', 137.974437, 138.100174, ['hh', 'iy'], ['hh', 'iy'], 'PRP'),\n",
       " Word(\"he's\", 488.92, 489.07, ['hh', 'iy', 'z'], ['hh', 'iy', 'z'], 'PRP_VBZ'),\n",
       " Word('thing', 287.293, 287.513, ['th', 'ih', 'ng'], ['hh', 'dh', 'eh', 'ng'], 'NN'),\n",
       " Word('humidity', 342.30059, 342.855893, ['hh', 'y', 'uw', 'm', 'ih', 'd', 'ah', 't', 'iy'], ['hh', 'y', 'uw', 'm', 'ih', 'd', 'ih', 'd', 'iy'], 'NN'),\n",
       " Word('how', 222.480003, 222.763886, ['hh', 'aw'], ['hh', 'aw'], 'WRB'),\n",
       " Word('whole', 359.744333, 359.914905, ['hh', 'ow', 'l'], ['hh', 'ow'], 'JJ'),\n",
       " Word('ahead', 415.971607, 416.090394, ['ah', 'hh', 'eh', 'd'], ['ah', 'hh', 'eh'], 'RB'),\n",
       " Word('have', 547.400086, 547.608687, ['hh', 'ae', 'v'], ['hh', 'ae', 'v'], 'VBP'),\n",
       " Word('he', 266.219563, 266.48218, ['hh', 'iy'], ['hh', 'iy'], 'PRP'),\n",
       " Word('home', 180.598, 180.894, ['hh', 'ow', 'm'], ['hh', 'ow', 'm'], 'NN'),\n",
       " Word('he', 141.880286, 141.975008, ['hh', 'iy'], ['hh', 'iy'], 'PRP'),\n",
       " Word('home', 97.083382, 97.329301, ['hh', 'ow', 'm'], ['hh', 'ow', 'm'], 'NN'),\n",
       " Word('hey', 418.648592, 418.981707, ['hh', 'ey'], ['hh', 'ey'], 'JJ'),\n",
       " Word('um-hum', 99.500653, 99.919409, ['em', 'hh', 'em'], ['hh', 'em', 'hh', 'em'], 'UH'),\n",
       " Word('his', 101.469828, 101.749312, ['hh', 'ih', 'z'], ['hh', 'ih', 'z'], 'PRP$'),\n",
       " Word('how', 349.36598, 349.510474, ['hh', 'aw'], ['hh', 'aa'], 'WRB'),\n",
       " Word('his', 103.789564, 104.301416, ['hh', 'ih', 'z'], ['hh', 'ih', 's'], 'PRP$'),\n",
       " Word('high', 195.11325, 195.28325, ['hh', 'ay'], ['hh', 'ay'], 'JJ'),\n",
       " Word('happened', 290.463, 290.855, ['hh', 'ae', 'p', 'ah', 'n', 'd'], ['hh', 'ae', 'p', 'em', 'n'], 'VBD'),\n",
       " Word('heard', 267.243643, 267.47759, ['hh', 'er', 'd'], ['hh', 'er', 'd'], 'VBD'),\n",
       " Word('here', 291.207, 291.471, ['hh', 'ih', 'r'], ['hh', 'ih', 'r'], 'RB'),\n",
       " Word('has', 376.329, 376.509, ['hh', 'ae', 'z'], ['hh', 'eh', 'z'], 'VBZ'),\n",
       " Word('had', 500.072, 500.187, ['hh', 'ae', 'd'], ['hh', 'eh', 'd'], 'VBD'),\n",
       " Word('he', 395.619662, 395.848, ['hh', 'iy'], ['hh', 'iy'], 'PRP'),\n",
       " Word('her', 596.431, 596.722035, ['hh', 'er'], ['hh', 'er'], 'PRP$'),\n",
       " Word('had', 493.478, 493.582, ['hh', 'ae', 'd'], ['hh', 'eh', 'd'], 'VBD'),\n",
       " Word('happening', 188.388, 188.825, ['hh', 'ae', 'p', 'ah', 'n', 'ih', 'ng'], ['hh', 'ae', 'p', 'n', 'iy', 'ng'], 'VBG'),\n",
       " Word('his', 188.985, 189.201, ['hh', 'ih', 'z'], ['hh', 'ih', 's'], 'PRP$'),\n",
       " Word(\"he's\", 216.339625, 216.529583, ['hh', 'iy', 'z'], ['hh', 'iy', 's'], 'PRP_VBZ'),\n",
       " Word('his', 190.639, 190.94, ['hh', 'ih', 'z'], ['hh', 'ih', 's'], 'PRP$'),\n",
       " Word('her', 191.035, 191.205, ['hh', 'er'], ['hh', 'er'], 'PRP$'),\n",
       " Word('how', 483.122288, 483.295986, ['hh', 'aw'], ['hh', 'aw'], 'WRB'),\n",
       " Word('how', 495.99, 496.119, ['hh', 'aw'], ['hh', 'ah', 'w'], 'WRB'),\n",
       " Word('have', 558.669095, 558.917875, ['hh', 'ae', 'v'], ['hh', 'ae', 'v'], 'VBP'),\n",
       " Word('has', 358.617922, 358.853888, ['hh', 'ae', 'z'], ['hh', 'ae', 'z'], 'VBZ'),\n",
       " Word(\"he's\", 148.531625, 148.761625, ['hh', 'iy', 'z'], ['hh', 'iy', 's'], 'PRP_VBZ'),\n",
       " Word(\"he's\", 149.111625, 149.398097, ['hh', 'iy', 'z'], ['hh', 'ih', 'z'], 'PRP_VBZ'),\n",
       " Word('he', 366.520594, 366.741388, ['hh', 'iy'], ['hh', 'iy'], 'PRP'),\n",
       " Word('ohio', 367.606203, 368.222413, ['ow', 'hh', 'ay', 'ow'], ['ow', 'hh', 'ay', 'ow'], 'NNP'),\n",
       " Word('how', 484.859262, 484.971959, ['hh', 'aw'], ['hh', 'aw'], 'WRB'),\n",
       " Word('he', 336.943763, 337.049209, ['hh', 'iy'], ['hh', 'iy'], 'PRP'),\n",
       " Word('have', 223.793889, 224.002051, ['hh', 'ae', 'v'], ['hh', 'ae', 'v'], 'VBP'),\n",
       " Word('his', 150.554813, 150.894813, ['hh', 'ih', 'z'], ['hh', 'ih', 's'], 'PRP$'),\n",
       " Word('had', 472.203812, 472.356484, ['hh', 'ae', 'd'], ['hh', 'eh', 'd'], 'VBD'),\n",
       " Word('him', 67.003036, 67.466395, ['hh', 'ih', 'm'], ['hh', 'ih', 'm'], 'PRP'),\n",
       " Word('how', 226.138, 226.266, ['hh', 'aw'], ['hh', 'aw'], 'WRB'),\n",
       " Word('houses', 250.361375, 250.781129, ['hh', 'aw', 'z', 'ah', 'z'], ['hh', 'aw', 's', 'ih', 'z'], 'NNS'),\n",
       " Word('how', 615.299, 615.476, ['hh', 'aw'], ['hh', 'aw'], 'WRB'),\n",
       " Word('how', 191.528859, 191.621218, ['hh', 'aw'], ['hh', 'aa'], 'WRB'),\n",
       " Word('he', 473.651008, 473.770633, ['hh', 'iy'], ['hh', 'iy'], 'PRP'),\n",
       " Word('him', 13.471996, 13.663, ['hh', 'ih', 'm'], ['hh', 'ih', 'm'], 'PRP'),\n",
       " Word('high', 561.363087, 561.637875, ['hh', 'ay'], ['hh', 'ay'], 'JJ'),\n",
       " Word('home', 416.683625, 417.123625, ['hh', 'ow', 'm'], ['hh', 'ow', 'm'], 'NN'),\n",
       " Word(\"he's\", 283.307315, 283.6839, ['hh', 'iy', 'z'], ['hh', 'iy', 's'], 'PRP_VBZ'),\n",
       " Word('whole', 449.189429, 449.593053, ['hh', 'ow', 'l'], ['hh', 'ow', 'l'], 'NN'),\n",
       " Word('has', 450.156792, 450.325139, ['hh', 'ae', 'z'], ['hh', 'eh', 'z'], 'VBZ'),\n",
       " Word('how', 488.683702, 488.790195, ['hh', 'aw'], ['hh', 'aw'], 'WRB'),\n",
       " Word('home', 129.77385, 130.024301, ['hh', 'ow', 'm'], ['hh', 'ow', 'm'], 'NN'),\n",
       " Word('human', 456.811125, 457.154444, ['hh', 'y', 'uw', 'm', 'ah', 'n'], ['hh', 'y', 'uw', 'm', 'uh', 'nx'], 'JJ'),\n",
       " Word('he', 74.469358, 74.669774, ['hh', 'iy'], ['hh', 'iy'], 'PRP'),\n",
       " Word('high', 130.400549, 130.559206, ['hh', 'ay'], ['hh', 'ay'], 'JJ'),\n",
       " Word('have', 400.994375, 401.184375, ['hh', 'ae', 'v'], ['hh', 'ae', 'v'], 'VB'),\n",
       " Word('here', 356.63089, 356.955572, ['hh', 'ih', 'r'], ['hh', 'iy', 'r'], 'RB'),\n",
       " Word('help', 227.886, 228.124, ['hh', 'eh', 'l', 'p'], ['hh', 'eh', 'l', 'p'], 'VB'),\n",
       " Word('hearing', 490.203554, 490.575764, ['hh', 'ih', 'r', 'ih', 'ng'], ['hh', 'iy', 'r', 'ih', 'ng'], 'VBG'),\n",
       " Word('uh-huh', 435.179495, 435.692119, ['ah', 'hh', 'ah'], ['ah', 'hh', 'ah'], 'JJ'),\n",
       " Word('had', 285.611653, 285.839866, ['hh', 'ae', 'd'], ['hh', 'ae', 'd'], 'VBD'),\n",
       " Word('have', 147.543912, 147.795375, ['hh', 'ae', 'v'], ['hh', 'ae', 'v'], 'VBP'),\n",
       " Word('helped', 454.291, 454.514, ['hh', 'eh', 'l', 'p', 't'], ['hh', 'ah', 'l', 'p', 't'], 'VBD'),\n",
       " Word('her', 454.514, 454.597, ['hh', 'er'], ['hh', 'er'], 'PRP$'),\n",
       " Word('how', 254.091375, 254.222186, ['hh', 'aw'], ['hh', 'aa'], 'WRB'),\n",
       " Word('have', 281.235188, 281.373875, ['hh', 'ae', 'v'], ['hh', 'ae', 'v'], 'VB'),\n",
       " Word('he', 287.409818, 287.518764, ['hh', 'iy'], ['hh', 'iy'], 'PRP'),\n",
       " Word('happy', 237.2735, 237.7235, ['hh', 'ae', 'p', 'iy'], ['hh', 'ae', 'p', 'iy'], 'JJ'),\n",
       " Word('um-hum', 556.923124, 557.344658, ['em', 'hh', 'em'], ['em', 'hh', 'em'], 'UH'),\n",
       " Word('um-hum', 572.930486, 573.245341, ['em', 'hh', 'em'], ['em', 'hh', 'em'], 'UH'),\n",
       " Word('here', 458.308, 458.439, ['hh', 'ih', 'r'], ['hh', 'ih', 'r'], 'RB'),\n",
       " Word('has', 153.816962, 153.990353, ['hh', 'ae', 'z'], ['hh', 'ae', 'z'], 'VBZ'),\n",
       " Word('homes', 257.22383, 257.631375, ['hh', 'ow', 'm', 'z'], ['hh', 'ow', 'm', 's'], 'NNS'),\n",
       " Word('ohio', 458.462, 458.79, ['ow', 'hh', 'ay', 'ow'], ['aa', 'hh', 'ay', 'ow'], 'NNP'),\n",
       " Word('and', 364.228, 364.354, ['ae', 'n', 'd'], ['hh', 'eh', 'nx'], 'CC'),\n",
       " Word('hug', 257.803314, 258.216959, ['hh', 'ah', 'g'], ['hh', 'ah', 'g'], 'VB'),\n",
       " Word('he', 288.80945, 288.893166, ['hh', 'iy'], ['hh', 'ih'], 'PRP'),\n",
       " Word('home', 196.139, 196.405, ['hh', 'ow', 'm'], ['hh', 'ow', 'm'], 'NN'),\n",
       " Word('had', 303.936, 304.108, ['hh', 'ae', 'd'], ['hh', 'ae', 'b'], 'VBD'),\n",
       " Word('hi', 259.838672, 260.090262, ['hh', 'ay'], ['hh', 'ay'], 'NNS'),\n",
       " Word('how', 196.768125, 196.95207, ['hh', 'aw'], ['hh', 'aw'], 'WRB'),\n",
       " Word('ohio', 26.815735, 27.376391, ['ow', 'hh', 'ay', 'ow'], ['ow', 'hh', 'ay', 'ow'], 'NNP'),\n",
       " Word('here', 459.827, 460.021, ['hh', 'ih', 'r'], ['hh', 'ih', 'r', 'ih'], 'RB'),\n",
       " Word('heh', 18.937, 19.203412, ['hh', 'eh'], ['hh', 'eh'], 'NN'),\n",
       " Word('hoping', 34.791, 35.404, ['hh', 'ow', 'p', 'ih', 'ng'], ['hh', 'ow', 'p', 'iy', 'ng'], 'VBG'),\n",
       " Word('healthy', 575.51975, 575.92975, ['hh', 'eh', 'l', 'th', 'iy'], ['hh', 'eh', 'l', 'th', 'iy'], 'JJ'),\n",
       " Word(\"he's\", 19.5697, 19.77, ['hh', 'iy', 'z'], ['hh', 'iy', 's'], 'PRP_VBZ'),\n",
       " Word('have', 244.567204, 244.749518, ['hh', 'ae', 'v'], ['hh', 'ae', 'v'], 'VBP'),\n",
       " Word('social', 292.77734, 293.130549, ['s', 'ow', 'sh', 'el'], ['s', 'ow', 'hh', 'el'], 'JJ'),\n",
       " Word('have', 308.326521, 308.50501, ['hh', 'ae', 'v'], ['hh', 'ae', 'm'], 'VBP'),\n",
       " Word('he', 126.981923, 127.157999, ['hh', 'iy'], ['hh', 'iy'], 'PRP'),\n",
       " Word('hilliard', 260.440957, 260.868687, ['hh', 'ih', 'l', 'y', 'er', 'd'], ['hh', 'ih', 'l', 'y', 'er', 'd'], 'NNP'),\n",
       " Word('hilliards', 260.868687, 261.434829, ['hh', 'ih', 'l', 'y', 'er', 'd', 'z'], ['hh', 'ih', 'l', 'y', 'er', 'd', 's'], 'NNS'),\n",
       " Word('hold', 263.528612, 264.063156, ['hh', 'ow', 'l', 'd'], ['hh', 'ow', 'l', 'd'], 'VB'),\n",
       " Word('huge', 198.181398, 198.495985, ['hh', 'y', 'uw', 'jh'], ['hh', 'y', 'uw', 'jh'], 'JJ'),\n",
       " Word('highest', 446.215, 446.595, ['hh', 'ay', 'ah', 's', 't'], ['hh', 'ay', 'eh', 's'], 'JJS'),\n",
       " Word('have', 244.40803, 244.648284, ['hh', 'ae', 'v'], ['hh', 'ae', 'v'], 'VBP'),\n",
       " Word('he', 129.548855, 129.900875, ['hh', 'iy'], ['hh', 'iy'], 'PRP'),\n",
       " Word('ohio', 447.402, 447.973, ['ow', 'hh', 'ay', 'ow'], ['ow', 'hh', 'ay', 'ow'], 'NNP'),\n",
       " Word('have', 584.506571, 584.807963, ['hh', 'ae', 'v'], ['hh', 'ae', 'v'], 'VB'),\n",
       " Word('husband', 170.404062, 170.774062, ['hh', 'ah', 'z', 'b', 'ah', 'n', 'd'], ['hh', 'ah', 'z', 'b', 'n'], 'NN'),\n",
       " Word('highschool', 463.307, 463.866, ['hh', 'ay', 's', 'k', 'uw', 'l'], ['hh', 'ay', 's', 'k', 'uh', 'l'], 'NN'),\n",
       " Word('he', 24.645, 24.765, ['hh', 'iy'], ['hh', 'iy'], 'PRP'),\n",
       " Word('whatever', 238.458, 239.11, ['w', 'ah', 't', 'eh', 'v', 'er'], ['hh', 'w', 'ah', 'dx', 'eh', 'v', 'er'], 'WDT'),\n",
       " Word('he', 158.416652, 158.516071, ['hh', 'iy'], ['hh', 'iy'], 'PRP'),\n",
       " Word('have', 552.626, 552.872, ['hh', 'ae', 'v'], ['hh', 'ae', 'v'], 'VB'),\n",
       " Word('he', 130.75149, 130.862693, ['hh', 'iy'], ['hh', 'iy'], 'PRP'),\n",
       " Word('hear', 268.408484, 268.714937, ['hh', 'ih', 'r'], ['hh', 'iy', 'r'], 'VB'),\n",
       " Word('skinheads', 320.707, 321.51, ['s', 'k', 'ih', 'n', 'hh', 'eh', 'd', 'z'], ['s', 'k', 'ih', 'n', 'hh', 'eh', 'd', 'z'], 'NNS'),\n",
       " Word('whole', 160.202366, 160.409812, ['hh', 'ow', 'l'], ['hh', 'ow', 'l'], 'JJ'),\n",
       " Word('he', 135.039007, 135.16, ['hh', 'iy'], ['hh', 'iy'], 'PRP'),\n",
       " Word('here', 369.704891, 369.897187, ['hh', 'ih', 'r'], ['hh', 'iy', 'r'], 'RB'),\n",
       " Word('had', 44.653, 44.797, ['hh', 'ae', 'd'], ['hh', 'ae', 'd'], 'VBD'),\n",
       " Word('house', 373.861, 374.179, ['hh', 'aw', 's'], ['hh', 'aw', 's'], 'NN'),\n",
       " Word('begin', 299.121373, 299.486055, ['b', 'ih', 'g', 'ih', 'n'], ['b', 'iy', 'hh', 'ih', 'n'], 'VB'),\n",
       " Word('house', 164.37707, 164.728601, ['hh', 'aw', 's'], ['hh', 'aw', 's'], 'NN'),\n",
       " Word('hum', 240.611413, 240.807148, ['hh', 'ah', 'm'], ['hh', 'em'], 'NN'),\n",
       " Word('have', 586.75786, 587.000737, ['hh', 'ae', 'v'], ['hh', 'ae', 'v'], 'VB'),\n",
       " Word('um-hum', 470.368, 470.686, ['em', 'hh', 'em'], ['em', 'hh', 'em'], 'UH'),\n",
       " Word('had', 484.604301, 484.7945, ['hh', 'ae', 'd'], ['hh', 'ae', 'd'], 'VBN'),\n",
       " Word('hearing', 272.083689, 272.536995, ['hh', 'ih', 'r', 'ih', 'ng'], ['hh', 'ih', 'r', 'ih', 'ng'], 'NN'),\n",
       " Word('um-hum', 477.975, 478.319, ['em', 'hh', 'em'], ['em', 'hh', 'em'], 'UH'),\n",
       " Word('had', 230.733496, 230.849195, ['hh', 'ae', 'd'], ['hh', 'ae'], 'VBD'),\n",
       " Word('um-hum', 482.34, 482.658, ['em', 'hh', 'em'], ['em', 'hh', 'em'], 'UH'),\n",
       " Word('had', 193.83725, 193.935009, ['hh', 'ae', 'd'], ['hh', 'ae'], 'VBD'),\n",
       " Word('hit', 467.097187, 467.297187, ['hh', 'ih', 't'], ['hh', 'ih', 'ch'], 'VBN'),\n",
       " Word('he', 137.700666, 137.80466, ['hh', 'iy'], ['hh', 'iy'], 'PRP'),\n",
       " Word('here', 274.01705, 274.583692, ['hh', 'ih', 'r'], ['hh', 'ih', 'r'], 'RB'),\n",
       " Word('here', 206.461635, 206.582327, ['hh', 'ih', 'r'], ['hh', 'iy', 'r'], 'RB'),\n",
       " Word('hurt', 467.797187, 468.110267, ['hh', 'er', 't'], ['hh', 'er', 'tq'], 'VB'),\n",
       " Word('high', 47.377, 47.665, ['hh', 'ay'], ['hh', 'ay'], 'JJ'),\n",
       " Word('hanging', 326.446, 326.669, ['hh', 'ae', 'ng', 'ih', 'ng'], ['hh', 'ae', 'ng', 'ih'], 'VBG'),\n",
       " Word('here', 295.91175, 296.15175, ['hh', 'ih', 'r'], ['hh', 'ih', 'r'], 'RB'),\n",
       " Word('happy', 251.065813, 251.305813, ['hh', 'ae', 'p', 'iy'], ['hh', 'ae', 'p', 'iy'], 'JJ'),\n",
       " Word('have', 232.739184, 232.967816, ['hh', 'ae', 'v'], ['hh', 'ae', 'v'], 'VB'),\n",
       " Word('how', 196.393838, 196.56826, ['hh', 'aw'], ['hh', 'aw'], 'WRB'),\n",
       " Word('how', 196.854833, 197.075042, ['hh', 'aw'], ['hh', 'aw'], 'WRB'),\n",
       " Word('hum', 248.194171, 248.359963, ['hh', 'ah', 'm'], ['hh', 'em'], 'NN'),\n",
       " Word(\"he's\", 251.594013, 251.861207, ['hh', 'iy', 'z'], ['hh', 'iy', 'z'], 'PRP_VBZ'),\n",
       " Word('have', 234.624183, 234.860021, ['hh', 'ae', 'v'], ['hh', 'ae', 'v'], 'VBP'),\n",
       " Word('whole', 265.808687, 266.028687, ['hh', 'ow', 'l'], ['hh', 'ow', 'l'], 'JJ'),\n",
       " Word('he', 209.16477, 209.24183, ['hh', 'iy'], ['hh', 'iy'], 'PRP'),\n",
       " Word('high', 266.028687, 266.238687, ['hh', 'ay'], ['hh', 'ay'], 'JJ'),\n",
       " Word('so', 50.219048, 50.718, ['s', 'ow'], ['p', 's', 'hh', 'ao'], 'RB'),\n",
       " Word('um-hum', 52.962, 53.389, ['em', 'hh', 'em'], ['em', 'hh', 'em'], 'UH'),\n",
       " Word('whole', 267.784625, 268.056089, ['hh', 'ow', 'l'], ['hh', 'ow', 'l'], 'JJ'),\n",
       " Word('high', 268.056089, 268.214625, ['hh', 'ay'], ['hh', 'ay'], 'JJ'),\n",
       " Word('ohio', 552.740922, 553.210662, ['ow', 'hh', 'ay', 'ow'], ['ow', 'hh', 'ay', 'ow'], 'NNP'),\n",
       " Word('have', 562.32, 562.51, ['hh', 'ae', 'v'], ['hh', 'ae', 'f'], 'VBP'),\n",
       " Word('how', 250.098174, 250.250533, ['hh', 'aw'], ['hh', 'aw'], 'WRB'),\n",
       " Word('heard', 304.997211, 305.190273, ['hh', 'er', 'd'], ['hh', 'er', 'd'], 'VBD'),\n",
       " Word('hard', 486.930361, 487.164394, ['hh', 'aa', 'r', 'd'], ['hh', 'aa', 'r', 'd'], 'JJ'),\n",
       " Word('he', 252.204137, 252.321812, ['hh', 'iy'], ['hh', 'iy'], 'PRP'),\n",
       " Word('he', 305.690769, 305.884883, ['hh', 'iy'], ['hh', 'iy'], 'PRP'),\n",
       " Word('here', 595.384263, 595.677881, ['hh', 'ih', 'r'], ['hh', 'iy', 'r'], 'RB'),\n",
       " Word('um-hum', 491.698709, 492.023662, ['em', 'hh', 'em'], ['em', 'hh', 'em'], 'UH'),\n",
       " Word('home', 139.902063, 140.175956, ['hh', 'ow', 'm'], ['hh', 'ow', 'm'], 'NN'),\n",
       " Word('have', 196.636563, 196.816186, ['hh', 'ae', 'v'], ['hh', 'eh', 'v'], 'VBP'),\n",
       " ...]"
      ]
     },
     "execution_count": 57,
     "metadata": {},
     "output_type": "execute_result"
    }
   ],
   "source": [
    "len(findWordsWithPhone('hh'))\n",
    "findWordsWithPhone('hh') #documented version of [h]"
   ]
  },
  {
   "cell_type": "markdown",
   "metadata": {},
   "source": [
    "Since there are 15 word tokens with phonetic transcriptions featuring `h` and 9.1k with `hh`, and I can't find any documentation indicating what might differentiate `h` from `hh`, I'm going to map `h` to `hh`."
   ]
  },
  {
   "cell_type": "code",
   "execution_count": 58,
   "metadata": {
    "ExecuteTime": {
     "end_time": "2019-05-07T17:35:21.130192Z",
     "start_time": "2019-05-07T17:35:21.126406Z"
    }
   },
   "outputs": [
    {
     "data": {
      "text/plain": [
       "{('id', 'ɪ')}"
      ]
     },
     "execution_count": 58,
     "metadata": {},
     "output_type": "execute_result"
    }
   ],
   "source": [
    "remappings"
   ]
  },
  {
   "cell_type": "code",
   "execution_count": 59,
   "metadata": {
    "ExecuteTime": {
     "end_time": "2019-05-07T17:35:24.403163Z",
     "start_time": "2019-05-07T17:35:24.398303Z"
    }
   },
   "outputs": [
    {
     "data": {
      "text/plain": [
       "{('h', 'h'), ('id', 'ɪ')}"
      ]
     },
     "execution_count": 59,
     "metadata": {},
     "output_type": "execute_result"
    }
   ],
   "source": [
    "remappings.add(('h', buckeyeToUnicodeIPA('hh')))\n",
    "remappings"
   ]
  },
  {
   "cell_type": "code",
   "execution_count": 60,
   "metadata": {
    "ExecuteTime": {
     "end_time": "2019-05-07T17:35:29.360905Z",
     "start_time": "2019-05-07T17:35:29.356478Z"
    }
   },
   "outputs": [
    {
     "data": {
      "text/plain": [
       "{('h', 'h')}"
      ]
     },
     "execution_count": 60,
     "metadata": {},
     "output_type": "execute_result"
    }
   ],
   "source": [
    "{pair for pair in remappings if pair[0] == 'h'}"
   ]
  },
  {
   "cell_type": "markdown",
   "metadata": {
    "ExecuteTime": {
     "end_time": "2019-05-07T17:35:34.270095Z",
     "start_time": "2019-05-07T17:35:34.268051Z"
    }
   },
   "source": [
    "### `hhn`"
   ]
  },
  {
   "cell_type": "code",
   "execution_count": 62,
   "metadata": {
    "ExecuteTime": {
     "end_time": "2019-05-07T17:35:40.610216Z",
     "start_time": "2019-05-07T17:35:40.365891Z"
    }
   },
   "outputs": [
    {
     "data": {
      "text/plain": [
       "[Word('service', 67.447, 67.999, ['s', 'er', 'v', 'ih', 's'], ['s', 'er', 'v', 'ah', 'hhn'], 'NN')]"
      ]
     },
     "execution_count": 62,
     "metadata": {},
     "output_type": "execute_result"
    },
    {
     "data": {
      "text/plain": [
       "[('s', 'er', 'v', 'r', 'ih', 'sh'),\n",
       " ('s', 'er', 'v', 'ih', 's'),\n",
       " ('s', 'er', 'v', 'ah', 's'),\n",
       " ('s', 'er', 'v', 'ih', 's'),\n",
       " ('s', 'er', 'v', 'ah', 's'),\n",
       " ('s', 'er', 'v', 'ah', 's'),\n",
       " ('s', 'er', 'v', 'ih', 's'),\n",
       " ('s', 'er', 'v', 'ih', 's'),\n",
       " ('s', 'ah', 'r', 'v', 'ih', 's'),\n",
       " ('s', 'er', 'v', 'ih', 's'),\n",
       " ('s', 'er', 'v', 'ih', 's'),\n",
       " ('s', 'er', 'v', 'ih', 's'),\n",
       " ('s', 'er', 'v', 'er', 's'),\n",
       " ('s', 'er', 's'),\n",
       " ('s', 'er', 'v', 'ih', 's'),\n",
       " ('s', 'er', 'v', 'ih', 's'),\n",
       " ('s', 'er', 'v', 'ih', 's'),\n",
       " ('s', 'ah', 'r', 'v', 'ih', 's'),\n",
       " ('s', 'er', 'v', 'ih', 's'),\n",
       " ('s', 'er', 'v', 'ah', 's'),\n",
       " ('s', 'er', 'v', 'ah', 's'),\n",
       " ('sh', 'er', 'ah', 's'),\n",
       " ('s', 'er', 'v', 'ih', 's'),\n",
       " ('s', 'er', 'v', 'uh', 's'),\n",
       " ('s', 'er', 'v', 's'),\n",
       " ('s', 'er', 'v', 'ih', 's'),\n",
       " ('s', 'ah', 'r', 'v', 'eh', 's'),\n",
       " ('s', 'er', 'v', 'ih', 's'),\n",
       " ('s', 'er', 'v', 'r', 'ih', 's'),\n",
       " ('s', 'er', 'v', 'ih', 's'),\n",
       " ('s', 'er', 'v', 'ih', 's'),\n",
       " ('s', 'er', 'v', 'eh', 's'),\n",
       " ('s', 'er', 'v', 'eh', 's'),\n",
       " ('s', 'er', 'v', 'ah', 's'),\n",
       " ('s', 'er', 'v', 'ih', 's'),\n",
       " ('s', 'er', 'v', 'ah', 'hhn'),\n",
       " ('s', 'er', 'v', 'ah', 's'),\n",
       " ('s', 'er', 'ah', 's'),\n",
       " ('s', 'er', 'v', 'ih', 's'),\n",
       " ('s', 'ah', 'r', 'v', 'ah', 's'),\n",
       " ('s', 'er', 'v', 'ih', 's')]"
      ]
     },
     "execution_count": 62,
     "metadata": {},
     "output_type": "execute_result"
    }
   ],
   "source": [
    "findWordsWithPhone('hhn')\n",
    "list(map(getPhones,\n",
    "         findWordTokensOf('service')))"
   ]
  },
  {
   "cell_type": "markdown",
   "metadata": {},
   "source": [
    "I'm going to map `hh` to nasalized [h]."
   ]
  },
  {
   "cell_type": "code",
   "execution_count": 63,
   "metadata": {
    "ExecuteTime": {
     "end_time": "2019-05-07T17:35:50.506092Z",
     "start_time": "2019-05-07T17:35:50.503005Z"
    }
   },
   "outputs": [
    {
     "data": {
      "text/plain": [
       "{('h', 'h'), ('hhn', 'h̃'), ('id', 'ɪ')}"
      ]
     },
     "execution_count": 63,
     "metadata": {},
     "output_type": "execute_result"
    }
   ],
   "source": [
    "remappings.add(('hhn', 'h̃'))\n",
    "remappings"
   ]
  },
  {
   "cell_type": "markdown",
   "metadata": {},
   "source": [
    "### `iyih`"
   ]
  },
  {
   "cell_type": "code",
   "execution_count": 64,
   "metadata": {
    "ExecuteTime": {
     "end_time": "2019-05-07T17:35:59.989192Z",
     "start_time": "2019-05-07T17:35:59.688191Z"
    }
   },
   "outputs": [
    {
     "data": {
      "text/plain": [
       "[Word('everything', 571.265, 571.728, ['eh', 'v', 'r', 'iy', 'th', 'ih', 'ng'], ['eh', 'r', 'iyih', 'th', 'eh', 'ng'], 'NN')]"
      ]
     },
     "execution_count": 64,
     "metadata": {},
     "output_type": "execute_result"
    },
    {
     "data": {
      "text/plain": [
       "[('eh', 'r', 'iy', 'th', 'ih', 'ng'),\n",
       " ('eh', 'r', 'iy', 'dh', 'eh', 'ng'),\n",
       " ('eh', 'r', 'ih', 'dh', 'iy', 'ih', 'ng'),\n",
       " ('eh', 'v', 'r', 'iy', 'th', 'ih', 'ng'),\n",
       " ('eh', 'v', 'r', 'iy', 'th', 'iy', 'ng'),\n",
       " ('eh', 'v', 'r', 'ih', 'dh', 'ih', 'ng'),\n",
       " ('eh', 'r', 'iy', 'th', 'ih', 'ng', 'k'),\n",
       " ('eh', 'v', 'r', 'ih', 'dh', 'ih', 'ng'),\n",
       " ('eh', 'v', 'r', 'eh', 'hh', 'dh', 'eh', 'ng'),\n",
       " ('eh', 'r', 'v', 'ih', 'dh', 'ih', 'ng'),\n",
       " ('eh', 'r', 'ih'),\n",
       " ('eh', 'v', 'r', 'iy', 'th', 'ih', 'ng'),\n",
       " ('n', 'eh', 'v', 'r', 'iy', 'th', 'ih', 'ng'),\n",
       " ('eh', 'r', 'iy', 'th', 'ih', 'ng'),\n",
       " ('eh', 'v', 'r', 'iy', 'th', 'iy', 'ng'),\n",
       " ('eh', 'v', 'r', 'iy', 'th', 'ih', 'ng'),\n",
       " ('eh', 'r', 'iy', 'th', 'ih', 'ng'),\n",
       " ('eh', 'v', 'r', 'iy', 'th', 'iy', 'n'),\n",
       " ('eh', 'v', 'r', 'iy', 'th', 'ih', 'ng'),\n",
       " ('eh', 'r', 'ih', 'hh', 'dh', 'ey', 'ng'),\n",
       " ('eh', 'r', 'iy', 'th', 'ih', 'ng'),\n",
       " ('eh', 'r', 'v', 'r', 'ih', 'th', 'iy', 'ng'),\n",
       " ('eh', 'v', 'r', 'iy', 'th', 'ih', 'ng'),\n",
       " ('eh', 'v', 'r', 'iy', 'th', 'ih', 'ng'),\n",
       " ('eh', 'v', 'r', 'ih', 'th', 'iy', 'ng'),\n",
       " ('eh', 'r', 'ih', 'dh', 'eh', 'ng'),\n",
       " ('eh', 'r', 'iy', 'th', 'ih', 'ng'),\n",
       " ('eh', 'r', 'eh', 'dh', 'eh', 'ng'),\n",
       " ('eh', 'er', 'dh', 'eh', 'ng'),\n",
       " ('eh', 'v', 'r', 'iy', 'th', 'ih', 'ng'),\n",
       " ('eh', 'v', 'r', 'iy', 'th', 'ih', 'ng'),\n",
       " ('eh', 'r', 'ih', 'th', 'ih', 'ng'),\n",
       " ('eh', 'v', 'r', 'iy', 'th', 'ih', 'ng'),\n",
       " ('eh', 'v', 'r', 'iy', 'th', 'ih', 'ng'),\n",
       " ('er', 'hh', 'ih', 'ng'),\n",
       " ('eh', 'r', 'iy', 'dh', 'eh', 'ng'),\n",
       " ('eh', 'v', 'r', 'iy', 'th', 'ih', 'ng'),\n",
       " ('eh', 'r', 'iy', 'th', 'ih', 'ng'),\n",
       " ('eh', 'v', 'r', 'iy', 'th', 'ih', 'ng'),\n",
       " ('eh', 'v', 'r', 'iy', 'th', 'ey', 'ng'),\n",
       " ('eh', 'v', 'r', 'iy', 'th', 'ih', 'ng'),\n",
       " ('eh', 'v', 'r', 'iy', 'th', 'ihn'),\n",
       " ('eh', 'r', 'iy', 'th', 'ih', 'ng'),\n",
       " ('eh', 'r', 'ih', 'dh', 'ih', 'ng'),\n",
       " ('eh', 'v', 'r', 'ih', 'th', 'ih', 'ng'),\n",
       " ('eh', 'r', 'ah', 'th', 'eh', 'ng'),\n",
       " ('eh', 'v', 'r', 'iy', 'th', 'ih', 'ng'),\n",
       " ('eh', 'v', 'r', 'iy', 'th', 'ih', 'ng'),\n",
       " ('eh', 'v', 'r', 'iy', 'th', 'ih', 'ng'),\n",
       " ('eh', 'v', 'r', 'ih', 'dh', 'ih', 'ng'),\n",
       " ('eh', 'v', 'r', 'iy', 'th', 'ih', 'ng'),\n",
       " ('eh', 'v', 'r', 'iy', 'th', 'ih', 'ng'),\n",
       " ('eh', 'r', 'iy', 'th', 'ey'),\n",
       " ('eh', 'v', 'r', 'iy', 'th', 'ih', 'ng'),\n",
       " ('eh', 'v', 'r', 'iy', 'th', 'iy', 'ng'),\n",
       " ('eh', 'r', 'iy', 't', 'ih', 'ng'),\n",
       " ('eh', 'v', 'r', 'iy', 'th', 'ih', 'ng'),\n",
       " ('eh', 'r', 'v', 'r', 'ih', 'th', 'ih', 'ng'),\n",
       " ('eh', 'v', 'r', 'iy', 'th', 'ih', 'ng'),\n",
       " ('eh', 'v', 'r', 'iy', 'th', 'ih', 'ng'),\n",
       " ('eh', 'r', 'iy', 'th', 'ih', 'ng'),\n",
       " ('eh', 'v', 'r', 'iy', 'th', 'ih', 'ng'),\n",
       " ('eh', 'r', 'iy', 'th', 'ih', 'ng'),\n",
       " ('eh', 'v', 'r', 'iy', 't', 'ih', 'ng'),\n",
       " ('eh', 'r', 'ah', 'dh', 'ih', 'ng'),\n",
       " ('eh', 'v', 'r', 'iy', 'th', 'ih', 'ng'),\n",
       " ('eh', 'v', 'r', 'iy', 'th', 'ih', 'ng'),\n",
       " ('eh', 'r', 'ah', 'ae', 'ng'),\n",
       " ('eh', 'v', 'r', 'iy', 'th', 'ih', 'ng'),\n",
       " ('eh', 'v', 'r', 'iy', 'th', 'ey', 'ng'),\n",
       " ('eh', 'r', 'ih', 'th', 'eh', 'ng'),\n",
       " ('eh', 'v', 'r', 'iy', 'th', 'ih', 'ng'),\n",
       " ('eh', 'v', 'r', 'iy', 'th', 'ih', 'ng'),\n",
       " ('eh', 'v', 'r', 'iy', 'th', 'ey', 'ng'),\n",
       " ('eh', 'v', 'r', 'iy', 'th', 'ih', 'ng'),\n",
       " ('eh', 'r', 'dh', 'ih', 'ng'),\n",
       " ('eh', 'v', 'r', 'ah', 'dh', 'ih', 'ng'),\n",
       " ('eh', 'v', 'r', 'iy', 'th', 'ih', 'ng'),\n",
       " ('eh', 'r', 'ih', 'th', 'ih', 'ng'),\n",
       " ('eh', 'v', 'r', 'iy', 'th', 'ih', 'ng'),\n",
       " ('eh', 'v', 'er', 'dh', 'eh', 'ng'),\n",
       " ('eh', 'v', 'r', 'ih', 'dh', 'ey', 'ng'),\n",
       " ('eh', 'r', 'ih', 'dh', 'eh', 'ng'),\n",
       " ('eh', 'v', 'r', 'iy', 'th', 'ih', 'ng'),\n",
       " ('eh', 'r', 'iy', 'dh', 'eh', 'ng'),\n",
       " ('eh', 'v', 'r', 'iy', 'th', 'ih', 'ng'),\n",
       " ('eh', 'r', 'iy', 'th', 'ih', 'ng'),\n",
       " ('eh', 'v', 'r', 'ih', 'dh', 'ih', 'ng'),\n",
       " ('eh', 'r', 'iy', 'th', 'iy', 'ng'),\n",
       " ('ah', 'v', 'r', 'iy', 'th', 'ih', 'ng'),\n",
       " ('eh', 'r', 'iy', 'th', 'ih', 'ng'),\n",
       " ('eh', 'v', 'r', 'iy', 'th', 'ih', 'ng'),\n",
       " ('eh', 'v', 'r', 'iy', 'th', 'ih', 'ng'),\n",
       " ('eh', 'r', 'eh', 'dh', 'eh', 'ng'),\n",
       " ('eh', 'v', 'r', 'iy', 'th', 'ih', 'ng'),\n",
       " ('eh', 'r', 'iy', 'th', 'eh', 'ng'),\n",
       " ('eh', 'r', 'ih', 'dh', 'ey', 'ng'),\n",
       " ('eh', 'v', 'r', 'iy', 'th', 'ih', 'ng'),\n",
       " ('eh', 'v', 'r', 'iy', 'th', 'ih', 'ng'),\n",
       " ('eh', 'v', 'r', 'iy', 'th', 'ih', 'ng'),\n",
       " ('eh', 'r', 'iy', 'dh', 'eh', 'ng'),\n",
       " ('eh', 'r', 'ih', 'dh', 'eh', 'ng'),\n",
       " ('eh', 'r', 'iy', 'th', 'ih', 'ng'),\n",
       " ('eh', 'v', 'r', 'ih', 'th', 'ih', 'ng'),\n",
       " ('eh', 'r', 'ih', 'dh', 'eh', 'ng'),\n",
       " ('eh', 'v', 'r', 'ih', 'dh', 'ey', 'ng'),\n",
       " ('eh', 'v', 'r', 'iy', 'th', 'ih', 'ng'),\n",
       " ('eh', 'v', 'r', 'iy', 'th', 'ih', 'ng'),\n",
       " ('eh', 'r', 'ih', 'dh', 'ehn'),\n",
       " ('eh', 'v', 'ih', 'th', 'ae', 'ng'),\n",
       " ('eh', 'r', 'iy', 'th', 'ih', 'ng'),\n",
       " ('eh', 'r', 'ih', 'th', 'ih', 'ng'),\n",
       " ('eh', 'r', 'iy', 'th', 'ih', 'ng'),\n",
       " ('eh', 'v', 'r', 'iy', 'th', 'ih', 'ng'),\n",
       " ('eh', 'v', 'r', 'iy', 'th', 'iy', 'n'),\n",
       " ('eh', 'r', 'iy', 'th', 'eh', 'ng'),\n",
       " ('eh', 'v', 'r', 'iy', 'th', 'ih', 'n'),\n",
       " ('eh', 'r', 'ih', 'dh', 'ih', 'ng'),\n",
       " ('eh', 'r', 'ih', 'dh', 'ey', 'ng'),\n",
       " ('eh', 'er', 'th', 'ih', 'ng'),\n",
       " ('eh', 'v', 'r', 'iy', 'th', 'ih', 'ng'),\n",
       " ('eh', 'r', 'ah', 'dh', 'ih', 'ng'),\n",
       " ('eh', 'r', 'iy', 'th', 'ih', 'ng'),\n",
       " ('eh', 'r', 'ih', 'dh', 'eh', 'ng'),\n",
       " ('eh', 'r', 'ah', 'dh', 'ih', 'ng'),\n",
       " ('eh', 'v', 'r', 'iy', 'th', 'ih'),\n",
       " ('eh', 'v', 'r', 'iy', 'th', 'ih', 'ng'),\n",
       " ('er', 'ih', 'th', 'ih', 'ng'),\n",
       " ('eh', 'v', 'r', 'iy', 'th', 'ih', 'ng'),\n",
       " ('eh', 'v', 'r', 'iy', 'th', 'ae', 'ng'),\n",
       " ('eh', 'r', 'ih', 'th', 'ih', 'ng'),\n",
       " ('eh', 'r', 'iy', 'th', 'ih', 'ng'),\n",
       " ('eh', 'v', 'r', 'iy', 'th', 'ih', 'ng'),\n",
       " ('eh', 'v', 'r', 'iy', 'th', 'ih', 'ng'),\n",
       " ('eh', 'v', 'r', 'iy', 'th', 'ih', 'ng'),\n",
       " ('ah', 'v', 'r', 'ih', 'dh', 'eh', 'ng'),\n",
       " ('eh', 'r', 'ih', 'th', 'ih', 'ng'),\n",
       " ('eh', 'v', 'r', 'iy', 'th', 'ih', 'ng'),\n",
       " ('eh', 'r', 'ih', 'th', 'ih', 'ng'),\n",
       " ('eh', 'v', 'r', 'iy', 'th', 'ih', 'ng'),\n",
       " ('eh', 'v', 'r', 'iy', 'th', 'ih', 'ng'),\n",
       " ('eh', 'r', 'ih', 'dh', 'ey', 'ng'),\n",
       " ('eh', 'v', 'r', 'iy', 'th', 'ih', 'ng'),\n",
       " ('eh', 'r', 'ih', 'th', 'ih', 'ng'),\n",
       " ('eh', 'r', 'dh', 'ih', 'ng'),\n",
       " ('eh', 'r', 'ih', 'th', 'ih', 'ng'),\n",
       " ('eh', 'v', 'r', 'iy', 'th', 'ey', 'ng'),\n",
       " ('eh', 'r', 'iy', 'th', 'ih', 'ng'),\n",
       " ('eh', 'r', 'iy', 'dh', 'ih', 'ng'),\n",
       " ('eh', 'v', 'r', 'iy', 'th', 'ih', 'ng'),\n",
       " ('eh', 'v', 'r', 'ih', 'th', 'iy', 'ng'),\n",
       " ('eh', 'v', 'r', 'iy', 'th', 'ih', 'ng'),\n",
       " ('eh', 'r', 'v', 'r', 'eh', 'dh', 'eh', 'ng'),\n",
       " ('eh', 'er', 'ih', 'th', 'eh', 'ng'),\n",
       " ('eh', 'r', 'ih', 'l', 'iy', 'ng'),\n",
       " ('eh', 'v', 'r', 'iy', 'th', 'ih', 'ng'),\n",
       " ('eh', 'r', 'ih', 'dh', 'ey', 'ng'),\n",
       " ('eh', 'v', 'r', 'iy', 'th', 'ih', 'ng'),\n",
       " ('eh', 'r', 'iy', 'th', 'ih', 'ng'),\n",
       " ('eh', 'v', 'r', 'iy', 'th', 'ih', 'ng'),\n",
       " ('eh', 'v', 'r', 'iy', 'th', 'ih', 'ng'),\n",
       " ('eh', 'r', 'iy', 'dh', 'ih', 'ng'),\n",
       " ('eh', 'r', 'iy', 'ehn'),\n",
       " ('eh', 'r', 'ih', 'dh', 'ey', 'ng'),\n",
       " ('eh', 'r', 'dh', 'ih', 'ng'),\n",
       " ('eh', 'v', 'r', 'iy', 'th', 'ih', 'ng'),\n",
       " ('eh', 'r', 'ih', 'th', 'eyn'),\n",
       " ('eh', 'v', 'r', 'iy', 'th', 'ih', 'ng'),\n",
       " ('eh', 'v', 'r', 'ih', 'th', 'ih', 'ng'),\n",
       " ('eh', 'v', 'r', 'iy', 'th', 'ih', 'ng'),\n",
       " ('eh', 'r', 'ih', 'dh', 'ih', 'ng'),\n",
       " ('eh', 'v', 'r', 'ah', 'dh', 'eh', 'ng'),\n",
       " ('eh', 'v', 'r', 'iy', 'th', 'ih', 'ng'),\n",
       " ('eh', 'r', 'ah', 'dh', 'eh', 'ng'),\n",
       " ('eh', 'v', 'r', 'iy', 'th', 'ih', 'ng'),\n",
       " ('eh', 'v', 'r', 'iy', 'th', 'eh', 'ng'),\n",
       " ('eh', 'er', 'dh', 'eyn'),\n",
       " ('eh', 'v', 'r', 'iy', 'th', 'ih', 'ng'),\n",
       " ('eh', 'v', 'r', 'iy', 'th', 'ih', 'ng'),\n",
       " ('eh', 'v', 'r', 'iy', 'th', 'ih', 'ng'),\n",
       " ('eh', 'v', 'r', 'iy', 'th', 'ih', 'ng'),\n",
       " ('eh', 'v', 'r', 'iy', 'th', 'ih', 'ng'),\n",
       " ('eh', 'r', 'v', 'r', 'ih', 'th', 'ih', 'ng'),\n",
       " ('eh', 'r', 'ih', 'dh', 'ih', 'ng'),\n",
       " ('eh', 'r', 'ih', 'dh', 'ih', 'ng'),\n",
       " ('eh', 'v', 'r', 'iy', 'th', 'iy', 'ng'),\n",
       " ('eh', 'v', 'r', 'iy', 'th', 'ih', 'ng'),\n",
       " ('eh', 'r', 'iy', 'dh', 'ih', 'ng'),\n",
       " ('eh', 'v', 'r', 'iy', 'th', 'ey', 'ng'),\n",
       " ('eh', 'v', 'r', 'ih', 'dx', 'ih', 'ng'),\n",
       " ('eh', 'r', 'ah', 'dh', 'iy', 'ng'),\n",
       " ('eh', 'v', 'r', 'ih', 'th', 'hh', 'ih', 'ng'),\n",
       " ('eh', 'v', 'r', 'iy', 'dh', 'ih', 'ng'),\n",
       " ('er', 'ah', 'dh', 'ih', 'ng'),\n",
       " ('er', 'ah', 'dh', 'ih', 'ng'),\n",
       " ('eh', 'r', 'ih', 'th', 'ih', 'ng'),\n",
       " ('eh', 'v', 'r', 'iy', 'th', 'ih', 'ng'),\n",
       " ('eh', 'v', 'r', 'iy', 'th', 'ih', 'ng'),\n",
       " ('eh', 'v', 'r', 'iy', 'th', 'iy', 'ng'),\n",
       " ('eh', 'v', 'r', 'iy', 'th', 'iy', 'ng'),\n",
       " ('eh', 'r', 'ih', 'z', 'ey', 'ng'),\n",
       " ('eh', 'v', 'r', 'iy', 'th', 'ey', 'ng'),\n",
       " ('eh', 'v', 'r', 'iy', 'th', 'ey', 'ng'),\n",
       " ('eh', 'v', 'er', 'th', 'ih', 'ng'),\n",
       " ('eh', 'r', 'ih', 'dh', 'ey', 'ng'),\n",
       " ('eh', 'r', 'iyih', 'th', 'eh', 'ng'),\n",
       " ('eh', 'r', 'eh', 'dh', 'eh', 'ng'),\n",
       " ('eh', 'v', 'r', 'ih', 'th', 'ih', 'ng'),\n",
       " ('eh', 'v', 'r', 'iy', 'th', 'ih'),\n",
       " ('eh', 'v', 'r', 'iy', 'th', 'ih', 'ng'),\n",
       " ('eh', 'er', 'dh', 'eh', 'ng'),\n",
       " ('eh', 'v', 'r', 'iy', 'th', 'ih', 'ng'),\n",
       " ('eh', 'v', 'r', 'iy', 'th', 'ih', 'ng'),\n",
       " ('eh', 'r', 'ih', 'd', 'en'),\n",
       " ('eh', 'v', 'r', 'iy', 'th', 'ih', 'ng'),\n",
       " ('eh', 'v', 'r', 'iy', 'th', 'ih', 'ng'),\n",
       " ('eh', 'v', 'r', 'iy', 'th', 'iy', 'ng'),\n",
       " ('eh', 'r', 'ih', 'dh', 'iy', 'ng'),\n",
       " ('eh', 'v', 'r', 'iy', 'th', 'ih', 'ng'),\n",
       " ('eh', 'v', 'r', 'iy', 'th', 'ey', 'ng'),\n",
       " ('eh', 'v', 'r', 'ih', 'dh', 'iy', 'ng'),\n",
       " ('eh', 'v', 'r', 'iy', 'th', 'ih', 'ng'),\n",
       " ('eh', 'v', 'r', 'iy', 'th', 'ih', 'ng'),\n",
       " ('eh', 'v', 'r', 'iy', 'th', 'ih', 'ng'),\n",
       " ('eh', 'r', 'ah', 'th', 'eh', 'ng'),\n",
       " ('eh', 'v', 'r', 'iy', 'th', 'ih', 'ng'),\n",
       " ('eh', 'v', 'r', 'ih', 'th', 'ih', 'ng'),\n",
       " ('eh', 'er', 'dh', 'ih', 'ng', 'm'),\n",
       " ('eh', 'v', 'r', 'iy', 'th', 'ih', 'ng'),\n",
       " ('eh', 'v', 'r', 'iy', 'th', 'ih', 'ng'),\n",
       " ('eh', 'r', 'ih', 'th', 'ih', 'ng'),\n",
       " ('eh', 'v', 'r', 'iy', 'th', 'ih', 'ng'),\n",
       " ('eh', 'v', 'r', 'ih', 'th', 'ih', 'ng'),\n",
       " ('eh', 'r', 'ih', 'th', 'ih', 'ng'),\n",
       " ('eh', 'v', 'r', 'iy', 'dh', 'ih', 'ng'),\n",
       " ('eh', 'v', 'er', 'th', 'ey', 'ng'),\n",
       " ('eh', 'v', 'r', 'iy', 'th', 'ih', 'ng'),\n",
       " ('eh', 'v', 'r', 'iy', 'th', 'ih', 'ng'),\n",
       " ('eh', 'v', 'r', 'ih', 'th', 'ih', 'ng'),\n",
       " ('eh', 'v', 'r', 'iy', 'th', 'ih', 'ng'),\n",
       " ('eh', 'v', 'r', 'iy', 'th', 'iy', 'ng'),\n",
       " ('eh', 'r', 'iy', 'th', 'ih', 'ng'),\n",
       " ('eh', 'v', 'r', 'iy', 'th', 'ih', 'ng'),\n",
       " ('eh', 'v', 'r', 'iy', 'th', 'ih', 'ng'),\n",
       " ('eh', 'v', 'r', 'iy', 'th', 'ih', 'ng'),\n",
       " ('eh', 'r', 'ih', 'dh', 'ey', 'ng'),\n",
       " ('eh', 'v', 'r', 'iy', 'th', 'ih', 'ng'),\n",
       " ('eh', 'v', 'r', 'iy', 'th', 'ih', 'ng'),\n",
       " ('eh', 'v', 'r', 'iy', 'th', 'ih', 'ng'),\n",
       " ('eh', 'v', 'r', 'iy', 'th', 'ih', 'ng'),\n",
       " ('eh', 'v', 'r', 'iy', 'th', 'ih', 'ng'),\n",
       " ('eh', 'r', 'iy', 'th', 'eh', 'ng'),\n",
       " ('eh', 'v', 'r', 'iy', 'th', 'ih', 'ng'),\n",
       " ('eh', 'v', 'r', 'iy', 'th', 'ih', 'ng'),\n",
       " ('eh', 'v', 'r', 'iy', 'th', 'ih', 'ng'),\n",
       " ('eh', 'v', 'r', 'iy', 'th', 'ih', 'ng'),\n",
       " ('eh', 'v', 'r', 'iy', 'th', 'ey', 'ng'),\n",
       " ('eh', 'v', 'r', 'iy', 'th', 'ih', 'ng'),\n",
       " ('eh', 'r', 'iy', 'th', 'ih', 'ng'),\n",
       " ('eh', 'r', 'iy', 'th', 'ih', 'ng'),\n",
       " ('eh', 'v', 'r', 'ih', 'th', 'ih'),\n",
       " ('eh', 'v', 'r', 'iy', 'th', 'ih', 'ng'),\n",
       " ('eh', 'v', 'r', 'iy', 'th', 'ih', 'ng'),\n",
       " ('eh', 'v', 'r', 'iy', 'th', 'ih', 'ng'),\n",
       " ('eh', 'v', 'r', 'iy', 'th', 'ih', 'ng'),\n",
       " ('eh', 'v', 'r', 'iy', 'th', 'ih', 'ng'),\n",
       " ('eh', 'v', 'r', 'iy', 'th', 'ih', 'ng'),\n",
       " ('eh', 'v', 'r', 'iy', 'th', 'ih', 'ng'),\n",
       " ('eh', 'v', 'r', 'iy', 'th', 'ih', 'ng'),\n",
       " ('eh', 'v', 'r', 'iy', 'th', 'ih', 'ng'),\n",
       " ('eh', 'v', 'r', 'iy', 'th', 'ih', 'ng'),\n",
       " ('eh', 'v', 'r', 'iy', 'th', 'ih', 'ng'),\n",
       " ('eh', 'v', 'r', 'iy', 'th', 'ih', 'ng'),\n",
       " ('eh', 'v', 'r', 'ih', 'dh', 'ih', 'ng'),\n",
       " ('eh', 'v', 'r', 'iy', 'th', 'ih', 'ng'),\n",
       " ('ah', 'v', 'r', 'iy', 'th', 'eh', 'ng'),\n",
       " ('eh', 'v', 'r', 'ih', 'th', 'ih', 'ng'),\n",
       " ('eh', 'r', 'iy', 'th', 'ih', 'ng'),\n",
       " ('eh', 'v', 'r', 'iy', 'th', 'ih', 'ng'),\n",
       " ('eh', 'v', 'r', 'iy', 'th', 'ih', 'ng'),\n",
       " ('eh', 'v', 'r', 'iy', 'th', 'ih', 'ng'),\n",
       " ('eh', 'v', 'r', 'iy', 'th', 'ih', 'ng')]"
      ]
     },
     "execution_count": 64,
     "metadata": {},
     "output_type": "execute_result"
    }
   ],
   "source": [
    "findWordsWithPhone('iyih')\n",
    "list(map(getPhones,\n",
    "         findWordTokensOf('everything')))"
   ]
  },
  {
   "cell_type": "markdown",
   "metadata": {},
   "source": [
    "This is bizzare, undocumented (as far as I can tell), and there's only one token, so I'm going to remap it to `iy`."
   ]
  },
  {
   "cell_type": "code",
   "execution_count": 65,
   "metadata": {
    "ExecuteTime": {
     "end_time": "2019-05-07T17:36:10.601191Z",
     "start_time": "2019-05-07T17:36:10.598367Z"
    }
   },
   "outputs": [
    {
     "data": {
      "text/plain": [
       "{('h', 'h'), ('hhn', 'h̃'), ('id', 'ɪ'), ('iyih', 'i')}"
      ]
     },
     "execution_count": 65,
     "metadata": {},
     "output_type": "execute_result"
    }
   ],
   "source": [
    "remappings.add(('iyih', buckeyeToUnicodeIPA('iy')))\n",
    "remappings"
   ]
  },
  {
   "cell_type": "markdown",
   "metadata": {},
   "source": [
    "### `i`"
   ]
  },
  {
   "cell_type": "code",
   "execution_count": 66,
   "metadata": {
    "ExecuteTime": {
     "end_time": "2019-05-07T17:36:19.091686Z",
     "start_time": "2019-05-07T17:36:18.910021Z"
    }
   },
   "outputs": [
    {
     "data": {
      "text/plain": [
       "[Word('is', 82.48, 82.58, ['ih', 'z'], ['i', 'h', 'z'], 'VBZ'),\n",
       " Word('wanted', 13.435598, 13.868345, ['w', 'aa', 'n', 't', 'ah', 'd'], ['w', 'ah', 'n', 'i', 'd'], 'VBD')]"
      ]
     },
     "execution_count": 66,
     "metadata": {},
     "output_type": "execute_result"
    }
   ],
   "source": [
    "findWordsWithPhone('i')"
   ]
  },
  {
   "cell_type": "code",
   "execution_count": 67,
   "metadata": {
    "ExecuteTime": {
     "end_time": "2019-05-07T17:36:22.614963Z",
     "start_time": "2019-05-07T17:36:22.524076Z"
    }
   },
   "outputs": [
    {
     "data": {
      "text/plain": [
       "121"
      ]
     },
     "execution_count": 67,
     "metadata": {},
     "output_type": "execute_result"
    }
   ],
   "source": [
    "len(list(map(getPhones,\n",
    "         findWordTokensOf('wanted'))))"
   ]
  },
  {
   "cell_type": "code",
   "execution_count": 68,
   "metadata": {
    "ExecuteTime": {
     "end_time": "2019-05-07T17:36:25.902435Z",
     "start_time": "2019-05-07T17:36:25.811701Z"
    }
   },
   "outputs": [
    {
     "data": {
      "text/plain": [
       "[('w', 'ah', 'nx', 'ih', 'd', 'd'),\n",
       " ('w', 'aa', 'nx', 'ah', 'd'),\n",
       " ('w', 'aa', 'nx', 'ah', 'd'),\n",
       " ('w', 'aa', 'nx', 'eh', 'd'),\n",
       " ('w', 'ah', 'nx', 'ih'),\n",
       " ('w', 'aa', 'nx', 'ih', 'dx'),\n",
       " ('w', 'aa', 'nx', 'ah', 'd'),\n",
       " ('w', 'aa', 'nx', 'ah'),\n",
       " ('w', 'ah', 'n'),\n",
       " ('w', 'aa', 'nx', 'ah'),\n",
       " ('w', 'ah', 'n'),\n",
       " ('w', 'aa', 'n', 'd', 'ih', 'd'),\n",
       " ('w', 'ah', 'nx', 'eh'),\n",
       " ('w', 'aa', 'n'),\n",
       " ('w', 'ah', 'nx', 'ih', 'd'),\n",
       " ('m', 'w', 'ah', 'nx', 'eh', 'd'),\n",
       " ('w', 'aa', 'n', 'n', 'eh', 'd'),\n",
       " ('w', 'aa', 'n', 'd'),\n",
       " ('w', 'aa', 'nx', 'eh', 'd'),\n",
       " ('w', 'aa', 'n', 'eh', 'd'),\n",
       " ('w', 'aa', 'nx', 'eh', 'd'),\n",
       " ('w', 'ah', 'n', 'ih'),\n",
       " ('w', 'ah', 'n', 'd'),\n",
       " ('w', 'aa', 'n', 'eh'),\n",
       " ('w', 'ah', 'n', 'eh', 'd'),\n",
       " ('w', 'aa', 'n', 'd'),\n",
       " ('w', 'aa', 'n', 'ih', 'tq'),\n",
       " ('w', 'aa', 'nx'),\n",
       " ('w', 'aa', 'n', 'ih', 'd'),\n",
       " ('w', 'ah', 'nx', 'ah', 'd'),\n",
       " ('w', 'aa', 'nx', 'ih', 'd'),\n",
       " ('w', 'aa', 'nx', 'ih', 'd'),\n",
       " ('w', 'ah', 'nx', 'ih', 'd'),\n",
       " ('w', 'ah', 'nx', 'ah', 'd'),\n",
       " ('w', 'ah'),\n",
       " ('w', 'ah', 'n', 'ih', 'd'),\n",
       " ('w', 'ah', 'n'),\n",
       " ('w', 'ao', 'nx', 'ah', 'dx'),\n",
       " ('w', 'aa', 'nx', 'ih', 'd'),\n",
       " ('w', 'aa', 'nx'),\n",
       " ('w', 'aa', 'nx', 'ih', 'd'),\n",
       " ('w', 'ah', 'n'),\n",
       " ('w', 'aa', 'nx', 'ah', 'd'),\n",
       " ('w', 'ah', 'n', 'i', 'd'),\n",
       " ('w', 'aa', 'nx', 'ah', 'd'),\n",
       " ('w', 'aa', 'nx', 'ih', 'd'),\n",
       " ('w', 'ah', 'nx', 'ih', 'd'),\n",
       " ('w', 'aa', 'nx', 'eh', 'd'),\n",
       " ('w', 'aa', 'nx', 'ah', 'dx'),\n",
       " ('w', 'aa', 'nx', 'eh', 'd'),\n",
       " ('w', 'ah', 'n'),\n",
       " ('w', 'aa', 'nx', 'ih', 'dx'),\n",
       " ('w', 'aa', 'n'),\n",
       " ('w', 'aa', 'nx', 'ih', 'd'),\n",
       " ('w', 'aa', 'n', 'd'),\n",
       " ('w', 'aa', 'n', 'ih', 'd'),\n",
       " ('w', 'aa', 'n', 'ih', 'dx'),\n",
       " ('w', 'aa', 'n', 'ih', 'd'),\n",
       " ('w', 'aa', 'n'),\n",
       " ('w', 'aa', 'n'),\n",
       " ('w', 'aa', 'n', 'ih', 'd'),\n",
       " ('w', 'aa', 'n', 'eh', 'd'),\n",
       " ('w', 'aa', 'nx', 'eh', 'd'),\n",
       " ('w', 'aa', 'nx', 'ih', 'd'),\n",
       " ('w', 'aa', 'nx'),\n",
       " ('w', 'ah', 'n', 'd'),\n",
       " ('w', 'aa', 'n', 'ah', 'd'),\n",
       " ('w', 'ahn'),\n",
       " ('w', 'aa', 'nx', 'ih', 'tq'),\n",
       " ('w', 'aa', 'nx', 'ih', 'd'),\n",
       " ('w', 'ah', 'nx', 'ih', 'tq'),\n",
       " ('w', 'aa', 'en'),\n",
       " ('w', 'ah', 'ih', 'tq'),\n",
       " ('w', 'aa', 'n', 'ih', 'n'),\n",
       " ('w', 'aa'),\n",
       " ('w', 'aa', 'n', 'ih', 'd'),\n",
       " ('w', 'aa', 'n'),\n",
       " ('w', 'ahn', 'ih', 'd'),\n",
       " ('w', 'ah', 'nx', 'ih', 'dx'),\n",
       " ('w', 'ahn', 'ih', 'd'),\n",
       " ('w', 'aa', 'nx', 'eh', 'd'),\n",
       " ('w', 'aa', 'n', 'ih', 'd'),\n",
       " ('w', 'aa', 'nx', 'ah', 'd'),\n",
       " ('w', 'ah', 'en'),\n",
       " ('w', 'aa', 'n', 't', 'ah', 'd'),\n",
       " ('w', 'aa', 'nx', 'ih', 'd'),\n",
       " ('w', 'ah', 'nx', 'ih', 'd'),\n",
       " ('w', 'ah', 'nx', 'ih', 'd'),\n",
       " ('w', 'ah', 'nx', 'ih', 'd'),\n",
       " ('w', 'aa', 'n', 't', 'ah', 'd'),\n",
       " ('w', 'aa', 'nx', 'ih'),\n",
       " ('w', 'ah', 'n', 'ih', 'd'),\n",
       " ('w', 'ao', 'eh', 'dx'),\n",
       " ('w', 'aa', 'n', 'd'),\n",
       " ('w', 'aa', 'nx', 'ah', 'd'),\n",
       " ('w', 'ao', 'nx', 'ih', 'dx', 'ah'),\n",
       " ('w', 'ah', 'nx', 'ih', 'd'),\n",
       " ('w', 'aa', 'nx', 'ah', 'd'),\n",
       " ('w', 'ah', 'nx', 'ih', 't'),\n",
       " ('w', 'aa', 'n', 'ih', 'dx'),\n",
       " ('w', 'aa', 'n', 'ah', 'd'),\n",
       " ('w', 'ah', 'nx', 'ih', 'tq'),\n",
       " ('w', 'aa', 'nx', 'ah', 'd'),\n",
       " ('w', 'ah', 'eh', 'd'),\n",
       " ('w', 'aa', 'nx', 'ah', 'd'),\n",
       " ('w', 'ah', 'nx', 'ih', 'd'),\n",
       " ('w', 'aa', 'nx'),\n",
       " ('w', 'aan', 'eh'),\n",
       " ('w', 'ah', 'n'),\n",
       " ('w', 'aa', 'n'),\n",
       " ('w', 'aa', 'n'),\n",
       " ('w', 'aa', 'nx', 'ih', 'd'),\n",
       " ('w', 'aa', 'n'),\n",
       " ('w', 'aa', 'nx', 'ih', 'd'),\n",
       " ('w', 'aa', 'nx', 'ih', 'dx'),\n",
       " ('w', 'aa', 'nx', 'eh', 'd'),\n",
       " ('w', 'ah', 'n', 'ih', 'd'),\n",
       " ('w', 'aa', 'n'),\n",
       " ('w', 'aa', 'n', 'ih', 'd'),\n",
       " ('w', 'aa', 'nx', 'ih', 'd'),\n",
       " ('ah', 'n', 'd')]"
      ]
     },
     "execution_count": 68,
     "metadata": {},
     "output_type": "execute_result"
    }
   ],
   "source": [
    "list(map(getPhones,\n",
    "         findWordTokensOf('wanted')))"
   ]
  },
  {
   "cell_type": "code",
   "execution_count": 69,
   "metadata": {
    "ExecuteTime": {
     "end_time": "2019-05-07T17:36:30.485400Z",
     "start_time": "2019-05-07T17:36:30.393283Z"
    }
   },
   "outputs": [
    {
     "data": {
      "text/plain": [
       "1466"
      ]
     },
     "execution_count": 69,
     "metadata": {},
     "output_type": "execute_result"
    }
   ],
   "source": [
    "len(list(map(getPhones,\n",
    "         findWordTokensOf('is'))))"
   ]
  },
  {
   "cell_type": "code",
   "execution_count": 70,
   "metadata": {
    "ExecuteTime": {
     "end_time": "2019-05-07T17:36:34.235564Z",
     "start_time": "2019-05-07T17:36:34.082867Z"
    }
   },
   "outputs": [
    {
     "data": {
      "text/plain": [
       "[('ih',),\n",
       " ('ih', 'z'),\n",
       " ('ih', 'z'),\n",
       " ('ih', 's'),\n",
       " ('ih', 'z'),\n",
       " ('ih', 'z'),\n",
       " ('ih', 'z'),\n",
       " ('ih', 'z'),\n",
       " ('ih', 'z'),\n",
       " ('ih', 'z'),\n",
       " ('ih', 'z'),\n",
       " ('ih', 'z'),\n",
       " ('ih', 'z'),\n",
       " ('ih', 'z'),\n",
       " ('ih', 'z'),\n",
       " ('ih', 's'),\n",
       " ('ih', 'z'),\n",
       " ('ih', 'z'),\n",
       " ('ih', 'z'),\n",
       " ('ih', 'z'),\n",
       " ('z',),\n",
       " ('ih', 'z'),\n",
       " ('eh', 'z'),\n",
       " ('ih', 'z'),\n",
       " ('ih', 'zh'),\n",
       " ('zh',),\n",
       " ('ih', 'z'),\n",
       " ('z',),\n",
       " ('eh', 'z'),\n",
       " ('ih', 'z'),\n",
       " ('ih', 'z'),\n",
       " ('ih', 'z'),\n",
       " ('ih', 's'),\n",
       " ('z',),\n",
       " ('ih', 'z'),\n",
       " ('ih', 'z'),\n",
       " ('ah', 's'),\n",
       " ('ah', 'z'),\n",
       " ('ih', 'z'),\n",
       " ('ih', 'z'),\n",
       " ('ih', 'z'),\n",
       " ('ih', 'z'),\n",
       " ('ih', 's'),\n",
       " ('ih', 's'),\n",
       " ('ih', 'z'),\n",
       " ('ih', 'z'),\n",
       " ('s',),\n",
       " ('ih',),\n",
       " ('zh',),\n",
       " ('ih', 'z'),\n",
       " ('ih', 'z'),\n",
       " ('ih', 's'),\n",
       " ('ih', 's'),\n",
       " ('ih', 'z'),\n",
       " ('ih', 'z'),\n",
       " ('ih', 'z'),\n",
       " ('ih', 's'),\n",
       " ('ih', 'z'),\n",
       " ('ih', 'z'),\n",
       " ('ih', 'z'),\n",
       " ('ih', 's'),\n",
       " ('ih', 'z'),\n",
       " ('ih', 'z'),\n",
       " ('ih', 'z'),\n",
       " ('ih', 's'),\n",
       " ('ih', 'z'),\n",
       " ('ih', 'z'),\n",
       " ('ih', 'z'),\n",
       " ('ih', 'z'),\n",
       " ('ih', 'z'),\n",
       " ('ih', 'z'),\n",
       " ('ih', 'z'),\n",
       " ('ih', 'z'),\n",
       " ('ih', 's'),\n",
       " ('ih', 'z'),\n",
       " ('ih', 'z'),\n",
       " ('ih', 'z'),\n",
       " ('ih', 'z'),\n",
       " ('ih', 'z'),\n",
       " ('ih', 'z'),\n",
       " ('ih', 's'),\n",
       " ('ih', 'z'),\n",
       " ('ih', 's'),\n",
       " ('ih', 'z'),\n",
       " ('ih', 'z'),\n",
       " ('ih', 'z'),\n",
       " ('ih', 'z'),\n",
       " ('ih', 'z'),\n",
       " ('ih', 'z'),\n",
       " ('ih', 'z'),\n",
       " ('ih', 'z'),\n",
       " ('ih', 'z'),\n",
       " ('ih', 's'),\n",
       " ('ih', 'z'),\n",
       " ('ah', 'z'),\n",
       " ('ah', 'z'),\n",
       " ('ih', 'z'),\n",
       " ('eh', 'z'),\n",
       " ('ah', 'z'),\n",
       " ('z',),\n",
       " ('ih', 'z'),\n",
       " ('ih', 'z'),\n",
       " ('ih', 'z'),\n",
       " ('ih', 'z'),\n",
       " ('ah', 'z'),\n",
       " ('ih', 'z'),\n",
       " ('z',),\n",
       " ('eh', 's'),\n",
       " ('ih', 'z'),\n",
       " ('ih', 'z'),\n",
       " ('ih', 'z'),\n",
       " ('ih', 'z'),\n",
       " ('ih', 'zh'),\n",
       " ('ih', 'z'),\n",
       " ('ih', 's'),\n",
       " ('ih', 'z'),\n",
       " ('ih', 'z'),\n",
       " ('ih', 'z'),\n",
       " ('ih', 'zh'),\n",
       " ('ih', 'z'),\n",
       " ('ih', 'z'),\n",
       " ('ih', 'z'),\n",
       " ('ih', 'z'),\n",
       " ('ih', 's'),\n",
       " ('s',),\n",
       " ('ih', 'z'),\n",
       " ('ih', 'z'),\n",
       " ('ih', 'z'),\n",
       " ('z',),\n",
       " ('ih', 'z'),\n",
       " ('ih', 'z'),\n",
       " ('ih', 'z'),\n",
       " ('ih', 'z'),\n",
       " ('ih', 's'),\n",
       " ('ih', 'z'),\n",
       " ('ih', 'z'),\n",
       " ('ih', 'z'),\n",
       " ('ih', 'sh'),\n",
       " ('ih', 'z'),\n",
       " ('ih', 's'),\n",
       " ('ih', 'z'),\n",
       " ('ih', 'z'),\n",
       " ('ih', 'z'),\n",
       " ('ih', 'z'),\n",
       " ('ih', 'z'),\n",
       " ('ih', 'z'),\n",
       " ('ih', 'z'),\n",
       " ('ih', 'z'),\n",
       " ('ih', 's'),\n",
       " ('ih', 's'),\n",
       " ('ih', 'z'),\n",
       " ('ih', 'z'),\n",
       " ('ah', 'z'),\n",
       " ('z',),\n",
       " ('ih', 's'),\n",
       " ('ih', 'z'),\n",
       " ('ih', 's'),\n",
       " ('z',),\n",
       " ('ah', 'z'),\n",
       " ('ih', 'z'),\n",
       " ('ih', 's'),\n",
       " ('ih', 'z'),\n",
       " ('ih', 'z'),\n",
       " ('ih', 'z'),\n",
       " ('ih', 'z'),\n",
       " ('ih', 'z'),\n",
       " ('ih', 'z'),\n",
       " ('ih', 'z'),\n",
       " ('ih', 's'),\n",
       " ('ih', 'z'),\n",
       " ('ey', 'z'),\n",
       " ('ih', 'z'),\n",
       " ('ih', 'z'),\n",
       " ('z',),\n",
       " ('ih', 'z'),\n",
       " ('ih', 'z'),\n",
       " ('ih', 'z'),\n",
       " ('ih', 'z'),\n",
       " ('ih', 'z'),\n",
       " ('ih', 's'),\n",
       " ('ah', 'z'),\n",
       " ('ih', 'z'),\n",
       " ('ih', 'z'),\n",
       " ('ih', 'z'),\n",
       " ('ih', 'zh'),\n",
       " ('ih', 'z'),\n",
       " ('ih', 'zh'),\n",
       " ('ih', 'z'),\n",
       " ('ih', 'v'),\n",
       " ('ih', 'z'),\n",
       " ('ih', 'z'),\n",
       " ('ih', 'z'),\n",
       " ('ih', 'z'),\n",
       " ('ih', 'z'),\n",
       " ('ih', 's'),\n",
       " ('ih', 'z'),\n",
       " ('ih', 'z'),\n",
       " ('ih', 'z'),\n",
       " ('z',),\n",
       " ('ih', 'z'),\n",
       " ('ih', 'z'),\n",
       " ('eh', 'z'),\n",
       " ('ih', 'z'),\n",
       " ('ih', 'z'),\n",
       " ('ih', 'z'),\n",
       " ('ih', 'z'),\n",
       " ('ah', 'z'),\n",
       " ('ih', 'z'),\n",
       " ('ih', 'z'),\n",
       " ('ih', 's'),\n",
       " ('ih', 'z'),\n",
       " ('ih', 'z'),\n",
       " ('ih', 's'),\n",
       " ('ih', 'z'),\n",
       " ('ih', 'sh'),\n",
       " ('eh', 'z'),\n",
       " ('ih', 's'),\n",
       " ('ih', 'z'),\n",
       " ('ih', 'z'),\n",
       " ('ih', 'z'),\n",
       " ('ih', 'sh'),\n",
       " ('ih', 'z'),\n",
       " ('ih', 's'),\n",
       " ('ih', 'z'),\n",
       " ('ih', 'z'),\n",
       " ('ih', 'z'),\n",
       " ('ih', 's'),\n",
       " ('ih', 's'),\n",
       " ('ih', 's'),\n",
       " ('ih', 's'),\n",
       " ('ih', 'z'),\n",
       " ('ih', 's'),\n",
       " ('s',),\n",
       " ('ih', 'z'),\n",
       " ('ih', 'z'),\n",
       " ('ih', 'z'),\n",
       " ('ih', 'z'),\n",
       " ('ih', 'z'),\n",
       " ('ih', 'z'),\n",
       " ('ih', 'z'),\n",
       " ('ah', 'z'),\n",
       " ('ih', 'z'),\n",
       " ('ih', 'z'),\n",
       " ('ih', 'z'),\n",
       " ('ih', 's'),\n",
       " ('ih', 's'),\n",
       " ('ih', 'z'),\n",
       " ('ih', 'z'),\n",
       " ('ih',),\n",
       " ('ih', 'z'),\n",
       " ('ih', 'z'),\n",
       " ('ih', 'z'),\n",
       " ('ih', 'z'),\n",
       " ('ih', 'z'),\n",
       " ('ih', 'z'),\n",
       " ('ih', 'z'),\n",
       " ('ih', 'z'),\n",
       " ('ih', 's'),\n",
       " ('ih', 'z'),\n",
       " ('ih', 'z'),\n",
       " ('ih', 's'),\n",
       " ('ih', 'zh'),\n",
       " ('ih', 'z'),\n",
       " ('ih', 'z'),\n",
       " ('ih', 'z'),\n",
       " ('ih', 'z'),\n",
       " ('ih', 'z'),\n",
       " ('ih', 'z'),\n",
       " ('ih', 'z'),\n",
       " ('l', 'ih', 'z'),\n",
       " ('ih', 'z'),\n",
       " ('ih', 'z'),\n",
       " ('ih', 'z'),\n",
       " ('ih', 'z'),\n",
       " ('ih', 'z'),\n",
       " ('ih', 'z'),\n",
       " ('ih', 's'),\n",
       " ('ih', 'z'),\n",
       " ('ih', 'z'),\n",
       " ('ih', 'z'),\n",
       " ('ih', 's'),\n",
       " ('ih', 'z'),\n",
       " ('ih', 'z'),\n",
       " ('ih', 's'),\n",
       " ('ih', 'z'),\n",
       " ('ih', 'z'),\n",
       " ('ih', 'z'),\n",
       " ('ih', 'z'),\n",
       " ('ih', 's'),\n",
       " ('ih', 'z'),\n",
       " ('ah', 'z'),\n",
       " ('ih', 'z'),\n",
       " ('ih', 'z'),\n",
       " ('ih', 'z'),\n",
       " ('ih', 'z'),\n",
       " ('ih', 'z'),\n",
       " ('ih', 'z'),\n",
       " ('ih', 's'),\n",
       " ('ih', 's'),\n",
       " ('ih', 'z'),\n",
       " ('ih', 'z'),\n",
       " ('ah', 'z'),\n",
       " ('ih', 'zh'),\n",
       " ('ih', 's'),\n",
       " ('ih', 'z'),\n",
       " ('ih', 'z'),\n",
       " ('ih', 'z'),\n",
       " ('ah', 'z'),\n",
       " ('ih', 'z'),\n",
       " ('ih', 'z'),\n",
       " ('ih',),\n",
       " ('s',),\n",
       " ('ih', 'z'),\n",
       " ('ih', 'z'),\n",
       " ('ih', 'z'),\n",
       " ('ih', 's'),\n",
       " ('ih', 'z'),\n",
       " ('ih', 's'),\n",
       " ('ih', 'z'),\n",
       " ('ih', 'z'),\n",
       " ('ih', 'z'),\n",
       " ('ih', 'z'),\n",
       " ('ih', 'z'),\n",
       " ('ih', 'z'),\n",
       " ('ih', 'z'),\n",
       " ('ih', 'z'),\n",
       " ('ih', 'z'),\n",
       " ('ih', 's'),\n",
       " ('i', 'h', 'z'),\n",
       " ('z',),\n",
       " ('ih', 'z'),\n",
       " ('ih', 'z'),\n",
       " ('ih', 'z'),\n",
       " ('ih', 'zh'),\n",
       " ('l', 'ih', 'z'),\n",
       " ('ih', 'z'),\n",
       " ('ih', 'z'),\n",
       " ('ih', 's'),\n",
       " ('ih', 'z'),\n",
       " ('ih', 'z'),\n",
       " ('ih', 'z'),\n",
       " ('ih', 'z'),\n",
       " ('ih', 'z'),\n",
       " ('ih', 'z'),\n",
       " ('ih', 'z'),\n",
       " ('ih', 'z'),\n",
       " ('ih', 's'),\n",
       " ('ih', 'z'),\n",
       " ('ih', 'z'),\n",
       " ('ih', 's'),\n",
       " ('uw', 'z'),\n",
       " ('ih', 'z'),\n",
       " ('ih', 'z'),\n",
       " ('ih', 'z'),\n",
       " ('eh', 's'),\n",
       " ('ih', 'z'),\n",
       " ('ih', 'z'),\n",
       " ('ih', 's'),\n",
       " ('ah', 'z'),\n",
       " ('ih', 'z'),\n",
       " ('ih', 'z'),\n",
       " ('ih', 'z'),\n",
       " ('ih', 'z'),\n",
       " ('eh', 'sh'),\n",
       " ('ih', 'z'),\n",
       " ('uh', 'z'),\n",
       " ('ih', 'z'),\n",
       " ('ih', 'z'),\n",
       " ('ih', 'z'),\n",
       " ('ih', 'z'),\n",
       " ('ih', 'z'),\n",
       " ('ih', 'z'),\n",
       " ('ih', 'z'),\n",
       " ('ih', 's'),\n",
       " ('ih', 'z'),\n",
       " ('ih', 'z'),\n",
       " ('ih', 'z'),\n",
       " ('ih', 'z'),\n",
       " ('ih', 'z'),\n",
       " ('ih', 'z'),\n",
       " ('ih', 'z'),\n",
       " ('ih', 'z'),\n",
       " ('ih', 'z'),\n",
       " ('ih', 's'),\n",
       " ('ih', 'z'),\n",
       " ('ih', 'z'),\n",
       " ('ih', 'z'),\n",
       " ('ih', 'z'),\n",
       " ('s',),\n",
       " ('z',),\n",
       " ('ih', 'z'),\n",
       " ('ih', 'z'),\n",
       " ('ih', 'z'),\n",
       " ('ih', 'z'),\n",
       " ('ih', 'z'),\n",
       " ('ih', 'z'),\n",
       " ('ih', 'z'),\n",
       " ('ih', 's'),\n",
       " ('ih', 'z'),\n",
       " ('ih', 'z'),\n",
       " ('uh', 'z'),\n",
       " ('ih', 'z'),\n",
       " ('ih', 's'),\n",
       " ('ih', 'z'),\n",
       " ('ah', 'z'),\n",
       " ('ih', 'z'),\n",
       " ('ih', 'z'),\n",
       " ('ih', 'z'),\n",
       " ('ih', 's'),\n",
       " ('ih', 's'),\n",
       " ('ih', 'z'),\n",
       " ('ih', 'z'),\n",
       " ('ih', 'z'),\n",
       " ('ih', 'z'),\n",
       " ('ah', 'z'),\n",
       " ('ih', 'z'),\n",
       " ('ih', 'z'),\n",
       " ('ih', 'z'),\n",
       " ('ih', 'z'),\n",
       " ('ih', 's'),\n",
       " ('ih', 'z'),\n",
       " ('ih', 'z'),\n",
       " ('ih', 'z'),\n",
       " ('ih', 'z'),\n",
       " ('ih', 'z'),\n",
       " ('ih', 'z'),\n",
       " ('ih', 'z'),\n",
       " ('ih', 's'),\n",
       " ('ih', 'z'),\n",
       " ('ih', 'z'),\n",
       " ('ih', 'z'),\n",
       " ('ih', 'z'),\n",
       " ('ih', 'z'),\n",
       " ('ih', 'z'),\n",
       " ('ih', 's'),\n",
       " ('ih', 's'),\n",
       " ('ih', 'z'),\n",
       " ('ih', 'z'),\n",
       " ('ih', 'z'),\n",
       " ('ih', 'z'),\n",
       " ('ih', 'z'),\n",
       " ('ih', 'z'),\n",
       " ('ih', 'z'),\n",
       " ('ih', 'z'),\n",
       " ('ih', 's'),\n",
       " ('ih', 'z'),\n",
       " ('eh', 'z'),\n",
       " ('ih', 'z'),\n",
       " ('ih', 's'),\n",
       " ('ih', 'z'),\n",
       " ('ih', 's'),\n",
       " ('s',),\n",
       " ('ih', 'z'),\n",
       " ('ih', 'z'),\n",
       " ('ih', 'z'),\n",
       " ('ah', 'z'),\n",
       " ('ih', 'z'),\n",
       " ('ih', 'z'),\n",
       " ('ih', 'z'),\n",
       " ('ih', 's'),\n",
       " ('ih', 'z'),\n",
       " ('ih', 's'),\n",
       " ('ih', 'z'),\n",
       " ('ih', 'z'),\n",
       " ('ih', 'z'),\n",
       " ('ih', 'z'),\n",
       " ('ih', 'z'),\n",
       " ('ih', 'z'),\n",
       " ('ih', 'z'),\n",
       " ('ih', 'z'),\n",
       " ('ih', 'z'),\n",
       " ('ih', 'z'),\n",
       " ('ih', 'z'),\n",
       " ('ah', 'z'),\n",
       " ('ih', 's'),\n",
       " ('ih', 'z'),\n",
       " ('ih', 's'),\n",
       " ('ih', 'z'),\n",
       " ('ih', 'z'),\n",
       " ('ih', 'z'),\n",
       " ('ih', 'z'),\n",
       " ('ih', 's'),\n",
       " ('ih', 's'),\n",
       " ('ih', 's'),\n",
       " ('ih', 'z'),\n",
       " ('ih', 'z'),\n",
       " ('ih', 'z'),\n",
       " ('ih', 'z'),\n",
       " ('ih', 'z'),\n",
       " ('ih', 'z'),\n",
       " ('ih', 'z'),\n",
       " ('ih', 'z'),\n",
       " ('ih', 'z'),\n",
       " ('ih', 'z'),\n",
       " ('ih', 'z'),\n",
       " ('ih', 'z'),\n",
       " ('ih', 'z'),\n",
       " ('ih', 'z'),\n",
       " ('ih', 'z'),\n",
       " ('ih', 'z'),\n",
       " ('ih', 'z'),\n",
       " ('ih', 's'),\n",
       " ('ih', 'z'),\n",
       " ('ih', 'z'),\n",
       " ('ih', 'z'),\n",
       " ('ih', 'z'),\n",
       " ('ih', 'z'),\n",
       " ('ih', 'zh'),\n",
       " ('ih', 'z'),\n",
       " ('ih', 'z'),\n",
       " ('ih', 'z'),\n",
       " ('ih', 's'),\n",
       " ('ih', 'z'),\n",
       " ('ah', 'z'),\n",
       " ('ih', 'z'),\n",
       " ('ih', 'z'),\n",
       " ('s',),\n",
       " ('ih', 'z'),\n",
       " ('ih', 'z'),\n",
       " ('ih', 'z'),\n",
       " ('eh', 'z'),\n",
       " ('ih', 'z'),\n",
       " ('ih', 'z'),\n",
       " ('ih', 'z'),\n",
       " ('ih', 'z'),\n",
       " ('ih', 'z'),\n",
       " ('ih', 'z'),\n",
       " ('z',),\n",
       " ('ih', 'z'),\n",
       " ('ih', 'z'),\n",
       " ('ih', 'z'),\n",
       " ('ah', 'z'),\n",
       " ('ah', 'zh'),\n",
       " ('ih', 'z'),\n",
       " ('ih', 'z'),\n",
       " ('ih', 'z'),\n",
       " ('z',),\n",
       " ('eh', 'z'),\n",
       " ('ih', 'z'),\n",
       " ('ih', 'z'),\n",
       " ('ih', 'z'),\n",
       " ('ih', 'z'),\n",
       " ('ih', 'z'),\n",
       " ('z',),\n",
       " ('ih', 'z'),\n",
       " ('ih', 's'),\n",
       " ('ih', 'z'),\n",
       " ('ih', 'z'),\n",
       " ('ih', 'z'),\n",
       " ('uh', 'z'),\n",
       " ('ih', 'z'),\n",
       " ('ih', 's'),\n",
       " ('ah', 'z'),\n",
       " ('ah', 'z'),\n",
       " ('ih', 'z'),\n",
       " ('ih', 'z'),\n",
       " ('ih', 'z'),\n",
       " ('ih', 'z'),\n",
       " ('ih', 'z'),\n",
       " ('ih', 'z'),\n",
       " ('ih', 'z'),\n",
       " ('ih', 'z'),\n",
       " ('z',),\n",
       " ('z',),\n",
       " ('ih', 'z'),\n",
       " ('ih', 'z'),\n",
       " ('ih', 'z'),\n",
       " ('ih', 'z'),\n",
       " ('ih', 'z'),\n",
       " ('ih', 'z'),\n",
       " ('ih', 'z'),\n",
       " ('eh', 'z'),\n",
       " ('ih', 'z'),\n",
       " ('eh', 'z'),\n",
       " ('ih', 'z'),\n",
       " ('ih', 'dh'),\n",
       " ('ih', 'z'),\n",
       " ('ih', 'z'),\n",
       " ('ih', 'z'),\n",
       " ('ih', 's'),\n",
       " ('ah', 'z'),\n",
       " ('ih', 'z'),\n",
       " ('ih', 'z'),\n",
       " ('ih', 's'),\n",
       " ('ah', 'z'),\n",
       " ('ih', 'z'),\n",
       " ('ih', 'z'),\n",
       " ('ih', 'z'),\n",
       " ('ih', 'z'),\n",
       " ('ih', 'z'),\n",
       " ('ih', 'z'),\n",
       " ('ih', 'z'),\n",
       " ('ah', 'z'),\n",
       " ('ah', 'z'),\n",
       " ('ih', 'z'),\n",
       " ('ih', 'z'),\n",
       " ('ih', 'z'),\n",
       " ('ih', 'z'),\n",
       " ('ih', 'z'),\n",
       " ('ih', 'zh'),\n",
       " ('ah', 'z'),\n",
       " ('ih', 'z'),\n",
       " ('ah', 'z'),\n",
       " ('ah', 'z'),\n",
       " ('ah', 'z'),\n",
       " ('ah', 's'),\n",
       " ('ih', 's'),\n",
       " ('ih', 's'),\n",
       " ('ih', 'z'),\n",
       " ('ih', 'z'),\n",
       " ('ih', 'z'),\n",
       " ('ih', 'z'),\n",
       " ('ih', 's'),\n",
       " ('ih', 's'),\n",
       " ('ih', 'z'),\n",
       " ('ih', 'z'),\n",
       " ('ah',),\n",
       " ('eh', 'z'),\n",
       " ('ih', 'z'),\n",
       " ('ih', 'z'),\n",
       " ('ih', 'z'),\n",
       " ('ih', 'z'),\n",
       " ('ih', 'z'),\n",
       " ('eh', 'z'),\n",
       " ('ih', 'z'),\n",
       " ('ah', 'z'),\n",
       " ('ih', 'z'),\n",
       " ('ah', 'z'),\n",
       " ('ih', 'z'),\n",
       " ('ih', 'z'),\n",
       " ('ih', 'sh'),\n",
       " ('ih', 'z'),\n",
       " ('ih', 'z'),\n",
       " ('ih', 's'),\n",
       " ('ih', 'z'),\n",
       " ('ih', 'z'),\n",
       " ('ih', 'z'),\n",
       " ('ih', 'z'),\n",
       " ('ih', 'z'),\n",
       " ('IVER', 'ih', 's'),\n",
       " ('ih', 'z'),\n",
       " ('ih', 'z'),\n",
       " ('s',),\n",
       " ('ih', 'z'),\n",
       " ('ih', 'z'),\n",
       " ('ih', 'z'),\n",
       " ('ih', 'z'),\n",
       " ('ih', 'z'),\n",
       " ('ih', 'z'),\n",
       " ('eh', 'z'),\n",
       " ('ih', 'z'),\n",
       " ('uh', 'z'),\n",
       " ('ih', 'z'),\n",
       " ('ih', 's'),\n",
       " ('ih', 'z'),\n",
       " ('ih', 'z'),\n",
       " ('ih', 'z'),\n",
       " ('ih', 'z'),\n",
       " ('ih', 'z'),\n",
       " ('ih', 'z'),\n",
       " ('ah', 's'),\n",
       " ('ih', 'z'),\n",
       " ('ih', 'z'),\n",
       " ('ih', 'z'),\n",
       " ('ih', 'z'),\n",
       " ('ih', 'z'),\n",
       " ('ih', 'z'),\n",
       " ('ih', 'z'),\n",
       " ('ah', 'z'),\n",
       " ('ih', 'z'),\n",
       " ('ih', 's'),\n",
       " ('ih', 'z'),\n",
       " ('ih', 'z'),\n",
       " ('ih', 'z'),\n",
       " ('ih', 'z'),\n",
       " ('ih', 'z'),\n",
       " ('ih', 'z'),\n",
       " ('ih', 'z'),\n",
       " ('ih', 'z'),\n",
       " ('ih', 'z'),\n",
       " ('ih', 's'),\n",
       " ('ih', 's'),\n",
       " ('ih', 'z'),\n",
       " ('ih', 'z'),\n",
       " ('ih', 'z'),\n",
       " ('s', 'ih', 'z'),\n",
       " ('ih', 'z'),\n",
       " ('ih', 'z'),\n",
       " ('ih', 'z'),\n",
       " ('ih', 'z'),\n",
       " ('ih', 'z'),\n",
       " ('ih', 's'),\n",
       " ('ih', 'z'),\n",
       " ('ah', 'z'),\n",
       " ('z',),\n",
       " ('ih', 'z'),\n",
       " ('eh', 'z'),\n",
       " ('ih', 'z'),\n",
       " ('ih', 'z'),\n",
       " ('ih', 'z'),\n",
       " ('ih', 'z'),\n",
       " ('ih', 'z'),\n",
       " ('ih', 'z'),\n",
       " ('ih', 'z'),\n",
       " ('ih', 'z'),\n",
       " ('ih', 'z'),\n",
       " ('ih', 'z'),\n",
       " ('ih', 'z'),\n",
       " ('ih', 'z'),\n",
       " ('ah', 'z'),\n",
       " ('ih', 's'),\n",
       " ('ih', 'z'),\n",
       " ('ih', 'z'),\n",
       " ('ih', 'z'),\n",
       " ('z',),\n",
       " ('ih', 'z'),\n",
       " ('eh', 'z'),\n",
       " ('ih', 'z'),\n",
       " ('ih', 's'),\n",
       " ('ih', 'z'),\n",
       " ('ih', 'z'),\n",
       " ('ih', 'z'),\n",
       " ('ih', 's'),\n",
       " ('ih', 's'),\n",
       " ('s',),\n",
       " ('ih', 'z'),\n",
       " ('ih', 'z'),\n",
       " ('ih', 'z'),\n",
       " ('ih', 'z'),\n",
       " ('ih', 'z'),\n",
       " ('ih', 'z'),\n",
       " ('ah', 'z'),\n",
       " ('ah', 'z'),\n",
       " ('ih', 's'),\n",
       " ('uh', 'z'),\n",
       " ('eh', 'z'),\n",
       " ('ih', 's'),\n",
       " ('ih', 's'),\n",
       " ('ih', 'z'),\n",
       " ('ih', 'z'),\n",
       " ('ih', 'z'),\n",
       " ('ih', 'z'),\n",
       " ('ih', 'z'),\n",
       " ('ih', 'z'),\n",
       " ('ah', 'z'),\n",
       " ('ih', 'z'),\n",
       " ('ih', 'z'),\n",
       " ('ih', 'z'),\n",
       " ('ih', 's'),\n",
       " ('ih', 'z'),\n",
       " ('ih', 's'),\n",
       " ('ih', 'z'),\n",
       " ('ih', 'z'),\n",
       " ('ih', 'z'),\n",
       " ('ih', 's'),\n",
       " ('ih', 'z'),\n",
       " ('ih', 'z'),\n",
       " ('ih', 'z'),\n",
       " ('z',),\n",
       " ('uh', 'z'),\n",
       " ('ah', 's'),\n",
       " ('ih', 'z'),\n",
       " ('ih', 'z'),\n",
       " ('ih', 'z'),\n",
       " ('ih', 'z'),\n",
       " ('iy', 'z'),\n",
       " ('ih', 'z'),\n",
       " ('ih', 'z'),\n",
       " ('ih', 'z'),\n",
       " ('ih', 'z'),\n",
       " ('ih', 's'),\n",
       " ('ih', 'z'),\n",
       " ('ih', 'z'),\n",
       " ('ih', 'z'),\n",
       " ('ih', 's'),\n",
       " ('ih', 'z'),\n",
       " ('ih', 'z'),\n",
       " ('ih', 'z'),\n",
       " ('ih', 's'),\n",
       " ('eh', 'z'),\n",
       " ('ih', 'z'),\n",
       " ('ih', 's'),\n",
       " ('ih', 'z'),\n",
       " ('ih', 'z'),\n",
       " ('ah', 'z'),\n",
       " ('uw', 's'),\n",
       " ('ih', 'z'),\n",
       " ('ih', 'z'),\n",
       " ('ih', 'z'),\n",
       " ('ih', 's'),\n",
       " ('z',),\n",
       " ('ih', 'z'),\n",
       " ('ih', 'z'),\n",
       " ('ih', 'z'),\n",
       " ('ih', 'z'),\n",
       " ('ih', 'z'),\n",
       " ('ih', 'z'),\n",
       " ('ih', 'z'),\n",
       " ('ih', 'z'),\n",
       " ('ih', 'z'),\n",
       " ('ih', 'z'),\n",
       " ('ih', 'z'),\n",
       " ('ih', 'z'),\n",
       " ('ih', 'z'),\n",
       " ('ih', 's'),\n",
       " ('ih', 'z'),\n",
       " ('ih', 'z'),\n",
       " ('ih', 'z'),\n",
       " ('ih', 'z'),\n",
       " ('ih', 'z'),\n",
       " ('ih', 'z'),\n",
       " ('ih', 'z'),\n",
       " ('ih', 'z'),\n",
       " ('ih', 'z'),\n",
       " ('ih', 'z'),\n",
       " ('ih',),\n",
       " ('ah', 'z'),\n",
       " ('ih', 'z'),\n",
       " ('ih', 'z'),\n",
       " ('ih', 's'),\n",
       " ('ih', 'z'),\n",
       " ('ih', 's'),\n",
       " ('ih', 's'),\n",
       " ('ih', 'z'),\n",
       " ('ih', 'z'),\n",
       " ('ah', 'z'),\n",
       " ('ih', 'z'),\n",
       " ('z',),\n",
       " ('ih', 'z'),\n",
       " ('ih', 's'),\n",
       " ('ih', 'z'),\n",
       " ('ih', 's'),\n",
       " ('ih', 'z'),\n",
       " ('ih', 'z'),\n",
       " ('ih', 'z'),\n",
       " ('ih', 'z'),\n",
       " ('ih', 's'),\n",
       " ('ih', 'z'),\n",
       " ('ih', 'z'),\n",
       " ('ih', 'z'),\n",
       " ('s',),\n",
       " ('ih', 'z'),\n",
       " ('ih', 'z'),\n",
       " ('ih', 'z'),\n",
       " ('ih', 'z'),\n",
       " ('ih', 's'),\n",
       " ('ih', 's'),\n",
       " ('ih', 'z'),\n",
       " ('ih', 's'),\n",
       " ('ih', 's'),\n",
       " ('ih', 'z'),\n",
       " ('ih', 'zh'),\n",
       " ('ih', 'z'),\n",
       " ('ih', 'z'),\n",
       " ('ih', 'z'),\n",
       " ('ih', 'z'),\n",
       " ('eh', 'z'),\n",
       " ('ih', 'z'),\n",
       " ('ih', 'z'),\n",
       " ('ih', 'z'),\n",
       " ('ih', 'z'),\n",
       " ('uh', 'z'),\n",
       " ('ih', 'z'),\n",
       " ('ah', 's'),\n",
       " ('ih', 'z'),\n",
       " ('ih', 'z'),\n",
       " ('ah', 'z'),\n",
       " ('ih', 'z'),\n",
       " ('ih', 'z'),\n",
       " ('ih', 'z'),\n",
       " ('ih', 'z'),\n",
       " ('ih', 'z'),\n",
       " ('eh', 'z'),\n",
       " ('ih', 'z'),\n",
       " ('ih', 'z'),\n",
       " ('ih', 's'),\n",
       " ('ih', 'z'),\n",
       " ('z',),\n",
       " ('ih', 's'),\n",
       " ('ih', 'z'),\n",
       " ('ih', 'z'),\n",
       " ('ah',),\n",
       " ('ah', 'z'),\n",
       " ('ah', 'z'),\n",
       " ('ih', 'z'),\n",
       " ('ih', 's'),\n",
       " ('ih', 'z'),\n",
       " ('ih', 's'),\n",
       " ('ah', 's'),\n",
       " ('z',),\n",
       " ('uh', 'z'),\n",
       " ('ih', 'z'),\n",
       " ('ih', 'z'),\n",
       " ('ih', 'z'),\n",
       " ('ih', 'z'),\n",
       " ('ah', 'z'),\n",
       " ('ah', 'sh'),\n",
       " ('ih', 'z'),\n",
       " ('ih', 'z'),\n",
       " ('ih', 'z'),\n",
       " ('z',),\n",
       " ('ih', 's'),\n",
       " ('ih', 'z'),\n",
       " ('ih', 'z'),\n",
       " ('ih', 'z'),\n",
       " ('ih', 'z'),\n",
       " ('ih', 'z'),\n",
       " ('ih', 'z'),\n",
       " ('ih', 'z'),\n",
       " ('ih', 'z'),\n",
       " ('ih', 'z'),\n",
       " ('ih', 'z'),\n",
       " ('ah', 'z'),\n",
       " ('ih', 'z'),\n",
       " ('ih', 's'),\n",
       " ('ih', 's'),\n",
       " ('uh', 'z'),\n",
       " ('ah', 's'),\n",
       " ('ih', 'z'),\n",
       " ('ih', 'z'),\n",
       " ('ih', 'z'),\n",
       " ('ih', 'z'),\n",
       " ('ih', 'z'),\n",
       " ('ih', 'z'),\n",
       " ('ih', 's'),\n",
       " ('eh', 'z'),\n",
       " ('ih', 'z'),\n",
       " ('ih', 's'),\n",
       " ('ih', 'z'),\n",
       " ('ih', 'z'),\n",
       " ('ih', 'z'),\n",
       " ('ih', 's'),\n",
       " ('ih', 'z'),\n",
       " ('ih', 'z'),\n",
       " ('ih', 's'),\n",
       " ('ih', 'z'),\n",
       " ('z',),\n",
       " ('w', 'ih', 'z'),\n",
       " ('ih', 'z'),\n",
       " ('z',),\n",
       " ('ih', 's'),\n",
       " ('ih', 'z'),\n",
       " ('ih', 'z'),\n",
       " ('ih', 'z'),\n",
       " ('ih', 's'),\n",
       " ('ah', 's'),\n",
       " ('ih', 'z'),\n",
       " ('ih', 's'),\n",
       " ('ih', 's'),\n",
       " ('ah', 'z'),\n",
       " ('ih', 'z'),\n",
       " ('z',),\n",
       " ('ih', 'z'),\n",
       " ('ih', 'z'),\n",
       " ('ih', 'z'),\n",
       " ('ih', 'z'),\n",
       " ('ih', 's'),\n",
       " ('ih', 'z'),\n",
       " ('ih', 'z'),\n",
       " ('ih', 'z'),\n",
       " ('ih', 'z'),\n",
       " ('s',),\n",
       " ('ih', 'z'),\n",
       " ('ih', 'z'),\n",
       " ('ih', 'z'),\n",
       " ('ih', 's'),\n",
       " ('ih', 'z'),\n",
       " ('ih', 's'),\n",
       " ('ih', 'z'),\n",
       " ('eh', 'z'),\n",
       " ('ih', 's'),\n",
       " ('ih', 'z'),\n",
       " ('ih', 'z'),\n",
       " ('ih', 'z'),\n",
       " ('ih', 'z'),\n",
       " ('ih', 's'),\n",
       " ('eh', 'z', 'ah'),\n",
       " ('ih', 'z'),\n",
       " ('ih', 'z'),\n",
       " ('ih', 'z'),\n",
       " ('ih', 'z'),\n",
       " ('ih', 's'),\n",
       " ('ih', 'z'),\n",
       " ('ih', 'zh'),\n",
       " ('ih', 'z'),\n",
       " ('ih', 'z'),\n",
       " ('ih', 'z'),\n",
       " ('uh', 'z'),\n",
       " ('ih', 'z'),\n",
       " ('ih', 'z'),\n",
       " ('ih', 'z'),\n",
       " ('ih', 's'),\n",
       " ('ih', 'z'),\n",
       " ('eh', 's'),\n",
       " ('ih', 'z'),\n",
       " ('ih', 'z'),\n",
       " ('ih', 'z'),\n",
       " ('ih', 'z'),\n",
       " ('ih', 's'),\n",
       " ('ih', 'z'),\n",
       " ...]"
      ]
     },
     "execution_count": 70,
     "metadata": {},
     "output_type": "execute_result"
    }
   ],
   "source": [
    "list(map(getPhones,\n",
    "         findWordTokensOf('is')))"
   ]
  },
  {
   "cell_type": "markdown",
   "metadata": {},
   "source": [
    "Given there are only two tokens of `i` and the distribution over other narrow phonetic transcriptions of these two words, I'm going to map `i` to `ih`."
   ]
  },
  {
   "cell_type": "code",
   "execution_count": 71,
   "metadata": {
    "ExecuteTime": {
     "end_time": "2019-05-07T17:36:49.981530Z",
     "start_time": "2019-05-07T17:36:49.978474Z"
    }
   },
   "outputs": [
    {
     "data": {
      "text/plain": [
       "{('h', 'h'), ('hhn', 'h̃'), ('i', 'ɪ'), ('id', 'ɪ'), ('iyih', 'i')}"
      ]
     },
     "execution_count": 71,
     "metadata": {},
     "output_type": "execute_result"
    }
   ],
   "source": [
    "remappings.add(('i', buckeyeToUnicodeIPA('ih')))\n",
    "remappings"
   ]
  },
  {
   "cell_type": "markdown",
   "metadata": {},
   "source": [
    "### `q`"
   ]
  },
  {
   "cell_type": "code",
   "execution_count": 72,
   "metadata": {
    "ExecuteTime": {
     "end_time": "2019-05-07T17:36:59.887894Z",
     "start_time": "2019-05-07T17:36:59.640636Z"
    }
   },
   "outputs": [
    {
     "data": {
      "text/plain": [
       "[Word('network', 511.393, 511.773, ['n', 'eh', 't', 'w', 'er', 'k'], ['n', 'eh', 'q', 'w', 'er', 'k'], 'NN')]"
      ]
     },
     "execution_count": 72,
     "metadata": {},
     "output_type": "execute_result"
    },
    {
     "data": {
      "text/plain": [
       "[('n', 'eh', 'q', 'w', 'er', 'k'),\n",
       " ('n', 'eh', 'tq', 'w', 'er', 'k'),\n",
       " ('n', 'eh', 'tq', 'w', 'ah', 'r', 'k'),\n",
       " ('n', 'eh', 'tq', 'w', 'er', 'k'),\n",
       " ('n', 'eh', 't', 'w', 'er', 'r', 'k'),\n",
       " ('n', 'eh', 'w', 'ah', 'r', 'k'),\n",
       " ('n', 'eh', 'tq', 'w', 'ah', 'r', 'k'),\n",
       " ('n', 'eh', 'tq', 'w', 'ah', 'r', 'k'),\n",
       " ('n', 'eh', 'tq', 'w', 'er', 'k'),\n",
       " ('n', 'eh', 'tq', 'w', 'er', 'k'),\n",
       " ('n', 'n', 'eh', 't', 'w', 'er', 'k')]"
      ]
     },
     "execution_count": 72,
     "metadata": {},
     "output_type": "execute_result"
    }
   ],
   "source": [
    "findWordsWithPhone('q')\n",
    "list(map(getPhones,\n",
    "         findWordTokensOf('network')))"
   ]
  },
  {
   "cell_type": "markdown",
   "metadata": {
    "ExecuteTime": {
     "end_time": "2019-05-07T17:37:07.206618Z",
     "start_time": "2019-05-07T17:37:07.201964Z"
    }
   },
   "source": [
    "Given there is exactly one word token in the whole corpus with `q`, and all the other narrow transcriptions of this word (well nearly all - all that have a stop in the coda of the first syllable) have `tq`, I'm going to assume 'q' is a typo, and map `q` to `tq`."
   ]
  },
  {
   "cell_type": "code",
   "execution_count": 74,
   "metadata": {
    "ExecuteTime": {
     "end_time": "2019-05-07T17:37:13.820043Z",
     "start_time": "2019-05-07T17:37:13.815550Z"
    }
   },
   "outputs": [
    {
     "data": {
      "text/plain": [
       "{('h', 'h'), ('hhn', 'h̃'), ('i', 'ɪ'), ('id', 'ɪ'), ('iyih', 'i'), ('q', 'ʔ')}"
      ]
     },
     "execution_count": 74,
     "metadata": {},
     "output_type": "execute_result"
    }
   ],
   "source": [
    "remappings.add(('q', buckeyeToUnicodeIPA('tq')))\n",
    "remappings"
   ]
  },
  {
   "cell_type": "markdown",
   "metadata": {},
   "source": [
    "### `a`"
   ]
  },
  {
   "cell_type": "code",
   "execution_count": 75,
   "metadata": {
    "ExecuteTime": {
     "end_time": "2019-05-07T17:37:21.585911Z",
     "start_time": "2019-05-07T17:37:21.396173Z"
    }
   },
   "outputs": [
    {
     "data": {
      "text/plain": [
       "[Word('towards', 507.821, 508.073, ['t', 'ah', 'w', 'ow', 'r', 'd', 'z'], ['t', 'w', 'r', 'a', 'd', 'z'], 'IN'),\n",
       " Word('a', 186.939359, 186.992622, ['ey'], ['a'], 'DT'),\n",
       " Word('on', 387.436, 387.652, ['aa', 'n'], ['a', 'n'], 'IN'),\n",
       " Word('everyone', 180.716, 181.017, ['eh', 'v', 'r', 'iy', 'w', 'ah', 'n'], ['eh', 'v', 'r', 'a', 'w', 'ah', 'n'], 'NN')]"
      ]
     },
     "execution_count": 75,
     "metadata": {},
     "output_type": "execute_result"
    }
   ],
   "source": [
    "findWordsWithPhone('a')"
   ]
  },
  {
   "cell_type": "code",
   "execution_count": 76,
   "metadata": {
    "ExecuteTime": {
     "end_time": "2019-05-07T17:37:25.048572Z",
     "start_time": "2019-05-07T17:37:24.852355Z"
    }
   },
   "outputs": [
    {
     "data": {
      "text/plain": [
       "Counter({('ah',): 2849,\n",
       "         ('ih',): 765,\n",
       "         ('ey',): 266,\n",
       "         ('eh',): 316,\n",
       "         ('uh',): 36,\n",
       "         ('l',): 4,\n",
       "         ('aa',): 113,\n",
       "         ('ae',): 11,\n",
       "         ('er',): 31,\n",
       "         ('el',): 55,\n",
       "         ('r', 'ih'): 1,\n",
       "         ('iy',): 13,\n",
       "         ('uw',): 14,\n",
       "         ('em',): 5,\n",
       "         ('y', 'ow'): 1,\n",
       "         ('en',): 8,\n",
       "         ('k',): 1,\n",
       "         ('p',): 1,\n",
       "         ('d', 'ih'): 2,\n",
       "         (): 3,\n",
       "         ('ow',): 8,\n",
       "         ('eng',): 3,\n",
       "         ('t',): 1,\n",
       "         ('v', 'ah'): 1,\n",
       "         ('nx', 'ah'): 2,\n",
       "         ('dx', 'ah'): 1,\n",
       "         ('m',): 1,\n",
       "         ('w',): 1,\n",
       "         ('n', 'ah'): 4,\n",
       "         ('a',): 1,\n",
       "         ('d',): 1,\n",
       "         ('ay',): 7,\n",
       "         ('ah', 'v'): 1,\n",
       "         ('aon',): 1,\n",
       "         ('hh',): 1,\n",
       "         ('z', 'uh'): 1,\n",
       "         ('dh', 'ey'): 1,\n",
       "         ('m', 'ah'): 1,\n",
       "         ('k', 'ah'): 1,\n",
       "         ('y', 'ah'): 1,\n",
       "         ('eh', 'm'): 1,\n",
       "         ('y', 'ih'): 1,\n",
       "         ('SIL', 'ah'): 1,\n",
       "         ('ahn',): 2,\n",
       "         ('er', 'ah'): 1,\n",
       "         ('s',): 2,\n",
       "         ('dx', 'ih'): 1,\n",
       "         ('ah', 'm'): 1,\n",
       "         ('uw', 'm', 'ey', 'nx', 'ah', 'hh', 'ah'): 1,\n",
       "         ('ay', 'ih', 'l', 'ah'): 1,\n",
       "         ('dh', 'ah'): 1,\n",
       "         ('z',): 1,\n",
       "         ('ih', 'ah'): 1})"
      ]
     },
     "execution_count": 76,
     "metadata": {},
     "output_type": "execute_result"
    },
    {
     "data": {
      "text/plain": [
       "[('ah',),\n",
       " ('ah',),\n",
       " ('ah',),\n",
       " ('ih',),\n",
       " ('ih',),\n",
       " ('ey',),\n",
       " ('ey',),\n",
       " ('ah',),\n",
       " ('ey',),\n",
       " ('ah',),\n",
       " ('ah',),\n",
       " ('ah',),\n",
       " ('ah',),\n",
       " ('ey',),\n",
       " ('ah',),\n",
       " ('ah',),\n",
       " ('ah',),\n",
       " ('ah',),\n",
       " ('ih',),\n",
       " ('ih',),\n",
       " ('ah',),\n",
       " ('ah',),\n",
       " ('ah',),\n",
       " ('eh',),\n",
       " ('ah',),\n",
       " ('ah',),\n",
       " ('ih',),\n",
       " ('ah',),\n",
       " ('ah',),\n",
       " ('ah',),\n",
       " ('ah',),\n",
       " ('ah',),\n",
       " ('ih',),\n",
       " ('ah',),\n",
       " ('ah',),\n",
       " ('ah',),\n",
       " ('ih',),\n",
       " ('ih',),\n",
       " ('ih',),\n",
       " ('ey',),\n",
       " ('ah',),\n",
       " ('ah',),\n",
       " ('ah',),\n",
       " ('ey',),\n",
       " ('ah',),\n",
       " ('ih',),\n",
       " ('ah',),\n",
       " ('ih',),\n",
       " ('ih',),\n",
       " ('ah',),\n",
       " ('ah',),\n",
       " ('ah',),\n",
       " ('ah',),\n",
       " ('ah',),\n",
       " ('ih',),\n",
       " ('ah',),\n",
       " ('ey',),\n",
       " ('ah',),\n",
       " ('ah',),\n",
       " ('ah',),\n",
       " ('ah',),\n",
       " ('ah',),\n",
       " ('ih',),\n",
       " ('ah',),\n",
       " ('ih',),\n",
       " ('ih',),\n",
       " ('uh',),\n",
       " ('ey',),\n",
       " ('ah',),\n",
       " ('ah',),\n",
       " ('ah',),\n",
       " ('ih',),\n",
       " ('ih',),\n",
       " ('ah',),\n",
       " ('ah',),\n",
       " ('ah',),\n",
       " ('ih',),\n",
       " ('ah',),\n",
       " ('ih',),\n",
       " ('ah',),\n",
       " ('ah',),\n",
       " ('eh',),\n",
       " ('ah',),\n",
       " ('ah',),\n",
       " ('ah',),\n",
       " ('ah',),\n",
       " ('ah',),\n",
       " ('ah',),\n",
       " ('eh',),\n",
       " ('uh',),\n",
       " ('ah',),\n",
       " ('ih',),\n",
       " ('eh',),\n",
       " ('ah',),\n",
       " ('ey',),\n",
       " ('ih',),\n",
       " ('ih',),\n",
       " ('ah',),\n",
       " ('ah',),\n",
       " ('ah',),\n",
       " ('ah',),\n",
       " ('ah',),\n",
       " ('ah',),\n",
       " ('ah',),\n",
       " ('ih',),\n",
       " ('ah',),\n",
       " ('ah',),\n",
       " ('l',),\n",
       " ('ah',),\n",
       " ('aa',),\n",
       " ('ah',),\n",
       " ('ah',),\n",
       " ('eh',),\n",
       " ('ah',),\n",
       " ('ah',),\n",
       " ('ah',),\n",
       " ('ih',),\n",
       " ('ah',),\n",
       " ('ih',),\n",
       " ('ah',),\n",
       " ('ah',),\n",
       " ('eh',),\n",
       " ('ah',),\n",
       " ('ah',),\n",
       " ('ah',),\n",
       " ('ah',),\n",
       " ('ih',),\n",
       " ('ih',),\n",
       " ('ah',),\n",
       " ('ih',),\n",
       " ('ah',),\n",
       " ('ah',),\n",
       " ('l',),\n",
       " ('ah',),\n",
       " ('ae',),\n",
       " ('ah',),\n",
       " ('ah',),\n",
       " ('ah',),\n",
       " ('ih',),\n",
       " ('ah',),\n",
       " ('ah',),\n",
       " ('er',),\n",
       " ('ah',),\n",
       " ('ih',),\n",
       " ('ah',),\n",
       " ('aa',),\n",
       " ('ah',),\n",
       " ('eh',),\n",
       " ('ah',),\n",
       " ('ih',),\n",
       " ('ah',),\n",
       " ('ah',),\n",
       " ('ey',),\n",
       " ('ah',),\n",
       " ('ah',),\n",
       " ('ih',),\n",
       " ('ah',),\n",
       " ('ah',),\n",
       " ('ey',),\n",
       " ('ih',),\n",
       " ('ah',),\n",
       " ('ah',),\n",
       " ('ah',),\n",
       " ('aa',),\n",
       " ('ah',),\n",
       " ('ah',),\n",
       " ('ah',),\n",
       " ('ah',),\n",
       " ('ih',),\n",
       " ('ih',),\n",
       " ('ah',),\n",
       " ('ah',),\n",
       " ('ih',),\n",
       " ('ih',),\n",
       " ('ah',),\n",
       " ('ah',),\n",
       " ('ah',),\n",
       " ('ah',),\n",
       " ('ah',),\n",
       " ('eh',),\n",
       " ('ah',),\n",
       " ('ah',),\n",
       " ('ah',),\n",
       " ('ah',),\n",
       " ('ah',),\n",
       " ('ah',),\n",
       " ('ih',),\n",
       " ('ah',),\n",
       " ('ah',),\n",
       " ('ah',),\n",
       " ('ah',),\n",
       " ('ih',),\n",
       " ('ih',),\n",
       " ('ah',),\n",
       " ('ah',),\n",
       " ('aa',),\n",
       " ('ih',),\n",
       " ('ah',),\n",
       " ('ah',),\n",
       " ('ah',),\n",
       " ('aa',),\n",
       " ('ah',),\n",
       " ('el',),\n",
       " ('ey',),\n",
       " ('ah',),\n",
       " ('ah',),\n",
       " ('ah',),\n",
       " ('ah',),\n",
       " ('eh',),\n",
       " ('ah',),\n",
       " ('ah',),\n",
       " ('ah',),\n",
       " ('ah',),\n",
       " ('eh',),\n",
       " ('ah',),\n",
       " ('ah',),\n",
       " ('ah',),\n",
       " ('ah',),\n",
       " ('eh',),\n",
       " ('ah',),\n",
       " ('ah',),\n",
       " ('ah',),\n",
       " ('ah',),\n",
       " ('ah',),\n",
       " ('ah',),\n",
       " ('ah',),\n",
       " ('ah',),\n",
       " ('ah',),\n",
       " ('ah',),\n",
       " ('ah',),\n",
       " ('ih',),\n",
       " ('ah',),\n",
       " ('ih',),\n",
       " ('ah',),\n",
       " ('eh',),\n",
       " ('ah',),\n",
       " ('ih',),\n",
       " ('ah',),\n",
       " ('ih',),\n",
       " ('ih',),\n",
       " ('ah',),\n",
       " ('ih',),\n",
       " ('ih',),\n",
       " ('ah',),\n",
       " ('ah',),\n",
       " ('ah',),\n",
       " ('ah',),\n",
       " ('ah',),\n",
       " ('ah',),\n",
       " ('ah',),\n",
       " ('ah',),\n",
       " ('ah',),\n",
       " ('ah',),\n",
       " ('ih',),\n",
       " ('ah',),\n",
       " ('ah',),\n",
       " ('ah',),\n",
       " ('ah',),\n",
       " ('ah',),\n",
       " ('ah',),\n",
       " ('ah',),\n",
       " ('ih',),\n",
       " ('ih',),\n",
       " ('ah',),\n",
       " ('ih',),\n",
       " ('ah',),\n",
       " ('ah',),\n",
       " ('eh',),\n",
       " ('ey',),\n",
       " ('eh',),\n",
       " ('ah',),\n",
       " ('ih',),\n",
       " ('ah',),\n",
       " ('ah',),\n",
       " ('ih',),\n",
       " ('ah',),\n",
       " ('ih',),\n",
       " ('ah',),\n",
       " ('ah',),\n",
       " ('ah',),\n",
       " ('ih',),\n",
       " ('ah',),\n",
       " ('ah',),\n",
       " ('uh',),\n",
       " ('ih',),\n",
       " ('ah',),\n",
       " ('ah',),\n",
       " ('ah',),\n",
       " ('ah',),\n",
       " ('ah',),\n",
       " ('ah',),\n",
       " ('ah',),\n",
       " ('ah',),\n",
       " ('ih',),\n",
       " ('ah',),\n",
       " ('ah',),\n",
       " ('ah',),\n",
       " ('ah',),\n",
       " ('ey',),\n",
       " ('ah',),\n",
       " ('ah',),\n",
       " ('ah',),\n",
       " ('ah',),\n",
       " ('ih',),\n",
       " ('ih',),\n",
       " ('ah',),\n",
       " ('uh',),\n",
       " ('ah',),\n",
       " ('ah',),\n",
       " ('ah',),\n",
       " ('ah',),\n",
       " ('uh',),\n",
       " ('ah',),\n",
       " ('ih',),\n",
       " ('ah',),\n",
       " ('ih',),\n",
       " ('ah',),\n",
       " ('ih',),\n",
       " ('ah',),\n",
       " ('ah',),\n",
       " ('ah',),\n",
       " ('ah',),\n",
       " ('ah',),\n",
       " ('ah',),\n",
       " ('ey',),\n",
       " ('ah',),\n",
       " ('ah',),\n",
       " ('ah',),\n",
       " ('ah',),\n",
       " ('ah',),\n",
       " ('ah',),\n",
       " ('ah',),\n",
       " ('ah',),\n",
       " ('ah',),\n",
       " ('ah',),\n",
       " ('ey',),\n",
       " ('ah',),\n",
       " ('ah',),\n",
       " ('ah',),\n",
       " ('ih',),\n",
       " ('ah',),\n",
       " ('ah',),\n",
       " ('ih',),\n",
       " ('ah',),\n",
       " ('ah',),\n",
       " ('ah',),\n",
       " ('ah',),\n",
       " ('ah',),\n",
       " ('ah',),\n",
       " ('ah',),\n",
       " ('ey',),\n",
       " ('ah',),\n",
       " ('ey',),\n",
       " ('ih',),\n",
       " ('ah',),\n",
       " ('ah',),\n",
       " ('ah',),\n",
       " ('eh',),\n",
       " ('ah',),\n",
       " ('ah',),\n",
       " ('ah',),\n",
       " ('ih',),\n",
       " ('ah',),\n",
       " ('ih',),\n",
       " ('ah',),\n",
       " ('ih',),\n",
       " ('ah',),\n",
       " ('ah',),\n",
       " ('ah',),\n",
       " ('ey',),\n",
       " ('ah',),\n",
       " ('ah',),\n",
       " ('ah',),\n",
       " ('ah',),\n",
       " ('ah',),\n",
       " ('ah',),\n",
       " ('ah',),\n",
       " ('ah',),\n",
       " ('ah',),\n",
       " ('ah',),\n",
       " ('ah',),\n",
       " ('ah',),\n",
       " ('ah',),\n",
       " ('r', 'ih'),\n",
       " ('ah',),\n",
       " ('ah',),\n",
       " ('ah',),\n",
       " ('ih',),\n",
       " ('er',),\n",
       " ('ah',),\n",
       " ('ah',),\n",
       " ('ah',),\n",
       " ('ah',),\n",
       " ('ah',),\n",
       " ('ah',),\n",
       " ('ih',),\n",
       " ('ah',),\n",
       " ('ah',),\n",
       " ('ah',),\n",
       " ('aa',),\n",
       " ('ah',),\n",
       " ('eh',),\n",
       " ('ah',),\n",
       " ('ih',),\n",
       " ('ah',),\n",
       " ('ey',),\n",
       " ('er',),\n",
       " ('ah',),\n",
       " ('ey',),\n",
       " ('eh',),\n",
       " ('ah',),\n",
       " ('ah',),\n",
       " ('ey',),\n",
       " ('aa',),\n",
       " ('eh',),\n",
       " ('eh',),\n",
       " ('aa',),\n",
       " ('ih',),\n",
       " ('ah',),\n",
       " ('ey',),\n",
       " ('ih',),\n",
       " ('ah',),\n",
       " ('ah',),\n",
       " ('ah',),\n",
       " ('uh',),\n",
       " ('ah',),\n",
       " ('eh',),\n",
       " ('ih',),\n",
       " ('ah',),\n",
       " ('ah',),\n",
       " ('ah',),\n",
       " ('ah',),\n",
       " ('ah',),\n",
       " ('ah',),\n",
       " ('ih',),\n",
       " ('ah',),\n",
       " ('ih',),\n",
       " ('ih',),\n",
       " ('ah',),\n",
       " ('ah',),\n",
       " ('ah',),\n",
       " ('ah',),\n",
       " ('ih',),\n",
       " ('eh',),\n",
       " ('ah',),\n",
       " ('ah',),\n",
       " ('ih',),\n",
       " ('ah',),\n",
       " ('ah',),\n",
       " ('ey',),\n",
       " ('ah',),\n",
       " ('ah',),\n",
       " ('ah',),\n",
       " ('ah',),\n",
       " ('ah',),\n",
       " ('eh',),\n",
       " ('eh',),\n",
       " ('ih',),\n",
       " ('ah',),\n",
       " ('ah',),\n",
       " ('ih',),\n",
       " ('ih',),\n",
       " ('ey',),\n",
       " ('eh',),\n",
       " ('ih',),\n",
       " ('ey',),\n",
       " ('er',),\n",
       " ('iy',),\n",
       " ('ah',),\n",
       " ('ah',),\n",
       " ('ih',),\n",
       " ('ah',),\n",
       " ('er',),\n",
       " ('eh',),\n",
       " ('ah',),\n",
       " ('ah',),\n",
       " ('ih',),\n",
       " ('ih',),\n",
       " ('ah',),\n",
       " ('ih',),\n",
       " ('ah',),\n",
       " ('aa',),\n",
       " ('eh',),\n",
       " ('ah',),\n",
       " ('ah',),\n",
       " ('ah',),\n",
       " ('ah',),\n",
       " ('ah',),\n",
       " ('ah',),\n",
       " ('ah',),\n",
       " ('ah',),\n",
       " ('eh',),\n",
       " ('ah',),\n",
       " ('ih',),\n",
       " ('ah',),\n",
       " ('ah',),\n",
       " ('ah',),\n",
       " ('ah',),\n",
       " ('ah',),\n",
       " ('ah',),\n",
       " ('ah',),\n",
       " ('el',),\n",
       " ('ah',),\n",
       " ('ah',),\n",
       " ('ah',),\n",
       " ('ih',),\n",
       " ('ah',),\n",
       " ('ah',),\n",
       " ('ah',),\n",
       " ('ey',),\n",
       " ('ey',),\n",
       " ('ey',),\n",
       " ('ah',),\n",
       " ('el',),\n",
       " ('ey',),\n",
       " ('ah',),\n",
       " ('el',),\n",
       " ('ah',),\n",
       " ('ah',),\n",
       " ('ey',),\n",
       " ('ah',),\n",
       " ('ah',),\n",
       " ('ah',),\n",
       " ('ih',),\n",
       " ('ih',),\n",
       " ('eh',),\n",
       " ('aa',),\n",
       " ('ah',),\n",
       " ('ah',),\n",
       " ('ah',),\n",
       " ('ah',),\n",
       " ('eh',),\n",
       " ('ah',),\n",
       " ('ih',),\n",
       " ('er',),\n",
       " ('ah',),\n",
       " ('ah',),\n",
       " ('ah',),\n",
       " ('ah',),\n",
       " ('ey',),\n",
       " ('ah',),\n",
       " ('eh',),\n",
       " ('ah',),\n",
       " ('ah',),\n",
       " ('ah',),\n",
       " ('ah',),\n",
       " ('ih',),\n",
       " ('ah',),\n",
       " ('ih',),\n",
       " ('ah',),\n",
       " ('ah',),\n",
       " ('ey',),\n",
       " ('ah',),\n",
       " ('ah',),\n",
       " ('ah',),\n",
       " ('ah',),\n",
       " ('ah',),\n",
       " ('el',),\n",
       " ('ah',),\n",
       " ('ah',),\n",
       " ('ih',),\n",
       " ('ih',),\n",
       " ('ey',),\n",
       " ('ah',),\n",
       " ('ah',),\n",
       " ('uw',),\n",
       " ('ih',),\n",
       " ('ah',),\n",
       " ('ih',),\n",
       " ('ah',),\n",
       " ('ah',),\n",
       " ('ih',),\n",
       " ('ih',),\n",
       " ('eh',),\n",
       " ('ah',),\n",
       " ('ah',),\n",
       " ('ah',),\n",
       " ('el',),\n",
       " ('aa',),\n",
       " ('em',),\n",
       " ('eh',),\n",
       " ('ah',),\n",
       " ('iy',),\n",
       " ('ah',),\n",
       " ('ah',),\n",
       " ('ah',),\n",
       " ('ih',),\n",
       " ('ih',),\n",
       " ('ah',),\n",
       " ('ah',),\n",
       " ('ah',),\n",
       " ('ah',),\n",
       " ('eh',),\n",
       " ('ah',),\n",
       " ('ah',),\n",
       " ('ah',),\n",
       " ('ih',),\n",
       " ('ah',),\n",
       " ('ah',),\n",
       " ('ih',),\n",
       " ('ey',),\n",
       " ('ah',),\n",
       " ('ah',),\n",
       " ('ah',),\n",
       " ('ah',),\n",
       " ('aa',),\n",
       " ('ey',),\n",
       " ('ih',),\n",
       " ('ih',),\n",
       " ('ah',),\n",
       " ('ah',),\n",
       " ('uw',),\n",
       " ('ah',),\n",
       " ('ah',),\n",
       " ('aa',),\n",
       " ('ey',),\n",
       " ('ih',),\n",
       " ('ah',),\n",
       " ('ih',),\n",
       " ('eh',),\n",
       " ('ah',),\n",
       " ('el',),\n",
       " ('aa',),\n",
       " ('uh',),\n",
       " ('el',),\n",
       " ('aa',),\n",
       " ('aa',),\n",
       " ('ah',),\n",
       " ('ih',),\n",
       " ('eh',),\n",
       " ('ah',),\n",
       " ('ah',),\n",
       " ('ih',),\n",
       " ('ah',),\n",
       " ('ih',),\n",
       " ('el',),\n",
       " ('ah',),\n",
       " ('ah',),\n",
       " ('ah',),\n",
       " ('ah',),\n",
       " ('ah',),\n",
       " ('ih',),\n",
       " ('ih',),\n",
       " ('ih',),\n",
       " ('eh',),\n",
       " ('ah',),\n",
       " ('ah',),\n",
       " ('ah',),\n",
       " ('ah',),\n",
       " ('ae',),\n",
       " ('ah',),\n",
       " ('ah',),\n",
       " ('ah',),\n",
       " ('ah',),\n",
       " ('ah',),\n",
       " ('ih',),\n",
       " ('ih',),\n",
       " ('ah',),\n",
       " ('ah',),\n",
       " ('ah',),\n",
       " ('ah',),\n",
       " ('ah',),\n",
       " ('ey',),\n",
       " ('ah',),\n",
       " ('ah',),\n",
       " ('ih',),\n",
       " ('ah',),\n",
       " ('ah',),\n",
       " ('ah',),\n",
       " ('ah',),\n",
       " ('ey',),\n",
       " ('ah',),\n",
       " ('ah',),\n",
       " ('aa',),\n",
       " ('ah',),\n",
       " ('ah',),\n",
       " ('ih',),\n",
       " ('ah',),\n",
       " ('ah',),\n",
       " ('ah',),\n",
       " ('ah',),\n",
       " ('ah',),\n",
       " ('eh',),\n",
       " ('ah',),\n",
       " ('ah',),\n",
       " ('ih',),\n",
       " ('ah',),\n",
       " ('ih',),\n",
       " ('ah',),\n",
       " ('ih',),\n",
       " ('ah',),\n",
       " ('ah',),\n",
       " ('ah',),\n",
       " ('ah',),\n",
       " ('ih',),\n",
       " ('ah',),\n",
       " ('eh',),\n",
       " ('aa',),\n",
       " ('ah',),\n",
       " ('ah',),\n",
       " ('ah',),\n",
       " ('ih',),\n",
       " ('ah',),\n",
       " ('ah',),\n",
       " ('ah',),\n",
       " ('ah',),\n",
       " ('ey',),\n",
       " ('ah',),\n",
       " ('el',),\n",
       " ('ey',),\n",
       " ('ih',),\n",
       " ('ah',),\n",
       " ('ah',),\n",
       " ('ih',),\n",
       " ('ah',),\n",
       " ('em',),\n",
       " ('ah',),\n",
       " ('ah',),\n",
       " ('ah',),\n",
       " ('ah',),\n",
       " ('ih',),\n",
       " ('ih',),\n",
       " ('ih',),\n",
       " ('ah',),\n",
       " ('ih',),\n",
       " ('ah',),\n",
       " ('ah',),\n",
       " ('ah',),\n",
       " ('ah',),\n",
       " ('ey',),\n",
       " ('ey',),\n",
       " ('ah',),\n",
       " ('ah',),\n",
       " ('ah',),\n",
       " ('ah',),\n",
       " ('ah',),\n",
       " ('ih',),\n",
       " ('ah',),\n",
       " ('ah',),\n",
       " ('ah',),\n",
       " ('ih',),\n",
       " ('eh',),\n",
       " ('ah',),\n",
       " ('ah',),\n",
       " ('y', 'ow'),\n",
       " ('ih',),\n",
       " ('ah',),\n",
       " ('ah',),\n",
       " ('en',),\n",
       " ('ih',),\n",
       " ('eh',),\n",
       " ('ah',),\n",
       " ('ah',),\n",
       " ('ah',),\n",
       " ('ey',),\n",
       " ('ih',),\n",
       " ('ih',),\n",
       " ('eh',),\n",
       " ('ih',),\n",
       " ('ah',),\n",
       " ('k',),\n",
       " ('ah',),\n",
       " ('ah',),\n",
       " ('ah',),\n",
       " ('ih',),\n",
       " ('ah',),\n",
       " ('ah',),\n",
       " ('ah',),\n",
       " ('ah',),\n",
       " ('ah',),\n",
       " ('ah',),\n",
       " ('el',),\n",
       " ('ah',),\n",
       " ('ah',),\n",
       " ('ah',),\n",
       " ('ah',),\n",
       " ('ah',),\n",
       " ('ah',),\n",
       " ('ah',),\n",
       " ('ah',),\n",
       " ('ah',),\n",
       " ('ah',),\n",
       " ('ih',),\n",
       " ('ah',),\n",
       " ('ah',),\n",
       " ('ah',),\n",
       " ('ah',),\n",
       " ('ah',),\n",
       " ('eh',),\n",
       " ('ah',),\n",
       " ('ah',),\n",
       " ('eh',),\n",
       " ('ah',),\n",
       " ('ah',),\n",
       " ('ih',),\n",
       " ('ah',),\n",
       " ('ah',),\n",
       " ('ah',),\n",
       " ('ah',),\n",
       " ('iy',),\n",
       " ('eh',),\n",
       " ('ah',),\n",
       " ('ah',),\n",
       " ('ih',),\n",
       " ('ih',),\n",
       " ('ah',),\n",
       " ('uh',),\n",
       " ('ah',),\n",
       " ('ah',),\n",
       " ('ah',),\n",
       " ('ih',),\n",
       " ('ih',),\n",
       " ('ey',),\n",
       " ('el',),\n",
       " ('ah',),\n",
       " ('ah',),\n",
       " ('ah',),\n",
       " ('ey',),\n",
       " ('eh',),\n",
       " ('ih',),\n",
       " ('ih',),\n",
       " ('ah',),\n",
       " ('ah',),\n",
       " ('ah',),\n",
       " ('ah',),\n",
       " ('ah',),\n",
       " ('ah',),\n",
       " ('ah',),\n",
       " ('ah',),\n",
       " ('eh',),\n",
       " ('ae',),\n",
       " ('ih',),\n",
       " ('ah',),\n",
       " ('el',),\n",
       " ('ah',),\n",
       " ('ih',),\n",
       " ('ah',),\n",
       " ('ih',),\n",
       " ('ah',),\n",
       " ('ah',),\n",
       " ('ey',),\n",
       " ('ah',),\n",
       " ('ah',),\n",
       " ('ih',),\n",
       " ('iy',),\n",
       " ('ah',),\n",
       " ('ah',),\n",
       " ('ih',),\n",
       " ('eh',),\n",
       " ('eh',),\n",
       " ('ah',),\n",
       " ('ah',),\n",
       " ('ah',),\n",
       " ('p',),\n",
       " ('ah',),\n",
       " ('er',),\n",
       " ('ah',),\n",
       " ('eh',),\n",
       " ('ah',),\n",
       " ('ah',),\n",
       " ('eh',),\n",
       " ('ah',),\n",
       " ('ey',),\n",
       " ('eh',),\n",
       " ('ah',),\n",
       " ('ah',),\n",
       " ('ah',),\n",
       " ('ah',),\n",
       " ('ah',),\n",
       " ('ih',),\n",
       " ('eh',),\n",
       " ('ah',),\n",
       " ('ih',),\n",
       " ('ih',),\n",
       " ('ih',),\n",
       " ('el',),\n",
       " ('er',),\n",
       " ('ih',),\n",
       " ('ah',),\n",
       " ('ey',),\n",
       " ('ah',),\n",
       " ('ah',),\n",
       " ('ah',),\n",
       " ('ih',),\n",
       " ('ah',),\n",
       " ('ah',),\n",
       " ('ah',),\n",
       " ('ah',),\n",
       " ('ih',),\n",
       " ('ah',),\n",
       " ('ah',),\n",
       " ('eh',),\n",
       " ('ah',),\n",
       " ('ah',),\n",
       " ('eh',),\n",
       " ('eh',),\n",
       " ('ah',),\n",
       " ('ah',),\n",
       " ('ah',),\n",
       " ('ih',),\n",
       " ('ah',),\n",
       " ('ah',),\n",
       " ('ah',),\n",
       " ('ey',),\n",
       " ('ah',),\n",
       " ('eh',),\n",
       " ('ah',),\n",
       " ('ah',),\n",
       " ('eh',),\n",
       " ('ih',),\n",
       " ('ah',),\n",
       " ('ih',),\n",
       " ('ih',),\n",
       " ('ah',),\n",
       " ('ah',),\n",
       " ('ah',),\n",
       " ('ih',),\n",
       " ('er',),\n",
       " ('ah',),\n",
       " ('ih',),\n",
       " ('ah',),\n",
       " ('ah',),\n",
       " ('eh',),\n",
       " ('ih',),\n",
       " ('ey',),\n",
       " ('ah',),\n",
       " ('ah',),\n",
       " ('ah',),\n",
       " ('ah',),\n",
       " ('ah',),\n",
       " ('el',),\n",
       " ('ih',),\n",
       " ('ih',),\n",
       " ('el',),\n",
       " ('ah',),\n",
       " ('ah',),\n",
       " ('ih',),\n",
       " ('iy',),\n",
       " ('ah',),\n",
       " ('d', 'ih'),\n",
       " ('ah',),\n",
       " ('ih',),\n",
       " ('ah',),\n",
       " ('ey',),\n",
       " ('ih',),\n",
       " ('ah',),\n",
       " ('ih',),\n",
       " ('ih',),\n",
       " ('ah',),\n",
       " ('ih',),\n",
       " ('ah',),\n",
       " ('ey',),\n",
       " ('ah',),\n",
       " ('ah',),\n",
       " ('ah',),\n",
       " ('eh',),\n",
       " ('ah',),\n",
       " (),\n",
       " ('ih',),\n",
       " ('ah',),\n",
       " ('ih',),\n",
       " ('ah',),\n",
       " ('ey',),\n",
       " ('ah',),\n",
       " ('ah',),\n",
       " ('ih',),\n",
       " ('ah',),\n",
       " ('ih',),\n",
       " ('ah',),\n",
       " ('eh',),\n",
       " ('ah',),\n",
       " ('ah',),\n",
       " ('ey',),\n",
       " ('ah',),\n",
       " ('ah',),\n",
       " ('ey',),\n",
       " ('ah',),\n",
       " ('ih',),\n",
       " ('ah',),\n",
       " ('eh',),\n",
       " ('ah',),\n",
       " ('ah',),\n",
       " ('ah',),\n",
       " ('ah',),\n",
       " ('ah',),\n",
       " ('ah',),\n",
       " ('ah',),\n",
       " ('ah',),\n",
       " ('ih',),\n",
       " ('ih',),\n",
       " ('er',),\n",
       " ('ah',),\n",
       " ('ah',),\n",
       " ('ah',),\n",
       " ('ah',),\n",
       " ('ah',),\n",
       " ('ah',),\n",
       " ('ah',),\n",
       " ('ih',),\n",
       " ('ah',),\n",
       " ...]"
      ]
     },
     "execution_count": 76,
     "metadata": {},
     "output_type": "execute_result"
    }
   ],
   "source": [
    "Counter(list(map(lambda w: tuple(getPhones(w)),\n",
    "                 findWordTokensOf('a'))))\n",
    "list(map(lambda w: tuple(getPhones(w)),\n",
    "         findWordTokensOf('a')))"
   ]
  },
  {
   "cell_type": "markdown",
   "metadata": {},
   "source": [
    "It looks like `ah` is the most plausible remapping candidate for the first wordform token."
   ]
  },
  {
   "cell_type": "code",
   "execution_count": 77,
   "metadata": {
    "ExecuteTime": {
     "end_time": "2019-05-07T17:37:34.416362Z",
     "start_time": "2019-05-07T17:37:34.326270Z"
    }
   },
   "outputs": [
    {
     "data": {
      "text/plain": [
       "Counter({('ah', 'n'): 173,\n",
       "         ('aa', 'n'): 539,\n",
       "         ('ao', 'n'): 198,\n",
       "         ('aa', 'nx'): 78,\n",
       "         ('aan',): 15,\n",
       "         ('ah', 'nx'): 14,\n",
       "         ('aon',): 8,\n",
       "         ('aa',): 11,\n",
       "         ('ah', 'm'): 9,\n",
       "         ('en',): 4,\n",
       "         ('ao', 'nx'): 23,\n",
       "         ('aa', 'm'): 17,\n",
       "         ('ao', 'ah', 'n'): 2,\n",
       "         ('ahn',): 6,\n",
       "         ('aa', 'ng'): 6,\n",
       "         ('ah',): 6,\n",
       "         ('ao', 'w'): 1,\n",
       "         ('ihn',): 1,\n",
       "         ('ao',): 3,\n",
       "         ('y', 'aa', 'n'): 1,\n",
       "         ('ae', 'n'): 1,\n",
       "         ('aw', 'n'): 2,\n",
       "         ('dx', 'aa', 'nx'): 1,\n",
       "         ('iy', 'aa', 'n'): 1,\n",
       "         ('aa', 'tq'): 1,\n",
       "         ('aw',): 1,\n",
       "         ('r', 'ao', 'n'): 1,\n",
       "         ('aa', 'w'): 1,\n",
       "         ('ay', 'n'): 2,\n",
       "         ('eh', 'n'): 3,\n",
       "         ('ih', 'ah', 'n'): 1,\n",
       "         ('ow', 'n'): 4,\n",
       "         ('ao', 'm'): 2,\n",
       "         ('ao', 'nx', 'ah'): 1,\n",
       "         ('ey',): 1,\n",
       "         ('ow', 'ao', 'n'): 1,\n",
       "         ('aa', 'n', 'm'): 1,\n",
       "         ('a', 'n'): 1,\n",
       "         ('n',): 2,\n",
       "         ('ao', 'n', 'm'): 1,\n",
       "         ('aa', 'nx', 'ah'): 1,\n",
       "         ('ao', 'ng'): 1,\n",
       "         ('ih', 'n'): 1,\n",
       "         ('d', 'ahn'): 1,\n",
       "         ('aan', 'n'): 1})"
      ]
     },
     "execution_count": 77,
     "metadata": {},
     "output_type": "execute_result"
    },
    {
     "data": {
      "text/plain": [
       "[(('aa', 'n'), 539),\n",
       " (('ao', 'n'), 198),\n",
       " (('ah', 'n'), 173),\n",
       " (('aa', 'nx'), 78),\n",
       " (('ao', 'nx'), 23),\n",
       " (('aa', 'm'), 17),\n",
       " (('aan',), 15),\n",
       " (('ah', 'nx'), 14),\n",
       " (('aa',), 11),\n",
       " (('ah', 'm'), 9),\n",
       " (('aon',), 8),\n",
       " (('ahn',), 6),\n",
       " (('aa', 'ng'), 6),\n",
       " (('ah',), 6),\n",
       " (('en',), 4),\n",
       " (('ow', 'n'), 4),\n",
       " (('ao',), 3),\n",
       " (('eh', 'n'), 3),\n",
       " (('ao', 'ah', 'n'), 2),\n",
       " (('aw', 'n'), 2),\n",
       " (('ay', 'n'), 2),\n",
       " (('ao', 'm'), 2),\n",
       " (('n',), 2),\n",
       " (('ao', 'w'), 1),\n",
       " (('ihn',), 1),\n",
       " (('y', 'aa', 'n'), 1),\n",
       " (('ae', 'n'), 1),\n",
       " (('dx', 'aa', 'nx'), 1),\n",
       " (('iy', 'aa', 'n'), 1),\n",
       " (('aa', 'tq'), 1),\n",
       " (('aw',), 1),\n",
       " (('r', 'ao', 'n'), 1),\n",
       " (('aa', 'w'), 1),\n",
       " (('ih', 'ah', 'n'), 1),\n",
       " (('ao', 'nx', 'ah'), 1),\n",
       " (('ey',), 1),\n",
       " (('ow', 'ao', 'n'), 1),\n",
       " (('aa', 'n', 'm'), 1),\n",
       " (('a', 'n'), 1),\n",
       " (('ao', 'n', 'm'), 1),\n",
       " (('aa', 'nx', 'ah'), 1),\n",
       " (('ao', 'ng'), 1),\n",
       " (('ih', 'n'), 1),\n",
       " (('d', 'ahn'), 1),\n",
       " (('aan', 'n'), 1)]"
      ]
     },
     "execution_count": 77,
     "metadata": {},
     "output_type": "execute_result"
    }
   ],
   "source": [
    "onCounts = Counter(list(map(lambda w: tuple(getPhones(w)),\n",
    "                 findWordTokensOf('on'))))\n",
    "onCounts\n",
    "onCounts.most_common()"
   ]
  },
  {
   "cell_type": "markdown",
   "metadata": {},
   "source": [
    "`aa` is far and away the most common vowel for 'on', so it seems reasonable to remap the one token of `a` in 'on' to `aa`; on the other hand, `ah` seems to be the most parsimonious mapping across all of the different wordform tokens with `a` in the narrow transcriptions."
   ]
  },
  {
   "cell_type": "code",
   "execution_count": 78,
   "metadata": {
    "ExecuteTime": {
     "end_time": "2019-05-07T17:37:48.203695Z",
     "start_time": "2019-05-07T17:37:48.111606Z"
    }
   },
   "outputs": [
    {
     "data": {
      "text/plain": [
       "Counter({('eh', 'v', 'er', 'w', 'ah', 'm'): 1,\n",
       "         ('eh', 'v', 'w', 'ah', 'n'): 1,\n",
       "         ('eh', 'v', 'r', 'iy', 'w', 'ah', 'n'): 11,\n",
       "         ('eh', 'v', 'r', 'ih', 'w', 'ah', 'm'): 1,\n",
       "         ('eh', 'v', 'er', 'w', 'ah', 'n'): 2,\n",
       "         ('eh', 'v', 'r', 'ih', 'w', 'ah', 'n'): 9,\n",
       "         ('eh', 'v', 'r', 'ih', 'w', 'ah', 'ng'): 1,\n",
       "         ('eh', 'r', 'ah', 'w', 'ah', 'n'): 1,\n",
       "         ('ow', 'v', 'er', 'w', 'ah', 'ng'): 1,\n",
       "         ('eh', 'v', 'er', 'ih', 'n'): 1,\n",
       "         ('eh', 'r', 'w', 'ah', 'n'): 1,\n",
       "         ('eh', 'v', 'r', 'uw', 'w', 'ah', 'n'): 2,\n",
       "         ('eh', 'v', 'r', 'iy', 'b', 'w', 'ah', 'n'): 1,\n",
       "         ('eh', 'v', 'r', 'ah', 'w', 'ah', 'n'): 1,\n",
       "         ('eh', 'v', 'r', 'iy', 'w', 'ah', 'nx'): 2,\n",
       "         ('eh', 'r', 'iy', 'w', 'ah'): 1,\n",
       "         ('eh', 'v', 'r', 'ih', 'w', 'ah', 'nx'): 1,\n",
       "         ('eh', 'v', 'er', 'b', 'ah', 'n'): 1,\n",
       "         ('eh', 'v', 'r', 'iy', 'ah', 'n'): 1,\n",
       "         ('eh', 'v', 'r', 'a', 'w', 'ah', 'n'): 1,\n",
       "         ('eh', 'r', 'ih', 'w', 'ah', 'n'): 1,\n",
       "         ('ah', 'v', 'er', 'ah', 'n'): 1,\n",
       "         ('eh', 'v', 'er', 'w', 'ah', 'nx'): 1})"
      ]
     },
     "execution_count": 78,
     "metadata": {},
     "output_type": "execute_result"
    }
   ],
   "source": [
    "Counter(list(map(lambda w: tuple(getPhones(w)),\n",
    "                 findWordTokensOf('everyone'))))\n",
    "# list(map(lambda w: tuple(getPhones(w)),\n",
    "#          findWordTokensOf('everyone')))"
   ]
  },
  {
   "cell_type": "markdown",
   "metadata": {},
   "source": [
    "It looks like the best fit for `a` among productions of 'everyone' is `ah`."
   ]
  },
  {
   "cell_type": "code",
   "execution_count": 79,
   "metadata": {
    "ExecuteTime": {
     "end_time": "2019-05-07T17:38:11.367549Z",
     "start_time": "2019-05-07T17:38:11.258687Z"
    }
   },
   "outputs": [
    {
     "data": {
      "text/plain": [
       "Counter({('t', 'w', 'r', 'a', 'd', 'z'): 1,\n",
       "         ('t', 'ao', 'r', 'd', 'z'): 7,\n",
       "         ('t', 'ao', 'r', 'd', 's'): 2,\n",
       "         ('t', 'ow', 'er', 'd', 'z'): 1,\n",
       "         ('t', 'w', 'er', 'd', 's'): 1,\n",
       "         ('t', 'w', 'ah', 'r', 'd', 's'): 1,\n",
       "         ('t', 'w', 'ao', 'r', 'd', 's'): 1,\n",
       "         ('t', 'w', 'er', 'z'): 1,\n",
       "         ('t', 'w', 'ao', 'r', 'd', 'z'): 2,\n",
       "         ('t', 'w', 'ow', 'r', 'd', 'z'): 1,\n",
       "         ('t', 'ao', 'r', 'z'): 2})"
      ]
     },
     "execution_count": 79,
     "metadata": {},
     "output_type": "execute_result"
    }
   ],
   "source": [
    "Counter(list(map(lambda w: tuple(getPhones(w)),\n",
    "                 findWordTokensOf('towards'))))"
   ]
  },
  {
   "cell_type": "markdown",
   "metadata": {},
   "source": [
    "I'm going to guess that schwa (`ah`) is the best choice for what to remap `a` to."
   ]
  },
  {
   "cell_type": "markdown",
   "metadata": {},
   "source": [
    "I'm going to remap all instances of `a` to `ah`:"
   ]
  },
  {
   "cell_type": "code",
   "execution_count": 80,
   "metadata": {
    "ExecuteTime": {
     "end_time": "2019-05-07T17:38:21.202171Z",
     "start_time": "2019-05-07T17:38:21.198601Z"
    }
   },
   "outputs": [
    {
     "data": {
      "text/plain": [
       "{('a', 'ʌ'),\n",
       " ('h', 'h'),\n",
       " ('hhn', 'h̃'),\n",
       " ('i', 'ɪ'),\n",
       " ('id', 'ɪ'),\n",
       " ('iyih', 'i'),\n",
       " ('q', 'ʔ')}"
      ]
     },
     "execution_count": 80,
     "metadata": {},
     "output_type": "execute_result"
    }
   ],
   "source": [
    "remappings.add(('a', buckeyeToUnicodeIPA('ah')))\n",
    "remappings"
   ]
  },
  {
   "cell_type": "markdown",
   "metadata": {},
   "source": [
    "### `an`"
   ]
  },
  {
   "cell_type": "code",
   "execution_count": 81,
   "metadata": {
    "ExecuteTime": {
     "end_time": "2019-05-07T17:38:31.859017Z",
     "start_time": "2019-05-07T17:38:31.605199Z"
    }
   },
   "outputs": [
    {
     "data": {
      "text/plain": [
       "[Word('twenty', 378.817, 379.275, ['t', 'w', 'eh', 'n', 't', 'iy'], ['t', 'w', 'an', 'nx', 'iy'], 'CD')]"
      ]
     },
     "execution_count": 81,
     "metadata": {},
     "output_type": "execute_result"
    },
    {
     "data": {
      "text/plain": [
       "[('t', 'w', 'ah', 'nx', 'iy'),\n",
       " ('t', 'w', 'eh', 'nx', 'iy'),\n",
       " ('t', 'w', 'ah', 'nx', 'iy'),\n",
       " ('t', 'w', 'ahn', 'iy'),\n",
       " ('t', 'w', 'eh', 'ih'),\n",
       " ('t', 'w', 'ah', 'nx', 'iy'),\n",
       " ('t', 'w', 'ah', 'nx', 'iy'),\n",
       " ('t', 'w', 'eh', 'nx', 'iy'),\n",
       " ('t', 'w', 'ah', 'nx', 'iy'),\n",
       " ('t', 'w', 'ih', 'nx', 'iy'),\n",
       " ('t', 'w', 'eh', 'n', 'iy'),\n",
       " ('t', 'w', 'ah', 'nx', 'iy'),\n",
       " ('t', 'w', 'ah', 'nx', 'iy'),\n",
       " ('t', 'w', 'ah', 'nx', 'iy'),\n",
       " ('t', 'w', 'ah', 'nx', 'iy'),\n",
       " ('t', 'w', 'ah', 'nx', 'iy'),\n",
       " ('t', 'w', 'ah', 'nx', 'iy'),\n",
       " ('t', 'w', 'ah', 'n', 'iy'),\n",
       " ('t', 'w', 'ah', 'nx', 'iy'),\n",
       " ('t', 'w', 'ah', 'nx', 'iy'),\n",
       " ('t', 'w', 'ah', 'n', 'iy'),\n",
       " ('t', 'w', 'ah', 'nx', 'iy'),\n",
       " ('t', 'w', 'eh', 'nx', 'iy'),\n",
       " ('t', 'w', 'ah', 'nx', 'iy'),\n",
       " ('t', 'w', 'eh', 'ih'),\n",
       " ('t', 'w', 'ah', 'nx', 'iy'),\n",
       " ('t', 'w', 'ay'),\n",
       " ('t', 'w', 'ah', 'nx', 'iy'),\n",
       " ('t', 'w', 'eh', 'nx', 'iy'),\n",
       " ('t', 'w', 'ah', 'nx', 'iy'),\n",
       " ('t', 'w', 'ah', 'nx', 'iy'),\n",
       " ('t', 'w', 'eh', 'nx', 'iy'),\n",
       " ('t', 'w', 'ahn', 'iy'),\n",
       " ('t', 'w', 'eh', 'iy'),\n",
       " ('t', 'w', 'ah', 'nx', 'iy'),\n",
       " ('t', 'w', 'ah', 'nx', 'iy'),\n",
       " ('t', 'w', 'ah', 'nx', 'iy'),\n",
       " ('t', 'w', 'ah', 'nx', 'iy'),\n",
       " ('t', 'w', 'ah', 'nx', 'iy'),\n",
       " ('t', 'w', 'eh', 'nx', 'iy'),\n",
       " ('t', 'w', 'ah', 'nx', 'iy'),\n",
       " ('t', 'w', 'ah', 'nx', 'iy'),\n",
       " ('t', 'w', 'ah', 'nx', 'iy'),\n",
       " ('t', 'w', 'eh', 'nx', 'iy'),\n",
       " ('t', 'w', 'eh', 'nx', 'iy'),\n",
       " ('t', 'w', 'ah', 'n', 'iy'),\n",
       " ('t', 'w', 'eh', 'n', 'iy'),\n",
       " ('t', 'w', 'ah', 'nx', 'iy'),\n",
       " ('t', 'w', 'ah', 'nx', 'iy'),\n",
       " ('t', 'w', 'ah', 'nx', 'ey'),\n",
       " ('t', 'w', 'ah', 'nx', 'iy'),\n",
       " ('t', 'w', 'ah', 'iy'),\n",
       " ('t', 'w', 'eh', 'ih'),\n",
       " ('t', 'w', 'eh', 'nx', 'iy'),\n",
       " ('t', 'w', 'eh', 'n', 'iy'),\n",
       " ('t', 'w', 'ah', 'nx', 'iy'),\n",
       " ('t', 'w', 'ah', 'nx', 'iy'),\n",
       " ('t', 'w', 'eh', 'nx', 'iy'),\n",
       " ('t', 'w', 'eh', 'nx', 'iy'),\n",
       " ('t', 'w', 'eh', 'nx', 'iy'),\n",
       " ('t', 'w', 'eh', 'nx', 'iy'),\n",
       " ('w', 'ih'),\n",
       " ('t', 'w', 'iy'),\n",
       " ('ch', 'w', 'ah', 'n', 'iy'),\n",
       " ('t', 'w', 'ah', 'nx', 'iy'),\n",
       " ('t', 'w', 'ah', 'nx', 'iy'),\n",
       " ('t', 'w', 'ah', 'ih'),\n",
       " ('t', 'w', 'ah', 'nx', 'iy'),\n",
       " ('t', 'w', 'ah', 'nx', 'iy'),\n",
       " ('t', 'w', 'ah', 'nx', 'iy'),\n",
       " ('t', 'w', 'ah', 'iy'),\n",
       " ('t', 'w', 'eh', 'nx', 'iy'),\n",
       " ('t', 'w', 'ah', 'nx', 'iy'),\n",
       " ('t', 'w', 'ah', 'nx', 'iy'),\n",
       " ('t', 'w', 'ah', 'nx', 'iy'),\n",
       " ('t', 'w', 'eh', 'nx', 'iy'),\n",
       " ('t', 'w', 'ah', 'n', 'iy'),\n",
       " ('t', 'w', 'ah', 'nx', 'iy'),\n",
       " ('t', 'w', 'ah', 'nx', 'iy'),\n",
       " ('t', 'w', 'ah', 'nx', 'iy'),\n",
       " ('w', 'eh', 'nx', 'iy'),\n",
       " ('t', 'w', 'ah', 'nx', 'iy'),\n",
       " ('t', 'w', 'ah', 'nx', 'iy'),\n",
       " ('t', 'w', 'ah', 'nx', 'iy'),\n",
       " ('t', 'w', 'an', 'nx', 'iy'),\n",
       " ('t', 'w', 'ah', 'nx', 'iy'),\n",
       " ('t', 'w', 'ah', 'nx', 'iy'),\n",
       " ('t', 'w', 'ah', 'nx', 'iy'),\n",
       " ('t', 'w', 'ah', 'nx', 'iy'),\n",
       " ('t', 'w', 'eh', 'nx', 'iy'),\n",
       " ('t', 'w', 'ah', 'nx', 'iy'),\n",
       " ('t', 'w', 'ah', 'nx', 'iy'),\n",
       " ('t', 'w', 'ah', 'iy'),\n",
       " ('t', 'w', 'ah', 'nx', 'iy'),\n",
       " ('t', 'w', 'ah', 'nx', 'iy'),\n",
       " ('t', 'w', 'ahn', 'iy'),\n",
       " ('t', 'w', 'ah', 'nx', 'iy'),\n",
       " ('t', 'w', 'ah', 'nx', 'iy'),\n",
       " ('ch', 'w', 'ah', 'n', 'iy'),\n",
       " ('t', 'w', 'ah', 'nx', 'iy'),\n",
       " ('t', 'w', 'eh', 'iy'),\n",
       " ('en', 't', 'w', 'eh'),\n",
       " ('t', 'w', 'ah', 'iy'),\n",
       " ('t', 'w', 'ah', 'nx', 'iy'),\n",
       " ('t', 'w', 'ah', 'nx', 'iy'),\n",
       " ('k', 't', 'w', 'ah', 'nx', 'iy'),\n",
       " ('t', 'w', 'ah', 'nx', 'iy'),\n",
       " ('t', 'w', 'ah', 'nx', 'iy'),\n",
       " ('t', 'w', 'eh', 'ih'),\n",
       " ('t', 'ah', 'nx', 'iy'),\n",
       " ('t', 'w', 'ah', 'nx', 'iy'),\n",
       " ('t', 'w', 'ah', 'n', 'iy'),\n",
       " ('t', 'w', 'ah', 'nx', 'iy'),\n",
       " ('t', 'w', 'eh', 'iy'),\n",
       " ('t', 'w', 'ih', 'nx', 'iy'),\n",
       " ('t', 'w', 'ah', 'nx', 'iy'),\n",
       " ('t', 'w', 'eh', 'nx', 'iy'),\n",
       " ('t', 'w', 'eh', 'nx', 'iy'),\n",
       " ('t', 'w', 'ah', 'n', 'iy'),\n",
       " ('t', 'w', 'ah', 'nx', 'iy'),\n",
       " ('t', 'w', 'ah', 'n', 'iy'),\n",
       " ('t', 'w', 'ah', 'nx', 'iy'),\n",
       " ('t', 'w', 'eh', 'nx', 'iy'),\n",
       " ('t', 'w', 'ah', 'nx', 'iy'),\n",
       " ('t', 'w', 'eh', 'nx', 'iy'),\n",
       " ('t', 'w', 'ah', 'nx', 'iy'),\n",
       " ('t', 'w', 'eh', 'nx', 'iy'),\n",
       " ('t', 'w', 'ah', 'nx', 'iy'),\n",
       " ('t', 'w', 'eh', 'nx', 'iy'),\n",
       " ('t', 'w', 'ih', 'nx', 'ey'),\n",
       " ('t', 'w', 'ah', 'nx', 'iy'),\n",
       " ('t', 'w', 'ah', 'n', 'iy'),\n",
       " ('t', 'w', 'ah', 'nx', 'iy'),\n",
       " ('t', 'w', 'ah', 'nx', 'iy'),\n",
       " ('t', 'w', 'eh', 'nx', 'iy'),\n",
       " ('t', 'w', 'ah', 'ey'),\n",
       " ('t', 'w', 'ey'),\n",
       " ('t', 'w', 'eh', 'ih'),\n",
       " ('t', 'w', 'ah', 'nx', 'iy'),\n",
       " ('t', 'w', 'eh', 'nx', 'iy'),\n",
       " ('t', 'w', 'ah', 'nx', 'ih'),\n",
       " ('t', 'w', 'eh', 'nx', 'iy'),\n",
       " ('t', 'w', 'ah', 'nx', 'iy'),\n",
       " ('t', 'w', 'ah', 'nx', 'iy'),\n",
       " ('t', 'w', 'ah', 'nx', 'ih'),\n",
       " ('t', 'w', 'eh', 'nx', 'iy'),\n",
       " ('t', 'w', 'ah', 'nx', 'ih'),\n",
       " ('t', 'w', 'ah', 'nx', 'iy'),\n",
       " ('t', 'w', 'ah', 'nx', 'iy'),\n",
       " ('t', 'w', 'ah', 'nx', 'iy'),\n",
       " ('l', 't', 'w', 'ah', 'nx', 'ey'),\n",
       " ('t', 'w', 'ah', 'nx', 'iy'),\n",
       " ('t', 'w', 'eh', 'nx', 'iy')]"
      ]
     },
     "execution_count": 81,
     "metadata": {},
     "output_type": "execute_result"
    }
   ],
   "source": [
    "findWordsWithPhone('an')\n",
    "list(map(getPhones,\n",
    "         findWordTokensOf('twenty')))"
   ]
  },
  {
   "cell_type": "markdown",
   "metadata": {},
   "source": [
    "I'm going to remap `an` to `ahn`:"
   ]
  },
  {
   "cell_type": "code",
   "execution_count": 82,
   "metadata": {
    "ExecuteTime": {
     "end_time": "2019-05-07T17:38:45.280250Z",
     "start_time": "2019-05-07T17:38:45.275093Z"
    }
   },
   "outputs": [
    {
     "data": {
      "text/plain": [
       "{('a', 'ʌ'),\n",
       " ('an', 'ʌ̃'),\n",
       " ('h', 'h'),\n",
       " ('hhn', 'h̃'),\n",
       " ('i', 'ɪ'),\n",
       " ('id', 'ɪ'),\n",
       " ('iyih', 'i'),\n",
       " ('q', 'ʔ')}"
      ]
     },
     "execution_count": 82,
     "metadata": {},
     "output_type": "execute_result"
    }
   ],
   "source": [
    "remappings.add(('an', buckeyeToUnicodeIPA('ahn')))\n",
    "remappings"
   ]
  },
  {
   "cell_type": "markdown",
   "metadata": {},
   "source": [
    "### `uwix`"
   ]
  },
  {
   "cell_type": "code",
   "execution_count": 83,
   "metadata": {
    "ExecuteTime": {
     "end_time": "2019-05-07T17:38:55.261553Z",
     "start_time": "2019-05-07T17:38:55.014872Z"
    }
   },
   "outputs": [
    {
     "data": {
      "text/plain": [
       "[Word('computer', 191.083, 191.463, ['k', 'ah', 'm', 'p', 'y', 'uw', 't', 'er'], ['k', 'm', 'p', 'y', 'uwix', 'dx', 'er'], 'NN')]"
      ]
     },
     "execution_count": 83,
     "metadata": {},
     "output_type": "execute_result"
    },
    {
     "data": {
      "text/plain": [
       "[('k', 'em', 'p', 'y', 'uw', 'd', 'er'),\n",
       " ('k', 'ah', 'm', 'p', 'y', 'uw', 'dx', 'er'),\n",
       " ('k', 'em', 'p', 'y', 'ih', 'dx', 'er'),\n",
       " ('k', 'ah', 'm', 'p', 'y', 'uw', 'tq', 'er'),\n",
       " ('k', 'em', 'p', 'y', 'uw', 'dx', 'er'),\n",
       " ('k', 'ah', 'm', 'p', 'y', 'uw', 'd', 'er'),\n",
       " ('k', 'ih', 'm', 'p', 'y', 'ih', 'dx', 'er'),\n",
       " ('k', 'em', 'p', 'y', 'ih', 'dx', 'er'),\n",
       " ('k', 'ah', 'm', 'p', 'y', 'uw', 'er'),\n",
       " ('em', 'p', 'y', 'ih', 'dx', 'er'),\n",
       " ('k', 'em', 'p', 'y', 'ih', 'dx', 'er'),\n",
       " ('k', 'em', 'p', 'y', 'uw', 'd', 'er'),\n",
       " ('k', 'ah', 'm', 'p', 'y', 'uw', 'zh', 'er'),\n",
       " ('k', 'em', 'p', 'y', 'uw', 'dx', 'er'),\n",
       " ('k', 'eh', 'm', 'p', 'y', 'uw', 'dx', 'er'),\n",
       " ('k', 'em', 'p', 'y', 'uw', 'dx', 'er'),\n",
       " ('k', 'em', 'p', 'y', 'uw', 'd', 'er'),\n",
       " ('k', 'ah', 'm', 'p', 'y', 'uw', 'd', 'er'),\n",
       " ('k', 'em', 'p', 'y', 'uw', 'er'),\n",
       " ('k', 'ah', 'm', 'p', 'y', 'uw', 'dx', 'er'),\n",
       " ('k', 'ah', 'm', 'p', 'y', 'uw', 'dx', 'er'),\n",
       " ('k', 'em', 'p', 'y', 'uw', 'dx', 'er'),\n",
       " ('k', 'em', 'p', 'y', 'uw', 'dx', 'er'),\n",
       " ('k', 'em', 'p', 'y', 'uw', 'dx', 'er'),\n",
       " ('k', 'ah', 'm', 'p', 'y', 'uw', 'dx', 'er'),\n",
       " ('k', 'ah', 'm', 'p', 'y', 'uw', 'dx', 'er'),\n",
       " ('k', 'ah', 'm', 'p', 'y', 'uw', 't', 'ah', 'r'),\n",
       " ('k', 'em', 'p', 'y', 'uw', 'dx', 'er'),\n",
       " ('k', 'ah', 'm', 'p', 'y', 'uw', 'dx', 'ah', 'r'),\n",
       " ('k', 'ah', 'm', 'p', 'y', 'uw', 'dx', 'er'),\n",
       " ('k', 'ah', 'm', 'p', 'y', 'uw', 'dx', 'er'),\n",
       " ('k', 'ah', 'm', 'p', 'y', 'uw', 'dx', 'er'),\n",
       " ('k', 'ih', 'm', 'p', 'y', 'uw', 'dx', 'er'),\n",
       " ('k', 'ah', 'm', 'p', 'y', 'uw', 'dx', 'er'),\n",
       " ('k', 'ah', 'm', 'p', 'y', 'uw', 'dx', 'er'),\n",
       " ('k', 'em', 'p', 'y', 'uw', 't', 'er'),\n",
       " ('k', 'm', 'p', 'y', 'uw', 'dx', 'er'),\n",
       " ('k', 'ah', 'm', 'p', 'y', 'uw', 'dx', 'er'),\n",
       " ('k', 'eh', 'm', 'p', 'y', 'uw', 'dx', 'er'),\n",
       " ('k', 'em', 'p', 'y', 'uw', 'dx', 'er'),\n",
       " ('k', 'ah', 'm', 'p', 'y', 'uw', 'dx', 'er'),\n",
       " ('k', 'eh', 'm', 'p', 'y', 'uw', 'dx', 'er'),\n",
       " ('k', 'eh', 'm', 'p', 'y', 'uw', 'dx', 'er'),\n",
       " ('k', 'eh', 'm', 'p', 'y', 'ih', 'dx', 'er'),\n",
       " ('k', 'ih', 'm', 'p', 'y', 'ih', 't', 'er'),\n",
       " ('k', 'em', 'p', 'y', 'ih', 'dx', 'er'),\n",
       " ('k', 'ah', 'm', 'p', 'y', 'uw', 'd', 'er'),\n",
       " ('k', 'm', 'p', 'y', 'uw', 'd', 'er'),\n",
       " ('k', 'em', 'p', 'y', 'uw', 'd', 'er'),\n",
       " ('k', 'm', 'p', 'y', 'uw', 'd', 'er'),\n",
       " ('k', 'em', 'p', 'y', 'uh', 'dx', 'er'),\n",
       " ('k', 'ah', 'm', 'p', 'y', 'uw', 'dx', 'er'),\n",
       " ('k', 'ah', 'm', 'p', 'y', 'uw', 'dx', 'er'),\n",
       " ('k', 'em', 'p', 'y', 'ih', 'dx', 'er'),\n",
       " ('k', 'm', 'p', 'y', 'uwix', 'dx', 'er'),\n",
       " ('k', 'ih', 'm', 'p', 'y', 'ih', 'dx', 'er'),\n",
       " ('k', 'ah', 'm', 'p', 'y', 'uw', 'dx', 'er'),\n",
       " ('k', 'ah', 'm', 'p', 'y', 'uw', 'dx', 'er'),\n",
       " ('k', 'ah', 'm', 'p', 'y', 'uw', 'dx', 'er'),\n",
       " ('k', 'ah', 'm', 'p', 'y', 'uw', 'd', 'er')]"
      ]
     },
     "execution_count": 83,
     "metadata": {},
     "output_type": "execute_result"
    }
   ],
   "source": [
    "findWordsWithPhone('uwix')\n",
    "list(map(getPhones,\n",
    "         findWordTokensOf('computer')))"
   ]
  },
  {
   "cell_type": "markdown",
   "metadata": {
    "ExecuteTime": {
     "end_time": "2019-05-07T17:39:02.731120Z",
     "start_time": "2019-05-07T17:39:02.726893Z"
    }
   },
   "source": [
    "I'm going to remap `uwix` to `uw`."
   ]
  },
  {
   "cell_type": "code",
   "execution_count": 85,
   "metadata": {
    "ExecuteTime": {
     "end_time": "2019-05-07T17:39:08.682516Z",
     "start_time": "2019-05-07T17:39:08.679468Z"
    }
   },
   "outputs": [
    {
     "data": {
      "text/plain": [
       "{('a', 'ʌ'),\n",
       " ('an', 'ʌ̃'),\n",
       " ('h', 'h'),\n",
       " ('hhn', 'h̃'),\n",
       " ('i', 'ɪ'),\n",
       " ('id', 'ɪ'),\n",
       " ('iyih', 'i'),\n",
       " ('q', 'ʔ'),\n",
       " ('uwix', 'u')}"
      ]
     },
     "execution_count": 85,
     "metadata": {},
     "output_type": "execute_result"
    }
   ],
   "source": [
    "remappings.add(('uwix', buckeyeToUnicodeIPA('uw')))\n",
    "remappings"
   ]
  },
  {
   "cell_type": "markdown",
   "metadata": {},
   "source": [
    "## Altogether"
   ]
  },
  {
   "cell_type": "markdown",
   "metadata": {},
   "source": [
    "Below are all the phone level mappings. (Note also that all the phonemes are a subset of the phones.)"
   ]
  },
  {
   "cell_type": "code",
   "execution_count": 86,
   "metadata": {
    "ExecuteTime": {
     "end_time": "2019-05-07T17:39:28.405711Z",
     "start_time": "2019-05-07T17:39:28.403359Z"
    }
   },
   "outputs": [],
   "source": [
    "buckeyeUnicodeIPArelation.update(remappings)"
   ]
  },
  {
   "cell_type": "code",
   "execution_count": 87,
   "metadata": {
    "ExecuteTime": {
     "end_time": "2019-05-07T17:39:35.907444Z",
     "start_time": "2019-05-07T17:39:35.898158Z"
    }
   },
   "outputs": [
    {
     "data": {
      "text/plain": [
       "{('a', 'ʌ'),\n",
       " ('aa', 'ɑ'),\n",
       " ('aan', 'ɑ̃'),\n",
       " ('ae', 'æ'),\n",
       " ('aen', 'æ̃'),\n",
       " ('ah', 'ʌ'),\n",
       " ('ahn', 'ʌ̃'),\n",
       " ('an', 'ʌ̃'),\n",
       " ('ao', 'ɔ'),\n",
       " ('aon', 'ɔ̃'),\n",
       " ('aw', 'aʊ'),\n",
       " ('awn', 'aʊ'),\n",
       " ('ay', 'aɪ'),\n",
       " ('ayn', 'aɪ'),\n",
       " ('b', 'b'),\n",
       " ('ch', 'tʃ'),\n",
       " ('d', 'd'),\n",
       " ('dh', 'ð'),\n",
       " ('dx', 'ɾ'),\n",
       " ('eh', 'ɛ'),\n",
       " ('ehn', 'ɛ̃'),\n",
       " ('el', 'l̩'),\n",
       " ('em', 'm̩'),\n",
       " ('en', 'n̩'),\n",
       " ('eng', 'ŋ̩'),\n",
       " ('er', 'ɚ'),\n",
       " ('ern', 'ɚ'),\n",
       " ('ey', 'eɪ'),\n",
       " ('eyn', 'ẽɪ̃'),\n",
       " ('f', 'f'),\n",
       " ('g', 'g'),\n",
       " ('h', 'h'),\n",
       " ('hh', 'h'),\n",
       " ('hhn', 'h̃'),\n",
       " ('i', 'ɪ'),\n",
       " ('id', 'ɪ'),\n",
       " ('ih', 'ɪ'),\n",
       " ('ihn', 'ɪ̃'),\n",
       " ('iy', 'i'),\n",
       " ('iyih', 'i'),\n",
       " ('iyn', 'ĩ'),\n",
       " ('jh', 'dʒ'),\n",
       " ('k', 'k'),\n",
       " ('l', 'l'),\n",
       " ('m', 'm'),\n",
       " ('n', 'n'),\n",
       " ('ng', 'ŋ'),\n",
       " ('nx', 'ɾ̃'),\n",
       " ('ow', 'oʊ'),\n",
       " ('own', 'oʊ'),\n",
       " ('oy', 'ɔɪ'),\n",
       " ('oyn', 'ɔɪ'),\n",
       " ('p', 'p'),\n",
       " ('q', 'ʔ'),\n",
       " ('r', 'ɹ'),\n",
       " ('s', 's'),\n",
       " ('sh', 'ʃ'),\n",
       " ('t', 't'),\n",
       " ('th', 'θ'),\n",
       " ('tq', 'ʔ'),\n",
       " ('uh', 'ʊ'),\n",
       " ('uhn', 'ʊ̃'),\n",
       " ('uw', 'u'),\n",
       " ('uwix', 'u'),\n",
       " ('uwn', 'ũ'),\n",
       " ('v', 'v'),\n",
       " ('w', 'w'),\n",
       " ('y', 'j'),\n",
       " ('z', 'z'),\n",
       " ('zh', 'ʒ')}"
      ]
     },
     "execution_count": 87,
     "metadata": {},
     "output_type": "execute_result"
    }
   ],
   "source": [
    "buckeyeUnicodeIPArelation"
   ]
  },
  {
   "cell_type": "code",
   "execution_count": 88,
   "metadata": {
    "ExecuteTime": {
     "end_time": "2019-05-07T17:39:42.611867Z",
     "start_time": "2019-05-07T17:39:42.608811Z"
    }
   },
   "outputs": [
    {
     "data": {
      "text/plain": [
       "70"
      ]
     },
     "execution_count": 88,
     "metadata": {},
     "output_type": "execute_result"
    }
   ],
   "source": [
    "len(buckeyeUnicodeIPArelation)"
   ]
  },
  {
   "cell_type": "code",
   "execution_count": 89,
   "metadata": {
    "ExecuteTime": {
     "end_time": "2019-05-07T17:39:46.754686Z",
     "start_time": "2019-05-07T17:39:46.751433Z"
    }
   },
   "outputs": [
    {
     "data": {
      "text/plain": [
       "70"
      ]
     },
     "execution_count": 89,
     "metadata": {},
     "output_type": "execute_result"
    }
   ],
   "source": [
    "len(dict(buckeyeUnicodeIPArelation))"
   ]
  },
  {
   "cell_type": "code",
   "execution_count": 90,
   "metadata": {
    "ExecuteTime": {
     "end_time": "2019-05-07T17:39:50.454117Z",
     "start_time": "2019-05-07T17:39:50.448868Z"
    }
   },
   "outputs": [
    {
     "data": {
      "text/plain": [
       "[('r', 'ɹ'),\n",
       " ('uwix', 'u'),\n",
       " ('f', 'f'),\n",
       " ('awn', 'aʊ'),\n",
       " ('ehn', 'ɛ̃'),\n",
       " ('m', 'm'),\n",
       " ('nx', 'ɾ̃'),\n",
       " ('ihn', 'ɪ̃'),\n",
       " ('sh', 'ʃ'),\n",
       " ('zh', 'ʒ'),\n",
       " ('jh', 'dʒ'),\n",
       " ('ng', 'ŋ'),\n",
       " ('aon', 'ɔ̃'),\n",
       " ('iy', 'i'),\n",
       " ('n', 'n'),\n",
       " ('ayn', 'aɪ'),\n",
       " ('aa', 'ɑ'),\n",
       " ('an', 'ʌ̃'),\n",
       " ('iyn', 'ĩ'),\n",
       " ('ay', 'aɪ'),\n",
       " ('own', 'oʊ'),\n",
       " ('d', 'd'),\n",
       " ('ahn', 'ʌ̃'),\n",
       " ('eh', 'ɛ'),\n",
       " ('uwn', 'ũ'),\n",
       " ('er', 'ɚ'),\n",
       " ('v', 'v'),\n",
       " ('h', 'h'),\n",
       " ('eng', 'ŋ̩'),\n",
       " ('ih', 'ɪ'),\n",
       " ('dx', 'ɾ'),\n",
       " ('a', 'ʌ'),\n",
       " ('y', 'j'),\n",
       " ('eyn', 'ẽɪ̃'),\n",
       " ('uw', 'u'),\n",
       " ('g', 'g'),\n",
       " ('ah', 'ʌ'),\n",
       " ('z', 'z'),\n",
       " ('oyn', 'ɔɪ'),\n",
       " ('en', 'n̩'),\n",
       " ('tq', 'ʔ'),\n",
       " ('aan', 'ɑ̃'),\n",
       " ('hh', 'h'),\n",
       " ('th', 'θ'),\n",
       " ('ern', 'ɚ'),\n",
       " ('hhn', 'h̃'),\n",
       " ('oy', 'ɔɪ'),\n",
       " ('ch', 'tʃ'),\n",
       " ('em', 'm̩'),\n",
       " ('dh', 'ð'),\n",
       " ('iyih', 'i'),\n",
       " ('i', 'ɪ'),\n",
       " ('p', 'p'),\n",
       " ('ow', 'oʊ'),\n",
       " ('t', 't'),\n",
       " ('k', 'k'),\n",
       " ('el', 'l̩'),\n",
       " ('l', 'l'),\n",
       " ('w', 'w'),\n",
       " ('id', 'ɪ'),\n",
       " ('ae', 'æ'),\n",
       " ('aen', 'æ̃'),\n",
       " ('aw', 'aʊ'),\n",
       " ('uh', 'ʊ'),\n",
       " ('b', 'b'),\n",
       " ('q', 'ʔ'),\n",
       " ('uhn', 'ʊ̃'),\n",
       " ('s', 's'),\n",
       " ('ey', 'eɪ'),\n",
       " ('ao', 'ɔ')]"
      ]
     },
     "execution_count": 90,
     "metadata": {},
     "output_type": "execute_result"
    }
   ],
   "source": [
    "list(buckeyeUnicodeIPArelation)"
   ]
  },
  {
   "cell_type": "code",
   "execution_count": 91,
   "metadata": {
    "ExecuteTime": {
     "end_time": "2019-05-07T17:39:56.356668Z",
     "start_time": "2019-05-07T17:39:56.352861Z"
    }
   },
   "outputs": [
    {
     "data": {
      "text/plain": [
       "[('h', 'h')]"
      ]
     },
     "execution_count": 91,
     "metadata": {},
     "output_type": "execute_result"
    }
   ],
   "source": [
    "[pair for pair in buckeyeUnicodeIPArelation if pair[0] == 'h']"
   ]
  },
  {
   "cell_type": "code",
   "execution_count": 92,
   "metadata": {
    "ExecuteTime": {
     "end_time": "2019-05-07T17:40:01.296250Z",
     "start_time": "2019-05-07T17:40:01.292254Z"
    }
   },
   "outputs": [
    {
     "data": {
      "text/plain": [
       "'ũ'"
      ]
     },
     "execution_count": 92,
     "metadata": {},
     "output_type": "execute_result"
    }
   ],
   "source": [
    "buckeyeToUnicodeIPA('uwn')"
   ]
  },
  {
   "cell_type": "code",
   "execution_count": 93,
   "metadata": {
    "ExecuteTime": {
     "end_time": "2019-05-07T17:40:05.462541Z",
     "start_time": "2019-05-07T17:40:05.456352Z"
    }
   },
   "outputs": [
    {
     "data": {
      "text/plain": [
       "{'aɪ',\n",
       " 'aʊ',\n",
       " 'b',\n",
       " 'd',\n",
       " 'dʒ',\n",
       " 'eɪ',\n",
       " 'f',\n",
       " 'g',\n",
       " 'h',\n",
       " 'i',\n",
       " 'j',\n",
       " 'k',\n",
       " 'l',\n",
       " 'l̩',\n",
       " 'm',\n",
       " 'm̩',\n",
       " 'n',\n",
       " 'n̩',\n",
       " 'oʊ',\n",
       " 'p',\n",
       " 's',\n",
       " 't',\n",
       " 'tʃ',\n",
       " 'u',\n",
       " 'v',\n",
       " 'w',\n",
       " 'z',\n",
       " 'æ',\n",
       " 'ð',\n",
       " 'ŋ',\n",
       " 'ɑ',\n",
       " 'ɔ',\n",
       " 'ɔɪ',\n",
       " 'ɚ',\n",
       " 'ɛ',\n",
       " 'ɪ',\n",
       " 'ɹ',\n",
       " 'ɾ',\n",
       " 'ɾ̃',\n",
       " 'ʃ',\n",
       " 'ʊ',\n",
       " 'ʌ',\n",
       " 'ʒ',\n",
       " 'ʔ',\n",
       " 'θ'}"
      ]
     },
     "execution_count": 93,
     "metadata": {},
     "output_type": "execute_result"
    },
    {
     "data": {
      "text/plain": [
       "45"
      ]
     },
     "execution_count": 93,
     "metadata": {},
     "output_type": "execute_result"
    }
   ],
   "source": [
    "set(map(buckeyeToUnicodeIPA, phonemes))\n",
    "len(set(map(buckeyeToUnicodeIPA, phonemes)))"
   ]
  },
  {
   "cell_type": "code",
   "execution_count": 94,
   "metadata": {
    "ExecuteTime": {
     "end_time": "2019-05-07T17:40:19.967697Z",
     "start_time": "2019-05-07T17:40:19.965519Z"
    }
   },
   "outputs": [],
   "source": [
    "def buckeyeToUnicodeIPA(buckeyeSymbol):\n",
    "    mapping = dict(buckeyeUnicodeIPArelation)\n",
    "    #print(mapping)\n",
    "    return mapping[buckeyeSymbol]"
   ]
  },
  {
   "cell_type": "code",
   "execution_count": 95,
   "metadata": {
    "ExecuteTime": {
     "end_time": "2019-05-07T17:40:25.027260Z",
     "start_time": "2019-05-07T17:40:25.021854Z"
    }
   },
   "outputs": [],
   "source": [
    "def get_orthography(word):\n",
    "    return word.orthography\n",
    "\n",
    "def filter_x(segSeq):\n",
    "    return tuple([seg for seg in segSeq if seg != 'x'])\n",
    "\n",
    "def get_phonemes(word, inIPA=True, asDottedString=True):\n",
    "    phonemes = tuple(word.phonemic)\n",
    "    if inIPA:\n",
    "        phonemes = filter_x(phonemes)\n",
    "        phonemes = tuple(map(buckeyeToUnicodeIPA,\n",
    "                             phonemes))\n",
    "    if asDottedString:\n",
    "        return t2ds(phonemes)\n",
    "    return phonemes\n",
    "\n",
    "def get_phones(word, inIPA=True, asDottedString=True):\n",
    "    if not isWord(word):\n",
    "        return word.phonetic\n",
    "    phones = tuple(word.phonetic)\n",
    "    if inIPA:\n",
    "        phones = filter_x(phones)\n",
    "        phones = tuple(map(buckeyeToUnicodeIPA,\n",
    "                           phones))\n",
    "    if asDottedString:\n",
    "        return t2ds(phones)\n",
    "    return phones"
   ]
  },
  {
   "cell_type": "code",
   "execution_count": 96,
   "metadata": {
    "ExecuteTime": {
     "end_time": "2019-05-07T17:40:30.248549Z",
     "start_time": "2019-05-07T17:40:30.082932Z"
    }
   },
   "outputs": [
    {
     "data": {
      "text/plain": [
       "[Word('ten', 530.572, 530.769, ['t', 'eh', 'n'], ['t', 'eh', 'x', 'n'], 'CD'),\n",
       " Word('yknow', 248.168, 248.477, ['y', 'uw', 'n', 'ow'], ['y', 'ih', 'x', 'n', 'ow'], 'PRP_VBP')]"
      ]
     },
     "execution_count": 96,
     "metadata": {},
     "output_type": "execute_result"
    }
   ],
   "source": [
    "findWordsWithPhone('x')"
   ]
  },
  {
   "cell_type": "code",
   "execution_count": 97,
   "metadata": {
    "ExecuteTime": {
     "end_time": "2019-05-07T17:40:36.100287Z",
     "start_time": "2019-05-07T17:40:35.614047Z"
    }
   },
   "outputs": [
    {
     "data": {
      "text/plain": [
       "Word('ten', 530.572, 530.769, ['t', 'eh', 'n'], ['t', 'eh', 'x', 'n'], 'CD')"
      ]
     },
     "execution_count": 97,
     "metadata": {},
     "output_type": "execute_result"
    },
    {
     "data": {
      "text/plain": [
       "('t', 'eh', 'x', 'n')"
      ]
     },
     "execution_count": 97,
     "metadata": {},
     "output_type": "execute_result"
    },
    {
     "data": {
      "text/plain": [
       "('t', 'eh', 'n')"
      ]
     },
     "execution_count": 97,
     "metadata": {},
     "output_type": "execute_result"
    }
   ],
   "source": [
    "findWordsWithPhone('x')[0]\n",
    "getPhones(findWordsWithPhone('x')[0])\n",
    "filter_x(getPhones(findWordsWithPhone('x')[0]))"
   ]
  },
  {
   "cell_type": "code",
   "execution_count": 98,
   "metadata": {
    "ExecuteTime": {
     "end_time": "2019-05-07T17:40:40.456752Z",
     "start_time": "2019-05-07T17:40:40.277218Z"
    }
   },
   "outputs": [
    {
     "data": {
      "text/plain": [
       "'t.ɛ.n'"
      ]
     },
     "execution_count": 98,
     "metadata": {},
     "output_type": "execute_result"
    }
   ],
   "source": [
    "get_phones(findWordsWithPhone('x')[0])"
   ]
  },
  {
   "cell_type": "code",
   "execution_count": 99,
   "metadata": {
    "ExecuteTime": {
     "end_time": "2019-05-07T17:40:44.109125Z",
     "start_time": "2019-05-07T17:40:44.103254Z"
    }
   },
   "outputs": [
    {
     "data": {
      "text/plain": [
       "Word('and', 0.365, 0.497, ['ae', 'n', 'd'], ['ae', 'ng'], 'CC')"
      ]
     },
     "execution_count": 99,
     "metadata": {},
     "output_type": "execute_result"
    },
    {
     "data": {
      "text/plain": [
       "('ae', 'ng')"
      ]
     },
     "execution_count": 99,
     "metadata": {},
     "output_type": "execute_result"
    }
   ],
   "source": [
    "w\n",
    "getPhones(w)"
   ]
  },
  {
   "cell_type": "markdown",
   "metadata": {},
   "source": [
    "# Sanity check: orthographic and phoneme token counts"
   ]
  },
  {
   "cell_type": "markdown",
   "metadata": {},
   "source": [
    "## Orthographic token counts"
   ]
  },
  {
   "cell_type": "code",
   "execution_count": 100,
   "metadata": {
    "ExecuteTime": {
     "end_time": "2019-05-07T17:40:59.324741Z",
     "start_time": "2019-05-07T17:40:59.203515Z"
    }
   },
   "outputs": [
    {
     "data": {
      "text/plain": [
       "216062"
      ]
     },
     "execution_count": 100,
     "metadata": {},
     "output_type": "execute_result"
    },
    {
     "data": {
      "text/plain": [
       "7999"
      ]
     },
     "execution_count": 100,
     "metadata": {},
     "output_type": "execute_result"
    }
   ],
   "source": [
    "orthographic_wordform_tokens = list(map(getOrthography, words))\n",
    "len(orthographic_wordform_tokens)\n",
    "orthographic_wordform_types = set(orthographic_wordform_tokens)\n",
    "len(orthographic_wordform_types)"
   ]
  },
  {
   "cell_type": "code",
   "execution_count": 101,
   "metadata": {
    "ExecuteTime": {
     "end_time": "2019-05-07T17:41:02.678346Z",
     "start_time": "2019-05-07T17:41:02.639994Z"
    }
   },
   "outputs": [],
   "source": [
    "orthographic_wordform_counts = Counter(orthographic_wordform_tokens)"
   ]
  },
  {
   "cell_type": "code",
   "execution_count": 102,
   "metadata": {
    "ExecuteTime": {
     "end_time": "2019-05-07T17:41:05.781436Z",
     "start_time": "2019-05-07T17:41:05.774633Z"
    }
   },
   "outputs": [
    {
     "data": {
      "text/plain": [
       "6030"
      ]
     },
     "execution_count": 102,
     "metadata": {},
     "output_type": "execute_result"
    }
   ],
   "source": [
    "threshold = 5\n",
    "uncommon_wordform_types = [w for w in orthographic_wordform_types if orthographic_wordform_counts[w] <= threshold]\n",
    "len(uncommon_wordform_types)"
   ]
  },
  {
   "cell_type": "code",
   "execution_count": 103,
   "metadata": {
    "ExecuteTime": {
     "end_time": "2019-05-07T17:41:09.698179Z",
     "start_time": "2019-05-07T17:41:09.688113Z"
    }
   },
   "outputs": [
    {
     "data": {
      "text/plain": [
       "3441"
      ]
     },
     "execution_count": 103,
     "metadata": {},
     "output_type": "execute_result"
    }
   ],
   "source": [
    "threshold = 1\n",
    "uncommon_wordform_types = [w for w in orthographic_wordform_types if orthographic_wordform_counts[w] <= threshold]\n",
    "len(uncommon_wordform_types)"
   ]
  },
  {
   "cell_type": "markdown",
   "metadata": {},
   "source": [
    "## Phoneme token counts"
   ]
  },
  {
   "cell_type": "code",
   "execution_count": 104,
   "metadata": {
    "ExecuteTime": {
     "end_time": "2019-05-07T17:41:17.856969Z",
     "start_time": "2019-05-07T17:41:17.854386Z"
    }
   },
   "outputs": [],
   "source": [
    "def seqToMultiSet(seq):\n",
    "    return Counter(seq)\n",
    "\n",
    "def dsToMultiSet(ds):\n",
    "    return seqToMultiSet(ds2t(ds))"
   ]
  },
  {
   "cell_type": "code",
   "execution_count": 105,
   "metadata": {
    "ExecuteTime": {
     "end_time": "2019-05-07T17:41:20.967825Z",
     "start_time": "2019-05-07T17:41:20.964989Z"
    }
   },
   "outputs": [],
   "source": [
    "def buckeye_word_to_phoneme_multiset(w):\n",
    "    return dsToMultiSet(get_phonemes(w))"
   ]
  },
  {
   "cell_type": "code",
   "execution_count": 106,
   "metadata": {
    "ExecuteTime": {
     "end_time": "2019-05-07T17:41:32.283537Z",
     "start_time": "2019-05-07T17:41:24.096295Z"
    }
   },
   "outputs": [
    {
     "data": {
      "text/plain": [
       "[('t', 55227),\n",
       " ('n', 47606),\n",
       " ('ʌ', 43276),\n",
       " ('ɪ', 39406),\n",
       " ('i', 31451),\n",
       " ('d', 30982),\n",
       " ('s', 29203),\n",
       " ('æ', 27293),\n",
       " ('ɹ', 27058),\n",
       " ('aɪ', 22617),\n",
       " ('l', 22589),\n",
       " ('ð', 21932),\n",
       " ('oʊ', 21775),\n",
       " ('k', 21746),\n",
       " ('m', 20226),\n",
       " ('ɛ', 19584),\n",
       " ('u', 19158),\n",
       " ('z', 17331),\n",
       " ('w', 17140),\n",
       " ('eɪ', 16504),\n",
       " ('ɑ', 13602),\n",
       " ('b', 13068),\n",
       " ('j', 12182),\n",
       " ('v', 11423),\n",
       " ('h', 11114),\n",
       " ('ɚ', 10421),\n",
       " ('p', 10402),\n",
       " ('f', 9024),\n",
       " ('ŋ', 8836),\n",
       " ('g', 7371),\n",
       " ('θ', 6476),\n",
       " ('aʊ', 4575),\n",
       " ('dʒ', 3787),\n",
       " ('ʃ', 3436),\n",
       " ('ʊ', 3213),\n",
       " ('l̩', 3170),\n",
       " ('tʃ', 2631),\n",
       " ('m̩', 1523),\n",
       " ('n̩', 989),\n",
       " ('ɔɪ', 373),\n",
       " ('ʒ', 171),\n",
       " ('ɾ', 29),\n",
       " ('ɔ', 5),\n",
       " ('ɾ̃', 3),\n",
       " ('ʔ', 1)]"
      ]
     },
     "execution_count": 106,
     "metadata": {},
     "output_type": "execute_result"
    }
   ],
   "source": [
    "phoneme_counts_by_word = map(buckeye_word_to_phoneme_multiset,\n",
    "                             words)\n",
    "phoneme_counts = reduce(lambda c_0, c_1: c_0 + c_1, phoneme_counts_by_word)\n",
    "phoneme_counts.most_common()"
   ]
  },
  {
   "cell_type": "code",
   "execution_count": 107,
   "metadata": {
    "ExecuteTime": {
     "end_time": "2019-05-07T17:41:32.287717Z",
     "start_time": "2019-05-07T17:41:32.285057Z"
    }
   },
   "outputs": [
    {
     "data": {
      "text/plain": [
       "set()"
      ]
     },
     "execution_count": 107,
     "metadata": {},
     "output_type": "execute_result"
    }
   ],
   "source": [
    "# set(map(buckeyeToUnicodeIPA, phonemes))\n",
    "set(phoneme_counts.keys()) - set(map(buckeyeToUnicodeIPA, phonemes))"
   ]
  },
  {
   "cell_type": "markdown",
   "metadata": {},
   "source": [
    "The bottom four 'phonemes' are concerning:\n",
    " 1. What wordforms have a tap/flap (much less *nasalized ones*) in their phonemic representation?\n",
    " 2. Why are there five phonemic counts of `ɔ`? Or rather, why are there *any* counts at all?\n",
    " 3. Why is there any phonemic count for glottal stops at all?"
   ]
  },
  {
   "cell_type": "markdown",
   "metadata": {},
   "source": [
    "### What wordforms have \"phonemic\" taps/flaps?"
   ]
  },
  {
   "cell_type": "code",
   "execution_count": 109,
   "metadata": {
    "ExecuteTime": {
     "end_time": "2019-05-07T17:42:07.219891Z",
     "start_time": "2019-05-07T17:42:07.215481Z"
    }
   },
   "outputs": [
    {
     "data": {
      "text/plain": [
       "{('dx', 'ɾ')}"
      ]
     },
     "execution_count": 109,
     "metadata": {},
     "output_type": "execute_result"
    }
   ],
   "source": [
    "{pair for pair in buckeyeUnicodeIPArelation if pair[1] == 'ɾ'}"
   ]
  },
  {
   "cell_type": "code",
   "execution_count": 110,
   "metadata": {
    "ExecuteTime": {
     "end_time": "2019-05-07T17:42:14.020185Z",
     "start_time": "2019-05-07T17:42:13.850730Z"
    }
   },
   "outputs": [
    {
     "data": {
      "text/plain": [
       "29"
      ]
     },
     "execution_count": 110,
     "metadata": {},
     "output_type": "execute_result"
    },
    {
     "data": {
      "text/plain": [
       "[Word('lotta', 495.885937, 496.007939, ['l', 'aa', 'dx', 'ah'], ['aa', 'dx', 'ah'], 'NN'),\n",
       " Word('shut-outs', 467.405651, 468.145492, ['sh', 'ah', 'dx', 'aw', 't', 's'], ['sh', 'ah', 'dx', 'aw', 't', 's'], 'JJ'),\n",
       " Word('exporting', 520.98907, 521.424637, ['eh', 'k', 's', 'p', 'ow', 'r', 'dx', 'ah', 'ng'], ['eh', 'k', 's', 'p', 'ow', 'r', 'en'], 'VBG'),\n",
       " Word('dont', 48.17348, 48.470962, ['dx', 'ow', 'n', 'tq'], ['dx', 'ow', 'n', 'tq'], 'VBP_RB'),\n",
       " Word('out-r-inn', 186.512065, 187.018903, ['aw', 'dx', 'er', 'ih', 'n'], ['aw', 'dx', 'er', 'ih', 'n'], 'JJ'),\n",
       " Word('tattletale', 241.911461, 242.604566, ['t', 'ae', 'dx', 'el', 't', 'ey', 'l'], ['t', 'ae', 'dx', 'el', 't', 'ey', 'l'], 'NN'),\n",
       " Word('out-r-inn', 181.751191, 182.44152, ['aw', 'dx', 'er', 'ih', 'n'], ['aw', 'dx', 'er', 'ih', 'n'], 'NN'),\n",
       " Word('yadda', 75.953, 76.175, ['y', 'aa', 'dx', 'ah'], ['y', 'aa', 'dx', 'ih'], 'NN'),\n",
       " Word('yadda', 76.175, 76.476, ['y', 'aa', 'dx', 'ah'], ['y', 'aa', 'dx', 'ah'], 'NN'),\n",
       " Word('ritalin', 174.745062, 175.25298, ['r', 'ih', 'dx', 'ah', 'l', 'ah', 'n'], ['r', 'ih', 'dx', 'ih', 'l', 'ih', 'n'], 'NNP'),\n",
       " Word('ritalin', 179.420679, 179.861127, ['r', 'ih', 'dx', 'ah', 'l', 'ah', 'n'], ['r', 'ih', 'dx', 'el', 'ih', 'n'], 'NNP'),\n",
       " Word('ritalin', 192.487312, 192.89125, ['r', 'ih', 'dx', 'ah', 'l', 'ah', 'n'], ['r', 'ih', 'dx', 'ah', 'l', 'ih', 'n'], 'NNP'),\n",
       " Word('doody', 545.156, 545.556, ['d', 'uw', 'dx', 'iy'], ['d', 'uw', 'dx', 'iy'], 'NN'),\n",
       " Word('ritalin', 3.346469, 3.710408, ['r', 'ih', 'dx', 'ah', 'l', 'ah', 'n'], ['r', 'ih', 'dx', 'ih', 'l', 'ih', 'n'], 'NNP'),\n",
       " Word('ritalin', 6.63431, 6.933111, ['r', 'ih', 'dx', 'ah', 'l', 'ah', 'n'], ['r', 'ih', 'dx', 'el', 'ah'], 'NNP'),\n",
       " Word('ritalin', 28.897205, 29.367509, ['r', 'ih', 'dx', 'ah', 'l', 'ah', 'n'], ['r', 'ih', 'dx', 'el', 'ih', 'n'], 'NNP'),\n",
       " Word('yadda', 88.98, 89.188, ['y', 'aa', 'dx', 'ah'], ['y', 'aa', 'dx', 'ih'], 'NN'),\n",
       " Word('yadda', 89.188, 89.413, ['y', 'aa', 'dx', 'ah'], ['y', 'aa', 'dx', 'ih'], 'NN'),\n",
       " Word('yadda', 89.413, 89.719, ['y', 'aa', 'dx', 'ah'], ['y', 'aa', 'dx', 'ah'], 'NN'),\n",
       " Word('skateboarding', 99.866062, 100.456163, ['s', 'k', 'ey', 't', 'b', 'ow', 'r', 'dx', 'ih', 'ng'], ['s', 'k', 'ey', 't', 'b', 'ow', 'r', 'dx', 'ih', 'ng'], 'VBG'),\n",
       " Word('lotta', 562.696017, 562.998954, ['l', 'aa', 'dx', 'ah'], ['l', 'aa', 'dx', 'ah'], 'NN'),\n",
       " Word('littlest', 124.976186, 125.294405, ['l', 'ih', 'dx', 'el', 'ah', 's', 't'], ['l', 'ih', 'dx', 'el', 'ah', 's'], 'JJS'),\n",
       " Word('yadda', 411.085, 411.317, ['y', 'aa', 'dx', 'ah'], ['y', 'aa', 'dx', 'iy'], 'NN'),\n",
       " Word('yadda', 411.317, 411.565, ['y', 'aa', 'dx', 'ah'], ['y', 'aa', 'dx', 'ah'], 'NN'),\n",
       " Word('lotta', 282.63249, 282.818595, ['l', 'aa', 'dx', 'ah'], ['l', 'aa', 'dx', 'ah'], 'NN'),\n",
       " Word('shoulda', 8.099293, 8.389511, ['sh', 'uh', 'dx', 'ah'], ['sh', 'uh', 'dx', 'ah'], 'NN'),\n",
       " Word('introvertal', 6.1045, 7.148, ['ih', 'n', 't', 'r', 'ow', 'v', 'er', 'dx', 'ah', 'l'], ['ih', 'n', 'ch', 'r', 'ow', 'v', 'er', 'dx', 'el'], 'JJ'),\n",
       " Word('introvertal', 9.452754, 10.122, ['ih', 'n', 't', 'r', 'ow', 'v', 'er', 'dx', 'ah', 'l'], ['ih', 'n', 'ch', 'r', 'ow', 'v', 'er', 'zh', 'el'], 'JJ'),\n",
       " Word('disparity', 426.418315, 427.01975, ['d', 'ih', 's', 'p', 'eh', 'r', 'ah', 'dx', 'iy'], ['d', 'ih', 's', 'p', 'eh', 'r', 'ih', 'dx', 'iy'], 'NN')]"
      ]
     },
     "execution_count": 110,
     "metadata": {},
     "output_type": "execute_result"
    },
    {
     "data": {
      "text/plain": [
       "['lotta',\n",
       " 'shut-outs',\n",
       " 'exporting',\n",
       " 'dont',\n",
       " 'out-r-inn',\n",
       " 'tattletale',\n",
       " 'yadda',\n",
       " 'ritalin',\n",
       " 'doody',\n",
       " 'skateboarding',\n",
       " 'littlest',\n",
       " 'shoulda',\n",
       " 'introvertal',\n",
       " 'disparity']"
      ]
     },
     "execution_count": 110,
     "metadata": {},
     "output_type": "execute_result"
    }
   ],
   "source": [
    "ws_w_phonemic_oral_taps = findWordsWithPhoneme('dx')\n",
    "len(ws_w_phonemic_oral_taps)\n",
    "ws_w_phonemic_oral_taps\n",
    "list(unique_everseen(map(get_orthography, ws_w_phonemic_oral_taps)))"
   ]
  },
  {
   "cell_type": "code",
   "execution_count": 111,
   "metadata": {
    "ExecuteTime": {
     "end_time": "2019-05-07T17:42:22.287135Z",
     "start_time": "2019-05-07T17:42:22.127042Z"
    }
   },
   "outputs": [
    {
     "data": {
      "text/plain": [
       "['b.oʊ.ɹ.d',\n",
       " 'b.oʊ.ɹ.d',\n",
       " 'b.oʊ.ɹ.d',\n",
       " 'b.oʊ.ɹ.d',\n",
       " 'b.oʊ.ɹ.d',\n",
       " 'b.oʊ.ɹ.d',\n",
       " 'b.oʊ.ɹ.d',\n",
       " 'b.oʊ.ɹ.d',\n",
       " 'b.oʊ.ɹ.d',\n",
       " 'b.oʊ.ɹ.d',\n",
       " 'b.oʊ.ɹ.d',\n",
       " 'b.oʊ.ɹ.d',\n",
       " 'b.oʊ.ɹ.d',\n",
       " 'b.oʊ.ɹ.d',\n",
       " 'b.oʊ.ɹ.d',\n",
       " 'b.oʊ.ɹ.d']"
      ]
     },
     "execution_count": 111,
     "metadata": {},
     "output_type": "execute_result"
    },
    {
     "data": {
      "text/plain": [
       "['s.k.eɪ.t.b.oʊ.ɹ.ɾ.ɪ.ŋ']"
      ]
     },
     "execution_count": 111,
     "metadata": {},
     "output_type": "execute_result"
    }
   ],
   "source": [
    "list(map(get_phonemes, findWordTokensOf('board')))\n",
    "list(map(get_phonemes, findWordTokensOf('skateboarding')))"
   ]
  },
  {
   "cell_type": "markdown",
   "metadata": {},
   "source": [
    "I don't think it's farfetched to think the oral stop phoneme at the end of `skateboarding` should be `d`."
   ]
  },
  {
   "cell_type": "code",
   "execution_count": 112,
   "metadata": {
    "ExecuteTime": {
     "end_time": "2019-05-07T17:42:36.770717Z",
     "start_time": "2019-05-07T17:42:36.564737Z"
    }
   },
   "outputs": [
    {
     "data": {
      "text/plain": [
       "['l.ɪ.t.l̩',\n",
       " 'l.ɪ.t.l̩',\n",
       " 'l.ɪ.t.l̩',\n",
       " 'l.ɪ.t.l̩',\n",
       " 'l.ɪ.t.l̩',\n",
       " 'l.ɪ.t.l̩',\n",
       " 'l.ɪ.t.l̩',\n",
       " 'l.ɪ.t.l̩',\n",
       " 'l.ɪ.t.l̩',\n",
       " 'l.ɪ.t.l̩',\n",
       " 'l.ɪ.t.l̩',\n",
       " 'l.ɪ.t.l̩',\n",
       " 'l.ɪ.t.l̩',\n",
       " 'l.ɪ.t.l̩',\n",
       " 'l.ɪ.t.l̩',\n",
       " 'l.ɪ.t.l̩',\n",
       " 'l.ɪ.t.l̩',\n",
       " 'l.ɪ.t.l̩',\n",
       " 'l.ɪ.t.l̩',\n",
       " 'l.ɪ.t.l̩',\n",
       " 'l.ɪ.t.l̩',\n",
       " 'l.ɪ.t.l̩',\n",
       " 'l.ɪ.t.l̩',\n",
       " 'l.ɪ.t.l̩',\n",
       " 'l.ɪ.t.l̩',\n",
       " 'l.ɪ.t.l̩',\n",
       " 'l.ɪ.t.l̩',\n",
       " 'l.ɪ.t.l̩',\n",
       " 'l.ɪ.t.l̩',\n",
       " 'l.ɪ.t.l̩',\n",
       " 'l.ɪ.t.l̩',\n",
       " 'l.ɪ.t.l̩',\n",
       " 'l.ɪ.t.l̩',\n",
       " 'l.ɪ.t.l̩',\n",
       " 'l.ɪ.t.l̩',\n",
       " 'l.ɪ.t.l̩',\n",
       " 'l.ɪ.t.l̩',\n",
       " 'l.ɪ.t.l̩',\n",
       " 'l.ɪ.t.l̩',\n",
       " 'l.ɪ.t.l̩',\n",
       " 'l.ɪ.t.l̩',\n",
       " 'l.ɪ.t.l̩',\n",
       " 'l.ɪ.t.l̩',\n",
       " 'l.ɪ.t.l̩',\n",
       " 'l.ɪ.t.l̩',\n",
       " 'l.ɪ.t.l̩',\n",
       " 'l.ɪ.t.l̩',\n",
       " 'l.ɪ.t.l̩',\n",
       " 'l.ɪ.t.l̩',\n",
       " 'l.ɪ.t.l̩',\n",
       " 'l.ɪ.t.l̩',\n",
       " 'l.ɪ.t.l̩',\n",
       " 'l.ɪ.t.l̩',\n",
       " 'l.ɪ.t.l̩',\n",
       " 'l.ɪ.t.l̩',\n",
       " 'l.ɪ.t.l̩',\n",
       " 'l.ɪ.t.l̩',\n",
       " 'l.ɪ.t.l̩',\n",
       " 'l.ɪ.t.l̩',\n",
       " 'l.ɪ.t.l̩',\n",
       " 'l.ɪ.t.l̩',\n",
       " 'l.ɪ.t.l̩',\n",
       " 'l.ɪ.t.l̩',\n",
       " 'l.ɪ.t.l̩',\n",
       " 'l.ɪ.t.l̩',\n",
       " 'l.ɪ.t.l̩',\n",
       " 'l.ɪ.t.l̩',\n",
       " 'l.ɪ.t.l̩',\n",
       " 'l.ɪ.t.l̩',\n",
       " 'l.ɪ.t.l̩',\n",
       " 'l.ɪ.t.l̩',\n",
       " 'l.ɪ.t.l̩',\n",
       " 'l.ɪ.t.l̩',\n",
       " 'l.ɪ.t.l̩',\n",
       " 'l.ɪ.t.l̩',\n",
       " 'l.ɪ.t.l̩',\n",
       " 'l.ɪ.t.l̩',\n",
       " 'l.ɪ.t.l̩',\n",
       " 'l.ɪ.t.l̩',\n",
       " 'l.ɪ.t.l̩',\n",
       " 'l.ɪ.t.l̩',\n",
       " 'l.ɪ.t.l̩',\n",
       " 'l.ɪ.t.l̩',\n",
       " 'l.ɪ.t.l̩',\n",
       " 'l.ɪ.t.l̩',\n",
       " 'l.ɪ.t.l̩',\n",
       " 'l.ɪ.t.l̩',\n",
       " 'l.ɪ.t.l̩',\n",
       " 'l.ɪ.t.l̩',\n",
       " 'l.ɪ.t.l̩',\n",
       " 'l.ɪ.t.l̩',\n",
       " 'l.ɪ.t.l̩',\n",
       " 'l.ɪ.t.l̩',\n",
       " 'l.ɪ.t.l̩',\n",
       " 'l.ɪ.t.l̩',\n",
       " 'l.ɪ.t.l̩',\n",
       " 'l.ɪ.t.l̩',\n",
       " 'l.ɪ.t.l̩',\n",
       " 'l.ɪ.t.l̩',\n",
       " 'l.ɪ.t.l̩',\n",
       " 'l.ɪ.t.l̩',\n",
       " 'l.ɪ.t.l̩',\n",
       " 'l.ɪ.t.l̩',\n",
       " 'l.ɪ.t.l̩',\n",
       " 'l.ɪ.t.l̩',\n",
       " 'l.ɪ.t.l̩',\n",
       " 'l.ɪ.t.l̩',\n",
       " 'l.ɪ.t.l̩',\n",
       " 'l.ɪ.t.l̩',\n",
       " 'l.ɪ.t.l̩',\n",
       " 'l.ɪ.t.l̩',\n",
       " 'l.ɪ.t.l̩',\n",
       " 'l.ɪ.t.l̩',\n",
       " 'l.ɪ.t.l̩',\n",
       " 'l.ɪ.t.l̩',\n",
       " 'l.ɪ.t.l̩',\n",
       " 'l.ɪ.t.l̩',\n",
       " 'l.ɪ.t.l̩',\n",
       " 'l.ɪ.t.l̩',\n",
       " 'l.ɪ.t.l̩',\n",
       " 'l.ɪ.t.l̩',\n",
       " 'l.ɪ.t.l̩',\n",
       " 'l.ɪ.t.l̩',\n",
       " 'l.ɪ.t.l̩',\n",
       " 'l.ɪ.t.l̩',\n",
       " 'l.ɪ.t.l̩',\n",
       " 'l.ɪ.t.l̩',\n",
       " 'l.ɪ.t.l̩',\n",
       " 'l.ɪ.t.l̩',\n",
       " 'l.ɪ.t.l̩',\n",
       " 'l.ɪ.t.l̩',\n",
       " 'l.ɪ.t.l̩',\n",
       " 'l.ɪ.t.l̩',\n",
       " 'l.ɪ.t.l̩',\n",
       " 'l.ɪ.t.l̩',\n",
       " 'l.ɪ.t.l̩',\n",
       " 'l.ɪ.t.l̩',\n",
       " 'l.ɪ.t.l̩',\n",
       " 'l.ɪ.t.l̩',\n",
       " 'l.ɪ.t.l̩',\n",
       " 'l.ɪ.t.l̩',\n",
       " 'l.ɪ.t.l̩',\n",
       " 'l.ɪ.t.l̩',\n",
       " 'l.ɪ.t.l̩',\n",
       " 'l.ɪ.t.l̩',\n",
       " 'l.ɪ.t.l̩',\n",
       " 'l.ɪ.t.l̩',\n",
       " 'l.ɪ.t.l̩',\n",
       " 'l.ɪ.t.l̩',\n",
       " 'l.ɪ.t.l̩',\n",
       " 'l.ɪ.t.l̩',\n",
       " 'l.ɪ.t.l̩',\n",
       " 'l.ɪ.t.l̩',\n",
       " 'l.ɪ.t.l̩',\n",
       " 'l.ɪ.t.l̩',\n",
       " 'l.ɪ.t.l̩',\n",
       " 'l.ɪ.t.l̩',\n",
       " 'l.ɪ.t.l̩',\n",
       " 'l.ɪ.t.l̩',\n",
       " 'l.ɪ.t.l̩',\n",
       " 'l.ɪ.t.l̩',\n",
       " 'l.ɪ.t.l̩',\n",
       " 'l.ɪ.t.l̩',\n",
       " 'l.ɪ.t.l̩',\n",
       " 'l.ɪ.t.l̩',\n",
       " 'l.ɪ.t.l̩',\n",
       " 'l.ɪ.t.l̩',\n",
       " 'l.ɪ.t.l̩',\n",
       " 'l.ɪ.t.l̩',\n",
       " 'l.ɪ.t.l̩',\n",
       " 'l.ɪ.t.l̩',\n",
       " 'l.ɪ.t.l̩',\n",
       " 'l.ɪ.t.l̩',\n",
       " 'l.ɪ.t.l̩',\n",
       " 'l.ɪ.t.l̩',\n",
       " 'l.ɪ.t.l̩',\n",
       " 'l.ɪ.t.l̩',\n",
       " 'l.ɪ.t.l̩',\n",
       " 'l.ɪ.t.l̩',\n",
       " 'l.ɪ.t.l̩',\n",
       " 'l.ɪ.t.l̩',\n",
       " 'l.ɪ.t.l̩',\n",
       " 'l.ɪ.t.l̩',\n",
       " 'l.ɪ.t.l̩',\n",
       " 'l.ɪ.t.l̩',\n",
       " 'l.ɪ.t.l̩',\n",
       " 'l.ɪ.t.l̩',\n",
       " 'l.ɪ.t.l̩',\n",
       " 'l.ɪ.t.l̩',\n",
       " 'l.ɪ.t.l̩',\n",
       " 'l.ɪ.t.l̩',\n",
       " 'l.ɪ.t.l̩',\n",
       " 'l.ɪ.t.l̩',\n",
       " 'l.ɪ.t.l̩',\n",
       " 'l.ɪ.t.l̩',\n",
       " 'l.ɪ.t.l̩',\n",
       " 'l.ɪ.t.l̩',\n",
       " 'l.ɪ.t.l̩',\n",
       " 'l.ɪ.t.l̩',\n",
       " 'l.ɪ.t.l̩',\n",
       " 'l.ɪ.t.l̩',\n",
       " 'l.ɪ.t.l̩',\n",
       " 'l.ɪ.t.l̩',\n",
       " 'l.ɪ.t.l̩',\n",
       " 'l.ɪ.t.l̩',\n",
       " 'l.ɪ.t.l̩',\n",
       " 'l.ɪ.t.l̩',\n",
       " 'l.ɪ.t.l̩',\n",
       " 'l.ɪ.t.l̩',\n",
       " 'l.ɪ.t.l̩',\n",
       " 'l.ɪ.t.l̩',\n",
       " 'l.ɪ.t.l̩',\n",
       " 'l.ɪ.t.l̩',\n",
       " 'l.ɪ.t.l̩',\n",
       " 'l.ɪ.t.l̩',\n",
       " 'l.ɪ.t.l̩',\n",
       " 'l.ɪ.t.l̩',\n",
       " 'l.ɪ.t.l̩',\n",
       " 'l.ɪ.t.l̩',\n",
       " 'l.ɪ.t.l̩',\n",
       " 'l.ɪ.t.l̩',\n",
       " 'l.ɪ.t.l̩',\n",
       " 'l.ɪ.t.l̩',\n",
       " 'l.ɪ.t.l̩',\n",
       " 'l.ɪ.t.l̩',\n",
       " 'l.ɪ.t.l̩',\n",
       " 'l.ɪ.t.l̩',\n",
       " 'l.ɪ.t.l̩',\n",
       " 'l.ɪ.t.l̩',\n",
       " 'l.ɪ.t.l̩',\n",
       " 'l.ɪ.t.l̩',\n",
       " 'l.ɪ.t.l̩',\n",
       " 'l.ɪ.t.l̩',\n",
       " 'l.ɪ.t.l̩',\n",
       " 'l.ɪ.t.l̩',\n",
       " 'l.ɪ.t.l̩',\n",
       " 'l.ɪ.t.l̩',\n",
       " 'l.ɪ.t.l̩',\n",
       " 'l.ɪ.t.l̩',\n",
       " 'l.ɪ.t.l̩',\n",
       " 'l.ɪ.t.l̩',\n",
       " 'l.ɪ.t.l̩',\n",
       " 'l.ɪ.t.l̩',\n",
       " 'l.ɪ.t.l̩',\n",
       " 'l.ɪ.t.l̩',\n",
       " 'l.ɪ.t.l̩',\n",
       " 'l.ɪ.t.l̩',\n",
       " 'l.ɪ.t.l̩',\n",
       " 'l.ɪ.t.l̩',\n",
       " 'l.ɪ.t.l̩',\n",
       " 'l.ɪ.t.l̩',\n",
       " 'l.ɪ.t.l̩',\n",
       " 'l.ɪ.t.l̩',\n",
       " 'l.ɪ.t.l̩',\n",
       " 'l.ɪ.t.l̩',\n",
       " 'l.ɪ.t.l̩',\n",
       " 'l.ɪ.t.l̩',\n",
       " 'l.ɪ.t.l̩',\n",
       " 'l.ɪ.t.l̩',\n",
       " 'l.ɪ.t.l̩',\n",
       " 'l.ɪ.t.l̩',\n",
       " 'l.ɪ.t.l̩',\n",
       " 'l.ɪ.t.l̩',\n",
       " 'l.ɪ.t.l̩',\n",
       " 'l.ɪ.t.l̩',\n",
       " 'l.ɪ.t.l̩',\n",
       " 'l.ɪ.t.l̩',\n",
       " 'l.ɪ.t.l̩',\n",
       " 'l.ɪ.t.l̩',\n",
       " 'l.ɪ.t.l̩',\n",
       " 'l.ɪ.t.l̩',\n",
       " 'l.ɪ.t.l̩',\n",
       " 'l.ɪ.t.l̩',\n",
       " 'l.ɪ.t.l̩',\n",
       " 'l.ɪ.t.l̩',\n",
       " 'l.ɪ.t.l̩',\n",
       " 'l.ɪ.t.l̩',\n",
       " 'l.ɪ.t.l̩',\n",
       " 'l.ɪ.t.l̩',\n",
       " 'l.ɪ.t.l̩',\n",
       " 'l.ɪ.t.l̩',\n",
       " 'l.ɪ.t.l̩',\n",
       " 'l.ɪ.t.l̩',\n",
       " 'l.ɪ.t.l̩',\n",
       " 'l.ɪ.t.l̩',\n",
       " 'l.ɪ.t.l̩',\n",
       " 'l.ɪ.t.l̩',\n",
       " 'l.ɪ.t.l̩',\n",
       " 'l.ɪ.t.l̩',\n",
       " 'l.ɪ.t.l̩',\n",
       " 'l.ɪ.t.l̩',\n",
       " 'l.ɪ.t.l̩',\n",
       " 'l.ɪ.t.l̩',\n",
       " 'l.ɪ.t.l̩',\n",
       " 'l.ɪ.t.l̩',\n",
       " 'l.ɪ.t.l̩',\n",
       " 'l.ɪ.t.l̩',\n",
       " 'l.ɪ.t.l̩',\n",
       " 'l.ɪ.t.l̩',\n",
       " 'l.ɪ.t.l̩',\n",
       " 'l.ɪ.t.l̩',\n",
       " 'l.ɪ.t.l̩',\n",
       " 'l.ɪ.t.l̩',\n",
       " 'l.ɪ.t.l̩',\n",
       " 'l.ɪ.t.l̩',\n",
       " 'l.ɪ.t.l̩',\n",
       " 'l.ɪ.t.l̩',\n",
       " 'l.ɪ.t.l̩',\n",
       " 'l.ɪ.t.l̩',\n",
       " 'l.ɪ.t.l̩',\n",
       " 'l.ɪ.t.l̩',\n",
       " 'l.ɪ.t.l̩',\n",
       " 'l.ɪ.t.l̩']"
      ]
     },
     "execution_count": 112,
     "metadata": {},
     "output_type": "execute_result"
    },
    {
     "data": {
      "text/plain": [
       "['l.ɪ.ɾ.l̩.ʌ.s.t']"
      ]
     },
     "execution_count": 112,
     "metadata": {},
     "output_type": "execute_result"
    }
   ],
   "source": [
    "list(map(get_phonemes, findWordTokensOf('little')))\n",
    "list(map(get_phonemes, findWordTokensOf('littlest')))"
   ]
  },
  {
   "cell_type": "markdown",
   "metadata": {},
   "source": [
    "...or that the stop in the middle of `littlest` should be `t`..."
   ]
  },
  {
   "cell_type": "code",
   "execution_count": 113,
   "metadata": {
    "ExecuteTime": {
     "end_time": "2019-05-07T17:42:48.400455Z",
     "start_time": "2019-05-07T17:42:48.314929Z"
    }
   },
   "outputs": [
    {
     "data": {
      "text/plain": [
       "['l.ɑ.ɾ.ʌ', 'l.ɑ.ɾ.ʌ', 'l.ɑ.ɾ.ʌ']"
      ]
     },
     "execution_count": 113,
     "metadata": {},
     "output_type": "execute_result"
    }
   ],
   "source": [
    "list(map(get_phonemes, findWordTokensOf('lotta')))"
   ]
  },
  {
   "cell_type": "markdown",
   "metadata": {},
   "source": [
    "...`t`"
   ]
  },
  {
   "cell_type": "code",
   "execution_count": 114,
   "metadata": {
    "ExecuteTime": {
     "end_time": "2019-05-07T17:42:58.331937Z",
     "start_time": "2019-05-07T17:42:58.230939Z"
    }
   },
   "outputs": [
    {
     "data": {
      "text/plain": [
       "['j.ɑ.ɾ.ʌ', 'j.ɑ.ɾ.ʌ', 'j.ɑ.ɾ.ʌ', 'j.ɑ.ɾ.ʌ', 'j.ɑ.ɾ.ʌ', 'j.ɑ.ɾ.ʌ', 'j.ɑ.ɾ.ʌ']"
      ]
     },
     "execution_count": 114,
     "metadata": {},
     "output_type": "execute_result"
    }
   ],
   "source": [
    "list(map(get_phonemes, findWordTokensOf('yadda')))"
   ]
  },
  {
   "cell_type": "markdown",
   "metadata": {},
   "source": [
    "...`t` or `d`? Unclear, but I don't think the decision is consequential; I'll go with `d`."
   ]
  },
  {
   "cell_type": "code",
   "execution_count": 115,
   "metadata": {
    "ExecuteTime": {
     "end_time": "2019-05-07T17:43:07.875915Z",
     "start_time": "2019-05-07T17:43:07.787069Z"
    }
   },
   "outputs": [
    {
     "data": {
      "text/plain": [
       "['ʃ.ʊ.ɾ.ʌ']"
      ]
     },
     "execution_count": 115,
     "metadata": {},
     "output_type": "execute_result"
    }
   ],
   "source": [
    "list(map(get_phonemes, findWordTokensOf('shoulda')))"
   ]
  },
  {
   "cell_type": "markdown",
   "metadata": {},
   "source": [
    "...`d`"
   ]
  },
  {
   "cell_type": "code",
   "execution_count": 116,
   "metadata": {
    "ExecuteTime": {
     "end_time": "2019-05-07T17:43:16.974373Z",
     "start_time": "2019-05-07T17:43:16.876046Z"
    }
   },
   "outputs": [
    {
     "data": {
      "text/plain": [
       "['ɪ.n.t.ɹ.oʊ.v.ɚ.ɾ.ʌ.l', 'ɪ.n.t.ɹ.oʊ.v.ɚ.ɾ.ʌ.l']"
      ]
     },
     "execution_count": 116,
     "metadata": {},
     "output_type": "execute_result"
    }
   ],
   "source": [
    "list(map(get_phonemes, findWordTokensOf('introvertal')))"
   ]
  },
  {
   "cell_type": "markdown",
   "metadata": {},
   "source": [
    "...`t`"
   ]
  },
  {
   "cell_type": "code",
   "execution_count": 117,
   "metadata": {
    "ExecuteTime": {
     "end_time": "2019-05-07T17:43:25.680432Z",
     "start_time": "2019-05-07T17:43:25.590540Z"
    }
   },
   "outputs": [
    {
     "data": {
      "text/plain": [
       "['ʃ.ʌ.ɾ.aʊ.t.s']"
      ]
     },
     "execution_count": 117,
     "metadata": {},
     "output_type": "execute_result"
    }
   ],
   "source": [
    "list(map(get_phonemes, findWordTokensOf('shut-outs')))"
   ]
  },
  {
   "cell_type": "markdown",
   "metadata": {},
   "source": [
    "...`t`"
   ]
  },
  {
   "cell_type": "code",
   "execution_count": 118,
   "metadata": {
    "ExecuteTime": {
     "end_time": "2019-05-07T17:43:33.856828Z",
     "start_time": "2019-05-07T17:43:33.771948Z"
    }
   },
   "outputs": [
    {
     "data": {
      "text/plain": [
       "['d.ɪ.s.p.ɛ.ɹ.ʌ.ɾ.i']"
      ]
     },
     "execution_count": 118,
     "metadata": {},
     "output_type": "execute_result"
    }
   ],
   "source": [
    "list(map(get_phonemes, findWordTokensOf('disparity')))"
   ]
  },
  {
   "cell_type": "markdown",
   "metadata": {},
   "source": [
    "...`t`"
   ]
  },
  {
   "cell_type": "code",
   "execution_count": 119,
   "metadata": {
    "ExecuteTime": {
     "end_time": "2019-05-07T17:43:41.451371Z",
     "start_time": "2019-05-07T17:43:41.363986Z"
    }
   },
   "outputs": [
    {
     "data": {
      "text/plain": [
       "['ɾ.oʊ.n.ʔ']"
      ]
     },
     "execution_count": 119,
     "metadata": {},
     "output_type": "execute_result"
    }
   ],
   "source": [
    "list(map(get_phonemes, findWordTokensOf('dont')))"
   ]
  },
  {
   "cell_type": "markdown",
   "metadata": {},
   "source": [
    "...`d`"
   ]
  },
  {
   "cell_type": "code",
   "execution_count": 120,
   "metadata": {
    "ExecuteTime": {
     "end_time": "2019-05-07T17:43:50.871219Z",
     "start_time": "2019-05-07T17:43:50.781853Z"
    }
   },
   "outputs": [
    {
     "data": {
      "text/plain": [
       "['ɛ.k.s.p.oʊ.ɹ.ɾ.ʌ.ŋ']"
      ]
     },
     "execution_count": 120,
     "metadata": {},
     "output_type": "execute_result"
    }
   ],
   "source": [
    "list(map(get_phonemes, findWordTokensOf('exporting')))"
   ]
  },
  {
   "cell_type": "markdown",
   "metadata": {},
   "source": [
    "...`t`"
   ]
  },
  {
   "cell_type": "code",
   "execution_count": 121,
   "metadata": {
    "ExecuteTime": {
     "end_time": "2019-05-07T17:43:58.024615Z",
     "start_time": "2019-05-07T17:43:57.935131Z"
    }
   },
   "outputs": [
    {
     "data": {
      "text/plain": [
       "['aʊ.ɾ.ɚ.ɪ.n', 'aʊ.ɾ.ɚ.ɪ.n']"
      ]
     },
     "execution_count": 121,
     "metadata": {},
     "output_type": "execute_result"
    }
   ],
   "source": [
    "list(map(get_phonemes, findWordTokensOf('out-r-inn')))"
   ]
  },
  {
   "cell_type": "markdown",
   "metadata": {
    "ExecuteTime": {
     "end_time": "2019-05-07T17:44:01.596037Z",
     "start_time": "2019-05-07T17:44:01.593162Z"
    }
   },
   "source": [
    "...`t`"
   ]
  },
  {
   "cell_type": "code",
   "execution_count": 123,
   "metadata": {
    "ExecuteTime": {
     "end_time": "2019-05-07T17:44:09.064119Z",
     "start_time": "2019-05-07T17:44:08.975829Z"
    }
   },
   "outputs": [
    {
     "data": {
      "text/plain": [
       "['t.æ.ɾ.l̩.t.eɪ.l']"
      ]
     },
     "execution_count": 123,
     "metadata": {},
     "output_type": "execute_result"
    }
   ],
   "source": [
    "list(map(get_phonemes, findWordTokensOf('tattletale')))"
   ]
  },
  {
   "cell_type": "markdown",
   "metadata": {},
   "source": [
    "...`t`"
   ]
  },
  {
   "cell_type": "code",
   "execution_count": 124,
   "metadata": {
    "ExecuteTime": {
     "end_time": "2019-05-07T17:44:16.769172Z",
     "start_time": "2019-05-07T17:44:16.687800Z"
    }
   },
   "outputs": [
    {
     "data": {
      "text/plain": [
       "['d.u.ɾ.i']"
      ]
     },
     "execution_count": 124,
     "metadata": {},
     "output_type": "execute_result"
    }
   ],
   "source": [
    "list(map(get_phonemes, findWordTokensOf('doody')))"
   ]
  },
  {
   "cell_type": "markdown",
   "metadata": {},
   "source": [
    "...`t` or `d`? I'll go with `d`."
   ]
  },
  {
   "cell_type": "code",
   "execution_count": 125,
   "metadata": {
    "ExecuteTime": {
     "end_time": "2019-05-07T17:44:24.322022Z",
     "start_time": "2019-05-07T17:44:24.229167Z"
    }
   },
   "outputs": [
    {
     "data": {
      "text/plain": [
       "['ɹ.ɪ.ɾ.ʌ.l.ʌ.n',\n",
       " 'ɹ.ɪ.ɾ.ʌ.l.ʌ.n',\n",
       " 'ɹ.ɪ.ɾ.ʌ.l.ʌ.n',\n",
       " 'ɹ.ɪ.ɾ.ʌ.l.ʌ.n',\n",
       " 'ɹ.ɪ.ɾ.ʌ.l.ʌ.n',\n",
       " 'ɹ.ɪ.ɾ.ʌ.l.ʌ.n']"
      ]
     },
     "execution_count": 125,
     "metadata": {},
     "output_type": "execute_result"
    }
   ],
   "source": [
    "list(map(get_phonemes, findWordTokensOf('ritalin')))"
   ]
  },
  {
   "cell_type": "markdown",
   "metadata": {},
   "source": [
    "...`t`"
   ]
  },
  {
   "cell_type": "code",
   "execution_count": 126,
   "metadata": {
    "ExecuteTime": {
     "end_time": "2019-05-07T17:44:31.585473Z",
     "start_time": "2019-05-07T17:44:31.416440Z"
    }
   },
   "outputs": [
    {
     "data": {
      "text/plain": [
       "3"
      ]
     },
     "execution_count": 126,
     "metadata": {},
     "output_type": "execute_result"
    },
    {
     "data": {
      "text/plain": [
       "[Word('Ellimen', 266.068276, 266.358689, ['eh', 'l', 'ah', 'm', 'ah', 'nx'], ['eh', 'l', 'ah', 'm', 'ah', 'nx'], 'NNS'),\n",
       " Word('chanukah', 159.269773, 159.735166, ['hh', 'aa', 'nx', 'ah', 'k', 'ah'], ['hh', 'aa', 'nx', 'ay', 'k', 'eh'], 'NN'),\n",
       " Word('heroin', 429.416906, 429.846641, ['hh', 'eh', 'r', 'ow', 'ih', 'nx'], ['hh', 'eh', 'r', 'ow', 'ih', 'nx'], 'NN')]"
      ]
     },
     "execution_count": 126,
     "metadata": {},
     "output_type": "execute_result"
    }
   ],
   "source": [
    "ws_w_phonemic_nasal_taps = findWordsWithPhoneme('nx')\n",
    "len(ws_w_phonemic_nasal_taps)\n",
    "ws_w_phonemic_nasal_taps"
   ]
  },
  {
   "cell_type": "code",
   "execution_count": 127,
   "metadata": {
    "ExecuteTime": {
     "end_time": "2019-05-07T17:44:36.333572Z",
     "start_time": "2019-05-07T17:44:36.243318Z"
    }
   },
   "outputs": [
    {
     "data": {
      "text/plain": [
       "['h.ɛ.ɹ.oʊ.ɪ.ɾ̃']"
      ]
     },
     "execution_count": 127,
     "metadata": {},
     "output_type": "execute_result"
    }
   ],
   "source": [
    "list(map(get_phonemes, findWordTokensOf('heroin')))"
   ]
  },
  {
   "cell_type": "markdown",
   "metadata": {},
   "source": [
    "...`n`"
   ]
  },
  {
   "cell_type": "code",
   "execution_count": 128,
   "metadata": {
    "ExecuteTime": {
     "end_time": "2019-05-07T17:44:44.224732Z",
     "start_time": "2019-05-07T17:44:44.057123Z"
    }
   },
   "outputs": [
    {
     "data": {
      "text/plain": [
       "[Word('Ellimen', 266.068276, 266.358689, ['eh', 'l', 'ah', 'm', 'ah', 'nx'], ['eh', 'l', 'ah', 'm', 'ah', 'nx'], 'NNS'),\n",
       " Word('Ellimen', 262.952305, 263.32626, ['eh', 'l', 'ah', 'm', 'eh', 'n'], ['eh', 'l', 'ah', 'm', 'eh', 'n'], 'NNS')]"
      ]
     },
     "execution_count": 128,
     "metadata": {},
     "output_type": "execute_result"
    },
    {
     "data": {
      "text/plain": [
       "['ɛ.l.ʌ.m.ʌ.ɾ̃', 'ɛ.l.ʌ.m.ɛ.n']"
      ]
     },
     "execution_count": 128,
     "metadata": {},
     "output_type": "execute_result"
    }
   ],
   "source": [
    "findWordTokensOf('Ellimen')\n",
    "list(map(get_phonemes, findWordTokensOf('Ellimen')))"
   ]
  },
  {
   "cell_type": "markdown",
   "metadata": {},
   "source": [
    "...`n`"
   ]
  },
  {
   "cell_type": "code",
   "execution_count": 129,
   "metadata": {
    "ExecuteTime": {
     "end_time": "2019-05-07T17:45:02.698461Z",
     "start_time": "2019-05-07T17:45:02.608649Z"
    }
   },
   "outputs": [
    {
     "data": {
      "text/plain": [
       "['h.ɑ.ɾ̃.ʌ.k.ʌ']"
      ]
     },
     "execution_count": 129,
     "metadata": {},
     "output_type": "execute_result"
    }
   ],
   "source": [
    "list(map(get_phonemes, findWordTokensOf('chanukah')))"
   ]
  },
  {
   "cell_type": "markdown",
   "metadata": {},
   "source": [
    "...`n`"
   ]
  },
  {
   "cell_type": "markdown",
   "metadata": {},
   "source": [
    "### Phonemic `ɔ`"
   ]
  },
  {
   "cell_type": "code",
   "execution_count": 130,
   "metadata": {
    "ExecuteTime": {
     "end_time": "2019-05-07T17:45:11.323320Z",
     "start_time": "2019-05-07T17:45:11.150244Z"
    }
   },
   "outputs": [
    {
     "data": {
      "text/plain": [
       "5"
      ]
     },
     "execution_count": 130,
     "metadata": {},
     "output_type": "execute_result"
    },
    {
     "data": {
      "text/plain": [
       "[Word(\"law's\", 501.140839, 501.46342, ['l', 'ao', 'z'], ['l', 'ao', 'z'], 'NNS'),\n",
       " Word(\"law's\", 502.435298, 502.726862, ['l', 'ao', 'z'], ['l', 'ao', 'z'], 'NNS'),\n",
       " Word(\"law's\", 503.729756, 504.036829, ['l', 'ao', 'z'], ['l', 'ao', 'z'], 'NNS'),\n",
       " Word('chorus', 319.195812, 319.560625, ['k', 'ao', 'r', 'ah', 's'], ['k', 'ao', 'r', 'ah', 's'], 'NN'),\n",
       " Word('alzheimers', 602.284247, 602.945162, ['ao', 'l', 's', 'ay', 'm', 'er', 'z'], ['ao', 'l', 's', 'ay', 'm', 'er', 'z'], 'NNS')]"
      ]
     },
     "execution_count": 130,
     "metadata": {},
     "output_type": "execute_result"
    }
   ],
   "source": [
    "ws_w_phonemic_ao = findWordsWithPhoneme('ao')\n",
    "len(ws_w_phonemic_ao)\n",
    "ws_w_phonemic_ao"
   ]
  },
  {
   "cell_type": "code",
   "execution_count": 131,
   "metadata": {
    "ExecuteTime": {
     "end_time": "2019-05-07T17:45:15.853342Z",
     "start_time": "2019-05-07T17:45:15.769478Z"
    }
   },
   "outputs": [
    {
     "data": {
      "text/plain": [
       "['k.ɔ.ɹ.ʌ.s']"
      ]
     },
     "execution_count": 131,
     "metadata": {},
     "output_type": "execute_result"
    }
   ],
   "source": [
    "list(map(get_phonemes, findWordTokensOf('chorus')))"
   ]
  },
  {
   "cell_type": "markdown",
   "metadata": {},
   "source": [
    "...`ɑ`"
   ]
  },
  {
   "cell_type": "code",
   "execution_count": 132,
   "metadata": {
    "ExecuteTime": {
     "end_time": "2019-05-07T17:45:23.800904Z",
     "start_time": "2019-05-07T17:45:23.718287Z"
    }
   },
   "outputs": [
    {
     "data": {
      "text/plain": [
       "['ɔ.l.s.aɪ.m.ɚ.z']"
      ]
     },
     "execution_count": 132,
     "metadata": {},
     "output_type": "execute_result"
    }
   ],
   "source": [
    "list(map(get_phonemes, findWordTokensOf('alzheimers')))"
   ]
  },
  {
   "cell_type": "markdown",
   "metadata": {},
   "source": [
    "...`ɑ`"
   ]
  },
  {
   "cell_type": "code",
   "execution_count": 133,
   "metadata": {
    "ExecuteTime": {
     "end_time": "2019-05-07T17:45:32.054313Z",
     "start_time": "2019-05-07T17:45:31.967438Z"
    }
   },
   "outputs": [
    {
     "data": {
      "text/plain": [
       "['l.ɔ.z', 'l.ɔ.z', 'l.ɔ.z']"
      ]
     },
     "execution_count": 133,
     "metadata": {},
     "output_type": "execute_result"
    }
   ],
   "source": [
    "list(map(get_phonemes, findWordTokensOf(\"law's\")))"
   ]
  },
  {
   "cell_type": "markdown",
   "metadata": {},
   "source": [
    "...`ɑ`"
   ]
  },
  {
   "cell_type": "markdown",
   "metadata": {},
   "source": [
    "### Phonemic glottal stops???"
   ]
  },
  {
   "cell_type": "code",
   "execution_count": 134,
   "metadata": {
    "ExecuteTime": {
     "end_time": "2019-05-07T17:45:43.653562Z",
     "start_time": "2019-05-07T17:45:43.442671Z"
    }
   },
   "outputs": [
    {
     "data": {
      "text/plain": [
       "Word('dont', 48.17348, 48.470962, ['dx', 'ow', 'n', 'tq'], ['dx', 'ow', 'n', 'tq'], 'VBP_RB')"
      ]
     },
     "execution_count": 134,
     "metadata": {},
     "output_type": "execute_result"
    }
   ],
   "source": [
    "ws_w_glottal_stop_as_phoneme = findWordsWithPhoneme('tq')\n",
    "a_word = ws_w_glottal_stop_as_phoneme[0]\n",
    "a_word"
   ]
  },
  {
   "cell_type": "code",
   "execution_count": 135,
   "metadata": {
    "ExecuteTime": {
     "end_time": "2019-05-07T17:45:46.702775Z",
     "start_time": "2019-05-07T17:45:46.699996Z"
    }
   },
   "outputs": [
    {
     "data": {
      "text/plain": [
       "'ɾ.oʊ.n.ʔ'"
      ]
     },
     "execution_count": 135,
     "metadata": {},
     "output_type": "execute_result"
    }
   ],
   "source": [
    "get_phonemes(a_word)"
   ]
  },
  {
   "cell_type": "code",
   "execution_count": 136,
   "metadata": {
    "ExecuteTime": {
     "end_time": "2019-05-07T17:45:49.743099Z",
     "start_time": "2019-05-07T17:45:49.737636Z"
    }
   },
   "outputs": [
    {
     "data": {
      "text/plain": [
       "'dont'"
      ]
     },
     "execution_count": 136,
     "metadata": {},
     "output_type": "execute_result"
    },
    {
     "data": {
      "text/plain": [
       "['dx', 'ow', 'n', 'tq']"
      ]
     },
     "execution_count": 136,
     "metadata": {},
     "output_type": "execute_result"
    }
   ],
   "source": [
    "a_word.orthography\n",
    "a_word.phonemic"
   ]
  },
  {
   "cell_type": "code",
   "execution_count": 137,
   "metadata": {
    "ExecuteTime": {
     "end_time": "2019-05-07T17:45:52.672140Z",
     "start_time": "2019-05-07T17:45:52.571772Z"
    }
   },
   "outputs": [
    {
     "data": {
      "text/plain": [
       "[Word(\"don't\", 88.930368, 89.076013, ['d', 'ow', 'n', 't'], ['d', 'ow', 'n'], 'VBP_RB'),\n",
       " Word(\"don't\", 202.002264, 202.025242, ['d', 'ow', 'n', 't'], ['n'], 'VBP_RB'),\n",
       " Word(\"don't\", 282.88343, 282.98325, ['d', 'ow', 'n', 't'], ['dx', 'ow', 'n'], 'VBP_RB'),\n",
       " Word(\"don't\", 329.180466, 329.328625, ['d', 'ow', 'n', 't'], ['d', 'ow', 'n'], 'VBP_RB'),\n",
       " Word(\"don't\", 553.384508, 553.540643, ['d', 'ow', 'n', 't'], ['dx', 'ow', 'n'], 'VBP_RB'),\n",
       " Word(\"don't\", 245.564761, 245.760669, ['d', 'ow', 'n', 't'], ['d', 'own', 'tq'], 'VBP_RB'),\n",
       " Word(\"don't\", 582.502967, 582.686523, ['d', 'ow', 'n', 't'], ['dx', 'ow', 'n'], 'VBP_RB'),\n",
       " Word(\"don't\", 489.467884, 489.597498, ['d', 'ow', 'n', 't'], ['dx', 'ow', 'n'], 'VBP_RB'),\n",
       " Word(\"don't\", 223.247727, 223.391039, ['d', 'ow', 'n', 't'], ['ow', 'nx'], 'VBP_RB'),\n",
       " Word(\"don't\", 532.903869, 533.212978, ['d', 'ow', 'n', 't'], ['dx', 'ow', 'n'], 'VBP_RB'),\n",
       " Word(\"don't\", 533.362282, 533.541375, ['d', 'ow', 'n', 't'], ['dx', 'ow', 'n'], 'VBP_RB'),\n",
       " Word(\"don't\", 533.825288, 533.941328, ['d', 'ow', 'n', 't'], ['dx', 'ow', 'n'], 'VBP_RB'),\n",
       " Word(\"don't\", 532.475187, 532.755472, ['d', 'ow', 'n', 't'], ['dx', 'own', 'tq'], 'VBP_RB'),\n",
       " Word(\"don't\", 533.294222, 533.447919, ['d', 'ow', 'n', 't'], ['dx', 'ow', 'n'], 'VBP_RB'),\n",
       " Word(\"don't\", 243.528, 243.653, ['d', 'ow', 'n', 't'], ['dx', 'ow', 'n'], 'VBP_RB'),\n",
       " Word(\"don't\", 578.762625, 579.033107, ['d', 'ow', 'n', 't'], ['d', 'ow', 'n'], 'VBP_RB'),\n",
       " Word(\"don't\", 353.442, 354.032, ['d', 'ow', 'n', 't'], ['d', 'ow', 'n', 't'], 'VBP_RB'),\n",
       " Word(\"don't\", 2.088597, 2.193789, ['d', 'ow', 'n', 't'], ['dx', 'ow', 'n'], 'VBP_RB'),\n",
       " Word(\"don't\", 257.30352, 257.475961, ['d', 'ow', 'n', 't'], ['dx', 'ow', 'nx'], 'VBP_RB'),\n",
       " Word(\"don't\", 381.528774, 381.634562, ['d', 'ow', 'n', 't'], ['d', 'own', 'tq'], 'VBP_RB'),\n",
       " Word(\"don't\", 303.000106, 303.137128, ['d', 'ow', 'n', 't'], ['own', 'tq'], 'VBP_RB'),\n",
       " Word(\"don't\", 375.463676, 375.65725, ['d', 'ow', 'n', 't'], ['dx', 'ow', 'n'], 'VBP_RB'),\n",
       " Word(\"don't\", 569.457316, 569.591936, ['d', 'ow', 'n', 't'], ['dx', 'ow', 'n'], 'VBP_RB'),\n",
       " Word(\"don't\", 378.323283, 378.539274, ['d', 'ow', 'n', 't'], ['dx', 'ow', 'n'], 'VBP_RB'),\n",
       " Word(\"don't\", 68.18716, 68.316354, ['d', 'ow', 'n', 't'], ['dx', 'ow', 'n'], 'VBP_RB'),\n",
       " Word(\"don't\", 420.534429, 420.739563, ['d', 'ow', 'n', 't'], ['dx', 'ow', 'nx'], 'VBP_RB'),\n",
       " Word(\"don't\", 411.374046, 411.674, ['d', 'ow', 'n', 't'], ['d', 'ow', 'n', 't'], 'VBP_RB'),\n",
       " Word(\"don't\", 351.305, 351.387, ['d', 'ow', 'n', 't'], ['own', 'tq'], 'VBP_RB'),\n",
       " Word(\"don't\", 352.248639, 352.28805, ['d', 'ow', 'n', 't'], ['ihn'], 'VBP_RB'),\n",
       " Word(\"don't\", 417.583, 417.754, ['d', 'ow', 'n', 't'], ['d', 'ow', 'n'], 'VBP_RB'),\n",
       " Word(\"don't\", 152.873072, 153.053786, ['d', 'ow', 'n', 't'], ['dx', 'ow'], 'VBP_RB'),\n",
       " Word(\"don't\", 590.010495, 590.139749, ['d', 'ow', 'n', 't'], ['dx', 'ow', 'n'], 'VBP_RB'),\n",
       " Word(\"don't\", 57.593063, 57.776674, ['d', 'ow', 'n', 't'], ['d', 'ow', 'n'], 'VBP_RB'),\n",
       " Word(\"don't\", 535.02381, 535.16628, ['d', 'ow', 'n', 't'], ['dx', 'ow', 'n'], 'VBP_RB'),\n",
       " Word(\"don't\", 195.338201, 195.473619, ['d', 'ow', 'n', 't'], ['dx', 'ow', 'n', 't'], 'VBP_RB'),\n",
       " Word(\"don't\", 18.642716, 18.808625, ['d', 'ow', 'n', 't'], ['d', 'ow', 'n'], 'VBP_RB'),\n",
       " Word(\"don't\", 170.226009, 170.343967, ['d', 'ow', 'n', 't'], ['en'], 'VBP_RB'),\n",
       " Word(\"don't\", 26.958875, 27.129537, ['d', 'ow', 'n', 't'], ['dx', 'own'], 'VBP_RB'),\n",
       " Word(\"don't\", 541.767, 541.964, ['d', 'ow', 'n', 't'], ['d', 'ow', 'n', 'tq'], 'VBP_RB'),\n",
       " Word(\"don't\", 44.506812, 44.573725, ['d', 'ow', 'n', 't'], ['dx', 'own'], 'VBP_RB'),\n",
       " Word(\"don't\", 46.162813, 46.302813, ['d', 'ow', 'n', 't'], ['d', 'ow', 'n'], 'VBP_RB'),\n",
       " Word(\"don't\", 395.422832, 395.622921, ['d', 'ow', 'n', 't'], ['d', 'own', 'tq'], 'VBP_RB'),\n",
       " Word(\"don't\", 210.418875, 210.595105, ['d', 'ow', 'n', 't'], ['dx', 'ow', 'n'], 'VBP_RB'),\n",
       " Word(\"don't\", 399.057788, 399.257601, ['d', 'ow', 'n', 't'], ['dx', 'own', 'tq'], 'VBP_RB'),\n",
       " Word(\"don't\", 401.895857, 401.968774, ['d', 'ow', 'n', 't'], ['own'], 'VBP_RB'),\n",
       " Word(\"don't\", 81.777203, 81.892094, ['d', 'ow', 'n', 't'], ['d', 'own'], 'VBP_RB'),\n",
       " Word(\"don't\", 503.525, 503.808, ['d', 'ow', 'n', 't'], ['dx', 'ah', 'n', 'tq'], 'VBP_RB'),\n",
       " Word(\"don't\", 23.633792, 23.805261, ['d', 'ow', 'n', 't'], ['dx', 'ow', 'n'], 'VBP_RB'),\n",
       " Word(\"don't\", 465.930484, 466.036296, ['d', 'ow', 'n', 't'], ['dx', 'ow'], 'VBP_RB'),\n",
       " Word(\"don't\", 348.464898, 348.611474, ['d', 'ow', 'n', 't'], ['dx', 'own', 'tq'], 'VBP_RB'),\n",
       " Word(\"don't\", 307.394, 307.524, ['d', 'ow', 'n', 't'], ['dx', 'aon', 'tq'], 'VBP_RB'),\n",
       " Word(\"don't\", 409.363997, 409.553531, ['d', 'ow', 'n', 't'], ['dx', 'ow', 'n', 'tq'], 'VBP_RB'),\n",
       " Word(\"don't\", 136.741, 136.914, ['d', 'ow', 'n', 't'], ['dh', 'own'], 'VBP_RB'),\n",
       " Word(\"don't\", 242.299, 242.549, ['d', 'ow', 'n', 't'], ['d', 'ow', 'n'], 'VBP_RB'),\n",
       " Word(\"don't\", 357.216419, 357.37986, ['d', 'ow', 'n', 't'], ['d', 'ow', 'tq'], 'VBP_RB'),\n",
       " Word(\"don't\", 416.815437, 416.905437, ['d', 'ow', 'n', 't'], ['dx', 'ahn'], 'VBP_RB'),\n",
       " Word(\"don't\", 221.270535, 221.400312, ['d', 'ow', 'n', 't'], ['hh', 'ow', 'n'], 'VBP_RB'),\n",
       " Word(\"don't\", 474.962546, 475.092489, ['d', 'ow', 'n', 't'], ['dx', 'ow', 'n'], 'VBP_RB'),\n",
       " Word(\"don't\", 418.765131, 418.885437, ['d', 'ow', 'n', 't'], ['dx', 'own', 'tq'], 'VBP_RB'),\n",
       " Word(\"don't\", 635.482, 635.712, ['d', 'ow', 'n', 't'], ['d', 'ow', 'tq'], 'VBP_RB'),\n",
       " Word(\"don't\", 545.118, 545.296, ['d', 'ow', 'n', 't'], ['dx', 'ow', 'n'], 'VBP_RB'),\n",
       " Word(\"don't\", 507.99575, 508.19575, ['d', 'ow', 'n', 't'], ['d', 'ow', 'n'], 'VBP_RB'),\n",
       " Word(\"don't\", 485.189, 485.400565, ['d', 'ow', 'n', 't'], ['dx', 'ow', 'n'], 'VBP_RB'),\n",
       " Word(\"don't\", 481.974265, 482.181509, ['d', 'ow', 'n', 't'], ['d', 'ow', 'n'], 'VBP_RB'),\n",
       " Word(\"don't\", 379.592767, 379.77161, ['d', 'ow', 'n', 't'], ['dx', 'ah', 'en', 'tq'], 'VBP_RB'),\n",
       " Word(\"don't\", 253.418, 253.697, ['d', 'ow', 'n', 't'], ['d', 'ow', 'n'], 'VBP_RB'),\n",
       " Word(\"don't\", 127.930292, 128.174643, ['d', 'ow', 'n', 't'], ['dx', 'ow', 'n'], 'VBP_RB'),\n",
       " Word(\"don't\", 20.335088, 20.581967, ['d', 'ow', 'n', 't'], ['ow', 'n'], 'VBP_RB'),\n",
       " Word(\"don't\", 47.156521, 47.321502, ['d', 'ow', 'n', 't'], ['d', 'ow', 'n'], 'VBP_RB'),\n",
       " Word(\"don't\", 258.350456, 258.628, ['d', 'ow', 'n', 't'], ['d', 'ow', 'tq'], 'VBP_RB'),\n",
       " Word(\"don't\", 237.497, 237.824, ['d', 'ow', 'n', 't'], ['d', 'ow'], 'VBP_RB'),\n",
       " Word(\"don't\", 265.252, 265.388, ['d', 'ow', 'n', 't'], ['dx', 'ow', 'n'], 'VBP_RB'),\n",
       " Word(\"don't\", 461.773688, 461.872656, ['d', 'ow', 'n', 't'], ['dx', 'ihn'], 'VBP_RB'),\n",
       " Word(\"don't\", 401.673557, 401.801044, ['d', 'ow', 'n', 't'], ['dx', 'ow', 'n'], 'VBP_RB'),\n",
       " Word(\"don't\", 400.440125, 400.521295, ['d', 'ow', 'n', 't'], ['dx', 'ah', 'n'], 'VBP_RB'),\n",
       " Word(\"don't\", 263.574, 263.784, ['d', 'ow', 'n', 't'], ['d', 'ow', 'n'], 'VBP_RB'),\n",
       " Word(\"don't\", 440.709375, 440.849375, ['d', 'ow', 'n', 't'], ['dx', 'ow', 'nx'], 'VBP_RB'),\n",
       " Word(\"don't\", 9.667312, 9.877312, ['d', 'ow', 'n', 't'], ['dx', 'ow', 'n'], 'VBP_RB'),\n",
       " Word(\"don't\", 504.975752, 505.192437, ['d', 'ow', 'n', 't'], ['n', 'ow', 'tq'], 'VBP_RB'),\n",
       " Word(\"don't\", 505.355399, 505.461926, ['d', 'ow', 'n', 't'], ['n', 'ow'], 'VBP_RB'),\n",
       " Word(\"don't\", 552.417, 552.448, ['d', 'ow', 'n', 't'], ['eh'], 'VBP_RB'),\n",
       " Word(\"don't\", 162.147989, 162.346325, ['d', 'ow', 'n', 't'], ['d', 'ow', 'tq'], 'VBP_RB'),\n",
       " Word(\"don't\", 558.708984, 558.902963, ['d', 'ow', 'n', 't'], ['dx', 'ow', 'n'], 'VBP_RB'),\n",
       " Word(\"don't\", 20.658136, 20.785061, ['d', 'ow', 'n', 't'], ['n', 'ahn', 'n'], 'VBP_RB'),\n",
       " Word(\"don't\", 207.906721, 208.119327, ['d', 'ow', 'n', 't'], ['d', 'ah', 'n', 't'], 'VBP_RB'),\n",
       " Word(\"don't\", 383.888, 383.971, ['d', 'ow', 'n', 't'], ['dx', 'ah'], 'VBP_RB'),\n",
       " Word(\"don't\", 385.402, 385.479, ['d', 'ow', 'n', 't'], ['dx', 'uh'], 'VBP_RB'),\n",
       " Word(\"don't\", 503.446594, 503.499341, ['d', 'ow', 'n', 't'], ['own'], 'VBP_RB'),\n",
       " Word(\"don't\", 451.032915, 451.085045, ['d', 'ow', 'n', 't'], ['ah'], 'VBP_RB'),\n",
       " Word(\"don't\", 94.387418, 94.433252, ['d', 'ow', 'n', 't'], ['dx', 'ah'], 'VBP_RB'),\n",
       " Word(\"don't\", 168.034, 168.199, ['d', 'ow', 'n', 't'], ['dx', 'ow', 'n'], 'VBP_RB'),\n",
       " Word(\"don't\", 464.02, 464.094, ['d', 'ow', 'n', 't'], ['dx', 'ow'], 'VBP_RB'),\n",
       " Word(\"don't\", 60.184183, 60.441434, ['d', 'ow', 'n', 't'], ['d', 'ow', 'n', 't'], 'VBP_RB'),\n",
       " Word(\"don't\", 213.280988, 213.641318, ['d', 'ow', 'n', 't'], ['d', 'ow', 'n', 'tq'], 'VBP_RB'),\n",
       " Word(\"don't\", 515.625625, 515.815982, ['d', 'ow', 'n', 't'], ['d', 'ow', 'n', 't'], 'VBP_RB'),\n",
       " Word(\"don't\", 400.483, 400.627, ['d', 'ow', 'n', 't'], ['dx', 'ow', 'tq'], 'VBP_RB'),\n",
       " Word(\"don't\", 221.510147, 221.886367, ['d', 'ow', 'n', 't'], ['d', 'own', 'tq'], 'VBP_RB'),\n",
       " Word(\"don't\", 480.396873, 480.586114, ['d', 'ow', 'n', 't'], ['dx', 'ow', 'tq'], 'VBP_RB'),\n",
       " Word(\"don't\", 123.989568, 124.120819, ['d', 'ow', 'n', 't'], ['dx', 'ah', 'n'], 'VBP_RB'),\n",
       " Word(\"don't\", 287.144485, 287.256584, ['d', 'ow', 'n', 't'], ['dx', 'ah', 'n'], 'VBP_RB'),\n",
       " Word(\"don't\", 49.495154, 49.616823, ['d', 'ow', 'n', 't'], ['d', 'ow', 'n'], 'VBP_RB'),\n",
       " Word(\"don't\", 558.498, 558.598, ['d', 'ow', 'n', 't'], ['dx', 'own'], 'VBP_RB'),\n",
       " Word(\"don't\", 183.479, 183.752, ['d', 'ow', 'n', 't'], ['d', 'ow', 'n'], 'VBP_RB'),\n",
       " Word(\"don't\", 369.941223, 370.081326, ['d', 'ow', 'n', 't'], ['dx', 'ow', 'n'], 'VBP_RB'),\n",
       " Word(\"don't\", 50.568485, 50.618485, ['d', 'ow', 'n', 't'], ['dx', 'own'], 'VBP_RB'),\n",
       " Word(\"don't\", 359.260875, 359.467675, ['d', 'ow', 'n', 't'], ['dx', 'ow', 'n'], 'VBP_RB'),\n",
       " Word(\"don't\", 562.943, 563.094, ['d', 'ow', 'n', 't'], ['d', 'ow', 'n'], 'VBP_RB'),\n",
       " Word(\"don't\", 230.164, 230.549858, ['d', 'ow', 'n', 't'], ['d', 'own', 'tq'], 'VBP_RB'),\n",
       " Word(\"don't\", 334.682995, 334.905506, ['d', 'ow', 'n', 't'], ['d', 'own'], 'VBP_RB'),\n",
       " Word(\"don't\", 338.38631, 338.546842, ['d', 'ow', 'n', 't'], ['d', 'ow', 'n'], 'VBP_RB'),\n",
       " Word(\"don't\", 466.821947, 466.962125, ['d', 'ow', 'n', 't'], ['dx', 'ow', 'n'], 'VBP_RB'),\n",
       " Word(\"don't\", 296.2161, 296.474013, ['d', 'ow', 'n', 't'], ['d', 'ow', 'n', 't'], 'VBP_RB'),\n",
       " Word(\"don't\", 310.296385, 310.3778, ['d', 'ow', 'n', 't'], ['ow', 'n'], 'VBP_RB'),\n",
       " Word(\"don't\", 469.395625, 469.655625, ['d', 'ow', 'n', 't'], ['d', 'ow', 'n'], 'VBP_RB'),\n",
       " Word(\"don't\", 287.285352, 287.472349, ['d', 'ow', 'n', 't'], ['dx', 'ow', 'n'], 'VBP_RB'),\n",
       " Word(\"don't\", 287.67022, 287.833728, ['d', 'ow', 'n', 't'], ['d', 'ow', 'n'], 'VBP_RB'),\n",
       " Word(\"don't\", 26.765, 26.905, ['d', 'ow', 'n', 't'], ['d', 'ow', 'n'], 'VBP_RB'),\n",
       " Word(\"don't\", 502.370754, 502.408812, ['d', 'ow', 'n', 't'], ['own'], 'VBP_RB'),\n",
       " Word(\"don't\", 198.302, 198.484, ['d', 'ow', 'n', 't'], ['d', 'ow', 'n'], 'VBP_RB'),\n",
       " Word(\"don't\", 250.340973, 250.495437, ['d', 'ow', 'n', 't'], ['dx', 'ah', 'n'], 'VBP_RB'),\n",
       " Word(\"don't\", 203.381, 203.48, ['d', 'ow', 'n', 't'], ['dx', 'ahn'], 'VBP_RB'),\n",
       " Word(\"don't\", 524.068, 524.239292, ['d', 'ow', 'n', 't'], ['dx', 'ow', 'n', 'tq'], 'VBP_RB'),\n",
       " Word(\"don't\", 526.795297, 526.927, ['d', 'ow', 'n', 't'], ['own', 'tq'], 'VBP_RB'),\n",
       " Word(\"don't\", 372.697084, 373.036498, ['d', 'ow', 'n', 't'], ['dx', 'ow', 'tq'], 'VBP_RB'),\n",
       " Word(\"don't\", 373.915562, 374.218144, ['d', 'ow', 'n', 't'], ['dx', 'ow', 'n'], 'VBP_RB'),\n",
       " Word(\"don't\", 376.949573, 377.107211, ['d', 'ow', 'n', 't'], ['d', 'ow', 'n'], 'VBP_RB'),\n",
       " Word(\"don't\", 408.455924, 408.663669, ['d', 'ow', 'n', 't'], ['dx', 'ow', 'n'], 'VBP_RB'),\n",
       " Word(\"don't\", 317.282518, 317.335867, ['d', 'ow', 'n', 't'], ['dx', 'ah'], 'VBP_RB'),\n",
       " Word(\"don't\", 526.799125, 527.029125, ['d', 'ow', 'n', 't'], ['d', 'ow', 'n'], 'VBP_RB'),\n",
       " Word(\"don't\", 355.139237, 355.222718, ['d', 'ow', 'n', 't'], ['dx', 'own'], 'VBP_RB'),\n",
       " Word(\"don't\", 493.857601, 493.966612, ['d', 'ow', 'n', 't'], ['ow', 'n'], 'VBP_RB'),\n",
       " Word(\"don't\", 384.170546, 384.31787, ['d', 'ow', 'n', 't'], ['ow', 'n', 'tq'], 'VBP_RB'),\n",
       " Word(\"don't\", 508.542945, 508.681256, ['d', 'ow', 'n', 't'], ['dx', 'ow', 'n'], 'VBP_RB'),\n",
       " Word(\"don't\", 253.673, 253.902, ['d', 'ow', 'n', 't'], ['dx', 'ow', 'n', 'tq'], 'VBP_RB'),\n",
       " Word(\"don't\", 348.919, 349.209, ['d', 'ow', 'n', 't'], ['d', 'ow', 'n'], 'VBP_RB'),\n",
       " Word(\"don't\", 349.419, 349.65, ['d', 'ow', 'n', 't'], ['d', 'ow', 'n'], 'VBP_RB'),\n",
       " Word(\"don't\", 354.164, 354.246, ['d', 'ow', 'n', 't'], ['dx', 'ow'], 'VBP_RB'),\n",
       " Word(\"don't\", 269.918, 270.0, ['d', 'ow', 'n', 't'], ['dx', 'ah'], 'VBP_RB'),\n",
       " Word(\"don't\", 361.764, 361.961, ['d', 'ow', 'n', 't'], ['dx', 'ah', 'n', 't'], 'VBP_RB'),\n",
       " Word(\"don't\", 209.547093, 209.69215, ['d', 'ow', 'n', 't'], ['dx', 'ow', 'nx'], 'VBP_RB'),\n",
       " Word(\"don't\", 452.75775, 452.89775, ['d', 'ow', 'n', 't'], ['dx', 'own'], 'VBP_RB'),\n",
       " Word(\"don't\", 356.536501, 356.699826, ['d', 'ow', 'n', 't'], ['ae', 'n', 'ch'], 'VBP_RB'),\n",
       " Word(\"don't\", 440.843976, 440.976938, ['d', 'ow', 'n', 't'], ['dx', 'ow', 'n'], 'VBP_RB'),\n",
       " Word(\"don't\", 387.292374, 387.446813, ['d', 'ow', 'n', 't'], ['y', 'ow', 'n'], 'VBP_RB'),\n",
       " Word(\"don't\", 491.502, 491.553, ['d', 'ow', 'n', 't'], ['ow'], 'VBP_RB'),\n",
       " Word(\"don't\", 174.391, 174.655, ['d', 'ow', 'n', 't'], ['dx', 'ow', 'tq'], 'VBP_RB'),\n",
       " Word(\"don't\", 439.839552, 440.002248, ['d', 'ow', 'n', 't'], ['d', 'ah', 'tq'], 'VBP_RB'),\n",
       " Word(\"don't\", 213.683, 213.886, ['d', 'ow', 'n', 't'], ['d', 'ow', 'n'], 'VBP_RB'),\n",
       " Word(\"don't\", 590.643, 590.777, ['d', 'ow', 'n', 't'], ['dx', 'ow', 'm'], 'VBP_RB'),\n",
       " Word(\"don't\", 266.827361, 266.925986, ['d', 'ow', 'n', 't'], ['eh', 'n'], 'VBP_RB'),\n",
       " Word(\"don't\", 465.194187, 465.451961, ['d', 'ow', 'n', 't'], ['dx', 'ow', 'tq'], 'VBP_RB'),\n",
       " Word(\"don't\", 465.776115, 465.994587, ['d', 'ow', 'n', 't'], ['d', 'ow', 'tq'], 'VBP_RB'),\n",
       " Word(\"don't\", 12.920694, 13.0725, ['d', 'ow', 'n', 't'], ['dx', 'ow', 'n'], 'VBP_RB'),\n",
       " Word(\"don't\", 13.687679, 13.835977, ['d', 'ow', 'n', 't'], ['dx', 'ow', 'n'], 'VBP_RB'),\n",
       " Word(\"don't\", 495.783, 495.888, ['d', 'ow', 'n', 't'], ['dx', 'er'], 'VBP_RB'),\n",
       " Word(\"don't\", 497.51, 497.661, ['d', 'ow', 'n', 't'], ['dx', 'ow', 'tq'], 'VBP_RB'),\n",
       " Word(\"don't\", 223.711038, 223.793889, ['d', 'ow', 'n', 't'], ['dx', 'ow'], 'VBP_RB'),\n",
       " Word(\"don't\", 189.541812, 189.673275, ['d', 'ow', 'n', 't'], ['dx', 'ow', 'n'], 'VBP_RB'),\n",
       " Word(\"don't\", 19.538741, 19.678562, ['d', 'ow', 'n', 't'], ['dx', 'ow', 'n'], 'VBP_RB'),\n",
       " Word(\"don't\", 193.428522, 193.594349, ['d', 'ow', 'n', 't'], ['dx', 'own', 'tq'], 'VBP_RB'),\n",
       " Word(\"don't\", 235.246086, 235.435341, ['d', 'ow', 'n', 't'], ['d', 'own', 'tq'], 'VBP_RB'),\n",
       " Word(\"don't\", 154.26306, 154.400851, ['d', 'ow', 'n', 't'], ['ow', 'nx'], 'VBP_RB'),\n",
       " Word(\"don't\", 227.544924, 227.658625, ['d', 'ow', 'n', 't'], ['dx', 'ahn', 'tq'], 'VBP_RB'),\n",
       " Word(\"don't\", 188.84175, 189.031396, ['d', 'ow', 'n', 't'], ['d', 'own'], 'VBP_RB'),\n",
       " Word(\"don't\", 244.456687, 244.567204, ['d', 'ow', 'n', 't'], ['dx', 'ow', 'n'], 'VBP_RB'),\n",
       " Word(\"don't\", 367.935285, 368.077513, ['d', 'ow', 'n', 't'], ['n', 'ow', 'n'], 'VBP_RB'),\n",
       " Word(\"don't\", 290.089688, 290.249688, ['d', 'ow', 'n', 't'], ['d', 'ow', 'n'], 'VBP_RB'),\n",
       " Word(\"don't\", 205.757066, 205.851251, ['d', 'ow', 'n', 't'], ['dx', 'ow'], 'VBP_RB'),\n",
       " Word(\"don't\", 242.616387, 242.97678, ['d', 'ow', 'n', 't'], ['d', 'ah', 'n', 'tq'], 'VBP_RB'),\n",
       " Word(\"don't\", 180.723625, 180.853625, ['d', 'ow', 'n', 't'], ['dh', 'ah'], 'VBP_RB'),\n",
       " Word(\"don't\", 248.312, 248.440034, ['d', 'ow', 'n', 't'], ['d', 'own', 'tq'], 'VBP_RB'),\n",
       " Word(\"don't\", 303.840927, 303.97838, ['d', 'ow', 'n', 't'], ['ah', 'n'], 'VBP_RB'),\n",
       " Word(\"don't\", 375.854599, 376.015875, ['d', 'ow', 'n', 't'], ['d', 'ow', 'n'], 'VBP_RB'),\n",
       " Word(\"don't\", 496.791, 496.83, ['d', 'ow', 'n', 't'], ['ah'], 'VBP_RB'),\n",
       " Word(\"don't\", 211.285282, 211.516223, ['d', 'ow', 'n', 't'], ['d', 'ow', 'n'], 'VBP_RB'),\n",
       " Word(\"don't\", 251.815245, 252.066093, ['d', 'ow', 'n', 't'], ['d', 'own', 'tq'], 'VBP_RB'),\n",
       " Word(\"don't\", 376.20946, 376.455875, ['d', 'ow', 'n', 't'], ['hh', 'ow', 'n'], 'VBP_RB'),\n",
       " Word(\"don't\", 382.727596, 382.874921, ['d', 'ow', 'n', 't'], ['d', 'ow', 'n'], 'VBP_RB'),\n",
       " Word(\"don't\", 349.069, 349.199, ['d', 'ow', 'n', 't'], ['dx', 'ah', 'n'], 'VBP_RB'),\n",
       " Word(\"don't\", 218.027813, 218.233293, ['d', 'ow', 'n', 't'], ['dx', 'ow', 'n'], 'VBP_RB'),\n",
       " Word(\"don't\", 221.668124, 221.865435, ['d', 'ow', 'n', 't'], ['d', 'ow', 'n'], 'VBP_RB'),\n",
       " Word(\"don't\", 353.091, 353.361, ['d', 'ow', 'n', 't'], ['d', 'ow', 'n'], 'VBP_RB'),\n",
       " Word(\"don't\", 394.723294, 394.886484, ['d', 'ow', 'n', 't'], ['d', 'ahn'], 'VBP_RB'),\n",
       " Word(\"don't\", 395.273312, 395.383312, ['d', 'ow', 'n', 't'], ['d', 'ah', 'n'], 'VBP_RB'),\n",
       " Word(\"don't\", 224.383079, 224.551517, ['d', 'ow', 'n', 't'], ['d', 'ow'], 'VBP_RB'),\n",
       " Word(\"don't\", 217.302889, 217.471132, ['d', 'ow', 'n', 't'], ['dx', 'ow', 'n'], 'VBP_RB'),\n",
       " Word(\"don't\", 395.845229, 396.163312, ['d', 'ow', 'n', 't'], ['d', 'ow', 'n'], 'VBP_RB'),\n",
       " Word(\"don't\", 298.182173, 298.456, ['d', 'ow', 'n', 't'], ['d', 'ow', 'n'], 'VBP_RB'),\n",
       " Word(\"don't\", 227.381336, 227.492769, ['d', 'ow', 'n', 't'], ['dx', 'ow', 'n'], 'VBP_RB'),\n",
       " Word(\"don't\", 264.658797, 264.83864, ['d', 'ow', 'n', 't'], ['d', 'own', 'tq'], 'VBP_RB'),\n",
       " Word(\"don't\", 220.385674, 220.632948, ['d', 'ow', 'n', 't'], ['dx', 'ow', 'nx'], 'VBP_RB'),\n",
       " Word(\"don't\", 229.305901, 229.468241, ['d', 'ow', 'n', 't'], ['dx', 'ow', 'nx'], 'VBP_RB'),\n",
       " Word(\"don't\", 300.626, 300.773851, ['d', 'ow', 'n', 't'], ['dx', 'ow', 'n'], 'VBP_RB'),\n",
       " Word(\"don't\", 363.51489, 363.782343, ['d', 'ow', 'n', 't'], ['dx', 'ow', 'n', 'tq'], 'VBP_RB'),\n",
       " Word(\"don't\", 300.738493, 300.865921, ['d', 'ow', 'n', 't'], ['dx', 'own', 't'], 'VBP_RB'),\n",
       " Word(\"don't\", 341.921313, 342.191313, ['d', 'ow', 'n', 't'], ['d', 'ow', 'n'], 'VBP_RB'),\n",
       " Word(\"don't\", 382.25168, 382.355312, ['d', 'ow', 'n', 't'], ['dx', 'ow', 'n'], 'VBP_RB'),\n",
       " Word(\"don't\", 319.952408, 320.262071, ['d', 'ow', 'n', 't'], ['d', 'own', 'tq'], 'VBP_RB'),\n",
       " Word(\"don't\", 103.852, 104.013, ['d', 'ow', 'n', 't'], ['dx', 'own', 'tq'], 'VBP_RB'),\n",
       " Word(\"don't\", 226.361497, 226.503144, ['d', 'ow', 'n', 't'], ['own', 'tq'], 'VBP_RB'),\n",
       " Word(\"don't\", 177.681187, 177.788271, ['d', 'ow', 'n', 't'], ['dx', 'ah', 'n'], 'VBP_RB'),\n",
       " Word(\"don't\", 228.423119, 228.609223, ['d', 'ow', 'n', 't'], ['dx', 'ow', 'n'], 'VBP_RB'),\n",
       " Word(\"don't\", 261.155884, 261.329707, ['d', 'ow', 'n', 't'], ['d', 'ow', 'd'], 'VBP_RB'),\n",
       " Word(\"don't\", 105.127, 105.217, ['d', 'ow', 'n', 't'], ['ow', 'n'], 'VBP_RB'),\n",
       " Word(\"don't\", 105.873947, 105.957808, ['d', 'ow', 'n', 't'], ['en'], 'VBP_RB'),\n",
       " Word(\"don't\", 232.749009, 232.83689, ['d', 'ow', 'n', 't'], ['dx', 'own'], 'VBP_RB'),\n",
       " Word(\"don't\", 527.896, 528.027, ['d', 'ow', 'n', 't'], ['dx', 'ow', 'n'], 'VBP_RB'),\n",
       " Word(\"don't\", 320.366, 320.546, ['d', 'ow', 'n', 't'], ['d', 'ow', 'n'], 'VBP_RB'),\n",
       " Word(\"don't\", 394.103687, 394.303687, ['d', 'ow', 'n', 't'], ['d', 'ow', 'n'], 'VBP_RB'),\n",
       " Word(\"don't\", 108.241817, 108.375563, ['d', 'ow', 'n', 't'], ['ah', 'n'], 'VBP_RB'),\n",
       " Word(\"don't\", 272.645426, 272.78301, ['d', 'ow', 'n', 't'], ['d', 'own'], 'VBP_RB'),\n",
       " Word(\"don't\", 396.66425, 396.82425, ['d', 'ow', 'n', 't'], ['d', 'ow', 'n'], 'VBP_RB'),\n",
       " Word(\"don't\", 399.39425, 399.49425, ['d', 'ow', 'n', 't'], ['d', 'ow', 'n'], 'VBP_RB'),\n",
       " Word(\"don't\", 251.146825, 251.289562, ['d', 'ow', 'n', 't'], ['dx', 'own', 'tq'], 'VBP_RB'),\n",
       " Word(\"don't\", 51.814, 51.963, ['d', 'ow', 'n', 't'], ['dx', 'ah', 'n'], 'VBP_RB'),\n",
       " Word(\"don't\", 239.734826, 239.838893, ['d', 'ow', 'n', 't'], ['dx', 'own'], 'VBP_RB'),\n",
       " Word(\"don't\", 423.395, 423.604003, ['d', 'ow', 'n', 't'], ['dx', 'own', 'tq'], 'VBP_RB'),\n",
       " Word(\"don't\", 87.526864, 87.670788, ['d', 'ow', 'n', 't'], ['d', 'own', 'tq'], 'VBP_RB'),\n",
       " Word(\"don't\", 91.054605, 91.222038, ['d', 'ow', 'n', 't'], ['d', 'own', 'tq'], 'VBP_RB'),\n",
       " Word(\"don't\", 259.370407, 259.570376, ['d', 'ow', 'n', 't'], ['dx', 'ow', 'n'], 'VBP_RB'),\n",
       " Word(\"don't\", 266.732199, 266.805937, ['d', 'ow', 'n', 't'], ['dx', 'ahn'], 'VBP_RB'),\n",
       " Word(\"don't\", 285.789165, 285.963995, ['d', 'ow', 'n', 't'], ['d', 'ow', 'n'], 'VBP_RB'),\n",
       " Word(\"don't\", 208.169982, 208.247044, ['d', 'ow', 'n', 't'], ['d', 'ow', 'n'], 'VBP_RB'),\n",
       " Word(\"don't\", 208.403439, 208.514498, ['d', 'ow', 'n', 't'], ['d', 'ow', 'n'], 'VBP_RB'),\n",
       " Word(\"don't\", 209.640405, 209.765633, ['d', 'ow', 'n', 't'], ['own'], 'VBP_RB'),\n",
       " Word(\"don't\", 210.140177, 210.262006, ['d', 'ow', 'n', 't'], ['dx', 'ow', 'tq'], 'VBP_RB'),\n",
       " Word(\"don't\", 431.602, 431.946, ['d', 'ow', 'n', 't'], ['d', 'ow', 'n'], 'VBP_RB'),\n",
       " Word(\"don't\", 311.186947, 311.28624, ['d', 'ow', 'n', 't'], ['dx', 'own'], 'VBP_RB'),\n",
       " Word(\"don't\", 213.989229, 214.088956, ['d', 'ow', 'n', 't'], ['d', 'ow', 'n'], 'VBP_RB'),\n",
       " Word(\"don't\", 290.77542, 290.921191, ['d', 'ow', 'n', 't'], ['dx', 'ow'], 'VBP_RB'),\n",
       " Word(\"don't\", 432.618, 432.748, ['d', 'ow', 'n', 't'], ['dx', 'ow', 'n'], 'VBP_RB'),\n",
       " Word(\"don't\", 159.85, 159.98, ['d', 'ow', 'n', 't'], ['dx', 'own'], 'VBP_RB'),\n",
       " Word(\"don't\", 384.467, 384.646, ['d', 'ow', 'n', 't'], ['n', 'ow', 'n', 't'], 'VBP_RB'),\n",
       " Word(\"don't\", 343.88798, 344.026138, ['d', 'ow', 'n', 't'], ['dx', 'ow', 'n'], 'VBP_RB'),\n",
       " Word(\"don't\", 269.080972, 269.177892, ['d', 'ow', 'n', 't'], ['dx', 'own'], 'VBP_RB'),\n",
       " Word(\"don't\", 437.206, 437.424, ['d', 'ow', 'n', 't'], ['dx', 'ow', 'n'], 'VBP_RB'),\n",
       " Word(\"don't\", 300.108, 300.284, ['d', 'ow', 'n', 't'], ['dx', 'own', 'tq'], 'VBP_RB'),\n",
       " Word(\"don't\", 63.154, 63.343, ['d', 'ow', 'n', 't'], ['d', 'ow', 'n'], 'VBP_RB'),\n",
       " Word(\"don't\", 41.734324, 41.804906, ['d', 'ow', 'n', 't'], ['ow'], 'VBP_RB'),\n",
       " Word(\"don't\", 277.486188, 277.631227, ['d', 'ow', 'n', 't'], ['dx', 'ow', 'n'], 'VBP_RB'),\n",
       " Word(\"don't\", 460.308, 460.455227, ['d', 'ow', 'n', 't'], ['dx', 'own', 'tq'], 'VBP_RB'),\n",
       " Word(\"don't\", 321.935345, 322.00077, ['d', 'ow', 'n', 't'], ['own'], 'VBP_RB'),\n",
       " Word(\"don't\", 556.61, 556.785, ['d', 'ow', 'n', 't'], ['d', 'own', 'tq'], 'VBP_RB'),\n",
       " Word(\"don't\", 343.350264, 343.411265, ['d', 'ow', 'n', 't'], ['ah'], 'VBP_RB'),\n",
       " Word(\"don't\", 125.004755, 125.08805, ['d', 'ow', 'n', 't'], ['ow', 'n'], 'VBP_RB'),\n",
       " Word(\"don't\", 305.016375, 305.116375, ['d', 'ow', 'n', 't'], ['d', 'ow'], 'VBP_RB'),\n",
       " Word(\"don't\", 309.840562, 309.980277, ['d', 'ow', 'n', 't'], ['d', 'ow'], 'VBP_RB'),\n",
       " Word(\"don't\", 468.78668, 468.887429, ['d', 'ow', 'n', 't'], ['dx', 'ow'], 'VBP_RB'),\n",
       " Word(\"don't\", 61.201626, 61.377384, ['d', 'ow', 'n', 't'], ['d', 'own'], 'VBP_RB'),\n",
       " Word(\"don't\", 132.613551, 132.747843, ['d', 'ow', 'n', 't'], ['dx', 'own'], 'VBP_RB'),\n",
       " Word(\"don't\", 310.380562, 310.520014, ['d', 'ow', 'n', 't'], ['dx', 'ow'], 'VBP_RB'),\n",
       " Word(\"don't\", 311.15068, 311.267406, ['d', 'ow', 'n', 't'], ['ow'], 'VBP_RB'),\n",
       " Word(\"don't\", 101.292117, 101.460062, ['d', 'ow', 'n', 't'], ['d', 'ow', 'n'], 'VBP_RB'),\n",
       " Word(\"don't\", 124.650816, 124.716061, ['d', 'ow', 'n', 't'], ['dx', 'own'], 'VBP_RB'),\n",
       " Word(\"don't\", 452.746, 452.935, ['d', 'ow', 'n', 't'], ['d', 'ow', 'tq'], 'VBP_RB'),\n",
       " Word(\"don't\", 455.19, 455.408, ['d', 'ow', 'n', 't'], ['d', 'ow', 'n', 't'], 'VBP_RB'),\n",
       " Word(\"don't\", 60.143609, 60.281389, ['d', 'ow', 'n', 't'], ['dx', 'ow'], 'VBP_RB'),\n",
       " Word(\"don't\", 145.520688, 145.700688, ['d', 'ow', 'n', 't'], ['d', 'ow', 'n'], 'VBP_RB'),\n",
       " Word(\"don't\", 532.177, 532.367, ['d', 'ow', 'n', 't'], ['d', 'ow', 'n'], 'VBP_RB'),\n",
       " Word(\"don't\", 178.159028, 178.319497, ['d', 'ow', 'n', 't'], ['d', 'ow', 'n'], 'VBP_RB'),\n",
       " Word(\"don't\", 118.19171, 118.404593, ['d', 'ow', 'n', 't'], ['dx', 'own', 'tq'], 'VBP_RB'),\n",
       " Word(\"don't\", 76.09133, 76.31848, ['d', 'ow', 'n', 't'], ['d', 'ow', 'n'], 'VBP_RB'),\n",
       " Word(\"don't\", 115.534188, 115.724188, ['d', 'ow', 'n', 't'], ['dx', 'own', 'tq'], 'VBP_RB'),\n",
       " Word(\"don't\", 356.629, 356.800913, ['d', 'ow', 'n', 't'], ['d', 'ow', 'n'], 'VBP_RB'),\n",
       " Word(\"don't\", 154.210188, 154.490188, ['d', 'ow', 'n', 't'], ['d', 'ow', 'n'], 'VBP_RB'),\n",
       " Word(\"don't\", 183.270908, 183.417812, ['d', 'ow', 'n', 't'], ['dx', 'ow', 'n'], 'VBP_RB'),\n",
       " Word(\"don't\", 24.276626, 24.493299, ['d', 'ow', 'n', 't'], ['n', 'd', 'uh', 'tq'], 'VBP_RB'),\n",
       " Word(\"don't\", 24.589038, 24.804572, ['d', 'ow', 'n', 't'], ['n', 'ow', 'tq'], 'VBP_RB'),\n",
       " Word(\"don't\", 85.005812, 85.142311, ['d', 'ow', 'n', 't'], ['d', 'ow', 'nx'], 'VBP_RB'),\n",
       " Word(\"don't\", 123.259794, 123.350462, ['d', 'ow', 'n', 't'], ['own'], 'VBP_RB'),\n",
       " Word(\"don't\", 175.24, 175.53, ['d', 'ow', 'n', 't'], ['dx', 'ow', 'n'], 'VBP_RB'),\n",
       " Word(\"don't\", 186.778103, 187.061811, ['d', 'ow', 'n', 't'], ['d', 'ow', 'n', 'tq'], 'VBP_RB'),\n",
       " Word(\"don't\", 156.20749, 156.352406, ['d', 'ow', 'n', 't'], ['dx', 'ow', 'n'], 'VBP_RB'),\n",
       " Word(\"don't\", 190.247937, 190.457937, ['d', 'ow', 'n', 't'], ['d', 'ow', 'n'], 'VBP_RB'),\n",
       " Word(\"don't\", 141.618, 141.774, ['d', 'ow', 'n', 't'], ['dx', 'ow', 'n', 'tq'], 'VBP_RB'),\n",
       " Word(\"don't\", 180.626, 181.044, ['d', 'ow', 'n', 't'], ['d', 'ow', 'n'], 'VBP_RB'),\n",
       " Word(\"don't\", 99.937103, 100.115137, ['d', 'ow', 'n', 't'], ['dx', 'ow', 'n'], 'VBP_RB'),\n",
       " Word(\"don't\", 497.172499, 497.296282, ['d', 'ow', 'n', 't'], ['dx', 'ow', 'n'], 'VBP_RB'),\n",
       " Word(\"don't\", 176.539357, 176.721246, ['d', 'ow', 'n', 't'], ['n', 'ow', 'n'], 'VBP_RB'),\n",
       " Word(\"don't\", 70.564438, 70.764438, ['d', 'ow', 'n', 't'], ['d', 'ow', 'tq'], 'VBP_RB'),\n",
       " Word(\"don't\", 415.745, 415.872, ['d', 'ow', 'n', 't'], ['dx', 'ow', 'n'], 'VBP_RB'),\n",
       " Word(\"don't\", 194.156, 194.351, ['d', 'ow', 'n', 't'], ['dx', 'own'], 'VBP_RB'),\n",
       " Word(\"don't\", 164.984504, 165.280011, ['d', 'ow', 'n', 't'], ['d', 'ow', 'n', 't'], 'VBP_RB'),\n",
       " Word(\"don't\", 192.867937, 193.057937, ['d', 'ow', 'n', 't'], ['d', 'ow', 'n'], 'VBP_RB'),\n",
       " Word(\"don't\", 487.409, 487.544, ['d', 'ow', 'n', 't'], ['d', 'ow', 'n'], 'VBP_RB'),\n",
       " Word(\"don't\", 167.956, 168.056, ['d', 'ow', 'n', 't'], ['d', 'ow', 'n'], 'VBP_RB'),\n",
       " Word(\"don't\", 195.414875, 195.603505, ['d', 'ow', 'n', 't'], ['dx', 'ow', 'n'], 'VBP_RB'),\n",
       " Word(\"don't\", 38.74, 38.805, ['d', 'ow', 'n', 't'], ['dx', 'ahn'], 'VBP_RB'),\n",
       " Word(\"don't\", 133.185683, 133.341307, ['d', 'ow', 'n', 't'], ['z', 'ow', 'nx'], 'VBP_RB'),\n",
       " Word(\"don't\", 202.400686, 202.561609, ['d', 'ow', 'n', 't'], ['n', 'ah', 'dx'], 'VBP_RB'),\n",
       " Word(\"don't\", 377.927, 378.198, ['d', 'ow', 'n', 't'], ['d', 'ow', 'n', 'tq'], 'VBP_RB'),\n",
       " Word(\"don't\", 462.830813, 462.989062, ['d', 'ow', 'n', 't'], ['dx', 'ow', 'n'], 'VBP_RB'),\n",
       " Word(\"don't\", 307.637172, 307.747668, ['d', 'ow', 'n', 't'], ['dx', 'own'], 'VBP_RB'),\n",
       " Word(\"don't\", 223.950437, 224.090437, ['d', 'ow', 'n', 't'], ['d', 'ow', 'n'], 'VBP_RB'),\n",
       " Word(\"don't\", 211.943787, 212.151353, ['d', 'ow', 'n', 't'], ['d', 'ow', 'n'], 'VBP_RB'),\n",
       " Word(\"don't\", 213.925435, 214.114657, ['d', 'ow', 'n', 't'], ['d', 'ow', 'n'], 'VBP_RB'),\n",
       " Word(\"don't\", 311.924344, 311.967408, ['d', 'ow', 'n', 't'], ['ahn'], 'VBP_RB'),\n",
       " Word(\"don't\", 326.18885, 326.308976, ['d', 'ow', 'n', 't'], ['ow', 'n'], 'VBP_RB'),\n",
       " Word(\"don't\", 427.275, 427.417, ['d', 'ow', 'n', 't'], ['dx', 'own', 't'], 'VBP_RB'),\n",
       " Word(\"don't\", 147.312808, 147.397551, ['d', 'ow', 'n', 't'], ['aw'], 'VBP_RB'),\n",
       " Word(\"don't\", 284.848, 284.939, ['d', 'ow', 'n', 't'], ['n', 'ah', 'n'], 'VBP_RB'),\n",
       " Word(\"don't\", 221.020548, 221.277154, ['d', 'ow', 'n', 't'], ['n', 'ow', 'n'], 'VBP_RB'),\n",
       " Word(\"don't\", 149.869004, 149.991753, ['d', 'ow', 'n', 't'], ['dx', 'ow', 'n'], 'VBP_RB'),\n",
       " Word(\"don't\", 126.128648, 126.371097, ['d', 'ow', 'n', 't'], ['d', 'ow', 'n', 'tq'], 'VBP_RB'),\n",
       " Word(\"don't\", 152.556167, 152.6815, ['d', 'ow', 'n', 't'], ['d', 'ow', 'n'], 'VBP_RB'),\n",
       " Word(\"don't\", 194.38802, 194.541959, ['d', 'ow', 'n', 't'], ['d', 'own', 'tq'], 'VBP_RB'),\n",
       " Word(\"don't\", 247.333875, 247.563875, ['d', 'ow', 'n', 't'], ['d', 'ow', 'n'], 'VBP_RB'),\n",
       " Word(\"don't\", 138.281615, 138.419936, ['d', 'ow', 'n', 't'], ['dx', 'ah', 'n'], 'VBP_RB'),\n",
       " Word(\"don't\", 15.32, 15.47, ['d', 'ow', 'n', 't'], ['dx', 'ah'], 'VBP_RB'),\n",
       " Word(\"don't\", 160.914003, 161.055756, ['d', 'ow', 'n', 't'], ['dx', 'ow', 'n'], 'VBP_RB'),\n",
       " Word(\"don't\", 89.256434, 89.496348, ['d', 'ow', 'n', 't'], ['d', 'own', 'tq'], 'VBP_RB'),\n",
       " Word(\"don't\", 52.534107, 52.662164, ['d', 'ow', 'n', 't'], ['dx', 'ow', 'n'], 'VBP_RB'),\n",
       " Word(\"don't\", 52.166359, 52.425839, ['d', 'ow', 'n', 't'], ['dx', 'own'], 'VBP_RB'),\n",
       " Word(\"don't\", 161.936313, 162.036313, ['d', 'ow', 'n', 't'], ['d', 'ow', 'n'], 'VBP_RB'),\n",
       " Word(\"don't\", 32.745, 32.951, ['d', 'ow', 'n', 't'], ['d', 'ow', 'n', 'tq'], 'VBP_RB'),\n",
       " Word(\"don't\", 294.165, 294.346465, ['d', 'ow', 'n', 't'], ['dx', 'ow', 'tq', 'n'], 'VBP_RB'),\n",
       " Word(\"don't\", 244.313098, 244.353329, ['d', 'ow', 'n', 't'], ['ahn'], 'VBP_RB'),\n",
       " Word(\"don't\", 19.36062, 19.510211, ['d', 'ow', 'n', 't'], ['dx', 'ah', 'n'], 'VBP_RB'),\n",
       " Word(\"don't\", 344.303132, 344.503811, ['d', 'ow', 'n', 't'], ['d', 'ow', 'n'], 'VBP_RB'),\n",
       " Word(\"don't\", 273.314, 273.458, ['d', 'ow', 'n', 't'], ['d', 'ow', 'n'], 'VBP_RB'),\n",
       " Word(\"don't\", 412.128, 412.394028, ['d', 'ow', 'n', 't'], ['d', 'ow', 'tq'], 'VBP_RB'),\n",
       " Word(\"don't\", 414.228, 414.444, ['d', 'ow', 'n', 't'], ['d', 'ow', 'n', 'tq'], 'VBP_RB'),\n",
       " Word(\"don't\", 28.796316, 28.985591, ['d', 'ow', 'n', 't'], ['dx', 'ah', 'n'], 'VBP_RB'),\n",
       " Word(\"don't\", 6.63525, 6.756274, ['d', 'ow', 'n', 't'], ['dx', 'ow', 'n'], 'VBP_RB'),\n",
       " Word(\"don't\", 21.292268, 21.426438, ['d', 'ow', 'n', 't'], ['dx', 'ow', 'n'], 'VBP_RB'),\n",
       " Word(\"don't\", 427.949282, 428.062443, ['d', 'ow', 'n', 't'], ['dx', 'own'], 'VBP_RB'),\n",
       " Word(\"don't\", 327.633352, 327.761532, ['d', 'ow', 'n', 't'], ['dx', 'ow', 'n'], 'VBP_RB'),\n",
       " Word(\"don't\", 132.004391, 132.199353, ['d', 'ow', 'n', 't'], ['dx', 'own'], 'VBP_RB'),\n",
       " Word(\"don't\", 293.767938, 293.893319, ['d', 'ow', 'n', 't'], ['d', 'ah', 'n'], 'VBP_RB'),\n",
       " Word(\"don't\", 10.222259, 10.453723, ['d', 'ow', 'n', 't'], ['d', 'ow', 't'], 'VBP_RB'),\n",
       " Word(\"don't\", 133.064039, 133.120702, ['d', 'ow', 'n', 't'], ['dx', 'own'], 'VBP_RB'),\n",
       " Word(\"don't\", 135.858692, 135.923288, ['d', 'ow', 'n', 't'], ['d', 'ow', 'n'], 'VBP_RB'),\n",
       " Word(\"don't\", 363.313338, 363.405619, ['d', 'ow', 'n', 't'], ['ow', 'n'], 'VBP_RB'),\n",
       " Word(\"don't\", 192.853004, 193.002517, ['d', 'ow', 'n', 't'], ['dx', 'ow', 'n'], 'VBP_RB'),\n",
       " Word(\"don't\", 280.502374, 280.712375, ['d', 'ow', 'n', 't'], ['dx', 'ow', 't'], 'VBP_RB'),\n",
       " Word(\"don't\", 243.871, 244.02, ['d', 'ow', 'n', 't'], ['d', 'ow', 'tq'], 'VBP_RB'),\n",
       " Word(\"don't\", 37.949625, 38.144091, ['d', 'ow', 'n', 't'], ['dx', 'ow', 'n'], 'VBP_RB'),\n",
       " Word(\"don't\", 504.057668, 504.157049, ['d', 'ow', 'n', 't'], ['dx', 'own'], 'VBP_RB'),\n",
       " Word(\"don't\", 259.195, 259.375, ['d', 'ow', 'n', 't'], ['d', 'ow', 'n'], 'VBP_RB'),\n",
       " Word(\"don't\", 262.859625, 262.959625, ['d', 'ow', 'n', 't'], ['d', 'ow', 'n'], 'VBP_RB'),\n",
       " Word(\"don't\", 209.637081, 209.872875, ['d', 'ow', 'n', 't'], ['d', 'ow', 'n'], 'VBP_RB'),\n",
       " Word(\"don't\", 187.344, 187.634, ['d', 'ow', 'n', 't'], ['d', 'ow', 'n', 'tq'], 'VBP_RB'),\n",
       " Word(\"don't\", 187.964, 188.176, ['d', 'ow', 'n', 't'], ['d', 'ow', 'n'], 'VBP_RB'),\n",
       " Word(\"don't\", 189.014, 189.169, ['d', 'ow', 'n', 't'], ['dx', 'own', 'tq'], 'VBP_RB'),\n",
       " Word(\"don't\", 67.741234, 67.996, ['d', 'ow', 'n', 't'], ['dx', 'ow', 'n', 'tq'], 'VBP_RB'),\n",
       " Word(\"don't\", 156.000821, 156.094449, ['d', 'ow', 'n', 't'], ['ow', 'n'], 'VBP_RB'),\n",
       " Word(\"don't\", 191.399, 191.6, ['d', 'ow', 'n', 't'], ['d', 'own', 'tq'], 'VBP_RB'),\n",
       " Word(\"don't\", 191.809, 192.018, ['d', 'ow', 'n', 't'], ['d', 'ow', 'nx'], 'VBP_RB'),\n",
       " Word(\"don't\", 4.446562, 4.695632, ['d', 'ow', 'n', 't'], ['d', 'ow', 'n'], 'VBP_RB'),\n",
       " Word(\"don't\", 101.690148, 101.836327, ['d', 'ow', 'n', 't'], ['dx', 'ow', 'n'], 'VBP_RB'),\n",
       " Word(\"don't\", 268.469625, 268.559625, ['d', 'ow', 'n', 't'], ['d', 'ow'], 'VBP_RB'),\n",
       " Word(\"don't\", 102.918758, 103.01974, ['d', 'ow', 'n', 't'], ['ow', 'n'], 'VBP_RB'),\n",
       " Word(\"don't\", 72.890598, 73.076022, ['d', 'ow', 'n', 't'], ['d', 'ow', 'n'], 'VBP_RB'),\n",
       " Word(\"don't\", 440.785416, 441.046, ['d', 'ow', 'n', 't'], ['d', 'ow', 'n'], 'VBP_RB'),\n",
       " Word(\"don't\", 173.89175, 174.18175, ['d', 'ow', 'n', 't'], ['d', 'ow', 'n'], 'VBP_RB'),\n",
       " Word(\"don't\", 111.827522, 111.947875, ['d', 'ow', 'n', 't'], ['ow', 'n', 'n'], 'VBP_RB'),\n",
       " Word(\"don't\", 276.517, 276.712, ['d', 'ow', 'n', 't'], ['d', 'ow', 'n', 't'], 'VBP_RB'),\n",
       " Word(\"don't\", 412.509, 412.651, ['d', 'ow', 'n', 't'], ['dx', 'ow'], 'VBP_RB'),\n",
       " Word(\"don't\", 359.489, 359.781, ['d', 'ow', 'n', 't'], ['d', 'ow', 'n', 'tq'], 'VBP_RB'),\n",
       " Word(\"don't\", 292.834, 292.988, ['d', 'ow', 'n', 't'], ['d', 'n'], 'VBP_RB'),\n",
       " Word(\"don't\", 287.632, 287.762, ['d', 'ow', 'n', 't'], ['d', 'ow', 'n'], 'VBP_RB'),\n",
       " Word(\"don't\", 295.464, 295.595, ['d', 'ow', 'n', 't'], ['ow', 'n'], 'VBP_RB'),\n",
       " Word(\"don't\", 542.836763, 543.056285, ['d', 'ow', 'n', 't'], ['d', 'ow', 'n'], 'VBP_RB'),\n",
       " Word(\"don't\", 179.283, 179.42, ['d', 'ow', 'n', 't'], ['dx', 'ow', 'n'], 'VBP_RB'),\n",
       " Word(\"don't\", 48.262742, 48.480126, ['d', 'ow', 'n', 't'], ['d', 'ow', 'n', 't'], 'VBP_RB'),\n",
       " Word(\"don't\", 111.031258, 111.169433, ['d', 'ow', 'n', 't'], ['d', 'ow', 'n'], 'VBP_RB'),\n",
       " Word(\"don't\", 196.38188, 196.556, ['d', 'ow', 'n', 't'], ['d', 'ow', 'n'], 'VBP_RB'),\n",
       " Word(\"don't\", 190.154, 190.339633, ['d', 'ow', 'n', 't'], ['d', 'ow', 'm'], 'VBP_RB'),\n",
       " Word(\"don't\", 396.085125, 396.295124, ['d', 'ow', 'n', 't'], ['d', 'ow', 'n'], 'VBP_RB'),\n",
       " Word(\"don't\", 8.803313, 8.923313, ['d', 'ow', 'n', 't'], ['dx', 'ow', 'n'], 'VBP_RB'),\n",
       " Word(\"don't\", 9.791087, 9.915583, ['d', 'ow', 'n', 't'], ['dx', 'ow', 'n'], 'VBP_RB'),\n",
       " Word(\"don't\", 199.36772, 199.488, ['d', 'ow', 'n', 't'], ['dx', 'ow', 'n'], 'VBP_RB'),\n",
       " Word(\"don't\", 40.436985, 40.478917, ['d', 'ow', 'n', 't'], ['uh'], 'VBP_RB'),\n",
       " Word(\"don't\", 136.611, 136.821, ['d', 'ow', 'n', 't'], ['d', 'ow', 'n', 'tq'], 'VBP_RB'),\n",
       " Word(\"don't\", 179.18, 179.318, ['d', 'ow', 'n', 't'], ['dx', 'ow', 'n'], 'VBP_RB'),\n",
       " Word(\"don't\", 239.777158, 239.910812, ['d', 'ow', 'n', 't'], ['dx', 'ow', 'n'], 'VBP_RB'),\n",
       " Word(\"don't\", 555.68904, 555.77613, ['d', 'ow', 'n', 't'], ['dx', 'own'], 'VBP_RB'),\n",
       " Word(\"don't\", 21.867601, 21.987036, ['d', 'ow', 'n', 't'], ['dx', 'ow', 'n'], 'VBP_RB'),\n",
       " Word(\"don't\", 3.256, 3.376, ['d', 'ow', 'n', 't'], ['dx', 'own'], 'VBP_RB'),\n",
       " Word(\"don't\", 56.046566, 56.15029, ['d', 'ow', 'n', 't'], ['ow', 'n'], 'VBP_RB'),\n",
       " Word(\"don't\", 47.733, 47.906936, ['d', 'ow', 'n', 't'], ['d', 'ow', 'n'], 'VBP_RB'),\n",
       " Word(\"don't\", 221.478, 221.653, ['d', 'ow', 'n', 't'], ['dx', 'ow', 'n'], 'VBP_RB'),\n",
       " Word(\"don't\", 2.715019, 2.944486, ['d', 'ow', 'n', 't'], ['d', 'ow', 'n', 'tq'], 'VBP_RB'),\n",
       " Word(\"don't\", 3.000291, 3.13182, ['d', 'ow', 'n', 't'], ['ah', 'n'], 'VBP_RB'),\n",
       " Word(\"don't\", 364.038, 364.238, ['d', 'ow', 'n', 't'], ['dx', 'ow', 'n'], 'VBP_RB'),\n",
       " Word(\"don't\", 243.438, 243.531, ['d', 'ow', 'n', 't'], ['ow', 'n'], 'VBP_RB'),\n",
       " Word(\"don't\", 368.974, 369.41, ['d', 'ow', 'n', 't'], ['d', 'ow', 't'], 'VBP_RB'),\n",
       " Word(\"don't\", 369.997, 370.365, ['d', 'ow', 'n', 't'], ['d', 'ow', 'tq'], 'VBP_RB'),\n",
       " Word(\"don't\", 359.271427, 359.363769, ['d', 'ow', 'n', 't'], ['dx', 'own'], 'VBP_RB'),\n",
       " Word(\"don't\", 6.041063, 6.293279, ['d', 'ow', 'n', 't'], ['d', 'ow', 'n', 't'], 'VBP_RB'),\n",
       " Word(\"don't\", 371.993, 372.251, ['d', 'ow', 'n', 't'], ['d', 'ow', 'n'], 'VBP_RB'),\n",
       " Word(\"don't\", 7.700115, 7.89705, ['d', 'ow', 'n', 't'], ['d', 'ow', 'n'], 'VBP_RB'),\n",
       " Word(\"don't\", 181.491, 181.586551, ['d', 'ow', 'n', 't'], ['dx', 'own'], 'VBP_RB'),\n",
       " Word(\"don't\", 74.23419, 74.358283, ['d', 'ow', 'n', 't'], ['ow', 'n'], 'VBP_RB'),\n",
       " Word(\"don't\", 375.651, 375.923213, ['d', 'ow', 'n', 't'], ['d', 'ow', 'tq'], 'VBP_RB'),\n",
       " Word(\"don't\", 34.582496, 34.76433, ['d', 'ow', 'n', 't'], ['dx', 'ow', 'n'], 'VBP_RB'),\n",
       " Word(\"don't\", 581.22228, 581.43494, ['d', 'ow', 'n', 't'], ['d', 'ow', 'n'], 'VBP_RB'),\n",
       " Word(\"don't\", 367.572068, 367.786334, ['d', 'ow', 'n', 't'], ['dx', 'ow', 'n'], 'VBP_RB'),\n",
       " Word(\"don't\", 188.07, 188.191, ['d', 'ow', 'n', 't'], ['d', 'own'], 'VBP_RB'),\n",
       " Word(\"don't\", 266.352, 266.459, ['d', 'ow', 'n', 't'], ['dx', 'own'], 'VBP_RB'),\n",
       " Word(\"don't\", 269.129, 269.225615, ['d', 'ow', 'n', 't'], ['n', 'ow'], 'VBP_RB'),\n",
       " Word(\"don't\", 592.208047, 592.346205, ['d', 'ow', 'n', 't'], ['d', 'ow', 'n'], 'VBP_RB'),\n",
       " Word(\"don't\", 30.827454, 30.981054, ['d', 'ow', 'n', 't'], ['d', 'own', 'tq'], 'VBP_RB'),\n",
       " Word(\"don't\", 317.838437, 317.958437, ['d', 'ow', 'n', 't'], ['ow', 'n'], 'VBP_RB'),\n",
       " Word(\"don't\", 318.727437, 318.871541, ['d', 'ow', 'n', 't'], ['dx', 'own'], 'VBP_RB'),\n",
       " Word(\"don't\", 328.270295, 328.473563, ['d', 'ow', 'n', 't'], ['dx', 'ow', 'n'], 'VBP_RB'),\n",
       " Word(\"don't\", 38.33175, 38.495473, ['d', 'ow', 'n', 't'], ['dx', 'ow', 'n'], 'VBP_RB'),\n",
       " Word(\"don't\", 399.478831, 399.678294, ['d', 'ow', 'n', 't'], ['d', 'ow', 'tq'], 'VBP_RB'),\n",
       " Word(\"don't\", 39.229969, 39.34367, ['d', 'ow', 'n', 't'], ['n', 'ow', 'n'], 'VBP_RB'),\n",
       " Word(\"don't\", 327.959758, 328.17713, ['d', 'ow', 'n', 't'], ['dx', 'ow', 'n', 'tq'], 'VBP_RB'),\n",
       " Word(\"don't\", 99.093006, 99.318484, ['d', 'ow', 'n', 't'], ['d', 'own', 'tq'], 'VBP_RB'),\n",
       " Word(\"don't\", 100.456531, 100.628613, ['d', 'ow', 'n', 't'], ['d', 'ow', 'n'], 'VBP_RB'),\n",
       " Word(\"don't\", 115.951, 116.062, ['d', 'ow', 'n', 't'], ['dx', 'ah', 'n'], 'VBP_RB'),\n",
       " Word(\"don't\", 330.451563, 330.62683, ['d', 'ow', 'n', 't'], ['dx', 'ow', 'n'], 'VBP_RB'),\n",
       " Word(\"don't\", 350.895813, 351.15922, ['d', 'ow', 'n', 't'], ['d', 'ow', 'n'], 'VBP_RB'),\n",
       " Word(\"don't\", 351.565813, 351.75332, ['d', 'ow', 'n', 't'], ['d', 'ow', 'n'], 'VBP_RB'),\n",
       " Word(\"don't\", 59.551937, 59.733937, ['d', 'ow', 'n', 't'], ['d', 'own', 'tq'], 'VBP_RB'),\n",
       " Word(\"don't\", 59.798123, 60.071437, ['d', 'ow', 'n', 't'], ['dx', 'own', 'tq'], 'VBP_RB'),\n",
       " Word(\"don't\", 60.173938, 60.278938, ['d', 'ow', 'n', 't'], ['ow', 'n', 'tq'], 'VBP_RB'),\n",
       " Word(\"don't\", 354.915533, 355.117188, ['d', 'ow', 'n', 't'], ['n', 'ow', 'n'], 'VBP_RB'),\n",
       " Word(\"don't\", 60.809, 61.067389, ['d', 'ow', 'n', 't'], ['dx', 'ow', 'tq'], 'VBP_RB'),\n",
       " Word(\"don't\", 61.244182, 61.387, ['d', 'ow', 'n', 't'], ['dx', 'ow', 'n'], 'VBP_RB'),\n",
       " Word(\"don't\", 88.26146, 88.316408, ['d', 'ow', 'n', 't'], ['ow', 'n'], 'VBP_RB'),\n",
       " Word(\"don't\", 64.447379, 64.55, ['d', 'ow', 'n', 't'], ['ah', 'm'], 'VBP_RB'),\n",
       " Word(\"don't\", 410.375688, 410.697715, ['d', 'ow', 'n', 't'], ['d', 'own', 't'], 'VBP_RB'),\n",
       " Word(\"don't\", 61.703, 62.031, ['d', 'ow', 'n', 't'], ['d', 'ah', 'n'], 'VBP_RB'),\n",
       " Word(\"don't\", 81.932, 82.105, ['d', 'ow', 'n', 't'], ['dx', 'ow', 'n'], 'VBP_RB'),\n",
       " Word(\"don't\", 56.913764, 57.231078, ['d', 'ow', 'n', 't'], ['d', 'own', 't'], 'VBP_RB'),\n",
       " Word(\"don't\", 501.993828, 502.218289, ['d', 'ow', 'n', 't'], ['own', 'tq'], 'VBP_RB'),\n",
       " Word(\"don't\", 502.399996, 502.542002, ['d', 'ow', 'n', 't'], ['dx', 'ah', 'own'], 'VBP_RB'),\n",
       " Word(\"don't\", 240.647187, 240.746417, ['d', 'ow', 'n', 't'], ['dx', 'ow'], 'VBP_RB'),\n",
       " Word(\"don't\", 373.051375, 373.138375, ['d', 'ow', 'n', 't'], ['ow', 'n'], 'VBP_RB'),\n",
       " Word(\"don't\", 236.006457, 236.365, ['d', 'ow', 'n', 't'], ['d', 'own', 'tq'], 'VBP_RB'),\n",
       " Word(\"don't\", 375.229375, 375.40169, ['d', 'ow', 'n', 't'], ['dx', 'ow', 'n'], 'VBP_RB'),\n",
       " Word(\"don't\", 128.868, 129.069, ['d', 'ow', 'n', 't'], ['dx', 'ow', 'n'], 'VBP_RB'),\n",
       " Word(\"don't\", 129.602, 129.697, ['d', 'ow', 'n', 't'], ['dx', 'own'], 'VBP_RB'),\n",
       " Word(\"don't\", 414.021681, 414.163905, ['d', 'ow', 'n', 't'], ['dx', 'ow', 'n'], 'VBP_RB'),\n",
       " Word(\"don't\", 428.55273, 428.631721, ['d', 'ow', 'n', 't'], ['ow', 'n'], 'VBP_RB'),\n",
       " Word(\"don't\", 92.109, 92.256, ['d', 'ow', 'n', 't'], ['dx', 'ah', 'n'], 'VBP_RB'),\n",
       " Word(\"don't\", 549.925843, 550.155356, ['d', 'ow', 'n', 't'], ['ow', 'n', 't'], 'VBP_RB'),\n",
       " Word(\"don't\", 439.155938, 439.265527, ['d', 'ow', 'n', 't'], ['dx', 'own'], 'VBP_RB'),\n",
       " Word(\"don't\", 132.16365, 132.303405, ['d', 'ow', 'n', 't'], ['dx', 'ow', 'n'], 'VBP_RB'),\n",
       " Word(\"don't\", 13.011937, 13.101262, ['d', 'ow', 'n', 't'], ['ow', 'n'], 'VBP_RB'),\n",
       " Word(\"don't\", 551.115603, 551.22036, ['d', 'ow', 'n', 't'], ['nx', 'ow'], 'VBP_RB'),\n",
       " Word(\"don't\", 393.104019, 393.238023, ['d', 'ow', 'n', 't'], ['dx', 'ow', 'nx'], 'VBP_RB'),\n",
       " Word(\"don't\", 458.427765, 458.583959, ['d', 'ow', 'n', 't'], ['dx', 'ow', 'n'], 'VBP_RB'),\n",
       " Word(\"don't\", 561.487903, 561.613927, ['d', 'ow', 'n', 't'], ['dx', 'ow', 'n'], 'VBP_RB'),\n",
       " Word(\"don't\", 458.075694, 458.199723, ['d', 'ow', 'n', 't'], ['dx', 'own'], 'VBP_RB'),\n",
       " Word(\"don't\", 562.726553, 562.849987, ['d', 'ow', 'n', 't'], ['dx', 'own'], 'VBP_RB'),\n",
       " Word(\"don't\", 376.316015, 376.380611, ['d', 'ow', 'n', 't'], ['dx', 'own'], 'VBP_RB'),\n",
       " Word(\"don't\", 464.131929, 464.329349, ['d', 'ow', 'n', 't'], ['d', 'ow', 'n'], 'VBP_RB'),\n",
       " Word(\"don't\", 566.746346, 566.886181, ['d', 'ow', 'n', 't'], ['dx', 'ow', 'n'], 'VBP_RB'),\n",
       " Word(\"don't\", 537.438, 537.568, ['d', 'ow', 'n', 't'], ['d', 'ow'], 'VBP_RB'),\n",
       " Word(\"don't\", 127.914, 128.016, ['d', 'ow', 'n', 't'], ['dx', 'ow'], 'VBP_RB'),\n",
       " Word(\"don't\", 66.791631, 66.899107, ['d', 'ow', 'n', 't'], ['d', 'ow'], 'VBP_RB'),\n",
       " Word(\"don't\", 505.776875, 505.944915, ['d', 'ow', 'n', 't'], ['d', 'ow', 'n'], 'VBP_RB'),\n",
       " Word(\"don't\", 507.549321, 507.713285, ['d', 'ow', 'n', 't'], ['d', 'ow', 'n'], 'VBP_RB'),\n",
       " Word(\"don't\", 474.374833, 474.501062, ['d', 'ow', 'n', 't'], ['d', 'ow', 'n'], 'VBP_RB'),\n",
       " Word(\"don't\", 125.608073, 125.888771, ['d', 'ow', 'n', 't'], ['ow', 'n'], 'VBP_RB'),\n",
       " Word(\"don't\", 584.343833, 584.475625, ['d', 'ow', 'n', 't'], ['dx', 'ow', 'n'], 'VBP_RB'),\n",
       " Word(\"don't\", 158.632, 158.668, ['d', 'ow', 'n', 't'], ['n'], 'VBP_RB'),\n",
       " Word(\"don't\", 149.150463, 149.358321, ['d', 'ow', 'n', 't'], ['d', 'ow', 'n'], 'VBP_RB'),\n",
       " Word(\"don't\", 10.851206, 11.050217, ['d', 'ow', 'n', 't'], ['d', 'ow', 'n'], 'VBP_RB'),\n",
       " Word(\"don't\", 107.61331, 107.737321, ['d', 'ow', 'n', 't'], ['d', 'ow'], 'VBP_RB'),\n",
       " Word(\"don't\", 108.343125, 108.500125, ['d', 'ow', 'n', 't'], ['d', 'ow', 'n'], 'VBP_RB'),\n",
       " Word(\"don't\", 21.141673, 21.248462, ['d', 'ow', 'n', 't'], ['dx', 'ow'], 'VBP_RB'),\n",
       " Word(\"don't\", 255.627879, 255.789436, ['d', 'ow', 'n', 't'], ['dx', 'ow', 'n'], 'VBP_RB'),\n",
       " Word(\"don't\", 496.04, 496.193159, ['d', 'ow', 'n', 't'], ['d', 'ow', 'n'], 'VBP_RB'),\n",
       " Word(\"don't\", 206.682411, 206.87569, ['d', 'ow', 'n', 't'], ['d', 'ow', 'n'], 'VBP_RB'),\n",
       " Word(\"don't\", 148.125, 148.287708, ['d', 'ow', 'n', 't'], ['d', 'ow', 'n'], 'VBP_RB'),\n",
       " Word(\"don't\", 263.999277, 264.122382, ['d', 'ow', 'n', 't'], ['dx', 'own'], 'VBP_RB'),\n",
       " Word(\"don't\", 44.768625, 44.952773, ['d', 'ow', 'n', 't'], ['dx', 'ow', 'n'], 'VBP_RB'),\n",
       " Word(\"don't\", 420.412219, 420.598973, ['d', 'ow', 'n', 't'], ['dx', 'ow', 'n'], 'VBP_RB'),\n",
       " Word(\"don't\", 268.091314, 268.236802, ['d', 'ow', 'n', 't'], ['dx', 'ow', 'n'], 'VBP_RB'),\n",
       " Word(\"don't\", 321.302315, 321.427245, ['d', 'ow', 'n', 't'], ['dx', 'ow', 'n'], 'VBP_RB'),\n",
       " Word(\"don't\", 591.208, 591.409, ['d', 'ow', 'n', 't'], ['d', 'ow', 'n'], 'VBP_RB'),\n",
       " Word(\"don't\", 430.729208, 430.910002, ['d', 'ow', 'n', 't'], ['ow', 'n'], 'VBP_RB'),\n",
       " Word(\"don't\", 7.199829, 7.359403, ['d', 'ow', 'n', 't'], ['dx', 'ow', 'n'], 'VBP_RB'),\n",
       " Word(\"don't\", 138.992654, 139.207564, ['d', 'ow', 'n', 't'], ['d', 'ow', 'n'], 'VBP_RB'),\n",
       " Word(\"don't\", 224.557813, 224.751934, ['d', 'ow', 'n', 't'], ['d', 'ow', 'n'], 'VBP_RB'),\n",
       " Word(\"don't\", 365.472, 365.873, ['d', 'ow', 'n', 't'], ['d', 'ow', 'n', 't'], 'VBP_RB'),\n",
       " Word(\"don't\", 433.405313, 433.52849, ['d', 'ow', 'n', 't'], ['ow'], 'VBP_RB'),\n",
       " Word(\"don't\", 139.684, 140.035, ['d', 'ow', 'n', 't'], ['d', 'own', 'tq'], 'VBP_RB'),\n",
       " Word(\"don't\", 328.900238, 329.058895, ['d', 'ow', 'n', 't'], ['ow', 'n', 't'], 'VBP_RB'),\n",
       " Word(\"don't\", 39.19, 39.44, ['d', 'ow', 'n', 't'], ['d', 'ow', 'n'], 'VBP_RB'),\n",
       " Word(\"don't\", 78.048694, 78.226527, ['d', 'ow', 'n', 't'], ['n', 'ow', 'n'], 'VBP_RB'),\n",
       " Word(\"don't\", 331.368022, 331.839947, ['d', 'ow', 'n', 't'], ['d', 'own', 't'], 'VBP_RB'),\n",
       " Word(\"don't\", 77.79971, 77.951363, ['d', 'ow', 'n', 't'], ['d', 'ow', 'n'], 'VBP_RB'),\n",
       " Word(\"don't\", 335.87475, 336.018955, ['d', 'ow', 'n', 't'], ['dx', 'ow', 'n'], 'VBP_RB'),\n",
       " Word(\"don't\", 467.455551, 467.720781, ['d', 'ow', 'n', 't'], ['d', 'ow', 'n'], 'VBP_RB'),\n",
       " Word(\"don't\", 468.083352, 468.293813, ['d', 'ow', 'n', 't'], ['d', 'ow', 'n'], 'VBP_RB'),\n",
       " Word(\"don't\", 361.635674, 361.758073, ['d', 'ow', 'n', 't'], ['t', 'ow'], 'VBP_RB'),\n",
       " Word(\"don't\", 52.45997, 52.594, ['d', 'ow', 'n', 't'], ['dx', 'ow', 'n'], 'VBP_RB'),\n",
       " Word(\"don't\", 353.251125, 353.403762, ['d', 'ow', 'n', 't'], ['dx', 'own'], 'VBP_RB'),\n",
       " Word(\"don't\", 227.973062, 228.114295, ['d', 'ow', 'n', 't'], ['d', 'ow', 'nx'], 'VBP_RB'),\n",
       " Word(\"don't\", 293.037875, 293.227875, ['d', 'ow', 'n', 't'], ['dx', 'ow', 'n'], 'VBP_RB'),\n",
       " Word(\"don't\", 358.861668, 358.966895, ['d', 'ow', 'n', 't'], ['dx', 'ow'], 'VBP_RB'),\n",
       " Word(\"don't\", 247.523859, 247.675726, ['d', 'ow', 'n', 't'], ['d', 'ah', 'n'], 'VBP_RB'),\n",
       " Word(\"don't\", 247.905778, 248.1007, ['d', 'ow', 'n', 't'], ['d', 'ah', 'nx'], 'VBP_RB'),\n",
       " Word(\"don't\", 300.725403, 300.883596, ['d', 'ow', 'n', 't'], ['dx', 'ow', 'n'], 'VBP_RB'),\n",
       " Word(\"don't\", 364.083369, 364.302259, ['d', 'ow', 'n', 't'], ['dx', 'ow', 'n'], 'VBP_RB'),\n",
       " Word(\"don't\", 368.606812, 368.730253, ['d', 'ow', 'n', 't'], ['dx', 'ow', 'n'], 'VBP_RB'),\n",
       " Word(\"don't\", 314.601813, 314.791813, ['d', 'ow', 'n', 't'], ['dx', 'ow', 'n'], 'VBP_RB'),\n",
       " Word(\"don't\", 31.764833, 31.970403, ['d', 'ow', 'n', 't'], ['d', 'own', 't'], 'VBP_RB'),\n",
       " Word(\"don't\", 95.825147, 95.941, ['d', 'ow', 'n', 't'], ['dx', 'ow'], 'VBP_RB'),\n",
       " Word(\"don't\", 465.394, 465.619739, ['d', 'ow', 'n', 't'], ['dx', 'own', 'tq'], 'VBP_RB'),\n",
       " Word(\"don't\", 373.054199, 373.240794, ['d', 'ow', 'n', 't'], ['d', 'own'], 'VBP_RB'),\n",
       " Word(\"don't\", 14.249, 14.381, ['d', 'ow', 'n', 't'], ['dx', 'ow', 't'], 'VBP_RB'),\n",
       " Word(\"don't\", 219.692, 219.736, ['d', 'ow', 'n', 't'], ['n'], 'VBP_RB'),\n",
       " Word(\"don't\", 296.939313, 297.084765, ['d', 'ow', 'n', 't'], ['ow', 'n'], 'VBP_RB'),\n",
       " Word(\"don't\", 374.4018, 374.577073, ['d', 'ow', 'n', 't'], ['dx', 'ow', 'n', 't'], 'VBP_RB'),\n",
       " Word(\"don't\", 534.301125, 534.425125, ['d', 'ow', 'n', 't'], ['dx', 'ow', 'n'], 'VBP_RB'),\n",
       " Word(\"don't\", 9.162251, 9.340521, ['d', 'ow', 'n', 't'], ['dx', 'ow', 'n'], 'VBP_RB'),\n",
       " Word(\"don't\", 471.022, 471.264, ['d', 'ow', 'n', 't'], ['dx', 'ao', 'n'], 'VBP_RB'),\n",
       " Word(\"don't\", 327.475, 327.681654, ['d', 'ow', 'n', 't'], ['d', 'ow', 'n', 't'], 'VBP_RB'),\n",
       " Word(\"don't\", 476.448, 476.522, ['d', 'ow', 'n', 't'], ['ah'], 'VBP_RB'),\n",
       " Word(\"don't\", 59.390242, 59.569629, ['d', 'ow', 'n', 't'], ['dx', 'ow', 'n'], 'VBP_RB'),\n",
       " Word(\"don't\", 392.968563, 393.193953, ['d', 'ow', 'n', 't'], ['d', 'own', 'tq'], 'VBP_RB'),\n",
       " Word(\"don't\", 63.20985, 63.36504, ['d', 'ow', 'n', 't'], ['ow', 'n'], 'VBP_RB'),\n",
       " Word(\"don't\", 212.682, 212.944, ['d', 'ow', 'n', 't'], ['d', 'ow', 'n'], 'VBP_RB'),\n",
       " Word(\"don't\", 215.045, 215.327, ['d', 'ow', 'n', 't'], ['d', 'ow', 'n'], 'VBP_RB'),\n",
       " Word(\"don't\", 505.264608, 505.41475, ['d', 'ow', 'n', 't'], ['d', 'ow', 'n', 'tq'], 'VBP_RB'),\n",
       " Word(\"don't\", 70.175328, 70.290306, ['d', 'ow', 'n', 't'], ['dx', 'ow'], 'VBP_RB'),\n",
       " Word(\"don't\", 537.076708, 537.228648, ['d', 'ow', 'n', 't'], ['dx', 'ow', 'n'], 'VBP_RB'),\n",
       " Word(\"don't\", 174.99054, 175.22775, ['d', 'ow', 'n', 't'], ['d', 'ow', 'n'], 'VBP_RB'),\n",
       " Word(\"don't\", 344.95866, 345.126085, ['d', 'ow', 'n', 't'], ['d', 'own', 'tq'], 'VBP_RB'),\n",
       " Word(\"don't\", 215.041503, 215.376954, ['d', 'ow', 'n', 't'], ['d', 'ow', 'tq'], 'VBP_RB'),\n",
       " Word(\"don't\", 490.771179, 490.958219, ['d', 'ow', 'n', 't'], ['d', 'ow', 'n'], 'VBP_RB'),\n",
       " Word(\"don't\", 494.454625, 494.564625, ['d', 'ow', 'n', 't'], ['dx', 'ow', 'n'], 'VBP_RB'),\n",
       " Word(\"don't\", 257.62525, 257.80525, ['d', 'ow', 'n', 't'], ['d', 'ow', 'n'], 'VBP_RB'),\n",
       " Word(\"don't\", 36.338169, 36.477184, ['d', 'ow', 'n', 't'], ['d', 'ow', 'n'], 'VBP_RB'),\n",
       " Word(\"don't\", 35.211688, 35.396654, ['d', 'ow', 'n', 't'], ['d', 'own'], 'VBP_RB'),\n",
       " Word(\"don't\", 566.604358, 566.784813, ['d', 'ow', 'n', 't'], ['d', 'ow', 'n', 'tq'], 'VBP_RB'),\n",
       " Word(\"don't\", 540.016, 540.121, ['d', 'ow', 'n', 't'], ['ow'], 'VBP_RB'),\n",
       " Word(\"don't\", 515.3865, 515.528305, ['d', 'ow', 'n', 't'], ['ow', 'n'], 'VBP_RB'),\n",
       " Word(\"don't\", 553.708, 553.861, ['d', 'ow', 'n', 't'], ['dx', 'ah', 'tq'], 'VBP_RB'),\n",
       " Word(\"don't\", 587.728813, 587.880871, ['d', 'ow', 'n', 't'], ['d', 'ow', 'n'], 'VBP_RB'),\n",
       " Word(\"don't\", 307.392, 307.562, ['d', 'ow', 'n', 't'], ['d', 'ow', 'n'], 'VBP_RB'),\n",
       " Word(\"don't\", 345.801027, 345.998188, ['d', 'ow', 'n', 't'], ['dx', 'ow', 'n'], 'VBP_RB'),\n",
       " Word(\"don't\", 534.053126, 534.255375, ['d', 'ow', 'n', 't'], ['d', 'ow', 'n'], 'VBP_RB'),\n",
       " Word(\"don't\", 277.649316, 277.764909, ['d', 'ow', 'n', 't'], ['dx', 'ah'], 'VBP_RB'),\n",
       " Word(\"don't\", 192.698648, 192.721527, ['d', 'ow', 'n', 't'], ['nx'], 'VBP_RB'),\n",
       " Word(\"don't\", 217.657612, 217.824307, ['d', 'ow', 'n', 't'], ['dx', 'ow', 'n'], 'VBP_RB'),\n",
       " Word(\"don't\", 344.96775, 345.15775, ['d', 'ow', 'n', 't'], ['d', 'ow', 'n'], 'VBP_RB'),\n",
       " Word(\"don't\", 466.640644, 466.758577, ['d', 'ow', 'n', 't'], ['dx', 'ow', 'n'], 'VBP_RB'),\n",
       " Word(\"don't\", 394.372105, 394.564996, ['d', 'ow', 'n', 't'], ['dx', 'own', 't'], 'VBP_RB'),\n",
       " Word(\"don't\", 576.705693, 576.866616, ['d', 'ow', 'n', 't'], ['d', 'ah', 'n'], 'VBP_RB'),\n",
       " Word(\"don't\", 474.116805, 474.269605, ['d', 'ow', 'n', 't'], ['d', 'ow', 'n'], 'VBP_RB'),\n",
       " Word(\"don't\", 355.850687, 356.060687, ['d', 'ow', 'n', 't'], ['d', 'ow', 'n'], 'VBP_RB'),\n",
       " Word(\"don't\", 575.08275, 575.212576, ['d', 'ow', 'n', 't'], ['dx', 'own'], 'VBP_RB'),\n",
       " Word(\"don't\", 594.474277, 594.675998, ['d', 'ow', 'n', 't'], ['ch', 'ow', 'n'], 'VBP_RB'),\n",
       " Word(\"don't\", 241.538, 241.669, ['d', 'ow', 'n', 't'], ['dx', 'ow', 'n'], 'VBP_RB'),\n",
       " Word(\"don't\", 238.983332, 239.110448, ['d', 'ow', 'n', 't'], ['dx', 'ow', 'n'], 'VBP_RB'),\n",
       " Word(\"don't\", 311.851198, 312.06025, ['d', 'ow', 'n', 't'], ['d', 'ow', 'n', 't'], 'VBP_RB'),\n",
       " Word(\"don't\", 240.897655, 240.996944, ['d', 'ow', 'n', 't'], ['n', 'ah'], 'VBP_RB'),\n",
       " Word(\"don't\", 317.73838, 317.95249, ['d', 'ow', 'n', 't'], ['d', 'ow', 'n', 't'], 'VBP_RB'),\n",
       " Word(\"don't\", 248.510188, 248.688363, ['d', 'ow', 'n', 't'], ['d', 'ow', 'n'], 'VBP_RB'),\n",
       " Word(\"don't\", 388.29792, 388.462377, ['d', 'ow', 'n', 't'], ['d', 'ow', 'nx'], 'VBP_RB'),\n",
       " Word(\"don't\", 388.970341, 389.164964, ['d', 'ow', 'n', 't'], ['d', 'ow', 'nx'], 'VBP_RB'),\n",
       " Word(\"don't\", 413.825695, 413.907842, ['d', 'ow', 'n', 't'], ['dx', 'ow', 'nx'], 'VBP_RB'),\n",
       " Word(\"don't\", 596.454785, 596.693284, ['d', 'ow', 'n', 't'], ['d', 'ow', 'n'], 'VBP_RB'),\n",
       " Word(\"don't\", 596.953988, 597.253961, ['d', 'ow', 'n', 't'], ['d', 'own', 'tq'], 'VBP_RB'),\n",
       " Word(\"don't\", 259.627752, 259.732776, ['d', 'ow', 'n', 't'], ['dx', 'ow'], 'VBP_RB'),\n",
       " Word(\"don't\", 101.33, 101.6, ['d', 'ow', 'n', 't'], ['d', 'ow', 'n'], 'VBP_RB'),\n",
       " Word(\"don't\", 396.642581, 397.042804, ['d', 'ow', 'n', 't'], ['d', 'ow', 'n'], 'VBP_RB'),\n",
       " Word(\"don't\", 398.549, 398.789, ['d', 'ow', 'n', 't'], ['d', 'ow', 'n'], 'VBP_RB'),\n",
       " Word(\"don't\", 574.192263, 574.257875, ['d', 'ow', 'n', 't'], ['own'], 'VBP_RB'),\n",
       " Word(\"don't\", 576.981651, 577.114921, ['d', 'ow', 'n', 't'], ['dx', 'ow', 'n'], 'VBP_RB'),\n",
       " Word(\"don't\", 399.571288, 399.659188, ['d', 'ow', 'n', 't'], ['dx', 'ow', 'n'], 'VBP_RB'),\n",
       " Word(\"don't\", 519.153946, 519.333814, ['d', 'ow', 'n', 't'], ['dx', 'ow', 'n', 'tq'], 'VBP_RB'),\n",
       " Word(\"don't\", 489.511125, 489.673396, ['d', 'ow', 'n', 't'], ['dx', 'ow', 'n', 'tq'], 'VBP_RB'),\n",
       " Word(\"don't\", 277.015385, 277.207946, ['d', 'ow', 'n', 't'], ['dx', 'ow', 'n'], 'VBP_RB'),\n",
       " Word(\"don't\", 336.991505, 337.112138, ['d', 'ow', 'n', 't'], ['dx', 'ah', 'n'], 'VBP_RB'),\n",
       " Word(\"don't\", 49.153, 49.271, ['d', 'ow', 'n', 't'], ['dx', 'own'], 'VBP_RB'),\n",
       " Word(\"don't\", 464.653811, 464.718862, ['d', 'ow', 'n', 't'], ['dx', 'ow', 'n'], 'VBP_RB'),\n",
       " Word(\"don't\", 205.51263, 205.596517, ['d', 'ow', 'n', 't'], ['dx', 'ow', 'n'], 'VBP_RB'),\n",
       " Word(\"don't\", 30.098652, 30.286, ['d', 'ow', 'n', 't'], ['d', 'ow', 'n'], 'VBP_RB'),\n",
       " Word(\"don't\", 216.479, 216.691, ['d', 'ow', 'n', 't'], ['d', 'own', 'tq'], 'VBP_RB'),\n",
       " Word(\"don't\", 549.357758, 549.549451, ['d', 'ow', 'n', 't'], ['d', 'ow', 'n'], 'VBP_RB'),\n",
       " Word(\"don't\", 108.150325, 108.31, ['d', 'ow', 'n', 't'], ['dx', 'ow', 'n'], 'VBP_RB'),\n",
       " Word(\"don't\", 283.285415, 283.503117, ['d', 'ow', 'n', 't'], ['ow', 'n', 't'], 'VBP_RB'),\n",
       " Word(\"don't\", 487.104109, 487.246312, ['d', 'ow', 'n', 't'], ['dx', 'ow', 'n'], 'VBP_RB'),\n",
       " Word(\"don't\", 218.786457, 219.037563, ['d', 'ow', 'n', 't'], ['d', 'ow', 'n'], 'VBP_RB'),\n",
       " Word(\"don't\", 438.483236, 438.760312, ['d', 'ow', 'n', 't'], ['d', 'own', 'tq'], 'VBP_RB'),\n",
       " Word(\"don't\", 426.666457, 426.791465, ['d', 'ow', 'n', 't'], ['ow'], 'VBP_RB'),\n",
       " Word(\"don't\", 137.795875, 137.961451, ['d', 'ow', 'n', 't'], ['dx', 'ow', 'n'], 'VBP_RB'),\n",
       " Word(\"don't\", 532.915527, 533.158239, ['d', 'ow', 'n', 't'], ['dx', 'ow', 'n', 'tq'], 'VBP_RB'),\n",
       " Word(\"don't\", 427.944611, 428.089322, ['d', 'ow', 'n', 't'], ['ow', 'n'], 'VBP_RB'),\n",
       " Word(\"don't\", 52.041837, 52.351701, ['d', 'ow', 'n', 't'], ['dx', 'own', 'tq'], 'VBP_RB'),\n",
       " Word(\"don't\", 441.731887, 441.867203, ['d', 'ow', 'n', 't'], ['d', 'own', 'tq'], 'VBP_RB'),\n",
       " Word(\"don't\", 533.676982, 533.810625, ['d', 'ow', 'n', 't'], ['own', 'tq'], 'VBP_RB'),\n",
       " Word(\"don't\", 494.304125, 494.468272, ['d', 'ow', 'n', 't'], ['dx', 'ow', 'n'], 'VBP_RB'),\n",
       " Word(\"don't\", 138.443543, 138.638853, ['d', 'ow', 'n', 't'], ['d', 'ow', 'n'], 'VBP_RB'),\n",
       " Word(\"don't\", 500.563544, 500.72814, ['d', 'ow', 'n', 't'], ['dx', 'ow', 'n'], 'VBP_RB'),\n",
       " Word(\"don't\", 234.968, 235.09, ['d', 'ow', 'n', 't'], ['dx', 'ow', 'n'], 'VBP_RB'),\n",
       " Word(\"don't\", 257.9832, 258.152562, ['d', 'ow', 'n', 't'], ['d', 'ow', 'n'], 'VBP_RB'),\n",
       " Word(\"don't\", 239.424, 239.641, ['d', 'ow', 'n', 't'], ['dx', 'ow', 'n'], 'VBP_RB'),\n",
       " Word(\"don't\", 259.15049, 259.235086, ['d', 'ow', 'n', 't'], ['d', 'ow', 'n'], 'VBP_RB'),\n",
       " Word(\"don't\", 546.109, 546.282, ['d', 'ow', 'n', 't'], ['dx', 'ow', 'n'], 'VBP_RB'),\n",
       " Word(\"don't\", 262.834148, 262.966822, ['d', 'ow', 'n', 't'], ['d', 'ow', 'n'], 'VBP_RB'),\n",
       " Word(\"don't\", 333.099916, 333.425325, ['d', 'ow', 'n', 't'], ['d', 'ow'], 'VBP_RB'),\n",
       " Word(\"don't\", 85.938911, 86.054943, ['d', 'ow', 'n', 't'], ['dx', 'own', 'tq'], 'VBP_RB'),\n",
       " Word(\"don't\", 421.565812, 421.970534, ['d', 'ow', 'n', 't'], ['d', 'own', 'tq'], 'VBP_RB'),\n",
       " Word(\"don't\", 496.309488, 496.472678, ['d', 'ow', 'n', 't'], ['d', 'ow', 'n'], 'VBP_RB'),\n",
       " Word(\"don't\", 100.318835, 100.415862, ['d', 'ow', 'n', 't'], ['dx', 'ow'], 'VBP_RB'),\n",
       " Word(\"don't\", 518.542907, 518.668903, ['d', 'ow', 'n', 't'], ['dx', 'own'], 'VBP_RB'),\n",
       " Word(\"don't\", 148.413812, 148.752646, ['d', 'ow', 'n', 't'], ['d', 'ow', 'n', 'tq'], 'VBP_RB'),\n",
       " Word(\"don't\", 402.282147, 402.408999, ['d', 'ow', 'n', 't'], ['dx', 'uw', 'n'], 'VBP_RB'),\n",
       " Word(\"don't\", 569.514, 569.803, ['d', 'ow', 'n', 't'], ['d', 'own'], 'VBP_RB'),\n",
       " Word(\"don't\", 571.709, 572.091, ['d', 'ow', 'n', 't'], ['d', 'ow', 'tq'], 'VBP_RB'),\n",
       " Word(\"don't\", 278.874937, 279.012275, ['d', 'ow', 'n', 't'], ['dx', 'ow', 'n'], 'VBP_RB'),\n",
       " Word(\"don't\", 266.29, 266.338, ['d', 'ow', 'n', 't'], ['ah'], 'VBP_RB'),\n",
       " Word(\"don't\", 304.987509, 305.134534, ['d', 'ow', 'n', 't'], ['d', 'ow', 'n'], 'VBP_RB'),\n",
       " Word(\"don't\", 342.957028, 343.006816, ['d', 'ow', 'n', 't'], ['own'], 'VBP_RB'),\n",
       " Word(\"don't\", 114.222982, 114.471173, ['d', 'ow', 'n', 't'], ['dx', 'own', 'tq'], 'VBP_RB'),\n",
       " Word(\"don't\", 481.03451, 481.41, ['d', 'ow', 'n', 't'], ['d', 'ow', 'n'], 'VBP_RB'),\n",
       " Word(\"don't\", 352.803438, 353.103262, ['d', 'ow', 'n', 't'], ['d', 'ow', 'n'], 'VBP_RB'),\n",
       " Word(\"don't\", 319.891255, 320.010937, ['d', 'ow', 'n', 't'], ['dx', 'ow', 'n'], 'VBP_RB'),\n",
       " Word(\"don't\", 170.669115, 170.819477, ['d', 'ow', 'n', 't'], ['dx', 'ow', 'n'], 'VBP_RB'),\n",
       " Word(\"don't\", 172.069618, 172.168003, ['d', 'ow', 'n', 't'], ['ow', 'n'], 'VBP_RB'),\n",
       " Word(\"don't\", 149.928273, 150.044761, ['d', 'ow', 'n', 't'], ['dx', 'ahn'], 'VBP_RB'),\n",
       " Word(\"don't\", 200.671, 201.031459, ['d', 'ow', 'n', 't'], ['d', 'ow', 'n', 't'], 'VBP_RB'),\n",
       " Word(\"don't\", 334.01736, 334.221293, ['d', 'ow', 'n', 't'], ['dx', 'ow', 'n'], 'VBP_RB'),\n",
       " Word(\"don't\", 504.279313, 504.422219, ['d', 'ow', 'n', 't'], ['d', 'ow', 'n'], 'VBP_RB'),\n",
       " Word(\"don't\", 514.448313, 514.51713, ['d', 'ow', 'n', 't'], ['dx', 'ah', 'n'], 'VBP_RB'),\n",
       " Word(\"don't\", 546.433812, 546.523812, ['d', 'ow', 'n', 't'], ['dx', 'own'], 'VBP_RB'),\n",
       " Word(\"don't\", 491.505605, 491.581534, ['d', 'ow', 'n', 't'], ['dx', 'own'], 'VBP_RB'),\n",
       " Word(\"don't\", 487.472882, 487.658125, ['d', 'ow', 'n', 't'], ['d', 'ow', 'n'], 'VBP_RB'),\n",
       " Word(\"don't\", 152.389734, 152.588243, ['d', 'ow', 'n', 't'], ['own', 'tq'], 'VBP_RB'),\n",
       " Word(\"don't\", 152.954836, 153.120641, ['d', 'ow', 'n', 't'], ['ahn', 'tq'], 'VBP_RB'),\n",
       " Word(\"don't\", 548.075886, 548.227357, ['d', 'ow', 'n', 't'], ['d', 'ow', 'n'], 'VBP_RB'),\n",
       " Word(\"don't\", 362.36125, 362.67625, ['d', 'ow', 'n', 't'], ['d', 'ow', 'n'], 'VBP_RB'),\n",
       " Word(\"don't\", 232.34313, 232.455667, ['d', 'ow', 'n', 't'], ['own'], 'VBP_RB'),\n",
       " Word(\"don't\", 9.605731, 9.858398, ['d', 'ow', 'n', 't'], ['d', 'own', 'tq'], 'VBP_RB'),\n",
       " Word(\"don't\", 529.274875, 529.414875, ['d', 'ow', 'n', 't'], ['dx', 'ow', 'n'], 'VBP_RB'),\n",
       " Word(\"don't\", 99.941, 99.987, ['d', 'ow', 'n', 't'], ['d', 'ah'], 'VBP_RB'),\n",
       " Word(\"don't\", 434.701, 434.86, ['d', 'ow', 'n', 't'], ['dx', 'ow', 'n', 't'], 'VBP_RB'),\n",
       " Word(\"don't\", 336.792572, 337.051525, ['d', 'ow', 'n', 't'], ['d', 'own'], 'VBP_RB'),\n",
       " Word(\"don't\", 101.811, 101.88, ['d', 'ow', 'n', 't'], ['ahn', 'tq'], 'VBP_RB'),\n",
       " Word(\"don't\", 567.813375, 567.963375, ['d', 'ow', 'n', 't'], ['d', 'ow', 'n'], 'VBP_RB'),\n",
       " Word(\"don't\", 374.36625, 374.49925, ['d', 'ow', 'n', 't'], ['d', 'own'], 'VBP_RB'),\n",
       " Word(\"don't\", 382.33025, 382.504326, ['d', 'ow', 'n', 't'], ['dx', 'own', 'tq'], 'VBP_RB'),\n",
       " Word(\"don't\", 96.108827, 96.166272, ['d', 'ow', 'n', 't'], ['dx', 'ow'], 'VBP_RB'),\n",
       " Word(\"don't\", 443.893458, 443.998721, ['d', 'ow', 'n', 't'], ['d', 'ow', 'n'], 'VBP_RB'),\n",
       " Word(\"don't\", 27.087, 27.244788, ['d', 'ow', 'n', 't'], ['ow', 'tq'], 'VBP_RB'),\n",
       " Word(\"don't\", 305.075063, 305.206319, ['d', 'ow', 'n', 't'], ['dx', 'ow', 'n'], 'VBP_RB'),\n",
       " Word(\"don't\", 27.405764, 27.588, ['d', 'ow', 'n', 't'], ['ow', 'n', 't'], 'VBP_RB'),\n",
       " Word(\"don't\", 442.580315, 442.704275, ['d', 'ow', 'n', 't'], ['dx', 'ahn'], 'VBP_RB'),\n",
       " Word(\"don't\", 54.279076, 54.629626, ['d', 'ow', 'n', 't'], ['d', 'own', 'tq'], 'VBP_RB'),\n",
       " Word(\"don't\", 425.729062, 425.978292, ['d', 'ow', 'n', 't'], ['d', 'ow', 'n'], 'VBP_RB'),\n",
       " Word(\"don't\", 44.229, 44.463773, ['d', 'ow', 'n', 't'], ['dx', 'ow', 'n'], 'VBP_RB'),\n",
       " Word(\"don't\", 137.238969, 137.36553, ['d', 'ow', 'n', 't'], ['dx', 'ow', 'n'], 'VBP_RB'),\n",
       " Word(\"don't\", 311.332509, 311.482268, ['d', 'ow', 'n', 't'], ['dx', 'own'], 'VBP_RB'),\n",
       " Word(\"don't\", 311.724564, 311.857856, ['d', 'ow', 'n', 't'], ['dx', 'ow', 'n'], 'VBP_RB'),\n",
       " Word(\"don't\", 24.001, 24.201, ['d', 'ow', 'n', 't'], ['dx', 'ow', 'n'], 'VBP_RB'),\n",
       " Word(\"don't\", 315.663069, 315.804013, ['d', 'ow', 'n', 't'], ['dx', 'ow', 'n'], 'VBP_RB'),\n",
       " Word(\"don't\", 442.50625, 442.61125, ['d', 'ow', 'n', 't'], ['d', 'ow', 'n', 'tq'], 'VBP_RB'),\n",
       " Word(\"don't\", 287.096446, 287.215439, ['d', 'ow', 'n', 't'], ['dx', 'own'], 'VBP_RB'),\n",
       " Word(\"don't\", 453.410919, 453.521622, ['d', 'ow', 'n', 't'], ['own'], 'VBP_RB'),\n",
       " Word(\"don't\", 404.867506, 404.995002, ['d', 'ow', 'n', 't'], ['dx', 'ow', 'n'], 'VBP_RB'),\n",
       " Word(\"don't\", 477.806875, 477.946875, ['d', 'ow', 'n', 't'], ['d', 'ow', 'n'], 'VBP_RB'),\n",
       " Word(\"don't\", 459.631, 459.733, ['d', 'ow', 'n', 't'], ['dx', 'ow', 'n'], 'VBP_RB'),\n",
       " Word(\"don't\", 77.288412, 77.427895, ['d', 'ow', 'n', 't'], ['dx', 'ow', 'n'], 'VBP_RB'),\n",
       " Word(\"don't\", 451.32725, 451.486655, ['d', 'ow', 'n', 't'], ['own', 'tq'], 'VBP_RB'),\n",
       " Word(\"don't\", 461.875107, 461.967816, ['d', 'ow', 'n', 't'], ['dx', 'uhn'], 'VBP_RB'),\n",
       " Word(\"don't\", 373.857877, 374.082568, ['d', 'ow', 'n', 't'], ['dx', 'ow', 'n'], 'VBP_RB'),\n",
       " Word(\"don't\", 441.834125, 442.057355, ['d', 'ow', 'n', 't'], ['dx', 'ow', 'n'], 'VBP_RB'),\n",
       " Word(\"don't\", 442.494125, 442.680194, ['d', 'ow', 'n', 't'], ['dx', 'ow', 'n'], 'VBP_RB'),\n",
       " Word(\"don't\", 419.270841, 419.386433, ['d', 'ow', 'n', 't'], ['ow', 'n'], 'VBP_RB'),\n",
       " Word(\"don't\", 31.65283, 32.146996, ['d', 'ow', 'n', 't'], ['d', 'own', 't'], 'VBP_RB'),\n",
       " Word(\"don't\", 352.29175, 352.46175, ['d', 'ow', 'n', 't'], ['d', 'ow', 'n'], 'VBP_RB'),\n",
       " Word(\"don't\", 382.392702, 382.572657, ['d', 'ow', 'n', 't'], ['dx', 'ow', 'n'], 'VBP_RB'),\n",
       " Word(\"don't\", 193.663442, 193.805193, ['d', 'ow', 'n', 't'], ['d', 'own'], 'VBP_RB'),\n",
       " Word(\"don't\", 471.553957, 471.710209, ['d', 'ow', 'n', 't'], ['dx', 'ahn', 'tq'], 'VBP_RB'),\n",
       " Word(\"don't\", 539.683, 539.846, ['d', 'ow', 'n', 't'], ['dx', 'own', 'tq'], 'VBP_RB'),\n",
       " Word(\"don't\", 433.816112, 434.023683, ['d', 'ow', 'n', 't'], ['dx', 'own', 'tq'], 'VBP_RB'),\n",
       " Word(\"don't\", 380.138368, 380.223066, ['d', 'ow', 'n', 't'], ['d', 'ih', 'tq'], 'VBP_RB'),\n",
       " Word(\"don't\", 90.458155, 90.661936, ['d', 'ow', 'n', 't'], ['dx', 'ah', 'n', 't'], 'VBP_RB'),\n",
       " Word(\"don't\", 3.757375, 3.961868, ['d', 'ow', 'n', 't'], ['d', 'ow', 'n'], 'VBP_RB'),\n",
       " Word(\"don't\", 254.088381, 254.364875, ['d', 'ow', 'n', 't'], ['d', 'ow', 'n'], 'VBP_RB'),\n",
       " Word(\"don't\", 486.597928, 486.872698, ['d', 'ow', 'n', 't'], ['d', 'ow', 'n'], 'VBP_RB'),\n",
       " Word(\"don't\", 256.059441, 256.23357, ['d', 'ow', 'n', 't'], ['d', 'ow', 'n'], 'VBP_RB'),\n",
       " Word(\"don't\", 488.901141, 489.358551, ['d', 'ow', 'n', 't'], ['d', 'ow', 'n', 'tq'], 'VBP_RB'),\n",
       " Word(\"don't\", 207.547693, 207.671759, ['d', 'ow', 'n', 't'], ['own'], 'VBP_RB'),\n",
       " Word(\"don't\", 8.167875, 8.292429, ['d', 'ow', 'n', 't'], ['dx', 'own'], 'VBP_RB'),\n",
       " Word(\"don't\", 260.191004, 260.340148, ['d', 'ow', 'n', 't'], ['d', 'ow'], 'VBP_RB'),\n",
       " Word(\"don't\", 9.721812, 9.841812, ['d', 'ow', 'n', 't'], ['dx', 'ow', 'n'], 'VBP_RB'),\n",
       " Word(\"don't\", 262.690812, 262.840812, ['d', 'ow', 'n', 't'], ['d', 'ow', 'n'], 'VBP_RB'),\n",
       " Word(\"don't\", 491.511062, 491.802381, ['d', 'ow', 'n', 't'], ['d', 'ow', 'n', 'tq'], 'VBP_RB'),\n",
       " Word(\"don't\", 214.619875, 214.737647, ['d', 'ow', 'n', 't'], ['dx', 'ow', 'n'], 'VBP_RB'),\n",
       " Word(\"don't\", 265.590812, 265.790812, ['d', 'ow', 'n', 't'], ['d', 'ow', 'n'], 'VBP_RB'),\n",
       " Word(\"don't\", 146.783952, 147.01781, ['d', 'ow', 'n', 't'], ['dx', 'own', 'tq'], 'VBP_RB'),\n",
       " Word(\"don't\", 265.834, 266.000998, ['d', 'ow', 'n', 't'], ['dx', 'ow'], 'VBP_RB'),\n",
       " Word(\"don't\", 398.2935, 398.361886, ['d', 'ow', 'n', 't'], ['ow', 'n'], 'VBP_RB'),\n",
       " Word(\"don't\", 218.586313, 218.742991, ['d', 'ow', 'n', 't'], ['dx', 'ow', 'n'], 'VBP_RB'),\n",
       " Word(\"don't\", 150.431788, 150.574387, ['d', 'ow', 'n', 't'], ['dx', 'ow', 'n'], 'VBP_RB'),\n",
       " Word(\"don't\", 277.535771, 277.7803, ['d', 'ow', 'n', 't'], ['dx', 'ow', 'ng'], 'VBP_RB'),\n",
       " Word(\"don't\", 169.903018, 170.204492, ['d', 'ow', 'n', 't'], ['dx', 'own', 'tq'], 'VBP_RB'),\n",
       " Word(\"don't\", 224.351375, 224.501375, ['d', 'ow', 'n', 't'], ['dx', 'ow', 'n'], 'VBP_RB'),\n",
       " Word(\"don't\", 280.059391, 280.316937, ['d', 'ow', 'n', 't'], ['d', 'ow', 'n'], 'VBP_RB'),\n",
       " Word(\"don't\", 55.177307, 55.329733, ['d', 'ow', 'n', 't'], ['dx', 'ow', 'n', 'tq'], 'VBP_RB'),\n",
       " Word(\"don't\", 174.229062, 174.400387, ['d', 'ow', 'n', 't'], ['d', 'own'], 'VBP_RB'),\n",
       " Word(\"don't\", 138.366312, 138.530346, ['d', 'ow', 'n', 't'], ['dx', 'own'], 'VBP_RB'),\n",
       " Word(\"don't\", 282.348438, 282.438438, ['d', 'ow', 'n', 't'], ['d', 'ow', 'n'], 'VBP_RB'),\n",
       " Word(\"don't\", 420.084688, 420.240075, ['d', 'ow', 'n', 't'], ['d', 'ow', 'n'], 'VBP_RB'),\n",
       " Word(\"don't\", 48.204926, 48.346125, ['d', 'ow', 'n', 't'], ['dx', 'ow', 'n'], 'VBP_RB'),\n",
       " Word(\"don't\", 806.579184, 806.663147, ['d', 'ow', 'n', 't'], ['d', 'own'], 'VBP_RB'),\n",
       " Word(\"don't\", 301.261125, 301.421125, ['d', 'ow', 'n', 't'], ['d', 'ow', 'n'], 'VBP_RB'),\n",
       " Word(\"don't\", 537.178, 537.386128, ['d', 'ow', 'n', 't'], ['d', 'ow', 'n'], 'VBP_RB'),\n",
       " Word(\"don't\", 161.414651, 161.582377, ['d', 'ow', 'n', 't'], ['d', 'own'], 'VBP_RB'),\n",
       " Word(\"don't\", 400.769659, 400.883209, ['d', 'ow', 'n', 't'], ['d', 'own'], 'VBP_RB'),\n",
       " Word(\"don't\", 401.234275, 401.383244, ['d', 'ow', 'n', 't'], ['d', 'ow', 'n'], 'VBP_RB'),\n",
       " Word(\"don't\", 98.942153, 99.071582, ['d', 'ow', 'n', 't'], ['dx', 'ow'], 'VBP_RB'),\n",
       " Word(\"don't\", 55.805125, 55.943904, ['d', 'ow', 'n', 't'], ['own', 'tq'], 'VBP_RB'),\n",
       " Word(\"don't\", 56.040125, 56.269125, ['d', 'ow', 'n', 't'], ['d', 'ow', 'n', 'tq'], 'VBP_RB'),\n",
       " Word(\"don't\", 459.162658, 459.226364, ['d', 'ow', 'n', 't'], ['ow', 'n'], 'VBP_RB'),\n",
       " Word(\"don't\", 306.742687, 306.842687, ['d', 'ow', 'n', 't'], ['d', 'ow', 'n'], 'VBP_RB'),\n",
       " Word(\"don't\", 809.512375, 809.628535, ['d', 'ow', 'n', 't'], ['dx', 'ah', 'n'], 'VBP_RB'),\n",
       " Word(\"don't\", 323.447791, 323.54675, ['d', 'ow', 'n', 't'], ['dx', 'own'], 'VBP_RB'),\n",
       " Word(\"don't\", 85.566507, 85.68887, ['d', 'ow', 'n', 't'], ['dx', 'ah', 'tq'], 'VBP_RB'),\n",
       " Word(\"don't\", 349.090624, 349.19779, ['d', 'ow', 'n', 't'], ['d', 'own'], 'VBP_RB'),\n",
       " Word(\"don't\", 354.548, 354.717, ['d', 'ow', 'n', 't'], ['dx', 'ow', 'n'], 'VBP_RB'),\n",
       " Word(\"don't\", 82.482125, 82.624125, ['d', 'ow', 'n', 't'], ['dx', 'ow', 'tq'], 'VBP_RB'),\n",
       " Word(\"don't\", 83.486125, 83.626125, ['d', 'ow', 'n', 't'], ['dx', 'ow', 'n'], 'VBP_RB'),\n",
       " Word(\"don't\", 111.589227, 111.743263, ['d', 'ow', 'n', 't'], ['d', 'ow', 'n'], 'VBP_RB'),\n",
       " Word(\"don't\", 481.778375, 481.868375, ['d', 'ow', 'n', 't'], ['dx', 'ow', 'n'], 'VBP_RB'),\n",
       " Word(\"don't\", 127.50273, 127.652749, ['d', 'ow', 'n', 't'], ['dx', 'ow', 'tq'], 'VBP_RB'),\n",
       " Word(\"don't\", 425.350101, 425.459075, ['d', 'ow', 'n', 't'], ['dx', 'own'], 'VBP_RB'),\n",
       " Word(\"don't\", 425.614315, 425.682166, ['d', 'ow', 'n', 't'], ['dx', 'en'], 'VBP_RB'),\n",
       " Word(\"don't\", 132.55495, 132.688559, ['d', 'ow', 'n', 't'], ['dx', 'ow', 'tq'], 'VBP_RB'),\n",
       " Word(\"don't\", 229.897418, 230.062875, ['d', 'ow', 'n', 't'], ['dx', 'own'], 'VBP_RB'),\n",
       " Word(\"don't\", 368.452687, 368.603422, ['d', 'ow', 'n', 't'], ['d', 'own'], 'VBP_RB'),\n",
       " Word(\"don't\", 114.601172, 114.702827, ['d', 'ow', 'n', 't'], ['own', 'm'], 'VBP_RB'),\n",
       " Word(\"don't\", 840.230267, 840.318417, ['d', 'ow', 'n', 't'], ['dx', 'own'], 'VBP_RB'),\n",
       " Word(\"don't\", 121.862125, 121.995125, ['d', 'ow', 'n', 't'], ['dx', 'ow', 'n', 'tq'], 'VBP_RB'),\n",
       " Word(\"don't\", 538.527146, 538.796565, ['d', 'ow', 'n', 't'], ['dx', 'own'], 'VBP_RB'),\n",
       " Word(\"don't\", 302.408875, 302.585173, ['d', 'ow', 'n', 't'], ['dx', 'ow', 'n'], 'VBP_RB'),\n",
       " Word(\"don't\", 52.771686, 52.865851, ['d', 'ow', 'n', 't'], ['dx', 'ah'], 'VBP_RB'),\n",
       " Word(\"don't\", 367.321892, 367.425018, ['d', 'ow', 'n', 't'], ['dx', 'ow', 'n'], 'VBP_RB'),\n",
       " Word(\"don't\", 367.667729, 367.82919, ['d', 'ow', 'n', 't'], ['dx', 'own', 'tq'], 'VBP_RB'),\n",
       " Word(\"don't\", 265.06504, 265.223162, ['d', 'ow', 'n', 't'], ['dx', 'ow', 'n'], 'VBP_RB'),\n",
       " Word(\"don't\", 266.312351, 266.417437, ['d', 'ow', 'n', 't'], ['dx', 'ow', 'n'], 'VBP_RB'),\n",
       " Word(\"don't\", 224.67962, 224.754415, ['d', 'ow', 'n', 't'], ['own'], 'VBP_RB'),\n",
       " Word(\"don't\", 316.412743, 316.49332, ['d', 'ow', 'n', 't'], ['ah'], 'VBP_RB'),\n",
       " Word(\"don't\", 407.785328, 407.965942, ['d', 'ow', 'n', 't'], ['dx', 'ow', 'n'], 'VBP_RB'),\n",
       " Word(\"don't\", 476.823213, 476.971397, ['d', 'ow', 'n', 't'], ['d', 'ah', 'n'], 'VBP_RB'),\n",
       " Word(\"don't\", 155.683841, 155.831125, ['d', 'ow', 'n', 't'], ['dx', 'ow', 'n', 'tq'], 'VBP_RB'),\n",
       " Word(\"don't\", 206.58987, 206.728831, ['d', 'ow', 'n', 't'], ['dx', 'ow', 'n'], 'VBP_RB'),\n",
       " Word(\"don't\", 134.035, 134.145, ['d', 'ow', 'n', 't'], ['ow', 'n'], 'VBP_RB'),\n",
       " Word(\"don't\", 179.021171, 179.125484, ['d', 'ow', 'n', 't'], ['dx', 'own', 'tq'], 'VBP_RB'),\n",
       " Word(\"don't\", 49.790958, 49.967576, ['d', 'ow', 'n', 't'], ['dx', 'ow', 'n'], 'VBP_RB'),\n",
       " Word(\"don't\", 170.638461, 170.693608, ['d', 'ow', 'n', 't'], ['dx', 'ow'], 'VBP_RB'),\n",
       " Word(\"don't\", 433.161, 433.258, ['d', 'ow', 'n', 't'], ['dx', 'own'], 'VBP_RB'),\n",
       " Word(\"don't\", 207.024, 207.25, ['d', 'ow', 'n', 't'], ['d', 'ow', 'n'], 'VBP_RB'),\n",
       " Word(\"don't\", 207.82, 207.988, ['d', 'ow', 'n', 't'], ['dx', 'own', 'tq'], 'VBP_RB'),\n",
       " Word(\"don't\", 117.40125, 117.508857, ['d', 'ow', 'n', 't'], ['own', 'tq'], 'VBP_RB'),\n",
       " Word(\"don't\", 462.057843, 462.192986, ['d', 'ow', 'n', 't'], ['dx', 'ow', 'n'], 'VBP_RB'),\n",
       " Word(\"don't\", 133.90125, 134.136803, ['d', 'ow', 'n', 't'], ['d', 'own', 'tq'], 'VBP_RB'),\n",
       " Word(\"don't\", 2.125618, 2.378813, ['d', 'ow', 'n', 't'], ['ch', 'ah', 'n', 't'], 'VBP_RB'),\n",
       " Word(\"don't\", 641.812938, 641.948839, ['d', 'ow', 'n', 't'], ['d', 'ow', 'n', 'tq'], 'VBP_RB'),\n",
       " Word(\"don't\", 469.01466, 469.138078, ['d', 'ow', 'n', 't'], ['ow', 'n'], 'VBP_RB'),\n",
       " Word(\"don't\", 239.933581, 240.142124, ['d', 'ow', 'n', 't'], ['dx', 'ow', 'n', 'tq'], 'VBP_RB'),\n",
       " Word(\"don't\", 469.9332, 470.056622, ['d', 'ow', 'n', 't'], ['ow', 'n'], 'VBP_RB'),\n",
       " Word(\"don't\", 441.6154, 442.013, ['d', 'ow', 'n', 't'], ['d', 'ow', 'n', 'tq'], 'VBP_RB'),\n",
       " Word(\"don't\", 65.464438, 65.629033, ['d', 'ow', 'n', 't'], ['d', 'ow', 'n', 'tq'], 'VBP_RB'),\n",
       " Word(\"don't\", 272.4385, 272.621601, ['d', 'ow', 'n', 't'], ['dx', 'own'], 'VBP_RB'),\n",
       " Word(\"don't\", 229.9165, 230.017925, ['d', 'ow', 'n', 't'], ['d', 'ow'], 'VBP_RB'),\n",
       " Word(\"don't\", 435.144, 435.201, ['d', 'ow', 'n', 't'], ['ah'], 'VBP_RB'),\n",
       " Word(\"don't\", 285.659, 285.757, ['d', 'ow', 'n', 't'], ['d', 'ow'], 'VBP_RB'),\n",
       " Word(\"don't\", 266.05014, 266.351066, ['d', 'ow', 'n', 't'], ['d', 'ow', 'n', 'tq'], 'VBP_RB'),\n",
       " Word(\"don't\", 274.343243, 274.481966, ['d', 'ow', 'n', 't'], ['dx', 'own'], 'VBP_RB'),\n",
       " Word(\"don't\", 150.98125, 151.106213, ['d', 'ow', 'n', 't'], ['dx', 'own', 'tq'], 'VBP_RB'),\n",
       " Word(\"don't\", 434.209879, 434.328187, ['d', 'ow', 'n', 't'], ['ow', 'n'], 'VBP_RB'),\n",
       " Word(\"don't\", 275.450167, 275.64322, ['d', 'ow', 'n', 't'], ['dx', 'own'], 'VBP_RB'),\n",
       " Word(\"don't\", 49.992736, 50.105375, ['d', 'ow', 'n', 't'], ['ow', 'n'], 'VBP_RB'),\n",
       " Word(\"don't\", 458.484, 458.683, ['d', 'ow', 'n', 't'], ['d', 'ow', 'n'], 'VBP_RB'),\n",
       " Word(\"don't\", 137.459895, 137.548636, ['d', 'ow', 'n', 't'], ['ow', 'nx'], 'VBP_RB'),\n",
       " Word(\"don't\", 160.32625, 160.464464, ['d', 'ow', 'n', 't'], ['dx', 'own', 'tq'], 'VBP_RB'),\n",
       " Word(\"don't\", 257.105625, 257.390928, ['d', 'ow', 'n', 't'], ['d', 'ow', 'n', 'tq'], 'VBP_RB'),\n",
       " Word(\"don't\", 247.525, 247.657, ['d', 'ow', 'n', 't'], ['dx', 'ow', 'n'], 'VBP_RB'),\n",
       " Word(\"don't\", 308.715, 308.842, ['d', 'ow', 'n', 't'], ['dx', 'ow', 'n'], 'VBP_RB'),\n",
       " Word(\"don't\", 248.722, 248.795, ['d', 'ow', 'n', 't'], ['dx', 'own'], 'VBP_RB'),\n",
       " Word(\"don't\", 521.627797, 521.809766, ['d', 'ow', 'n', 't'], ['d', 'ow', 'n'], 'VBP_RB'),\n",
       " Word(\"don't\", 313.222, 313.533, ['d', 'ow', 'n', 't'], ['d', 'own', 'tq'], 'VBP_RB'),\n",
       " Word(\"don't\", 512.955, 513.135, ['d', 'ow', 'n', 't'], ['d', 'ow', 'n'], 'VBP_RB'),\n",
       " Word(\"don't\", 169.309802, 169.418136, ['d', 'ow', 'n', 't'], ['dx', 'ahn'], 'VBP_RB'),\n",
       " Word(\"don't\", 388.492063, 388.652063, ['d', 'ow', 'n', 't'], ['d', 'ow', 'n'], 'VBP_RB'),\n",
       " Word(\"don't\", 77.533865, 77.744953, ['d', 'ow', 'n', 't'], ['d', 'ow', 'n'], 'VBP_RB'),\n",
       " Word(\"don't\", 464.913381, 465.102636, ['d', 'ow', 'n', 't'], ['d', 'ow', 'n'], 'VBP_RB'),\n",
       " Word(\"don't\", 130.646492, 130.786942, ['d', 'ow', 'n', 't'], ['ehn'], 'VBP_RB'),\n",
       " Word(\"don't\", 480.41372, 480.637, ['d', 'ow', 'n', 't'], ['d', 'ow', 'n', 'tq'], 'VBP_RB'),\n",
       " Word(\"don't\", 160.425879, 160.552955, ['d', 'ow', 'n', 't'], ['dx', 'ow', 'n'], 'VBP_RB'),\n",
       " Word(\"don't\", 497.45125, 497.664046, ['d', 'ow', 'n', 't'], ['d', 'ow', 'n'], 'VBP_RB'),\n",
       " Word(\"don't\", 99.150249, 99.278311, ['d', 'ow', 'n', 't'], ['dx', 'ow', 'n'], 'VBP_RB'),\n",
       " Word(\"don't\", 107.321149, 107.419743, ['d', 'ow', 'n', 't'], ['dx', 'ah'], 'VBP_RB'),\n",
       " Word(\"don't\", 108.013573, 108.182436, ['d', 'ow', 'n', 't'], ['d', 'ow', 'tq'], 'VBP_RB'),\n",
       " Word(\"don't\", 108.556812, 108.677673, ['d', 'ow', 'n', 't'], ['dx', 'ow', 'n'], 'VBP_RB'),\n",
       " Word(\"don't\", 182.364723, 182.470482, ['d', 'ow', 'n', 't'], ['d', 'own'], 'VBP_RB'),\n",
       " Word(\"don't\", 336.783, 336.953, ['d', 'ow', 'n', 't'], ['d', 'own', 'tq'], 'VBP_RB'),\n",
       " Word(\"don't\", 757.161375, 757.417775, ['d', 'ow', 'n', 't'], ['d', 'ow', 'n', 't'], 'VBP_RB'),\n",
       " Word(\"don't\", 406.259472, 406.407475, ['d', 'ow', 'n', 't'], ['dx', 'ow', 'n'], 'VBP_RB'),\n",
       " Word(\"don't\", 407.116968, 407.312149, ['d', 'ow', 'n', 't'], ['d', 'ow', 'n'], 'VBP_RB'),\n",
       " Word(\"don't\", 30.119635, 30.240413, ['d', 'ow', 'n', 't'], ['own'], 'VBP_RB'),\n",
       " Word(\"don't\", 200.253579, 200.424306, ['d', 'ow', 'n', 't'], ['d', 'ow', 'n'], 'VBP_RB'),\n",
       " Word(\"don't\", 190.562909, 190.658543, ['d', 'ow', 'n', 't'], ['dx', 'ow', 'nx'], 'VBP_RB'),\n",
       " Word(\"don't\", 219.96025, 220.135032, ['d', 'ow', 'n', 't'], ['own', 'tq'], 'VBP_RB'),\n",
       " Word(\"don't\", 221.80425, 222.161892, ['d', 'ow', 'n', 't'], ['d', 'own', 'tq'], 'VBP_RB'),\n",
       " Word(\"don't\", 60.629263, 60.768362, ['d', 'ow', 'n', 't'], ['dx', 'ow', 'tq'], 'VBP_RB'),\n",
       " Word(\"don't\", 443.083675, 443.303263, ['d', 'ow', 'n', 't'], ['d', 'ow', 'n'], 'VBP_RB'),\n",
       " Word(\"don't\", 38.432689, 38.637983, ['d', 'ow', 'n', 't'], ['dx', 'ah'], 'VBP_RB'),\n",
       " Word(\"don't\", 359.525, 359.62, ['d', 'ow', 'n', 't'], ['dx', 'ah', 'n'], 'VBP_RB'),\n",
       " Word(\"don't\", 63.372571, 63.519109, ['d', 'ow', 'n', 't'], ['dx', 'ow', 'n'], 'VBP_RB'),\n",
       " Word(\"don't\", 363.174, 363.264, ['d', 'ow', 'n', 't'], ['dx', 'ah', 'dx'], 'VBP_RB'),\n",
       " Word(\"don't\", 75.643812, 75.823848, ['d', 'ow', 'n', 't'], ['d', 'own', 'n', 'tq'], 'VBP_RB'),\n",
       " Word(\"don't\", 477.662464, 477.848, ['d', 'ow', 'n', 't'], ['d', 'ow'], 'VBP_RB'),\n",
       " Word(\"don't\", 442.526706, 442.735741, ['d', 'ow', 'n', 't'], ['d', 'own', 'tq'], 'VBP_RB'),\n",
       " Word(\"don't\", 51.647086, 51.891438, ['d', 'ow', 'n', 't'], ['d', 'ow', 'n'], 'VBP_RB'),\n",
       " Word(\"don't\", 370.922437, 371.107767, ['d', 'ow', 'n', 't'], ['dx', 'ow', 'n'], 'VBP_RB'),\n",
       " Word(\"don't\", 126.517875, 126.647772, ['d', 'ow', 'n', 't'], ['d', 'ow', 'n'], 'VBP_RB'),\n",
       " Word(\"don't\", 104.279587, 104.384067, ['d', 'ow', 'n', 't'], ['d', 'ah', 'n'], 'VBP_RB'),\n",
       " Word(\"don't\", 154.133, 154.239, ['d', 'ow', 'n', 't'], ['dx', 'ah', 'dx'], 'VBP_RB'),\n",
       " Word(\"don't\", 496.794, 496.862, ['d', 'ow', 'n', 't'], ['dx', 'eh'], 'VBP_RB'),\n",
       " Word(\"don't\", 231.506812, 231.642665, ['d', 'ow', 'n', 't'], ['d', 'own', 'tq'], 'VBP_RB'),\n",
       " Word(\"don't\", 232.651786, 232.684032, ['d', 'ow', 'n', 't'], ['own'], 'VBP_RB'),\n",
       " Word(\"don't\", 173.269, 173.422, ['d', 'ow', 'n', 't'], ['ow', 'n'], 'VBP_RB'),\n",
       " Word(\"don't\", 174.692, 174.791, ['d', 'ow', 'n', 't'], ['dx', 'ow'], 'VBP_RB'),\n",
       " Word(\"don't\", 77.533475, 77.600466, ['d', 'ow', 'n', 't'], ['uh'], 'VBP_RB'),\n",
       " Word(\"don't\", 175.285, 175.41, ['d', 'ow', 'n', 't'], ['dx', 'ow'], 'VBP_RB'),\n",
       " Word(\"don't\", 108.922312, 109.112312, ['d', 'ow', 'n', 't'], ['dx', 'ow', 'n', 'tq'], 'VBP_RB'),\n",
       " Word(\"don't\", 112.187, 112.317, ['d', 'ow', 'n', 't'], ['dx', 'ah', 'nx'], 'VBP_RB'),\n",
       " Word(\"don't\", 269.528383, 269.773547, ['d', 'ow', 'n', 't'], ['d', 'ow', 'n'], 'VBP_RB'),\n",
       " Word(\"don't\", 328.620063, 328.760063, ['d', 'ow', 'n', 't'], ['d', 'ow', 'n'], 'VBP_RB'),\n",
       " Word(\"don't\", 382.2, 382.31, ['d', 'ow', 'n', 't'], ['d', 'own'], 'VBP_RB'),\n",
       " Word(\"don't\", 247.301812, 247.446902, ['d', 'ow', 'n', 't'], ['d', 'ow', 'n'], 'VBP_RB'),\n",
       " Word(\"don't\", 123.869594, 123.979532, ['d', 'ow', 'n', 't'], ['dx', 'ow', 'tq'], 'VBP_RB'),\n",
       " Word(\"don't\", 62.295188, 62.441401, ['d', 'ow', 'n', 't'], ['dx', 'ow', 'n', 't'], 'VBP_RB'),\n",
       " Word(\"don't\", 400.37, 400.5, ['d', 'ow', 'n', 't'], ['d', 'ow', 'n'], 'VBP_RB'),\n",
       " Word(\"don't\", 64.355392, 64.525188, ['d', 'ow', 'n', 't'], ['d', 'own', 'tq'], 'VBP_RB'),\n",
       " Word(\"don't\", 16.422875, 16.583062, ['d', 'ow', 'n', 't'], ['dx', 'own'], 'VBP_RB'),\n",
       " Word(\"don't\", 17.634372, 17.719074, ['d', 'ow', 'n', 't'], ['nx', 'ah'], 'VBP_RB'),\n",
       " Word(\"don't\", 166.479233, 166.642179, ['d', 'ow', 'n', 't'], ['d', 'ow', 'n'], 'VBP_RB'),\n",
       " Word(\"don't\", 53.611157, 53.764818, ['d', 'ow', 'n', 't'], ['dx', 'own'], 'VBP_RB'),\n",
       " Word(\"don't\", 62.778008, 62.895378, ['d', 'ow', 'n', 't'], ['d'], 'VBP_RB'),\n",
       " Word(\"don't\", 168.686, 168.904, ['d', 'ow', 'n', 't'], ['d', 'ow', 'n', 't'], 'VBP_RB'),\n",
       " Word(\"don't\", 231.987, 232.259, ['d', 'ow', 'n', 't'], ['d', 'own', 'tq'], 'VBP_RB'),\n",
       " Word(\"don't\", 31.713102, 31.912711, ['d', 'ow', 'n', 't'], ['d', 'ow', 'n', 't'], 'VBP_RB'),\n",
       " Word(\"don't\", 80.48375, 80.64375, ['d', 'ow', 'n', 't'], ['d', 'ow', 'n'], 'VBP_RB'),\n",
       " Word(\"don't\", 237.785, 237.909, ['d', 'ow', 'n', 't'], ['dx', 'ow', 'tq'], 'VBP_RB'),\n",
       " Word(\"don't\", 387.634027, 387.872014, ['d', 'ow', 'n', 't'], ['d', 'ow', 'n'], 'VBP_RB'),\n",
       " Word(\"don't\", 41.570304, 41.746443, ['d', 'ow', 'n', 't'], ['d', 'ow', 'n'], 'VBP_RB'),\n",
       " Word(\"don't\", 183.116, 183.25, ['d', 'ow', 'n', 't'], ['dx', 'own'], 'VBP_RB'),\n",
       " Word(\"don't\", 249.792, 249.925, ['d', 'ow', 'n', 't'], ['dx', 'own', 'tq'], 'VBP_RB'),\n",
       " Word(\"don't\", 164.027331, 164.248438, ['d', 'ow', 'n', 't'], ['d', 'ow', 'tq'], 'VBP_RB'),\n",
       " Word(\"don't\", 397.439, 397.629, ['d', 'ow', 'n', 't'], ['d', 'ow', 'nx'], 'VBP_RB'),\n",
       " Word(\"don't\", 116.5729, 116.747214, ['d', 'ow', 'n', 't'], ['dx', 'own', 'tq'], 'VBP_RB'),\n",
       " Word(\"don't\", 368.356875, 368.685875, ['d', 'ow', 'n', 't'], ['d', 'ow', 'n', 'tq'], 'VBP_RB'),\n",
       " Word(\"don't\", 85.409094, 85.611922, ['d', 'ow', 'n', 't'], ['d', 'ow', 'n'], 'VBP_RB'),\n",
       " Word(\"don't\", 29.079305, 29.211073, ['d', 'ow', 'n', 't'], ['dx', 'own'], 'VBP_RB'),\n",
       " Word(\"don't\", 106.43325, 106.55125, ['d', 'ow', 'n', 't'], ['dx', 'own'], 'VBP_RB'),\n",
       " Word(\"don't\", 193.61, 193.73, ['d', 'ow', 'n', 't'], ['dx', 'ow', 'n', 'tq'], 'VBP_RB'),\n",
       " Word(\"don't\", 350.251446, 350.637625, ['d', 'ow', 'n', 't'], ['d', 'ow', 'tq'], 'VBP_RB'),\n",
       " Word(\"don't\", 617.614187, 617.807634, ['d', 'ow', 'n', 't'], ['n', 'ow', 'n', 't'], 'VBP_RB'),\n",
       " Word(\"don't\", 4.341943, 4.409171, ['d', 'ow', 'n', 't'], ['own'], 'VBP_RB'),\n",
       " Word(\"don't\", 281.826375, 281.9954, ['d', 'ow', 'n', 't'], ['d', 'ow', 'n'], 'VBP_RB'),\n",
       " Word(\"don't\", 60.190734, 60.389319, ['d', 'ow', 'n', 't'], ['d', 'ow', 'n'], 'VBP_RB'),\n",
       " Word(\"don't\", 573.642039, 573.751965, ['d', 'ow', 'n', 't'], ['ow', 'n'], 'VBP_RB'),\n",
       " Word(\"don't\", 46.91, 47.068, ['d', 'ow', 'n', 't'], ['d', 'ow', 'n'], 'VBP_RB'),\n",
       " Word(\"don't\", 110.651979, 110.798436, ['d', 'ow', 'n', 't'], ['d', 'ow', 'n'], 'VBP_RB'),\n",
       " Word(\"don't\", 575.1745, 575.304552, ['d', 'ow', 'n', 't'], ['d', 'ow', 'n'], 'VBP_RB'),\n",
       " Word(\"don't\", 268.277022, 268.417066, ['d', 'ow', 'n', 't'], ['ow', 'n'], 'VBP_RB'),\n",
       " Word(\"don't\", 270.477, 270.724, ['d', 'ow', 'n', 't'], ['d', 'ow', 'n', 't'], 'VBP_RB'),\n",
       " Word(\"don't\", 128.574765, 128.834633, ['d', 'ow', 'n', 't'], ['d', 'ow', 'n'], 'VBP_RB'),\n",
       " Word(\"don't\", 215.104161, 215.392875, ['d', 'ow', 'n', 't'], ['y', 'ih', 'dx', 'ow', 'n'], 'VBP_RB'),\n",
       " Word(\"don't\", 68.856, 68.953, ['d', 'ow', 'n', 't'], ['dx', 'ow', 'n'], 'VBP_RB'),\n",
       " Word(\"don't\", 319.317, 319.47, ['d', 'ow', 'n', 't'], ['dx', 'ow', 'ng'], 'VBP_RB'),\n",
       " Word(\"don't\", 219.810562, 219.960562, ['d', 'ow', 'n', 't'], ['d', 'ow', 'n'], 'VBP_RB'),\n",
       " Word(\"don't\", 595.552111, 595.736321, ['d', 'ow', 'n', 't'], ['d', 'ow', 'n'], 'VBP_RB'),\n",
       " Word(\"don't\", 251.303938, 251.583967, ['d', 'ow', 'n', 't'], ['d', 'ow', 'n', 'tq'], 'VBP_RB'),\n",
       " Word(\"don't\", 221.094245, 221.268587, ['d', 'ow', 'n', 't'], ['d', 'ow', 'nx'], 'VBP_RB'),\n",
       " Word(\"don't\", 5.49928, 5.699868, ['d', 'ow', 'n', 't'], ['d', 'ah'], 'VBP_RB'),\n",
       " Word(\"don't\", 139.739375, 139.938783, ['d', 'ow', 'n', 't'], ['d', 'ow', 'n'], 'VBP_RB'),\n",
       " Word(\"don't\", 79.454, 79.603, ['d', 'ow', 'n', 't'], ['d', 'ow', 'n'], 'VBP_RB'),\n",
       " Word(\"don't\", 62.239162, 62.398898, ['d', 'ow', 'n', 't'], ['dx', 'ow', 'tq'], 'VBP_RB'),\n",
       " Word(\"don't\", 146.562063, 146.742063, ['d', 'ow', 'n', 't'], ['d', 'ow', 'n'], 'VBP_RB'),\n",
       " Word(\"don't\", 69.757134, 69.962634, ['d', 'ow', 'n', 't'], ['d', 'own', 't'], 'VBP_RB'),\n",
       " Word(\"don't\", 152.593658, 152.676405, ['d', 'ow', 'n', 't'], ['ow', 'n'], 'VBP_RB'),\n",
       " Word(\"don't\", 96.7, 96.816, ['d', 'ow', 'n', 't'], ['dx', 'ow', 'n'], 'VBP_RB'),\n",
       " Word(\"don't\", 530.95345, 531.17392, ['d', 'ow', 'n', 't'], ['d', 'ow', 'n'], 'VBP_RB'),\n",
       " Word(\"don't\", 549.878631, 549.997289, ['d', 'ow', 'n', 't'], ['d', 'uh', 'n'], 'VBP_RB'),\n",
       " Word(\"don't\", 379.152694, 379.343422, ['d', 'ow', 'n', 't'], ['dx', 'ow', 'n', 't'], 'VBP_RB'),\n",
       " Word(\"don't\", 597.367478, 597.519631, ['d', 'ow', 'n', 't'], ['d', 'ow', 'nx'], 'VBP_RB'),\n",
       " Word(\"don't\", 394.751655, 394.973184, ['d', 'ow', 'n', 't'], ['dx', 'ow', 'n', 't'], 'VBP_RB'),\n",
       " Word(\"don't\", 198.934536, 198.975065, ['d', 'ow', 'n', 't'], ['en'], 'VBP_RB'),\n",
       " Word(\"don't\", 231.558875, 231.754875, ['d', 'ow', 'n', 't'], ['dx', 'ow', 'tq'], 'VBP_RB'),\n",
       " Word(\"don't\", 243.227875, 243.461875, ['d', 'ow', 'n', 't'], ['d', 'ow', 'tq'], 'VBP_RB'),\n",
       " Word(\"don't\", 12.87325, 12.977648, ['d', 'ow', 'n', 't'], ['ow', 'n'], 'VBP_RB'),\n",
       " Word(\"don't\", 413.202902, 413.398375, ['d', 'ow', 'n', 't'], ['d', 'ow', 'n', 'tq'], 'VBP_RB'),\n",
       " Word(\"don't\", 297.314188, 297.454124, ['d', 'ow', 'n', 't'], ['d', 'ow', 'n'], 'VBP_RB'),\n",
       " Word(\"don't\", 288.755, 288.99808, ['d', 'ow', 'n', 't'], ['dx', 'own', 'tq'], 'VBP_RB'),\n",
       " Word(\"don't\", 13.73625, 13.888798, ['d', 'ow', 'n', 't'], ['ow', 'n'], 'VBP_RB'),\n",
       " Word(\"don't\", 362.012451, 362.318777, ['d', 'ow', 'n', 't'], ['d', 'ow', 'n'], 'VBP_RB'),\n",
       " Word(\"don't\", 31.043155, 31.148438, ['d', 'ow', 'n', 't'], ['dx', 'ow', 'nx'], 'VBP_RB'),\n",
       " Word(\"don't\", 9.953, 10.071, ['d', 'ow', 'n', 't'], ['dx', 'own', 'tq'], 'VBP_RB'),\n",
       " Word(\"don't\", 41.362875, 41.665482, ['d', 'ow', 'n', 't'], ['d', 'aa', 'n', 'tq'], 'VBP_RB'),\n",
       " Word(\"don't\", 432.432357, 432.589812, ['d', 'ow', 'n', 't'], ['dx', 'ow', 'n'], 'VBP_RB'),\n",
       " Word(\"don't\", 279.487505, 279.658971, ['d', 'ow', 'n', 't'], ['ah', 'dx', 'ow', 'nx'], 'VBP_RB'),\n",
       " Word(\"don't\", 15.892, 16.041, ['d', 'ow', 'n', 't'], ['dx', 'ow', 'n'], 'VBP_RB'),\n",
       " Word(\"don't\", 50.980875, 51.150875, ['d', 'ow', 'n', 't'], ['d', 'ow', 'n'], 'VBP_RB'),\n",
       " Word(\"don't\", 20.234, 20.435, ['d', 'ow', 'n', 't'], ['d', 'own', 'tq'], 'VBP_RB'),\n",
       " Word(\"don't\", 21.108, 21.341, ['d', 'ow', 'n', 't'], ['d', 'own', 'tq'], 'VBP_RB'),\n",
       " Word(\"don't\", 305.534947, 305.70272, ['d', 'ow', 'n', 't'], ['dx', 'own', 'tq'], 'VBP_RB'),\n",
       " Word(\"don't\", 295.294691, 295.434269, ['d', 'ow', 'n', 't'], ['dx', 'ow', 'n', 'tq'], 'VBP_RB'),\n",
       " Word(\"don't\", 473.393194, 473.560925, ['d', 'ow', 'n', 't'], ['d', 'ow', 'n'], 'VBP_RB'),\n",
       " Word(\"don't\", 30.92, 31.002, ['d', 'ow', 'n', 't'], ['n', 'ah'], 'VBP_RB'),\n",
       " Word(\"don't\", 4.366, 4.547, ['d', 'ow', 'n', 't'], ['dx', 'ow', 'n'], 'VBP_RB'),\n",
       " Word(\"don't\", 330.531451, 330.719948, ['d', 'ow', 'n', 't'], ['d', 'ow', 'n'], 'VBP_RB'),\n",
       " Word(\"don't\", 452.121, 452.215, ['d', 'ow', 'n', 't'], ['dx', 'ow'], 'VBP_RB'),\n",
       " Word(\"don't\", 287.579862, 287.679695, ['d', 'ow', 'n', 't'], ['dx', 'own'], 'VBP_RB'),\n",
       " Word(\"don't\", 454.605, 454.731, ['d', 'ow', 'n', 't'], ['dx', 'ow', 'ng'], 'VBP_RB'),\n",
       " Word(\"don't\", 500.759, 500.91, ['d', 'ow', 'n', 't'], ['dx', 'ah', 'n'], 'VBP_RB'),\n",
       " Word(\"don't\", 20.725688, 21.070614, ['d', 'ow', 'n', 't'], ['d', 'ow', 'n', 't'], 'VBP_RB'),\n",
       " Word(\"don't\", 326.211868, 326.411375, ['d', 'ow', 'n', 't'], ['dx', 'ow', 'n'], 'VBP_RB'),\n",
       " Word(\"don't\", 140.089063, 140.209063, ['d', 'ow', 'n', 't'], ['dx', 'ow', 'n'], 'VBP_RB'),\n",
       " Word(\"don't\", 374.609227, 374.892375, ['d', 'ow', 'n', 't'], ['d', 'ow', 'n'], 'VBP_RB'),\n",
       " Word(\"don't\", 385.101486, 385.258904, ['d', 'ow', 'n', 't'], ['d', 'ow', 'n'], 'VBP_RB'),\n",
       " Word(\"don't\", 369.32532, 369.489872, ['d', 'ow', 'n', 't'], ['dx', 'ow', 'n'], 'VBP_RB'),\n",
       " Word(\"don't\", 19.841843, 19.992662, ['d', 'ow', 'n', 't'], ['dx', 'ow', 'nx'], 'VBP_RB'),\n",
       " Word(\"don't\", 517.069827, 517.165384, ['d', 'ow', 'n', 't'], ['d', 'own'], 'VBP_RB'),\n",
       " Word(\"don't\", 117.931875, 118.211875, ['d', 'ow', 'n', 't'], ['d', 'ow', 'n'], 'VBP_RB'),\n",
       " Word(\"don't\", 126.411208, 126.551588, ['d', 'ow', 'n', 't'], ['d', 'ow', 'n'], 'VBP_RB'),\n",
       " Word(\"don't\", 397.262711, 397.410095, ['d', 'ow', 'n', 't'], ['dx', 'ow', 'n'], 'VBP_RB'),\n",
       " Word(\"don't\", 219.644063, 219.77774, ['d', 'ow', 'n', 't'], ['dx', 'ow', 'n'], 'VBP_RB'),\n",
       " Word(\"don't\", 423.184785, 423.359042, ['d', 'ow', 'n', 't'], ['d', 'ow', 'n'], 'VBP_RB'),\n",
       " Word(\"don't\", 192.513445, 192.651407, ['d', 'ow', 'n', 't'], ['dx', 'ow', 'n'], 'VBP_RB'),\n",
       " Word(\"don't\", 569.215476, 569.395665, ['d', 'ow', 'n', 't'], ['d', 'ow', 'n'], 'VBP_RB'),\n",
       " Word(\"don't\", 209.057302, 209.205044, ['d', 'ow', 'n', 't'], ['dx', 'own'], 'VBP_RB'),\n",
       " Word(\"don't\", 473.123, 473.284, ['d', 'ow', 'n', 't'], ['d', 'ow'], 'VBP_RB'),\n",
       " Word(\"don't\", 315.556481, 315.675125, ['d', 'ow', 'n', 't'], ['dx', 'ow', 'n'], 'VBP_RB'),\n",
       " Word(\"don't\", 306.304, 306.409, ['d', 'ow', 'n', 't'], ['d', 'ah', 'n'], 'VBP_RB'),\n",
       " Word(\"don't\", 53.286, 53.458, ['d', 'ow', 'n', 't'], ['d', 'ow', 'n'], 'VBP_RB'),\n",
       " Word(\"don't\", 224.512077, 224.638935, ['d', 'ow', 'n', 't'], ['dx', 'ow', 'n'], 'VBP_RB'),\n",
       " Word(\"don't\", 226.299741, 226.46529, ['d', 'ow', 'n', 't'], ['dx', 'own'], 'VBP_RB'),\n",
       " Word(\"don't\", 227.142365, 227.258748, ['d', 'ow', 'n', 't'], ['dx', 'ow', 'nx'], 'VBP_RB'),\n",
       " Word(\"don't\", 286.477, 286.59, ['d', 'ow', 'n', 't'], ['dx', 'own'], 'VBP_RB'),\n",
       " Word(\"don't\", 54.844, 54.986, ['d', 'ow', 'n', 't'], ['ow', 'n', 't'], 'VBP_RB'),\n",
       " Word(\"don't\", 89.740868, 89.872939, ['d', 'ow', 'n', 't'], ['dx', 'ow', 'n'], 'VBP_RB'),\n",
       " Word(\"don't\", 322.588187, 322.728187, ['d', 'ow', 'n', 't'], ['dx', 'ow', 'n'], 'VBP_RB'),\n",
       " Word(\"don't\", 404.614684, 404.863738, ['d', 'ow', 'n', 't'], ['d', 'ow', 'n', 'tq'], 'VBP_RB'),\n",
       " Word(\"don't\", 404.945115, 405.107046, ['d', 'ow', 'n', 't'], ['dx', 'ow', 'n'], 'VBP_RB'),\n",
       " Word(\"don't\", 482.755, 482.846, ['d', 'ow', 'n', 't'], ['dx', 'ow'], 'VBP_RB'),\n",
       " Word(\"don't\", 328.058713, 328.159015, ['d', 'ow', 'n', 't'], ['d', 'ow'], 'VBP_RB'),\n",
       " Word(\"don't\", 166.998632, 167.252362, ['d', 'ow', 'n', 't'], ['d', 'own', 'tq'], 'VBP_RB'),\n",
       " Word(\"don't\", 236.739764, 236.870276, ['d', 'ow', 'n', 't'], ['dx', 'ow', 'n'], 'VBP_RB'),\n",
       " Word(\"don't\", 108.178695, 108.330525, ['d', 'ow', 'n', 't'], ['dx', 'ow', 'n'], 'VBP_RB'),\n",
       " Word(\"don't\", 332.833312, 332.96264, ['d', 'ow', 'n', 't'], ['dx', 'ow'], 'VBP_RB'),\n",
       " Word(\"don't\", 526.941937, 527.031937, ['d', 'ow', 'n', 't'], ['ah', 'n'], 'VBP_RB'),\n",
       " Word(\"don't\", 500.078, 500.272, ['d', 'ow', 'n', 't'], ['dx', 'ow', 'n'], 'VBP_RB'),\n",
       " Word(\"don't\", 500.568, 500.731, ['d', 'ow', 'n', 't'], ['dx', 'ow', 'tq'], 'VBP_RB'),\n",
       " Word(\"don't\", 360.564923, 360.646739, ['d', 'ow', 'n', 't'], ['ow'], 'VBP_RB'),\n",
       " Word(\"don't\", 319.430433, 319.579, ['d', 'ow', 'n', 't'], ['dx', 'ah', 'n'], 'VBP_RB'),\n",
       " Word(\"don't\", 501.114, 501.233, ['d', 'ow', 'n', 't'], ['own'], 'VBP_RB'),\n",
       " Word(\"don't\", 195.330867, 195.474613, ['d', 'ow', 'n', 't'], ['d', 'ah', 'tq'], 'VBP_RB'),\n",
       " Word(\"don't\", 366.710758, 366.888812, ['d', 'ow', 'n', 't'], ['d', 'ow', 'tq'], 'VBP_RB'),\n",
       " Word(\"don't\", 130.397914, 130.495667, ['d', 'ow', 'n', 't'], ['ow', 'n'], 'VBP_RB'),\n",
       " Word(\"don't\", 270.055, 270.262, ['d', 'ow', 'n', 't'], ['d', 'ow', 'n'], 'VBP_RB'),\n",
       " Word(\"don't\", 68.849, 69.032, ['d', 'ow', 'n', 't'], ['ow', 'n'], 'VBP_RB'),\n",
       " Word(\"don't\", 312.164286, 312.225034, ['d', 'ow', 'n', 't'], ['ow'], 'VBP_RB'),\n",
       " Word(\"don't\", 244.791453, 244.950115, ['d', 'ow', 'n', 't'], ['dx', 'ow', 'n'], 'VBP_RB'),\n",
       " Word(\"don't\", 92.011, 92.151, ['d', 'ow', 'n', 't'], ['dx', 'own'], 'VBP_RB'),\n",
       " Word(\"don't\", 539.588, 539.759, ['d', 'ow', 'n', 't'], ['dx', 'ow', 'n'], 'VBP_RB'),\n",
       " Word(\"don't\", 417.406994, 417.688313, ['d', 'ow', 'n', 't'], ['d', 'ow', 'n'], 'VBP_RB'),\n",
       " Word(\"don't\", 134.178069, 134.3143, ['d', 'ow', 'n', 't'], ['n', 'ow', 'n'], 'VBP_RB'),\n",
       " Word(\"don't\", 541.347, 541.538931, ['d', 'ow', 'n', 't'], ['dx', 'own', 'tq'], 'VBP_RB'),\n",
       " Word(\"don't\", 64.353062, 64.679775, ['d', 'ow', 'n', 't'], ['d', 'ow', 'n'], 'VBP_RB'),\n",
       " Word(\"don't\", 44.877697, 44.946323, ['d', 'ow', 'n', 't'], ['ow'], 'VBP_RB'),\n",
       " Word(\"don't\", 384.540724, 384.638189, ['d', 'ow', 'n', 't'], ['dx', 'ah', 'n'], 'VBP_RB'),\n",
       " Word(\"don't\", 71.80475, 71.90475, ['d', 'ow', 'n', 't'], ['ow', 'n'], 'VBP_RB'),\n",
       " Word(\"don't\", 547.591, 547.789497, ['d', 'ow', 'n', 't'], ['dx', 'ow', 'ng'], 'VBP_RB'),\n",
       " Word(\"don't\", 548.126, 548.274, ['d', 'ow', 'n', 't'], ['dx', 'ow', 'ng'], 'VBP_RB'),\n",
       " Word(\"don't\", 392.608, 392.764, ['d', 'ow', 'n', 't'], ['eh', 'ah', 'm'], 'VBP_RB'),\n",
       " Word(\"don't\", 558.003, 558.098094, ['d', 'ow', 'n', 't'], ['ow', 'tq'], 'VBP_RB'),\n",
       " Word(\"don't\", 422.688961, 422.832885, ['d', 'ow', 'n', 't'], ['dx', 'ow', 'n'], 'VBP_RB'),\n",
       " Word(\"don't\", 60.010036, 60.156398, ['d', 'ow', 'n', 't'], ['d', 'ow', 'tq'], 'VBP_RB'),\n",
       " Word(\"don't\", 424.8155, 424.9055, ['d', 'ow', 'n', 't'], ['en'], 'VBP_RB'),\n",
       " Word(\"don't\", 167.061395, 167.197882, ['d', 'ow', 'n', 't'], ['dx', 'ow', 'n'], 'VBP_RB'),\n",
       " Word(\"don't\", 545.304658, 545.400103, ['d', 'ow', 'n', 't'], ['dx', 'ow', 'n'], 'VBP_RB'),\n",
       " Word(\"don't\", 570.774, 570.955, ['d', 'ow', 'n', 't'], ['dx', 'ow', 'n'], 'VBP_RB'),\n",
       " Word(\"don't\", 571.487, 571.666824, ['d', 'ow', 'n', 't'], ['dx', 'ow', 'tq'], 'VBP_RB'),\n",
       " Word(\"don't\", 168.653746, 168.757195, ['d', 'ow', 'n', 't'], ['dx', 'ow', 'ng'], 'VBP_RB'),\n",
       " Word(\"don't\", 275.259152, 275.614373, ['d', 'ow', 'n', 't'], ['d', 'own', 'tq'], 'VBP_RB'),\n",
       " Word(\"don't\", 531.347624, 531.507625, ['d', 'ow', 'n', 't'], ['d', 'ow', 'n'], 'VBP_RB'),\n",
       " Word(\"don't\", 123.018859, 123.223147, ['d', 'ow', 'n', 't'], ['d', 'ow', 'n'], 'VBP_RB'),\n",
       " Word(\"don't\", 575.595, 575.833303, ['d', 'ow', 'n', 't'], ['dx', 'ow', 'n', 'tq'], 'VBP_RB'),\n",
       " Word(\"don't\", 414.505, 414.588, ['d', 'ow', 'n', 't'], ['ow'], 'VBP_RB'),\n",
       " Word(\"don't\", 580.253, 580.402, ['d', 'ow', 'n', 't'], ['dx', 'ow', 'n'], 'VBP_RB'),\n",
       " Word(\"don't\", 223.373458, 223.499392, ['d', 'ow', 'n', 't'], ['ow', 'n'], 'VBP_RB'),\n",
       " Word(\"don't\", 24.681875, 24.911875, ['d', 'ow', 'n', 't'], ['dx', 'ow', 'n'], 'VBP_RB'),\n",
       " Word(\"don't\", 7.771, 8.101, ['d', 'ow', 'n', 't'], ['d', 'own', 'tq', 'n'], 'VBP_RB'),\n",
       " Word(\"don't\", 329.746, 329.948374, ['d', 'ow', 'n', 't'], ['d', 'ow', 'tq'], 'VBP_RB'),\n",
       " Word(\"don't\", 440.024, 440.157, ['d', 'ow', 'n', 't'], ['d', 'ow', 'n'], 'VBP_RB'),\n",
       " ...]"
      ]
     },
     "execution_count": 137,
     "metadata": {},
     "output_type": "execute_result"
    }
   ],
   "source": [
    "findWordTokensOf(\"don't\")"
   ]
  },
  {
   "cell_type": "markdown",
   "metadata": {},
   "source": [
    "...this should be `t` and the orthographic word should be `don't`."
   ]
  },
  {
   "cell_type": "markdown",
   "metadata": {},
   "source": [
    "### Fixes"
   ]
  },
  {
   "cell_type": "markdown",
   "metadata": {},
   "source": [
    "I'm going to write word-specific patches in my own functions for retrieving\n",
    " - orthographic wordform\n",
    " - phoneme sequences"
   ]
  },
  {
   "cell_type": "code",
   "execution_count": 138,
   "metadata": {
    "ExecuteTime": {
     "end_time": "2019-05-07T17:46:10.851914Z",
     "start_time": "2019-05-07T17:46:10.850165Z"
    }
   },
   "outputs": [],
   "source": [
    "# replacer = compose(replaceʔ, replaceɔ, replaceɾ̃)\n",
    "# t2ds(map(replacer, ds2t('ɾ.oʊ.n.ʔ')))\n",
    "# t2ds(map(replacer, ds2t('h.ɑ.ɾ̃.ʌ.k.ʌ')))\n",
    "# t2ds(map(replacer, ds2t('k.ɔ.ɹ.ʌ.s')))"
   ]
  },
  {
   "cell_type": "code",
   "execution_count": 139,
   "metadata": {
    "ExecuteTime": {
     "end_time": "2019-05-07T17:46:14.896233Z",
     "start_time": "2019-05-07T17:46:14.879815Z"
    }
   },
   "outputs": [],
   "source": [
    "# from funcy import compose\n",
    "\n",
    "def get_orthography(word):\n",
    "    if word.orthography == 'dont':\n",
    "        return \"don't\"\n",
    "    return word.orthography\n",
    "\n",
    "def filter_x(segSeq):\n",
    "    return tuple([seg for seg in segSeq if seg != 'x'])\n",
    "\n",
    "def intercept(item_to_replace, replacement):\n",
    "    def transform(el):\n",
    "        if el == item_to_replace:\n",
    "            return replacement\n",
    "        return el\n",
    "    return transform\n",
    "\n",
    "def phonemic_flap_fixer(word, phonemes_IPA):\n",
    "    flap_to_d = {\"skateboarding\",\n",
    "                 \"yadda\",\n",
    "                 \"shoulda\",\n",
    "                 \"dont\",\n",
    "                 \"doody\"}\n",
    "    flap_to_t = {\"littlest\",\n",
    "                 \"lotta\",\n",
    "                 \"introvertal\",\n",
    "                 \"shut-outs\",\n",
    "                 \"disparity\",\n",
    "                 \"exporting\",\n",
    "                 \"out-r-inn\",\n",
    "                 \"tattletale\",\n",
    "                 \"ritalin\"}\n",
    "    replaceWithd = intercept('ɾ', 'd')\n",
    "    replaceWitht = intercept('ɾ', 't')\n",
    "    if word.orthography in flap_to_d:\n",
    "        return tuple(map(replaceWithd, phonemes_IPA))\n",
    "    elif word.orthography in flap_to_t:\n",
    "        return tuple(map(replaceWitht, phonemes_IPA))\n",
    "    else:\n",
    "        return phonemes_IPA\n",
    "\n",
    "def fix_phonemes(word, phonemes_IPA):\n",
    "#     if word.orthography == 'dont' and word.phonemic[-1] == 'tq':\n",
    "#             return phonemes_IPA[:-1] + ('t',)\n",
    "    replaceʔ = intercept('ʔ', 't')\n",
    "    replaceɔ = intercept('ɔ', 'ɑ')\n",
    "    replaceɾ̃ = intercept('ɾ̃', 'n')\n",
    "    replacer = compose(replaceʔ, replaceɔ, replaceɾ̃)\n",
    "    new_phonemes = tuple(map(replacer, phonemes_IPA))\n",
    "    new_phonemes = phonemic_flap_fixer(word, new_phonemes)\n",
    "    return new_phonemes\n",
    "\n",
    "def get_phonemes(word, inIPA=True, asDottedString=True):\n",
    "    phonemes = tuple(word.phonemic)\n",
    "    if inIPA:\n",
    "        phonemes = filter_x(phonemes)\n",
    "        phonemes = tuple(map(buckeyeToUnicodeIPA,\n",
    "                             phonemes))\n",
    "        phonemes = fix_phonemes(word, phonemes)\n",
    "    if asDottedString:\n",
    "        return t2ds(phonemes)\n",
    "    return phonemes\n",
    "\n",
    "non_speech_inventory = {'{B_TRANS}',\n",
    "                        '{E_TRANS}',\n",
    "                        '',\n",
    "                        'IVER',\n",
    "                        'LAUGH',\n",
    "                        'NOISE',\n",
    "                        'SIL',\n",
    "                        'UNKNOWN',\n",
    "                        'VOCNOISE'}\n",
    "\n",
    "def id_nonspeech(phone):\n",
    "    if phone in non_speech_inventory:\n",
    "        return phone\n",
    "    return buckeyeToUnicodeIPA(phone)\n",
    "\n",
    "def get_phones(word, inIPA=True, asDottedString=True):\n",
    "    if not isWord(word):\n",
    "        return word.phonetic\n",
    "    phones = tuple(word.phonetic)\n",
    "    if inIPA:\n",
    "        phones = filter_x(phones)\n",
    "#         phones = tuple(map(buckeyeToUnicodeIPA,\n",
    "#                            phones))\n",
    "        phones = tuple(map(id_nonspeech,\n",
    "                           phones))\n",
    "    if asDottedString:\n",
    "        return t2ds(phones)\n",
    "    return phones"
   ]
  },
  {
   "cell_type": "code",
   "execution_count": 140,
   "metadata": {
    "ExecuteTime": {
     "end_time": "2019-05-07T17:46:19.930835Z",
     "start_time": "2019-05-07T17:46:19.397775Z"
    }
   },
   "outputs": [
    {
     "data": {
      "text/plain": [
       "Word('dont', 48.17348, 48.470962, ['dx', 'ow', 'n', 'tq'], ['dx', 'ow', 'n', 'tq'], 'VBP_RB')"
      ]
     },
     "execution_count": 140,
     "metadata": {},
     "output_type": "execute_result"
    },
    {
     "data": {
      "text/plain": [
       "'d.oʊ.n.t'"
      ]
     },
     "execution_count": 140,
     "metadata": {},
     "output_type": "execute_result"
    },
    {
     "data": {
      "text/plain": [
       "'k.ɑ.ɹ.ʌ.s'"
      ]
     },
     "execution_count": 140,
     "metadata": {},
     "output_type": "execute_result"
    },
    {
     "data": {
      "text/plain": [
       "'h.ɑ.n.ʌ.k.ʌ'"
      ]
     },
     "execution_count": 140,
     "metadata": {},
     "output_type": "execute_result"
    }
   ],
   "source": [
    "findWordsWithPhoneme('tq')[0]\n",
    "get_phonemes(findWordsWithPhoneme('tq')[0])\n",
    "list(map(get_phonemes, findWordTokensOf('chorus')))[0]\n",
    "list(map(get_phonemes, findWordTokensOf('chanukah')))[0]"
   ]
  },
  {
   "cell_type": "markdown",
   "metadata": {},
   "source": [
    "# Phoneme inventory vs. phone inventory"
   ]
  },
  {
   "cell_type": "code",
   "execution_count": 141,
   "metadata": {
    "ExecuteTime": {
     "end_time": "2019-05-07T17:46:32.698993Z",
     "start_time": "2019-05-07T17:46:28.594310Z"
    }
   },
   "outputs": [
    {
     "data": {
      "text/plain": [
       "41"
      ]
     },
     "execution_count": 141,
     "metadata": {},
     "output_type": "execute_result"
    },
    {
     "data": {
      "text/plain": [
       "{'aɪ',\n",
       " 'aʊ',\n",
       " 'b',\n",
       " 'd',\n",
       " 'dʒ',\n",
       " 'eɪ',\n",
       " 'f',\n",
       " 'g',\n",
       " 'h',\n",
       " 'i',\n",
       " 'j',\n",
       " 'k',\n",
       " 'l',\n",
       " 'l̩',\n",
       " 'm',\n",
       " 'm̩',\n",
       " 'n',\n",
       " 'n̩',\n",
       " 'oʊ',\n",
       " 'p',\n",
       " 's',\n",
       " 't',\n",
       " 'tʃ',\n",
       " 'u',\n",
       " 'v',\n",
       " 'w',\n",
       " 'z',\n",
       " 'æ',\n",
       " 'ð',\n",
       " 'ŋ',\n",
       " 'ɑ',\n",
       " 'ɔɪ',\n",
       " 'ɚ',\n",
       " 'ɛ',\n",
       " 'ɪ',\n",
       " 'ɹ',\n",
       " 'ʃ',\n",
       " 'ʊ',\n",
       " 'ʌ',\n",
       " 'ʒ',\n",
       " 'θ'}"
      ]
     },
     "execution_count": 141,
     "metadata": {},
     "output_type": "execute_result"
    }
   ],
   "source": [
    "#4.4s wittgenstein\n",
    "phoneme_inventory = union(map(lambda w: set(ds2t(get_phonemes(w))), words))\n",
    "len(phoneme_inventory)\n",
    "phoneme_inventory"
   ]
  },
  {
   "cell_type": "code",
   "execution_count": 142,
   "metadata": {
    "ExecuteTime": {
     "end_time": "2019-05-07T17:46:35.562248Z",
     "start_time": "2019-05-07T17:46:32.700738Z"
    }
   },
   "outputs": [
    {
     "data": {
      "text/plain": [
       "66"
      ]
     },
     "execution_count": 142,
     "metadata": {},
     "output_type": "execute_result"
    },
    {
     "data": {
      "text/plain": [
       "{'',\n",
       " 'IVER',\n",
       " 'LAUGH',\n",
       " 'NOISE',\n",
       " 'SIL',\n",
       " 'UNKNOWN',\n",
       " 'VOCNOISE',\n",
       " 'aɪ',\n",
       " 'aʊ',\n",
       " 'b',\n",
       " 'd',\n",
       " 'dʒ',\n",
       " 'eɪ',\n",
       " 'ẽɪ̃',\n",
       " 'f',\n",
       " 'g',\n",
       " 'h',\n",
       " 'h̃',\n",
       " 'i',\n",
       " 'ĩ',\n",
       " 'j',\n",
       " 'k',\n",
       " 'l',\n",
       " 'l̩',\n",
       " 'm',\n",
       " 'm̩',\n",
       " 'n',\n",
       " 'n̩',\n",
       " 'oʊ',\n",
       " 'p',\n",
       " 's',\n",
       " 't',\n",
       " 'tʃ',\n",
       " 'u',\n",
       " 'ũ',\n",
       " 'v',\n",
       " 'w',\n",
       " 'z',\n",
       " '{B_TRANS}',\n",
       " '{E_TRANS}',\n",
       " 'æ',\n",
       " 'æ̃',\n",
       " 'ð',\n",
       " 'ŋ',\n",
       " 'ŋ̩',\n",
       " 'ɑ',\n",
       " 'ɑ̃',\n",
       " 'ɔ',\n",
       " 'ɔɪ',\n",
       " 'ɔ̃',\n",
       " 'ɚ',\n",
       " 'ɛ',\n",
       " 'ɛ̃',\n",
       " 'ɪ',\n",
       " 'ɪ̃',\n",
       " 'ɹ',\n",
       " 'ɾ',\n",
       " 'ɾ̃',\n",
       " 'ʃ',\n",
       " 'ʊ',\n",
       " 'ʊ̃',\n",
       " 'ʌ',\n",
       " 'ʌ̃',\n",
       " 'ʒ',\n",
       " 'ʔ',\n",
       " 'θ'}"
      ]
     },
     "execution_count": 142,
     "metadata": {},
     "output_type": "execute_result"
    }
   ],
   "source": [
    "#2.73s wittgenstein\n",
    "phone_inventory = union(map(lambda w: set(ds2t(get_phones(w))), words))\n",
    "len(phone_inventory)\n",
    "phone_inventory"
   ]
  },
  {
   "cell_type": "code",
   "execution_count": 143,
   "metadata": {
    "ExecuteTime": {
     "end_time": "2019-05-07T17:46:36.689192Z",
     "start_time": "2019-05-07T17:46:36.685633Z"
    }
   },
   "outputs": [
    {
     "data": {
      "text/plain": [
       "{'',\n",
       " 'IVER',\n",
       " 'LAUGH',\n",
       " 'NOISE',\n",
       " 'SIL',\n",
       " 'UNKNOWN',\n",
       " 'VOCNOISE',\n",
       " '{B_TRANS}',\n",
       " '{E_TRANS}'}"
      ]
     },
     "execution_count": 143,
     "metadata": {},
     "output_type": "execute_result"
    }
   ],
   "source": [
    "non_speech_inventory"
   ]
  },
  {
   "cell_type": "code",
   "execution_count": 144,
   "metadata": {
    "ExecuteTime": {
     "end_time": "2019-05-07T17:46:40.264298Z",
     "start_time": "2019-05-07T17:46:40.258612Z"
    }
   },
   "outputs": [
    {
     "data": {
      "text/plain": [
       "57"
      ]
     },
     "execution_count": 144,
     "metadata": {},
     "output_type": "execute_result"
    },
    {
     "data": {
      "text/plain": [
       "{'aɪ',\n",
       " 'aʊ',\n",
       " 'b',\n",
       " 'd',\n",
       " 'dʒ',\n",
       " 'eɪ',\n",
       " 'ẽɪ̃',\n",
       " 'f',\n",
       " 'g',\n",
       " 'h',\n",
       " 'h̃',\n",
       " 'i',\n",
       " 'ĩ',\n",
       " 'j',\n",
       " 'k',\n",
       " 'l',\n",
       " 'l̩',\n",
       " 'm',\n",
       " 'm̩',\n",
       " 'n',\n",
       " 'n̩',\n",
       " 'oʊ',\n",
       " 'p',\n",
       " 's',\n",
       " 't',\n",
       " 'tʃ',\n",
       " 'u',\n",
       " 'ũ',\n",
       " 'v',\n",
       " 'w',\n",
       " 'z',\n",
       " 'æ',\n",
       " 'æ̃',\n",
       " 'ð',\n",
       " 'ŋ',\n",
       " 'ŋ̩',\n",
       " 'ɑ',\n",
       " 'ɑ̃',\n",
       " 'ɔ',\n",
       " 'ɔɪ',\n",
       " 'ɔ̃',\n",
       " 'ɚ',\n",
       " 'ɛ',\n",
       " 'ɛ̃',\n",
       " 'ɪ',\n",
       " 'ɪ̃',\n",
       " 'ɹ',\n",
       " 'ɾ',\n",
       " 'ɾ̃',\n",
       " 'ʃ',\n",
       " 'ʊ',\n",
       " 'ʊ̃',\n",
       " 'ʌ',\n",
       " 'ʌ̃',\n",
       " 'ʒ',\n",
       " 'ʔ',\n",
       " 'θ'}"
      ]
     },
     "execution_count": 144,
     "metadata": {},
     "output_type": "execute_result"
    }
   ],
   "source": [
    "len(phone_inventory - non_speech_inventory)\n",
    "phone_inventory - non_speech_inventory"
   ]
  },
  {
   "cell_type": "markdown",
   "metadata": {},
   "source": [
    "# Sanity check: calculate orthography ⟷ phonemic transcription relation"
   ]
  },
  {
   "cell_type": "code",
   "execution_count": 145,
   "metadata": {
    "ExecuteTime": {
     "end_time": "2019-05-07T17:46:49.825047Z",
     "start_time": "2019-05-07T17:46:49.704103Z"
    }
   },
   "outputs": [
    {
     "data": {
      "text/plain": [
       "7998"
      ]
     },
     "execution_count": 145,
     "metadata": {},
     "output_type": "execute_result"
    }
   ],
   "source": [
    "orthographic_words = set(map(get_orthography, words))\n",
    "len(orthographic_words)"
   ]
  },
  {
   "cell_type": "code",
   "execution_count": 146,
   "metadata": {
    "ExecuteTime": {
     "end_time": "2019-05-07T17:46:57.522952Z",
     "start_time": "2019-05-07T17:46:53.531011Z"
    }
   },
   "outputs": [
    {
     "data": {
      "text/plain": [
       "216062"
      ]
     },
     "execution_count": 146,
     "metadata": {},
     "output_type": "execute_result"
    },
    {
     "data": {
      "text/plain": [
       "8001"
      ]
     },
     "execution_count": 146,
     "metadata": {},
     "output_type": "execute_result"
    }
   ],
   "source": [
    "foo = lambda w: (get_orthography(w), get_phonemes(w))\n",
    "orthography_phonemic_relation_list = list(map(foo, words))\n",
    "len(orthography_phonemic_relation_list)\n",
    "\n",
    "orthography_phonemic_relation = set(orthography_phonemic_relation_list)\n",
    "len(orthography_phonemic_relation)"
   ]
  },
  {
   "cell_type": "markdown",
   "metadata": {},
   "source": [
    "The fact that the number of unique orthographic words is slightly smaller than the number of (orthography, phonemic transcription) pairs means there is at least one orthographic word with multiple phonemic transcriptions."
   ]
  },
  {
   "cell_type": "markdown",
   "metadata": {},
   "source": [
    "## Fix phonemic transcriptions"
   ]
  },
  {
   "cell_type": "code",
   "execution_count": 147,
   "metadata": {
    "ExecuteTime": {
     "end_time": "2019-05-07T17:47:12.256433Z",
     "start_time": "2019-05-07T17:47:07.785911Z"
    }
   },
   "outputs": [
    {
     "data": {
      "text/plain": [
       "3"
      ]
     },
     "execution_count": 147,
     "metadata": {},
     "output_type": "execute_result"
    },
    {
     "data": {
      "text/plain": [
       "{'Ellimen', 'o', 'uh'}"
      ]
     },
     "execution_count": 147,
     "metadata": {},
     "output_type": "execute_result"
    }
   ],
   "source": [
    "phonemic_transcriptions = lambda o: {r[1] for r in orthography_phonemic_relation if r[0] == o}\n",
    "has_multiple_phonemic_transcriptions = lambda o: len(phonemic_transcriptions(o)) > 1\n",
    "\n",
    "bar = set(filter(has_multiple_phonemic_transcriptions, orthographic_words))\n",
    "len(bar)\n",
    "bar"
   ]
  },
  {
   "cell_type": "code",
   "execution_count": 148,
   "metadata": {
    "ExecuteTime": {
     "end_time": "2019-05-07T17:47:12.420101Z",
     "start_time": "2019-05-07T17:47:12.257984Z"
    }
   },
   "outputs": [
    {
     "data": {
      "text/plain": [
       "[Word('Ellimen', 266.068276, 266.358689, ['eh', 'l', 'ah', 'm', 'ah', 'nx'], ['eh', 'l', 'ah', 'm', 'ah', 'nx'], 'NNS'),\n",
       " Word('Ellimen', 262.952305, 263.32626, ['eh', 'l', 'ah', 'm', 'eh', 'n'], ['eh', 'l', 'ah', 'm', 'eh', 'n'], 'NNS')]"
      ]
     },
     "execution_count": 148,
     "metadata": {},
     "output_type": "execute_result"
    },
    {
     "data": {
      "text/plain": [
       "['ɛ.l.ʌ.m.ʌ.n', 'ɛ.l.ʌ.m.ɛ.n']"
      ]
     },
     "execution_count": 148,
     "metadata": {},
     "output_type": "execute_result"
    }
   ],
   "source": [
    "findWordTokensOf('Ellimen')\n",
    "list(map(get_phonemes, findWordTokensOf('Ellimen')))"
   ]
  },
  {
   "cell_type": "markdown",
   "metadata": {},
   "source": [
    "This looks like a proper name; I'm going to arbitrarily say that the `ɛ` version should be preferred."
   ]
  },
  {
   "cell_type": "code",
   "execution_count": 149,
   "metadata": {
    "ExecuteTime": {
     "end_time": "2019-05-07T17:47:20.415746Z",
     "start_time": "2019-05-07T17:47:20.165987Z"
    }
   },
   "outputs": [
    {
     "data": {
      "text/plain": [
       "[Word('o', 12.130898, 12.289156, ['ow'], ['ow'], 'NN'),\n",
       " Word('o', 13.12402, 13.252461, ['ow'], ['oy'], 'NN'),\n",
       " Word('o', 132.88772, 133.013375, ['ow'], ['ow'], 'NN'),\n",
       " Word('o', 451.94, 452.086, ['ow'], ['ow'], 'NN'),\n",
       " Word('o', 459.737, 459.903, ['ow'], ['ow'], 'NN'),\n",
       " Word('o', 465.845, 465.97, ['ow'], ['ow'], 'NN'),\n",
       " Word('o', 456.270811, 456.458274, ['ow'], ['ow'], 'NN'),\n",
       " Word('o', 457.545154, 457.643589, ['ow'], ['ah'], 'NN'),\n",
       " Word('o', 305.45123, 305.618175, ['ow'], ['ow'], 'NN'),\n",
       " Word('o', 484.440795, 484.613312, ['ow'], ['ow'], 'NN'),\n",
       " Word('o', 438.497313, 438.55041, ['ow'], ['ah'], 'NN'),\n",
       " Word('o', 35.645007, 35.815042, ['ow'], ['ow'], 'NN'),\n",
       " Word('o', 248.193511, 248.258017, ['ow'], ['ah'], 'NN'),\n",
       " Word('o', 253.135562, 253.206771, ['ow'], ['ah'], 'NN'),\n",
       " Word('o', 255.65266, 255.703758, ['ow'], ['ah'], 'NN'),\n",
       " Word('o', 258.633955, 258.68986, ['ow'], ['ah'], 'NN'),\n",
       " Word('o', 394.631, 394.726, ['ow'], ['ao'], 'JJ'),\n",
       " Word('o', 83.905848, 84.055731, ['ow'], ['ow'], 'NN'),\n",
       " Word('o', 191.5079, 191.55762, ['ow'], ['ah'], 'NN'),\n",
       " Word('o', 478.9753, 479.072425, ['ow'], ['ow'], 'NN'),\n",
       " Word('o', 26.591678, 26.767455, ['ow'], ['ow'], 'JJ'),\n",
       " Word('o', 152.889, 153.006, ['ow', 'ow'], ['ah', 'ah'], 'NN'),\n",
       " Word('o', 314.426, 314.538, ['ow'], ['ow'], 'NN'),\n",
       " Word('o', 175.684, 175.828, ['ow'], ['ow'], 'NN'),\n",
       " Word('o', 188.526, 188.62, ['ow'], ['ow'], 'NN'),\n",
       " Word('o', 562.319264, 562.353259, ['ow'], ['ah'], 'NN'),\n",
       " Word('o', 427.445845, 427.561179, ['ow'], ['ow'], 'VB'),\n",
       " Word('o', 164.327438, 164.497438, ['ow'], ['ow'], 'NN'),\n",
       " Word('o', 117.856, 117.926, ['ow'], ['ow'], 'NN'),\n",
       " Word('o', 197.362134, 197.533752, ['ow'], ['ow'], 'NN'),\n",
       " Word('o', 141.407681, 141.6122, ['ow'], ['ow'], 'VBN'),\n",
       " Word('o', 64.920813, 65.071376, ['ow'], ['ow'], 'NN'),\n",
       " Word('o', 418.059688, 418.169688, ['ow'], ['ow'], 'NN'),\n",
       " Word('o', 498.442366, 498.514901, ['ow'], ['ah'], 'NN'),\n",
       " Word('o', 132.643439, 132.68365, ['ow'], ['ow'], 'NN'),\n",
       " Word('o', 134.467693, 134.610648, ['ow'], ['ow'], 'NN'),\n",
       " Word('o', 126.179808, 126.237814, ['ow'], ['ow'], 'NN'),\n",
       " Word('o', 311.317131, 311.432842, ['ow'], ['ow'], 'NN'),\n",
       " Word('o', 205.505702, 205.705595, ['ow'], ['ow'], 'NN'),\n",
       " Word('o', 475.8955, 476.111266, ['ow'], ['ow'], 'NN'),\n",
       " Word('o', 289.981125, 290.141125, ['ow'], ['ow'], 'NN'),\n",
       " Word('o', 171.380581, 171.549438, ['ow'], ['ow'], 'NN'),\n",
       " Word('o', 177.375954, 177.464937, ['ow'], ['ow'], 'NN'),\n",
       " Word('o', 107.969893, 108.054179, ['ow'], ['ow'], 'VB'),\n",
       " Word('o', 343.142592, 343.462172, ['ow'], ['ow'], 'NN'),\n",
       " Word('o', 346.128, 346.434181, ['ow'], ['ow'], 'NN'),\n",
       " Word('o', 140.751813, 140.904562, ['ow'], ['ow'], 'NN'),\n",
       " Word('o', 120.74025, 120.85025, ['ow'], ['ah'], 'VB'),\n",
       " Word('o', 125.636562, 125.786562, ['ow'], ['ah'], 'NN'),\n",
       " Word('o', 146.038581, 146.152917, ['ow'], ['ow'], 'NN'),\n",
       " Word('o', 445.714, 445.854, ['ow'], ['ow'], 'NN'),\n",
       " Word('o', 447.134, 447.25, ['ow'], ['ow'], 'NN'),\n",
       " Word('o', 181.364562, 181.464562, ['ow'], ['ow'], 'NN'),\n",
       " Word('o', 223.553817, 223.7538, ['ow'], ['ow'], 'VB'),\n",
       " Word('o', 241.282818, 241.461063, ['ow'], ['ow'], 'NN'),\n",
       " Word('o', 293.710012, 293.786416, ['ow'], ['ow'], 'NN'),\n",
       " Word('o', 297.483476, 297.677043, ['ow'], ['ow'], 'NN'),\n",
       " Word('o', 210.635866, 210.802597, ['ow'], ['ow'], 'NN'),\n",
       " Word('o', 96.530627, 96.69408, ['ow'], ['ow'], 'NN'),\n",
       " Word('o', 95.096751, 95.285556, ['ow'], ['ow', 'eh'], 'NN'),\n",
       " Word('o', 110.52248, 110.585004, ['ow'], ['ow'], 'VB'),\n",
       " Word('o', 283.75931, 283.86305, ['ow'], ['ow'], 'NN'),\n",
       " Word('o', 285.584604, 285.659189, ['ow'], ['ow'], 'NN'),\n",
       " Word('o', 561.147328, 561.350438, ['ow'], ['ow'], 'NN'),\n",
       " Word('o', 70.698952, 70.843376, ['ow'], ['ow'], 'NN'),\n",
       " Word('o', 547.64, 547.786, ['ow'], ['ow'], 'JJ'),\n",
       " Word('o', 160.214878, 160.306018, ['ow'], ['ow'], 'VB'),\n",
       " Word('o', 170.021639, 170.120218, ['ow'], ['ow'], 'NN'),\n",
       " Word('o', 549.252, 549.413, ['ow'], ['ow'], 'NN'),\n",
       " Word('o', 136.546937, 136.726937, ['ow'], ['ow'], 'NN'),\n",
       " Word('o', 353.217993, 353.294973, ['ow'], ['ow'], 'NN'),\n",
       " Word('o', 101.706372, 101.886, ['ow'], ['ow'], 'NN'),\n",
       " Word('o', 220.608076, 220.782625, ['ow'], ['ow'], 'NN'),\n",
       " Word('o', 20.003, 20.15, ['ow'], ['ow'], 'NN'),\n",
       " Word('o', 187.464596, 187.618837, ['ow'], ['ah'], 'NN'),\n",
       " Word('o', 224.360639, 224.505136, ['ow'], ['ah'], 'NN'),\n",
       " Word('o', 303.178, 303.321, ['ow'], ['ow'], 'NN'),\n",
       " Word('o', 89.714, 89.902, ['ow'], ['ow'], 'NN'),\n",
       " Word('o', 95.744, 95.856, ['ow'], ['ow'], 'NN'),\n",
       " Word('o', 232.224469, 232.342805, ['ow'], ['ow'], 'NN'),\n",
       " Word('o', 105.249052, 105.437127, ['ow'], ['oy'], 'NN'),\n",
       " Word('o', 223.78, 223.912, ['ow'], ['ow'], 'NN'),\n",
       " Word('o', 175.799397, 175.97371, ['ow'], ['oy'], 'NN'),\n",
       " Word('o', 421.447719, 421.555619, ['ow'], ['ow'], 'NN'),\n",
       " Word('o', 280.453414, 280.569886, ['ow'], ['ow'], 'NN')]"
      ]
     },
     "execution_count": 149,
     "metadata": {},
     "output_type": "execute_result"
    },
    {
     "data": {
      "text/plain": [
       "['oʊ',\n",
       " 'oʊ',\n",
       " 'oʊ',\n",
       " 'oʊ',\n",
       " 'oʊ',\n",
       " 'oʊ',\n",
       " 'oʊ',\n",
       " 'oʊ',\n",
       " 'oʊ',\n",
       " 'oʊ',\n",
       " 'oʊ',\n",
       " 'oʊ',\n",
       " 'oʊ',\n",
       " 'oʊ',\n",
       " 'oʊ',\n",
       " 'oʊ',\n",
       " 'oʊ',\n",
       " 'oʊ',\n",
       " 'oʊ',\n",
       " 'oʊ',\n",
       " 'oʊ',\n",
       " 'oʊ.oʊ',\n",
       " 'oʊ',\n",
       " 'oʊ',\n",
       " 'oʊ',\n",
       " 'oʊ',\n",
       " 'oʊ',\n",
       " 'oʊ',\n",
       " 'oʊ',\n",
       " 'oʊ',\n",
       " 'oʊ',\n",
       " 'oʊ',\n",
       " 'oʊ',\n",
       " 'oʊ',\n",
       " 'oʊ',\n",
       " 'oʊ',\n",
       " 'oʊ',\n",
       " 'oʊ',\n",
       " 'oʊ',\n",
       " 'oʊ',\n",
       " 'oʊ',\n",
       " 'oʊ',\n",
       " 'oʊ',\n",
       " 'oʊ',\n",
       " 'oʊ',\n",
       " 'oʊ',\n",
       " 'oʊ',\n",
       " 'oʊ',\n",
       " 'oʊ',\n",
       " 'oʊ',\n",
       " 'oʊ',\n",
       " 'oʊ',\n",
       " 'oʊ',\n",
       " 'oʊ',\n",
       " 'oʊ',\n",
       " 'oʊ',\n",
       " 'oʊ',\n",
       " 'oʊ',\n",
       " 'oʊ',\n",
       " 'oʊ',\n",
       " 'oʊ',\n",
       " 'oʊ',\n",
       " 'oʊ',\n",
       " 'oʊ',\n",
       " 'oʊ',\n",
       " 'oʊ',\n",
       " 'oʊ',\n",
       " 'oʊ',\n",
       " 'oʊ',\n",
       " 'oʊ',\n",
       " 'oʊ',\n",
       " 'oʊ',\n",
       " 'oʊ',\n",
       " 'oʊ',\n",
       " 'oʊ',\n",
       " 'oʊ',\n",
       " 'oʊ',\n",
       " 'oʊ',\n",
       " 'oʊ',\n",
       " 'oʊ',\n",
       " 'oʊ',\n",
       " 'oʊ',\n",
       " 'oʊ',\n",
       " 'oʊ',\n",
       " 'oʊ']"
      ]
     },
     "execution_count": 149,
     "metadata": {},
     "output_type": "execute_result"
    },
    {
     "data": {
      "text/plain": [
       "[Word('o', 152.889, 153.006, ['ow', 'ow'], ['ah', 'ah'], 'NN')]"
      ]
     },
     "execution_count": 149,
     "metadata": {},
     "output_type": "execute_result"
    }
   ],
   "source": [
    "findWordTokensOf('o')\n",
    "list(map(get_phonemes, findWordTokensOf('o')))\n",
    "[w for w in findWordTokensOf('o') if get_phonemes(w) == 'oʊ.oʊ']"
   ]
  },
  {
   "cell_type": "code",
   "execution_count": 150,
   "metadata": {
    "ExecuteTime": {
     "end_time": "2019-05-07T17:47:37.598507Z",
     "start_time": "2019-05-07T17:47:37.594174Z"
    }
   },
   "outputs": [
    {
     "data": {
      "text/plain": [
       "('ɛ', 'l', 'ʌ', 'm', 'ɛ', 'n')"
      ]
     },
     "execution_count": 150,
     "metadata": {},
     "output_type": "execute_result"
    }
   ],
   "source": [
    "ds2t('ɛ.l.ʌ.m.ɛ.n')"
   ]
  },
  {
   "cell_type": "code",
   "execution_count": 151,
   "metadata": {
    "ExecuteTime": {
     "end_time": "2019-05-07T17:47:42.963692Z",
     "start_time": "2019-05-07T17:47:42.570149Z"
    }
   },
   "outputs": [
    {
     "data": {
      "text/plain": [
       "{'ʌ', 'ʌ.ʌ'}"
      ]
     },
     "execution_count": 151,
     "metadata": {},
     "output_type": "execute_result"
    },
    {
     "data": {
      "text/plain": [
       "[Word('uh', 50.161, 50.513, ['ah', 'ah'], ['ah', 'ah'], 'UH'),\n",
       " Word('uh', 519.754, 520.018, ['ah', 'ah'], ['ah', 'l', 'ah'], 'UH')]"
      ]
     },
     "execution_count": 151,
     "metadata": {},
     "output_type": "execute_result"
    },
    {
     "data": {
      "text/plain": [
       "True"
      ]
     },
     "execution_count": 151,
     "metadata": {},
     "output_type": "execute_result"
    }
   ],
   "source": [
    "# findWordTokensOf('uh')\n",
    "set(map(get_phonemes, findWordTokensOf('uh')))\n",
    "[w for w in findWordTokensOf('uh') if get_phonemes(w) == 'ʌ.ʌ']\n",
    "[w for w in findWordTokensOf('uh') if get_phonemes(w) == 'ʌ.ʌ'][0].phonemic == ['ah', 'ah']"
   ]
  },
  {
   "cell_type": "markdown",
   "metadata": {},
   "source": [
    "For these three cases either the doubled phonemic transcription is wrong or the orthography should be changed. I'm going to change the phonemic transcription."
   ]
  },
  {
   "cell_type": "code",
   "execution_count": 152,
   "metadata": {
    "ExecuteTime": {
     "end_time": "2019-05-07T17:47:53.079422Z",
     "start_time": "2019-05-07T17:47:53.075996Z"
    }
   },
   "outputs": [
    {
     "data": {
      "text/plain": [
       "['ae', 'n', 'd']"
      ]
     },
     "execution_count": 152,
     "metadata": {},
     "output_type": "execute_result"
    }
   ],
   "source": [
    "w.phonemic"
   ]
  },
  {
   "cell_type": "code",
   "execution_count": 153,
   "metadata": {
    "ExecuteTime": {
     "end_time": "2019-05-07T17:47:56.101851Z",
     "start_time": "2019-05-07T17:47:56.089128Z"
    }
   },
   "outputs": [],
   "source": [
    "from funcy import compose\n",
    "\n",
    "def get_orthography(word):\n",
    "    if word.orthography == 'dont':\n",
    "        return \"don't\"\n",
    "    return word.orthography\n",
    "\n",
    "def filter_x(segSeq):\n",
    "    return tuple([seg for seg in segSeq if seg != 'x'])\n",
    "\n",
    "def intercept(item_to_replace, replacement):\n",
    "    def transform(el):\n",
    "        if el == item_to_replace:\n",
    "            return replacement\n",
    "        return el\n",
    "    return transform\n",
    "\n",
    "def phonemic_vowel_fixer(word, phonemes_IPA):\n",
    "    if word.orthography == 'uh' and word.phonemic == ['ah', 'ah']:\n",
    "        return phonemes_IPA[0]\n",
    "    elif word.orthography == 'o' and word.phonemic == ['ow', 'ow']:\n",
    "#         print(phonemes_IPA[:1])\n",
    "        return phonemes_IPA[:1]\n",
    "    elif word.orthography == 'Ellimen':\n",
    "        return ('ɛ', 'l', 'ʌ', 'm', 'ɛ', 'n')\n",
    "    return phonemes_IPA\n",
    "\n",
    "def phonemic_flap_fixer(word, phonemes_IPA):\n",
    "    flap_to_d = {\"skateboarding\",\n",
    "                 \"yadda\",\n",
    "                 \"shoulda\",\n",
    "                 \"dont\",\n",
    "                 \"doody\"}\n",
    "    flap_to_t = {\"littlest\",\n",
    "                 \"lotta\",\n",
    "                 \"introvertal\",\n",
    "                 \"shut-outs\",\n",
    "                 \"disparity\",\n",
    "                 \"exporting\",\n",
    "                 \"out-r-inn\",\n",
    "                 \"tattletale\",\n",
    "                 \"ritalin\"}\n",
    "    replaceWithd = intercept('ɾ', 'd')\n",
    "    replaceWitht = intercept('ɾ', 't')\n",
    "    if word.orthography in flap_to_d:\n",
    "        return tuple(map(replaceWithd, phonemes_IPA))\n",
    "    elif word.orthography in flap_to_t:\n",
    "        return tuple(map(replaceWitht, phonemes_IPA))\n",
    "    else:\n",
    "        return phonemes_IPA\n",
    "\n",
    "def fix_phonemes(word, phonemes_IPA):\n",
    "#     if word.orthography == 'dont' and word.phonemic[-1] == 'tq':\n",
    "#             return phonemes_IPA[:-1] + ('t',)\n",
    "    replaceʔ = intercept('ʔ', 't')\n",
    "    replaceɔ = intercept('ɔ', 'ɑ')\n",
    "    replaceɾ̃ = intercept('ɾ̃', 'n')\n",
    "    replacer = compose(replaceʔ, replaceɔ, replaceɾ̃)\n",
    "    new_phonemes = tuple(map(replacer, phonemes_IPA))\n",
    "    new_phonemes = phonemic_flap_fixer(word, new_phonemes)\n",
    "    new_phonemes = phonemic_vowel_fixer(word, new_phonemes)\n",
    "    return new_phonemes\n",
    "\n",
    "def get_phonemes(word, inIPA=True, asDottedString=True):\n",
    "    phonemes = tuple(word.phonemic)\n",
    "    if inIPA:\n",
    "        phonemes = filter_x(phonemes)\n",
    "        phonemes = tuple(map(buckeyeToUnicodeIPA,\n",
    "                             phonemes))\n",
    "        phonemes = fix_phonemes(word, phonemes)\n",
    "    if asDottedString:\n",
    "        return t2ds(phonemes)\n",
    "    return phonemes\n",
    "\n",
    "non_speech_inventory = {'{B_TRANS}',\n",
    "                        '{E_TRANS}',\n",
    "                        '',\n",
    "                        'IVER',\n",
    "                        'LAUGH',\n",
    "                        'NOISE',\n",
    "                        'SIL',\n",
    "                        'UNKNOWN',\n",
    "                        'VOCNOISE'}\n",
    "\n",
    "def id_nonspeech(phone):\n",
    "    if phone in non_speech_inventory:\n",
    "        return phone\n",
    "    return buckeyeToUnicodeIPA(phone)\n",
    "\n",
    "def get_phones(word, inIPA=True, asDottedString=True):\n",
    "    if not isWord(word):\n",
    "        return word.phonetic\n",
    "    phones = tuple(word.phonetic)\n",
    "    if inIPA:\n",
    "        phones = filter_x(phones)\n",
    "#         phones = tuple(map(buckeyeToUnicodeIPA,\n",
    "#                            phones))\n",
    "        phones = tuple(map(id_nonspeech,\n",
    "                           phones))\n",
    "    if asDottedString:\n",
    "        return t2ds(phones)\n",
    "    return phones"
   ]
  },
  {
   "cell_type": "code",
   "execution_count": 154,
   "metadata": {
    "ExecuteTime": {
     "end_time": "2019-05-07T17:48:03.912349Z",
     "start_time": "2019-05-07T17:47:59.808330Z"
    }
   },
   "outputs": [
    {
     "data": {
      "text/plain": [
       "216062"
      ]
     },
     "execution_count": 154,
     "metadata": {},
     "output_type": "execute_result"
    },
    {
     "data": {
      "text/plain": [
       "7998"
      ]
     },
     "execution_count": 154,
     "metadata": {},
     "output_type": "execute_result"
    }
   ],
   "source": [
    "foo = lambda w: (get_orthography(w), get_phonemes(w))\n",
    "orthography_phonemic_relation_list = list(map(foo, words))\n",
    "len(orthography_phonemic_relation_list)\n",
    "\n",
    "orthography_phonemic_relation = set(orthography_phonemic_relation_list)\n",
    "len(orthography_phonemic_relation)"
   ]
  },
  {
   "cell_type": "code",
   "execution_count": 155,
   "metadata": {
    "ExecuteTime": {
     "end_time": "2019-05-07T17:48:08.246403Z",
     "start_time": "2019-05-07T17:48:03.913849Z"
    }
   },
   "outputs": [
    {
     "data": {
      "text/plain": [
       "0"
      ]
     },
     "execution_count": 155,
     "metadata": {},
     "output_type": "execute_result"
    },
    {
     "data": {
      "text/plain": [
       "set()"
      ]
     },
     "execution_count": 155,
     "metadata": {},
     "output_type": "execute_result"
    }
   ],
   "source": [
    "phonemic_transcriptions = lambda o: {r[1] for r in orthography_phonemic_relation if r[0] == o}\n",
    "has_multiple_phonemic_transcriptions = lambda o: len(phonemic_transcriptions(o)) > 1\n",
    "\n",
    "bar = set(filter(has_multiple_phonemic_transcriptions, orthographic_words))\n",
    "len(bar)\n",
    "bar"
   ]
  },
  {
   "cell_type": "markdown",
   "metadata": {},
   "source": [
    "## Export relation"
   ]
  },
  {
   "cell_type": "code",
   "execution_count": 156,
   "metadata": {
    "ExecuteTime": {
     "end_time": "2019-05-07T17:48:14.880585Z",
     "start_time": "2019-05-07T17:48:10.844928Z"
    }
   },
   "outputs": [
    {
     "data": {
      "text/plain": [
       "7998"
      ]
     },
     "execution_count": 156,
     "metadata": {},
     "output_type": "execute_result"
    }
   ],
   "source": [
    "baz = lambda w: (get_orthography(w),\n",
    "                 get_phonemes(w))\n",
    "orthography_phonemic_relation = set(map(baz, words))\n",
    "len(orthography_phonemic_relation)"
   ]
  },
  {
   "cell_type": "code",
   "execution_count": 157,
   "metadata": {
    "ExecuteTime": {
     "end_time": "2019-05-07T17:48:14.894629Z",
     "start_time": "2019-05-07T17:48:14.882529Z"
    }
   },
   "outputs": [],
   "source": [
    "pairToDict = lambda pair: {'Orthography':pair[0],\n",
    "                           'Phonemic_Transcription':pair[1]}\n",
    "orthography_phonemic_relation = tuple(map(pairToDict,\n",
    "                                          sorted(tuple(orthography_phonemic_relation), key=lambda rel: rel[0])))"
   ]
  },
  {
   "cell_type": "code",
   "execution_count": 158,
   "metadata": {
    "ExecuteTime": {
     "end_time": "2019-05-07T17:48:23.340565Z",
     "start_time": "2019-05-07T17:48:23.337036Z"
    }
   },
   "outputs": [
    {
     "data": {
      "text/plain": [
       "'/mnt/cube/home/AD/emeinhar/buckeye-zips'"
      ]
     },
     "execution_count": 158,
     "metadata": {},
     "output_type": "execute_result"
    }
   ],
   "source": [
    "os.getcwd()"
   ]
  },
  {
   "cell_type": "code",
   "execution_count": 159,
   "metadata": {
    "ExecuteTime": {
     "end_time": "2019-05-07T17:48:32.537361Z",
     "start_time": "2019-05-07T17:48:32.534706Z"
    }
   },
   "outputs": [
    {
     "data": {
      "text/plain": [
       "'/mnt/cube/home/AD/emeinhar/buckeye-lm'"
      ]
     },
     "execution_count": 159,
     "metadata": {},
     "output_type": "execute_result"
    }
   ],
   "source": [
    "os.chdir(repo_dir)\n",
    "os.getcwd()"
   ]
  },
  {
   "cell_type": "code",
   "execution_count": 161,
   "metadata": {
    "ExecuteTime": {
     "end_time": "2019-05-07T17:48:50.665644Z",
     "start_time": "2019-05-07T17:48:50.663487Z"
    }
   },
   "outputs": [],
   "source": [
    "buckeye_orth_phon_rel_fn = 'buckeye_orthography_phonemic_relation.tsv'\n",
    "my_fieldnames = ('Orthography', 'Phonemic_Transcription')"
   ]
  },
  {
   "cell_type": "code",
   "execution_count": 162,
   "metadata": {
    "ExecuteTime": {
     "end_time": "2019-05-07T17:48:53.975654Z",
     "start_time": "2019-05-07T17:48:53.923580Z"
    }
   },
   "outputs": [],
   "source": [
    "with open(buckeye_orth_phon_rel_fn, 'w', newline='', encoding='utf-8') as tsvfile:\n",
    "    writer = csv.DictWriter(tsvfile, delimiter='\\t',fieldnames=my_fieldnames)\n",
    "    writer.writeheader()\n",
    "    writer.writerows(orthography_phonemic_relation)"
   ]
  },
  {
   "cell_type": "code",
   "execution_count": 163,
   "metadata": {
    "ExecuteTime": {
     "end_time": "2019-05-07T17:48:58.403276Z",
     "start_time": "2019-05-07T17:48:58.272887Z"
    }
   },
   "outputs": [
    {
     "name": "stdout",
     "output_type": "stream",
     "text": [
      "     1\tOrthography\tPhonemic_Transcription\r",
      "\r\n",
      "     2\t'em\tɛ.m\r",
      "\r\n",
      "     3\tEllimen\tɛ.l.ʌ.m.ɛ.n\r",
      "\r\n",
      "     4\tEllison\tɛ.l.ɪ.s.ʌ.n\r",
      "\r\n",
      "     5\tRalph\tɹ.æ.l.f\r",
      "\r\n",
      "     6\ta\teɪ\r",
      "\r\n",
      "     7\ta's\teɪ.z.z\r",
      "\r\n",
      "     8\taaron's\teɪ.ɹ.ʌ.n.z\r",
      "\r\n",
      "     9\tabandoned\tʌ.b.æ.n.d.ʌ.n.d\r",
      "\r\n",
      "    10\tabercrombie\tæ.b.ɚ.k.ɹ.ɑ.m.b.i\r",
      "\r\n",
      "    11\tabhorrent\tʌ.b.h.oʊ.ɹ.ʌ.n.t\r",
      "\r\n",
      "    12\tabide\tʌ.b.aɪ.d\r",
      "\r\n",
      "    13\tability\tʌ.b.ɪ.l.ʌ.t.i\r",
      "\r\n",
      "    14\table\teɪ.b.l̩\r",
      "\r\n",
      "    15\tabortion\tʌ.b.oʊ.ɹ.ʃ.ʌ.n\r",
      "\r\n",
      "    16\tabortions\tʌ.b.oʊ.ɹ.ʃ.ʌ.n.z\r",
      "\r\n",
      "    17\tabout\tʌ.b.aʊ.t\r",
      "\r\n",
      "    18\tabove\tʌ.b.ʌ.v\r",
      "\r\n",
      "    19\tabraham\teɪ.b.ɹ.ʌ.h.æ.m\r",
      "\r\n",
      "    20\tabroad\tʌ.b.ɹ.ɑ.d\r",
      "\r\n",
      "    21\tabrupt\tʌ.b.ɹ.ʌ.p.t\r",
      "\r\n",
      "    22\tabruptly\tʌ.b.ɹ.ʌ.p.t.l.i\r",
      "\r\n",
      "    23\tabsence\tæ.b.s.ʌ.n.s\r",
      "\r\n",
      "    24\tabsent\tæ.b.s.ɛ.n.t\r",
      "\r\n",
      "    25\tabsentee\tæ.b.s.ʌ.n.t.i\r",
      "\r\n",
      "    26\tabsolute\tæ.b.s.ʌ.l.u.t\r",
      "\r\n",
      "    27\tabsolutely\tæ.b.s.ʌ.l.u.t.l.i\r",
      "\r\n",
      "    28\tabsorb\tʌ.b.s.oʊ.ɹ.b\r",
      "\r\n",
      "    29\tabstinence\tæ.b.s.t.ɪ.n.ʌ.n.s\r",
      "\r\n",
      "    30\tabstract\tæ.b.s.t.ɹ.æ.k.t\r",
      "\r\n",
      "    31\tabuse\tʌ.b.j.u.z\r",
      "\r\n",
      "    32\tabused\tʌ.b.j.u.z.d\r",
      "\r\n",
      "    33\tabuses\tʌ.b.j.u.z.ʌ.z\r",
      "\r\n",
      "    34\tabusing\tʌ.b.j.u.z.ɪ.ŋ\r",
      "\r\n",
      "    35\tabusive\tʌ.b.j.u.s.ɪ.v\r",
      "\r\n",
      "    36\tacademic\tæ.k.ʌ.d.ɛ.m.ɪ.k\r",
      "\r\n",
      "    37\tacademically\tæ.k.ʌ.d.ɛ.m.ɪ.k.l.i\r",
      "\r\n",
      "    38\tacademics\tæ.k.ʌ.d.ɛ.m.ɪ.k.s\r",
      "\r\n",
      "    39\tacademies\tʌ.k.æ.d.ʌ.m.i.z\r",
      "\r\n",
      "    40\tacademy\tʌ.k.æ.d.ʌ.m.i\r",
      "\r\n",
      "    41\taccent\tæ.k.s.ɛ.n.t\r",
      "\r\n",
      "    42\taccents\tæ.k.s.ɛ.n.t.s\r",
      "\r\n",
      "    43\taccept\tʌ.k.s.ɛ.p.t\r",
      "\r\n",
      "    44\tacceptable\tʌ.k.s.ɛ.p.t.ʌ.b.l̩\r",
      "\r\n",
      "    45\tacceptance\tʌ.k.s.ɛ.p.t.ʌ.n.s\r",
      "\r\n",
      "    46\taccepted\tʌ.k.s.ɛ.p.t.ʌ.d\r",
      "\r\n",
      "    47\taccepting\tʌ.k.s.ɛ.p.t.ɪ.ŋ\r",
      "\r\n",
      "    48\taccess\tæ.k.s.ɛ.s\r",
      "\r\n",
      "    49\taccessible\tʌ.k.s.ɛ.s.ʌ.b.l̩\r",
      "\r\n",
      "    50\taccident\tæ.k.s.ɪ.d.ʌ.n.t\r",
      "\r\n",
      "cat: write error: Broken pipe\r\n"
     ]
    }
   ],
   "source": [
    "%cat -n buckeye_orthography_phonemic_relation.tsv | head -50"
   ]
  },
  {
   "cell_type": "markdown",
   "metadata": {},
   "source": [
    "# Collected code"
   ]
  },
  {
   "cell_type": "code",
   "execution_count": 187,
   "metadata": {
    "ExecuteTime": {
     "end_time": "2019-05-07T18:00:51.636629Z",
     "start_time": "2019-05-07T18:00:51.631472Z"
    }
   },
   "outputs": [],
   "source": [
    "from functools import reduce\n",
    "\n",
    "union = lambda Ss: reduce(set.union, Ss)\n",
    "\n",
    "def tupleToDottedString(pair): \n",
    "    return '.'.join(pair)\n",
    "\n",
    "def dottedStringToTuple(s): \n",
    "    return tuple(s.split('.'))\n",
    "\n",
    "t2ds = tupleToDottedString\n",
    "ds2t = dottedStringToTuple"
   ]
  },
  {
   "cell_type": "code",
   "execution_count": 188,
   "metadata": {
    "ExecuteTime": {
     "end_time": "2019-05-07T18:00:51.926702Z",
     "start_time": "2019-05-07T18:00:51.924661Z"
    }
   },
   "outputs": [],
   "source": [
    "from funcy import compose"
   ]
  },
  {
   "cell_type": "code",
   "execution_count": 185,
   "metadata": {
    "ExecuteTime": {
     "end_time": "2019-05-07T17:59:35.338659Z",
     "start_time": "2019-05-07T17:59:35.333961Z"
    }
   },
   "outputs": [],
   "source": [
    "def isWord(container):\n",
    "    return type(container) == b.containers.Word\n",
    "\n",
    "def getWords(track):\n",
    "    return [w for w in track.words if isWord(w)]\n",
    "#     return filter(isWord, track.words)"
   ]
  },
  {
   "cell_type": "code",
   "execution_count": 186,
   "metadata": {
    "ExecuteTime": {
     "end_time": "2019-05-07T17:59:47.529847Z",
     "start_time": "2019-05-07T17:59:47.514643Z"
    }
   },
   "outputs": [],
   "source": [
    "buckeyeUnicodeIPArelation = {\n",
    " ('a', 'ʌ'),\n",
    " ('aa', 'ɑ'),\n",
    " ('aan', 'ɑ̃'),\n",
    " ('ae', 'æ'),\n",
    " ('aen', 'æ̃'),\n",
    " ('ah', 'ʌ'),\n",
    " ('ahn', 'ʌ̃'),\n",
    " ('an', 'ʌ̃'),\n",
    " ('ao', 'ɔ'),\n",
    " ('aon', 'ɔ̃'),\n",
    " ('aw', 'aʊ'),\n",
    " ('awn', 'aʊ'),\n",
    " ('ay', 'aɪ'),\n",
    " ('ayn', 'aɪ'),\n",
    " ('b', 'b'),\n",
    " ('ch', 'tʃ'),\n",
    " ('d', 'd'),\n",
    " ('dh', 'ð'),\n",
    " ('dx', 'ɾ'),\n",
    " ('eh', 'ɛ'),\n",
    " ('ehn', 'ɛ̃'),\n",
    " ('el', 'l̩'),\n",
    " ('em', 'm̩'),\n",
    " ('en', 'n̩'),\n",
    " ('eng', 'ŋ̩'),\n",
    " ('er', 'ɚ'),\n",
    " ('ern', 'ɚ'),\n",
    " ('ey', 'eɪ'),\n",
    " ('eyn', 'ẽɪ̃'),\n",
    " ('f', 'f'),\n",
    " ('g', 'g'),\n",
    " ('h', 'h'),\n",
    " ('hh', 'h'),\n",
    " ('hhn', 'h̃'),\n",
    " ('i', 'ɪ'),\n",
    " ('id', 'ɪ'),\n",
    " ('ih', 'ɪ'),\n",
    " ('ihn', 'ɪ̃'),\n",
    " ('iy', 'i'),\n",
    " ('iyih', 'i'),\n",
    " ('iyn', 'ĩ'),\n",
    " ('jh', 'dʒ'),\n",
    " ('k', 'k'),\n",
    " ('l', 'l'),\n",
    " ('m', 'm'),\n",
    " ('n', 'n'),\n",
    " ('ng', 'ŋ'),\n",
    " ('nx', 'ɾ̃'),\n",
    " ('ow', 'oʊ'),\n",
    " ('own', 'oʊ'),\n",
    " ('oy', 'ɔɪ'),\n",
    " ('oyn', 'ɔɪ'),\n",
    " ('p', 'p'),\n",
    " ('q', 'ʔ'),\n",
    " ('r', 'ɹ'),\n",
    " ('s', 's'),\n",
    " ('sh', 'ʃ'),\n",
    " ('t', 't'),\n",
    " ('th', 'θ'),\n",
    " ('tq', 'ʔ'),\n",
    " ('uh', 'ʊ'),\n",
    " ('uhn', 'ʊ̃'),\n",
    " ('uw', 'u'),\n",
    " ('uwix', 'u'),\n",
    " ('uwn', 'ũ'),\n",
    " ('v', 'v'),\n",
    " ('w', 'w'),\n",
    " ('y', 'j'),\n",
    " ('z', 'z'),\n",
    " ('zh', 'ʒ')}\n",
    "\n",
    "def buckeyeToUnicodeIPA(buckeyeSymbol):\n",
    "    mapping = dict(buckeyeUnicodeIPArelation)\n",
    "    #print(mapping)\n",
    "    return mapping[buckeyeSymbol]"
   ]
  },
  {
   "cell_type": "code",
   "execution_count": 189,
   "metadata": {
    "ExecuteTime": {
     "end_time": "2019-05-07T18:00:55.720825Z",
     "start_time": "2019-05-07T18:00:55.708540Z"
    }
   },
   "outputs": [],
   "source": [
    "def get_orthography(word):\n",
    "    if word.orthography == 'dont':\n",
    "        return \"don't\"\n",
    "    return word.orthography\n",
    "\n",
    "def filter_x(segSeq):\n",
    "    return tuple([seg for seg in segSeq if seg != 'x'])\n",
    "\n",
    "def intercept(item_to_replace, replacement):\n",
    "    def transform(el):\n",
    "        if el == item_to_replace:\n",
    "            return replacement\n",
    "        return el\n",
    "    return transform\n",
    "\n",
    "def phonemic_vowel_fixer(word, phonemes_IPA):\n",
    "    if word.orthography == 'uh' and word.phonemic == ['ah', 'ah']:\n",
    "        return phonemes_IPA[0]\n",
    "    elif word.orthography == 'o' and word.phonemic == ['ow', 'ow']:\n",
    "#         print(phonemes_IPA[:1])\n",
    "        return phonemes_IPA[:1]\n",
    "    elif word.orthography == 'Ellimen':\n",
    "        return ('ɛ', 'l', 'ʌ', 'm', 'ɛ', 'n')\n",
    "    return phonemes_IPA\n",
    "\n",
    "def phonemic_flap_fixer(word, phonemes_IPA):\n",
    "    flap_to_d = {\"skateboarding\",\n",
    "                 \"yadda\",\n",
    "                 \"shoulda\",\n",
    "                 \"dont\",\n",
    "                 \"doody\"}\n",
    "    flap_to_t = {\"littlest\",\n",
    "                 \"lotta\",\n",
    "                 \"introvertal\",\n",
    "                 \"shut-outs\",\n",
    "                 \"disparity\",\n",
    "                 \"exporting\",\n",
    "                 \"out-r-inn\",\n",
    "                 \"tattletale\",\n",
    "                 \"ritalin\"}\n",
    "    replaceWithd = intercept('ɾ', 'd')\n",
    "    replaceWitht = intercept('ɾ', 't')\n",
    "    if word.orthography in flap_to_d:\n",
    "        return tuple(map(replaceWithd, phonemes_IPA))\n",
    "    elif word.orthography in flap_to_t:\n",
    "        return tuple(map(replaceWitht, phonemes_IPA))\n",
    "    else:\n",
    "        return phonemes_IPA\n",
    "\n",
    "def fix_phonemes(word, phonemes_IPA):\n",
    "#     if word.orthography == 'dont' and word.phonemic[-1] == 'tq':\n",
    "#             return phonemes_IPA[:-1] + ('t',)\n",
    "    replaceʔ = intercept('ʔ', 't')\n",
    "    replaceɔ = intercept('ɔ', 'ɑ')\n",
    "    replaceɾ̃ = intercept('ɾ̃', 'n')\n",
    "    replacer = compose(replaceʔ, replaceɔ, replaceɾ̃)\n",
    "    new_phonemes = tuple(map(replacer, phonemes_IPA))\n",
    "    new_phonemes = phonemic_flap_fixer(word, new_phonemes)\n",
    "    new_phonemes = phonemic_vowel_fixer(word, new_phonemes)\n",
    "    return new_phonemes\n",
    "\n",
    "def get_phonemes(word, inIPA=True, asDottedString=True):\n",
    "    phonemes = tuple(word.phonemic)\n",
    "    if inIPA:\n",
    "        phonemes = filter_x(phonemes)\n",
    "        phonemes = tuple(map(buckeyeToUnicodeIPA,\n",
    "                             phonemes))\n",
    "        phonemes = fix_phonemes(word, phonemes)\n",
    "    if asDottedString:\n",
    "        return t2ds(phonemes)\n",
    "    return phonemes\n",
    "\n",
    "non_speech_inventory = {'{B_TRANS}',\n",
    "                        '{E_TRANS}',\n",
    "                        '',\n",
    "                        'IVER',\n",
    "                        'LAUGH',\n",
    "                        'NOISE',\n",
    "                        'SIL',\n",
    "                        'UNKNOWN',\n",
    "                        'VOCNOISE'}\n",
    "\n",
    "def id_nonspeech(phone):\n",
    "    if phone in non_speech_inventory:\n",
    "        return phone\n",
    "    return buckeyeToUnicodeIPA(phone)\n",
    "\n",
    "def get_phones(word, inIPA=True, asDottedString=True):\n",
    "    if not isWord(word):\n",
    "        return word.phonetic\n",
    "    phones = tuple(word.phonetic)\n",
    "    if inIPA:\n",
    "        phones = filter_x(phones)\n",
    "#         phones = tuple(map(buckeyeToUnicodeIPA,\n",
    "#                            phones))\n",
    "        phones = tuple(map(id_nonspeech,\n",
    "                           phones))\n",
    "    if asDottedString:\n",
    "        return t2ds(phones)\n",
    "    return phones"
   ]
  },
  {
   "cell_type": "markdown",
   "metadata": {},
   "source": [
    "# Todo"
   ]
  },
  {
   "cell_type": "markdown",
   "metadata": {},
   "source": [
    "A good next step from this notebook would be to fork the `buckeye` Python package to patch the relevant methods instead of essentially duplicating their functionality."
   ]
  },
  {
   "cell_type": "markdown",
   "metadata": {},
   "source": [
    "# PS Transcription convention check"
   ]
  },
  {
   "cell_type": "markdown",
   "metadata": {},
   "source": [
    "pp. 7-9 of https://buckeyecorpus.osu.edu/BuckeyeCorpusmanual.pdf describe conventions for transcribing things like initialisms, common collocations like \"going to\" (->\"gonna\"), backchannel, filled pauses, etc.\n",
    "\n",
    "Let's check to see if/how these conventions are visible/representative of the final corpus."
   ]
  },
  {
   "cell_type": "markdown",
   "metadata": {},
   "source": [
    "## Broken off words"
   ]
  },
  {
   "cell_type": "markdown",
   "metadata": {},
   "source": [
    "Are there any orthographic words ending or beginning with a dash? (This is a common convention in other speech corpora indicating the word was interrupted before completion or resumed.)"
   ]
  },
  {
   "cell_type": "code",
   "execution_count": 164,
   "metadata": {
    "ExecuteTime": {
     "end_time": "2019-05-07T17:50:37.550965Z",
     "start_time": "2019-05-07T17:50:37.540629Z"
    }
   },
   "outputs": [
    {
     "data": {
      "text/plain": [
       "['posi-',\n",
       " 'huh-uh',\n",
       " 'closed-minded',\n",
       " 'uh-huh',\n",
       " 'im-ing',\n",
       " 'cross-trained',\n",
       " 'cop-out',\n",
       " 'uh-uh',\n",
       " 'pre-college',\n",
       " 'tom-boy',\n",
       " 'la-dee-da',\n",
       " 'um-hmm',\n",
       " 'um-hum',\n",
       " 'shut-outs',\n",
       " 'uh-hum',\n",
       " 'out-r-inn',\n",
       " 're-replace',\n",
       " 'mm-hmm',\n",
       " 'check-up',\n",
       " 'pooh-poohing',\n",
       " 'twenty-five',\n",
       " 'um-huh',\n",
       " 'uh-oh',\n",
       " 'hum-um']"
      ]
     },
     "execution_count": 164,
     "metadata": {},
     "output_type": "execute_result"
    }
   ],
   "source": [
    "[w for w in orthographic_wordform_types if '-' in w]"
   ]
  },
  {
   "cell_type": "markdown",
   "metadata": {},
   "source": [
    "The only instance in this list that looks like that is `posi-`."
   ]
  },
  {
   "cell_type": "markdown",
   "metadata": {},
   "source": [
    "## Common collocations"
   ]
  },
  {
   "cell_type": "code",
   "execution_count": 165,
   "metadata": {
    "ExecuteTime": {
     "end_time": "2019-05-07T17:50:50.447322Z",
     "start_time": "2019-05-07T17:50:50.443946Z"
    }
   },
   "outputs": [],
   "source": [
    "common_collocations = {\n",
    "    \"gonna\",\n",
    "    \"wanna\",\n",
    "    \"yknow\",\n",
    "    \"kinda\",\n",
    "    \"sorta\",\n",
    "    \"hafta\"\n",
    "}"
   ]
  },
  {
   "cell_type": "code",
   "execution_count": 166,
   "metadata": {
    "ExecuteTime": {
     "end_time": "2019-05-07T17:50:53.589933Z",
     "start_time": "2019-05-07T17:50:53.582345Z"
    }
   },
   "outputs": [
    {
     "data": {
      "text/plain": [
       "True"
      ]
     },
     "execution_count": 166,
     "metadata": {},
     "output_type": "execute_result"
    },
    {
     "data": {
      "text/plain": [
       "True"
      ]
     },
     "execution_count": 166,
     "metadata": {},
     "output_type": "execute_result"
    },
    {
     "data": {
      "text/plain": [
       "True"
      ]
     },
     "execution_count": 166,
     "metadata": {},
     "output_type": "execute_result"
    },
    {
     "data": {
      "text/plain": [
       "True"
      ]
     },
     "execution_count": 166,
     "metadata": {},
     "output_type": "execute_result"
    },
    {
     "data": {
      "text/plain": [
       "True"
      ]
     },
     "execution_count": 166,
     "metadata": {},
     "output_type": "execute_result"
    },
    {
     "data": {
      "text/plain": [
       "True"
      ]
     },
     "execution_count": 166,
     "metadata": {},
     "output_type": "execute_result"
    }
   ],
   "source": [
    "for c in common_collocations:\n",
    "    c in orthographic_words"
   ]
  },
  {
   "cell_type": "markdown",
   "metadata": {},
   "source": [
    "## `okay`, `TV`, initialisms"
   ]
  },
  {
   "cell_type": "code",
   "execution_count": 167,
   "metadata": {
    "ExecuteTime": {
     "end_time": "2019-05-07T17:51:09.777138Z",
     "start_time": "2019-05-07T17:51:09.772275Z"
    }
   },
   "outputs": [
    {
     "data": {
      "text/plain": [
       "True"
      ]
     },
     "execution_count": 167,
     "metadata": {},
     "output_type": "execute_result"
    },
    {
     "data": {
      "text/plain": [
       "False"
      ]
     },
     "execution_count": 167,
     "metadata": {},
     "output_type": "execute_result"
    }
   ],
   "source": [
    "'okay' in orthographic_words\n",
    "'OK' in orthographic_words"
   ]
  },
  {
   "cell_type": "code",
   "execution_count": 170,
   "metadata": {
    "ExecuteTime": {
     "end_time": "2019-05-07T17:51:19.696739Z",
     "start_time": "2019-05-07T17:51:19.691158Z"
    }
   },
   "outputs": [
    {
     "data": {
      "text/plain": [
       "False"
      ]
     },
     "execution_count": 170,
     "metadata": {},
     "output_type": "execute_result"
    },
    {
     "data": {
      "text/plain": [
       "True"
      ]
     },
     "execution_count": 170,
     "metadata": {},
     "output_type": "execute_result"
    },
    {
     "data": {
      "text/plain": [
       "False"
      ]
     },
     "execution_count": 170,
     "metadata": {},
     "output_type": "execute_result"
    },
    {
     "data": {
      "text/plain": [
       "False"
      ]
     },
     "execution_count": 170,
     "metadata": {},
     "output_type": "execute_result"
    }
   ],
   "source": [
    "'TV' in orthographic_words\n",
    "'tv' in orthographic_words\n",
    "'T V' in orthographic_words\n",
    "'T.V.' in orthographic_words"
   ]
  },
  {
   "cell_type": "code",
   "execution_count": 171,
   "metadata": {
    "ExecuteTime": {
     "end_time": "2019-05-07T17:51:24.686736Z",
     "start_time": "2019-05-07T17:51:24.680816Z"
    }
   },
   "outputs": [
    {
     "data": {
      "text/plain": [
       "{'c.a.h.s.'}"
      ]
     },
     "execution_count": 171,
     "metadata": {},
     "output_type": "execute_result"
    }
   ],
   "source": [
    "{w for w in orthographic_words if '.' in w}"
   ]
  },
  {
   "cell_type": "code",
   "execution_count": 172,
   "metadata": {
    "ExecuteTime": {
     "end_time": "2019-05-07T17:51:28.190609Z",
     "start_time": "2019-05-07T17:51:28.184730Z"
    }
   },
   "outputs": [
    {
     "data": {
      "text/plain": [
       "set()"
      ]
     },
     "execution_count": 172,
     "metadata": {},
     "output_type": "execute_result"
    }
   ],
   "source": [
    "{w for w in orthographic_words if ' ' in w}"
   ]
  },
  {
   "cell_type": "markdown",
   "metadata": {},
   "source": [
    "One instance of `C.A.H.S.` is the only initialism that survived as a single word."
   ]
  },
  {
   "cell_type": "markdown",
   "metadata": {},
   "source": [
    "## *alright, *awhile"
   ]
  },
  {
   "cell_type": "markdown",
   "metadata": {},
   "source": [
    "`all right` and `a while` are supposed to be used instead of `alright` and `awhile`."
   ]
  },
  {
   "cell_type": "code",
   "execution_count": 176,
   "metadata": {
    "ExecuteTime": {
     "end_time": "2019-05-07T17:52:15.982852Z",
     "start_time": "2019-05-07T17:52:15.977358Z"
    }
   },
   "outputs": [
    {
     "data": {
      "text/plain": [
       "True"
      ]
     },
     "execution_count": 176,
     "metadata": {},
     "output_type": "execute_result"
    },
    {
     "data": {
      "text/plain": [
       "9"
      ]
     },
     "execution_count": 176,
     "metadata": {},
     "output_type": "execute_result"
    }
   ],
   "source": [
    "'alright' in orthographic_words\n",
    "orthographic_wordform_counts['alright']"
   ]
  },
  {
   "cell_type": "code",
   "execution_count": 177,
   "metadata": {
    "ExecuteTime": {
     "end_time": "2019-05-07T17:52:17.448018Z",
     "start_time": "2019-05-07T17:52:17.444186Z"
    }
   },
   "outputs": [
    {
     "data": {
      "text/plain": [
       "True"
      ]
     },
     "execution_count": 177,
     "metadata": {},
     "output_type": "execute_result"
    },
    {
     "data": {
      "text/plain": [
       "7"
      ]
     },
     "execution_count": 177,
     "metadata": {},
     "output_type": "execute_result"
    }
   ],
   "source": [
    "'awhile' in orthographic_words\n",
    "orthographic_wordform_counts['awhile']"
   ]
  },
  {
   "cell_type": "markdown",
   "metadata": {},
   "source": [
    "This guideline was not followed (or not perfectly followed)."
   ]
  },
  {
   "cell_type": "markdown",
   "metadata": {},
   "source": [
    "## `uh`, `hmm` etc."
   ]
  },
  {
   "cell_type": "code",
   "execution_count": 179,
   "metadata": {
    "ExecuteTime": {
     "end_time": "2019-05-07T17:52:55.509287Z",
     "start_time": "2019-05-07T17:52:55.505508Z"
    }
   },
   "outputs": [],
   "source": [
    "documented = {\n",
    "    'uh','ah',\n",
    "    'um','mm','hm',\n",
    "    'huh',\n",
    "    'uh-huh',\n",
    "    'um-hum',\n",
    "    'huh-uh',\n",
    "    'hum-um'\n",
    "}"
   ]
  },
  {
   "cell_type": "code",
   "execution_count": 180,
   "metadata": {
    "ExecuteTime": {
     "end_time": "2019-05-07T17:52:59.330447Z",
     "start_time": "2019-05-07T17:52:59.320442Z"
    }
   },
   "outputs": [
    {
     "data": {
      "text/plain": [
       "{'ah',\n",
       " 'hm',\n",
       " 'hmm',\n",
       " 'huh',\n",
       " 'huh-uh',\n",
       " 'hum',\n",
       " 'hum-um',\n",
       " 'mm',\n",
       " 'mm-hmm',\n",
       " 'uh',\n",
       " 'uh-huh',\n",
       " 'uh-hum',\n",
       " 'uh-uh',\n",
       " 'um',\n",
       " 'um-hmm',\n",
       " 'um-huh',\n",
       " 'um-hum'}"
      ]
     },
     "execution_count": 180,
     "metadata": {},
     "output_type": "execute_result"
    },
    {
     "data": {
      "text/plain": [
       "' '"
      ]
     },
     "execution_count": 180,
     "metadata": {},
     "output_type": "execute_result"
    },
    {
     "data": {
      "text/plain": [
       "{'hmm', 'hum', 'mm-hmm', 'uh-hum', 'uh-uh', 'um-hmm', 'um-huh'}"
      ]
     },
     "execution_count": 180,
     "metadata": {},
     "output_type": "execute_result"
    },
    {
     "data": {
      "text/plain": [
       "set()"
      ]
     },
     "execution_count": 180,
     "metadata": {},
     "output_type": "execute_result"
    }
   ],
   "source": [
    "pieces = {'uh', 'ah',\n",
    "          'hm', 'hmm', 'hum',\n",
    "          'um', 'umm', 'mm',\n",
    "          'huh'\n",
    "          }\n",
    "pieces_no_mm = pieces - {'mm'}\n",
    "# combos = tuple(product(pieces, repeat=2))\n",
    "combos = set(map(lambda pair: '-'.join(pair),\n",
    "                 product(pieces, repeat=2)))\n",
    "hez = combos | pieces#_no_mm\n",
    "assert documented - hez == set()\n",
    "attested = {h for h in hez if h in orthographic_words}\n",
    "attested\n",
    "' '\n",
    "undocumented = attested - documented\n",
    "undocumented\n",
    "documented - attested"
   ]
  },
  {
   "cell_type": "code",
   "execution_count": 182,
   "metadata": {
    "ExecuteTime": {
     "end_time": "2019-05-07T17:55:27.618046Z",
     "start_time": "2019-05-07T17:55:27.442291Z"
    }
   },
   "outputs": [
    {
     "data": {
      "text/html": [
       "<div>\n",
       "<style scoped>\n",
       "    .dataframe tbody tr th:only-of-type {\n",
       "        vertical-align: middle;\n",
       "    }\n",
       "\n",
       "    .dataframe tbody tr th {\n",
       "        vertical-align: top;\n",
       "    }\n",
       "\n",
       "    .dataframe thead th {\n",
       "        text-align: right;\n",
       "    }\n",
       "</style>\n",
       "<table border=\"1\" class=\"dataframe\">\n",
       "  <thead>\n",
       "    <tr style=\"text-align: right;\">\n",
       "      <th></th>\n",
       "      <th>freq</th>\n",
       "      <th>prob</th>\n",
       "      <th>wordform</th>\n",
       "    </tr>\n",
       "  </thead>\n",
       "  <tbody>\n",
       "    <tr>\n",
       "      <th>9</th>\n",
       "      <td>2556</td>\n",
       "      <td>0.011830</td>\n",
       "      <td>uh</td>\n",
       "    </tr>\n",
       "    <tr>\n",
       "      <th>13</th>\n",
       "      <td>1692</td>\n",
       "      <td>0.007831</td>\n",
       "      <td>um</td>\n",
       "    </tr>\n",
       "    <tr>\n",
       "      <th>16</th>\n",
       "      <td>681</td>\n",
       "      <td>0.003152</td>\n",
       "      <td>um-hum</td>\n",
       "    </tr>\n",
       "    <tr>\n",
       "      <th>5</th>\n",
       "      <td>108</td>\n",
       "      <td>0.000500</td>\n",
       "      <td>hum</td>\n",
       "    </tr>\n",
       "    <tr>\n",
       "      <th>3</th>\n",
       "      <td>51</td>\n",
       "      <td>0.000236</td>\n",
       "      <td>huh</td>\n",
       "    </tr>\n",
       "    <tr>\n",
       "      <th>0</th>\n",
       "      <td>43</td>\n",
       "      <td>0.000199</td>\n",
       "      <td>ah</td>\n",
       "    </tr>\n",
       "    <tr>\n",
       "      <th>8</th>\n",
       "      <td>41</td>\n",
       "      <td>0.000190</td>\n",
       "      <td>mm-hmm</td>\n",
       "    </tr>\n",
       "    <tr>\n",
       "      <th>10</th>\n",
       "      <td>27</td>\n",
       "      <td>0.000125</td>\n",
       "      <td>uh-huh</td>\n",
       "    </tr>\n",
       "    <tr>\n",
       "      <th>1</th>\n",
       "      <td>23</td>\n",
       "      <td>0.000106</td>\n",
       "      <td>hm</td>\n",
       "    </tr>\n",
       "    <tr>\n",
       "      <th>7</th>\n",
       "      <td>16</td>\n",
       "      <td>0.000074</td>\n",
       "      <td>mm</td>\n",
       "    </tr>\n",
       "    <tr>\n",
       "      <th>6</th>\n",
       "      <td>15</td>\n",
       "      <td>0.000069</td>\n",
       "      <td>hum-um</td>\n",
       "    </tr>\n",
       "    <tr>\n",
       "      <th>12</th>\n",
       "      <td>5</td>\n",
       "      <td>0.000023</td>\n",
       "      <td>uh-uh</td>\n",
       "    </tr>\n",
       "    <tr>\n",
       "      <th>2</th>\n",
       "      <td>5</td>\n",
       "      <td>0.000023</td>\n",
       "      <td>hmm</td>\n",
       "    </tr>\n",
       "    <tr>\n",
       "      <th>11</th>\n",
       "      <td>3</td>\n",
       "      <td>0.000014</td>\n",
       "      <td>uh-hum</td>\n",
       "    </tr>\n",
       "    <tr>\n",
       "      <th>4</th>\n",
       "      <td>1</td>\n",
       "      <td>0.000005</td>\n",
       "      <td>huh-uh</td>\n",
       "    </tr>\n",
       "    <tr>\n",
       "      <th>14</th>\n",
       "      <td>1</td>\n",
       "      <td>0.000005</td>\n",
       "      <td>um-hmm</td>\n",
       "    </tr>\n",
       "    <tr>\n",
       "      <th>15</th>\n",
       "      <td>1</td>\n",
       "      <td>0.000005</td>\n",
       "      <td>um-huh</td>\n",
       "    </tr>\n",
       "  </tbody>\n",
       "</table>\n",
       "</div>"
      ],
      "text/plain": [
       "    freq      prob wordform\n",
       "9   2556  0.011830       uh\n",
       "13  1692  0.007831       um\n",
       "16   681  0.003152   um-hum\n",
       "5    108  0.000500      hum\n",
       "3     51  0.000236      huh\n",
       "0     43  0.000199       ah\n",
       "8     41  0.000190   mm-hmm\n",
       "10    27  0.000125   uh-huh\n",
       "1     23  0.000106       hm\n",
       "7     16  0.000074       mm\n",
       "6     15  0.000069   hum-um\n",
       "12     5  0.000023    uh-uh\n",
       "2      5  0.000023      hmm\n",
       "11     3  0.000014   uh-hum\n",
       "4      1  0.000005   huh-uh\n",
       "14     1  0.000005   um-hmm\n",
       "15     1  0.000005   um-huh"
      ]
     },
     "execution_count": 182,
     "metadata": {},
     "output_type": "execute_result"
    }
   ],
   "source": [
    "freq_df = pd.DataFrame([{'wordform':each,\n",
    "                         'freq':orthographic_wordform_counts[each],\n",
    "                         'prob':orthographic_wordform_counts[each] / sum(orthographic_wordform_counts.values())}\n",
    "                        for each in sorted(attested)])\n",
    "freq_df.sort_values(by='prob', ascending=False)"
   ]
  },
  {
   "cell_type": "code",
   "execution_count": 183,
   "metadata": {
    "ExecuteTime": {
     "end_time": "2019-05-07T17:55:32.224420Z",
     "start_time": "2019-05-07T17:55:31.968709Z"
    }
   },
   "outputs": [
    {
     "data": {
      "text/plain": [
       "<matplotlib.axes._subplots.AxesSubplot at 0x7f1001f4be48>"
      ]
     },
     "execution_count": 183,
     "metadata": {},
     "output_type": "execute_result"
    },
    {
     "data": {
      "image/png": "[encoded data removed]",
      "text/plain": [
       "<Figure size 432x288 with 1 Axes>"
      ]
     },
     "metadata": {
      "needs_background": "light"
     },
     "output_type": "display_data"
    }
   ],
   "source": [
    "freq_df.plot(x='wordform', y='prob',kind='bar')"
   ]
  },
  {
   "cell_type": "code",
   "execution_count": 184,
   "metadata": {
    "ExecuteTime": {
     "end_time": "2019-05-07T17:55:38.765255Z",
     "start_time": "2019-05-07T17:55:38.615193Z"
    }
   },
   "outputs": [
    {
     "data": {
      "text/html": [
       "<div>\n",
       "<style scoped>\n",
       "    .dataframe tbody tr th:only-of-type {\n",
       "        vertical-align: middle;\n",
       "    }\n",
       "\n",
       "    .dataframe tbody tr th {\n",
       "        vertical-align: top;\n",
       "    }\n",
       "\n",
       "    .dataframe thead th {\n",
       "        text-align: right;\n",
       "    }\n",
       "</style>\n",
       "<table border=\"1\" class=\"dataframe\">\n",
       "  <thead>\n",
       "    <tr style=\"text-align: right;\">\n",
       "      <th></th>\n",
       "      <th>freq</th>\n",
       "      <th>prob</th>\n",
       "      <th>wordform</th>\n",
       "    </tr>\n",
       "  </thead>\n",
       "  <tbody>\n",
       "    <tr>\n",
       "      <th>0</th>\n",
       "      <td>43</td>\n",
       "      <td>0.000199</td>\n",
       "      <td>ah</td>\n",
       "    </tr>\n",
       "    <tr>\n",
       "      <th>1</th>\n",
       "      <td>23</td>\n",
       "      <td>0.000106</td>\n",
       "      <td>hm</td>\n",
       "    </tr>\n",
       "    <tr>\n",
       "      <th>2</th>\n",
       "      <td>5</td>\n",
       "      <td>0.000023</td>\n",
       "      <td>hmm</td>\n",
       "    </tr>\n",
       "    <tr>\n",
       "      <th>3</th>\n",
       "      <td>51</td>\n",
       "      <td>0.000236</td>\n",
       "      <td>huh</td>\n",
       "    </tr>\n",
       "    <tr>\n",
       "      <th>4</th>\n",
       "      <td>1</td>\n",
       "      <td>0.000005</td>\n",
       "      <td>huh-uh</td>\n",
       "    </tr>\n",
       "    <tr>\n",
       "      <th>5</th>\n",
       "      <td>108</td>\n",
       "      <td>0.000500</td>\n",
       "      <td>hum</td>\n",
       "    </tr>\n",
       "    <tr>\n",
       "      <th>6</th>\n",
       "      <td>15</td>\n",
       "      <td>0.000069</td>\n",
       "      <td>hum-um</td>\n",
       "    </tr>\n",
       "    <tr>\n",
       "      <th>7</th>\n",
       "      <td>16</td>\n",
       "      <td>0.000074</td>\n",
       "      <td>mm</td>\n",
       "    </tr>\n",
       "    <tr>\n",
       "      <th>8</th>\n",
       "      <td>41</td>\n",
       "      <td>0.000190</td>\n",
       "      <td>mm-hmm</td>\n",
       "    </tr>\n",
       "    <tr>\n",
       "      <th>10</th>\n",
       "      <td>27</td>\n",
       "      <td>0.000125</td>\n",
       "      <td>uh-huh</td>\n",
       "    </tr>\n",
       "    <tr>\n",
       "      <th>11</th>\n",
       "      <td>3</td>\n",
       "      <td>0.000014</td>\n",
       "      <td>uh-hum</td>\n",
       "    </tr>\n",
       "    <tr>\n",
       "      <th>12</th>\n",
       "      <td>5</td>\n",
       "      <td>0.000023</td>\n",
       "      <td>uh-uh</td>\n",
       "    </tr>\n",
       "    <tr>\n",
       "      <th>14</th>\n",
       "      <td>1</td>\n",
       "      <td>0.000005</td>\n",
       "      <td>um-hmm</td>\n",
       "    </tr>\n",
       "    <tr>\n",
       "      <th>15</th>\n",
       "      <td>1</td>\n",
       "      <td>0.000005</td>\n",
       "      <td>um-huh</td>\n",
       "    </tr>\n",
       "  </tbody>\n",
       "</table>\n",
       "</div>"
      ],
      "text/plain": [
       "    freq      prob wordform\n",
       "0     43  0.000199       ah\n",
       "1     23  0.000106       hm\n",
       "2      5  0.000023      hmm\n",
       "3     51  0.000236      huh\n",
       "4      1  0.000005   huh-uh\n",
       "5    108  0.000500      hum\n",
       "6     15  0.000069   hum-um\n",
       "7     16  0.000074       mm\n",
       "8     41  0.000190   mm-hmm\n",
       "10    27  0.000125   uh-huh\n",
       "11     3  0.000014   uh-hum\n",
       "12     5  0.000023    uh-uh\n",
       "14     1  0.000005   um-hmm\n",
       "15     1  0.000005   um-huh"
      ]
     },
     "execution_count": 184,
     "metadata": {},
     "output_type": "execute_result"
    },
    {
     "data": {
      "text/plain": [
       "<matplotlib.axes._subplots.AxesSubplot at 0x7f0ff79e8a58>"
      ]
     },
     "execution_count": 184,
     "metadata": {},
     "output_type": "execute_result"
    },
    {
     "data": {
      "image/png": "[encoded data removed]",
      "text/plain": [
       "<Figure size 432x288 with 1 Axes>"
      ]
     },
     "metadata": {
      "needs_background": "light"
     },
     "output_type": "display_data"
    }
   ],
   "source": [
    "smallProbs = freq_df.loc[freq_df['prob'] < 0.002]\n",
    "smallProbs\n",
    "smallProbs.plot(x='wordform',y='prob', kind='bar')"
   ]
  },
  {
   "cell_type": "code",
   "execution_count": null,
   "metadata": {},
   "outputs": [],
   "source": []
  }
 ],
 "metadata": {
  "kernelspec": {
   "display_name": "Python 3",
   "language": "python",
   "name": "python3"
  },
  "language_info": {
   "codemirror_mode": {
    "name": "ipython",
    "version": 3
   },
   "file_extension": ".py",
   "mimetype": "text/x-python",
   "name": "python",
   "nbconvert_exporter": "python",
   "pygments_lexer": "ipython3",
   "version": "3.7.4"
  },
  "toc": {
   "base_numbering": 1,
   "nav_menu": {},
   "number_sections": true,
   "sideBar": true,
   "skip_h1_title": false,
   "title_cell": "Table of Contents",
   "title_sidebar": "Contents",
   "toc_cell": true,
   "toc_position": {},
   "toc_section_display": true,
   "toc_window_display": true
  }
 },
 "nbformat": 4,
 "nbformat_minor": 2
}
